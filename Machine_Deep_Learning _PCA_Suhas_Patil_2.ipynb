{
 "cells": [
  {
   "cell_type": "markdown",
   "metadata": {},
   "source": [
    "## APPLIED MACHINE LEARNING PROJECT"
   ]
  },
  {
   "cell_type": "markdown",
   "metadata": {},
   "source": [
    "### Suhas Patil"
   ]
  },
  {
   "cell_type": "code",
   "execution_count": 6,
   "metadata": {},
   "outputs": [],
   "source": [
    "#imports\n",
    "import pandas as pd\n",
    "import numpy as np\n",
    "import matplotlib.pyplot as plt\n",
    "import seaborn as sns\n",
    "import mglearn"
   ]
  },
  {
   "cell_type": "markdown",
   "metadata": {},
   "source": [
    "### Import Data from files to Pandas Dataframe"
   ]
  },
  {
   "cell_type": "code",
   "execution_count": 2,
   "metadata": {},
   "outputs": [],
   "source": [
    "Audit_Risk = pd.read_csv('audit_risk.csv')\n",
    "Trials = pd.read_csv('trial.csv')"
   ]
  },
  {
   "cell_type": "code",
   "execution_count": 3,
   "metadata": {},
   "outputs": [
    {
     "name": "stdout",
     "output_type": "stream",
     "text": [
      "(776, 27)\n",
      "(776, 18)\n"
     ]
    }
   ],
   "source": [
    "print(Audit_Risk.shape)\n",
    "print(Trials.shape)"
   ]
  },
  {
   "cell_type": "code",
   "execution_count": 4,
   "metadata": {},
   "outputs": [
    {
     "data": {
      "text/plain": [
       "{'History',\n",
       " 'LOCATION_ID',\n",
       " 'Money_Value',\n",
       " 'PARA_A',\n",
       " 'PARA_B',\n",
       " 'Risk',\n",
       " 'Score',\n",
       " 'Sector_score',\n",
       " 'TOTAL',\n",
       " 'numbers'}"
      ]
     },
     "execution_count": 4,
     "metadata": {},
     "output_type": "execute_result"
    }
   ],
   "source": [
    "# Selecting columns with same name & values from both csv tables\n",
    "Common_Cols=set(Audit_Risk.columns).intersection(set(Trials.columns))\n",
    "Common_Cols"
   ]
  },
  {
   "cell_type": "code",
   "execution_count": 5,
   "metadata": {},
   "outputs": [
    {
     "data": {
      "text/plain": [
       "(629, 35)"
      ]
     },
     "execution_count": 5,
     "metadata": {},
     "output_type": "execute_result"
    }
   ],
   "source": [
    "# Merging the Audit_Risk and Trials based on common columns\n",
    "Risk_data = Audit_Risk.merge(Trials, how = 'inner', on = ['History',\n",
    " 'LOCATION_ID',\n",
    " 'Money_Value',\n",
    " 'PARA_A',\n",
    " 'PARA_B',\n",
    " 'Risk',\n",
    " 'Score',\n",
    " 'Sector_score',\n",
    " 'TOTAL',\n",
    " 'numbers'], sort = False)\n",
    "\n",
    "Risk_data.head()\n",
    "Risk_data.shape"
   ]
  },
  {
   "cell_type": "code",
   "execution_count": 6,
   "metadata": {},
   "outputs": [
    {
     "data": {
      "text/plain": [
       "array([[<matplotlib.axes._subplots.AxesSubplot object at 0x00000257936E3E10>,\n",
       "        <matplotlib.axes._subplots.AxesSubplot object at 0x000002579573C470>,\n",
       "        <matplotlib.axes._subplots.AxesSubplot object at 0x0000025795766B00>,\n",
       "        <matplotlib.axes._subplots.AxesSubplot object at 0x00000257957961D0>,\n",
       "        <matplotlib.axes._subplots.AxesSubplot object at 0x00000257957BF860>,\n",
       "        <matplotlib.axes._subplots.AxesSubplot object at 0x00000257957BF898>,\n",
       "        <matplotlib.axes._subplots.AxesSubplot object at 0x00000257958155C0>],\n",
       "       [<matplotlib.axes._subplots.AxesSubplot object at 0x000002579583DC50>,\n",
       "        <matplotlib.axes._subplots.AxesSubplot object at 0x000002579586F320>,\n",
       "        <matplotlib.axes._subplots.AxesSubplot object at 0x00000257958959B0>,\n",
       "        <matplotlib.axes._subplots.AxesSubplot object at 0x00000257958C5080>,\n",
       "        <matplotlib.axes._subplots.AxesSubplot object at 0x00000257958ED710>,\n",
       "        <matplotlib.axes._subplots.AxesSubplot object at 0x0000025795916DA0>,\n",
       "        <matplotlib.axes._subplots.AxesSubplot object at 0x0000025795946470>],\n",
       "       [<matplotlib.axes._subplots.AxesSubplot object at 0x000002579596DB00>,\n",
       "        <matplotlib.axes._subplots.AxesSubplot object at 0x00000257959A11D0>,\n",
       "        <matplotlib.axes._subplots.AxesSubplot object at 0x00000257959C6860>,\n",
       "        <matplotlib.axes._subplots.AxesSubplot object at 0x00000257959EEEB8>,\n",
       "        <matplotlib.axes._subplots.AxesSubplot object at 0x0000025795A21588>,\n",
       "        <matplotlib.axes._subplots.AxesSubplot object at 0x0000025795A46C18>,\n",
       "        <matplotlib.axes._subplots.AxesSubplot object at 0x0000025795A772E8>],\n",
       "       [<matplotlib.axes._subplots.AxesSubplot object at 0x0000025795AA3978>,\n",
       "        <matplotlib.axes._subplots.AxesSubplot object at 0x0000025795AD3048>,\n",
       "        <matplotlib.axes._subplots.AxesSubplot object at 0x0000025795AF86D8>,\n",
       "        <matplotlib.axes._subplots.AxesSubplot object at 0x0000025795B23D68>,\n",
       "        <matplotlib.axes._subplots.AxesSubplot object at 0x0000025795B53438>,\n",
       "        <matplotlib.axes._subplots.AxesSubplot object at 0x0000025795B78AC8>,\n",
       "        <matplotlib.axes._subplots.AxesSubplot object at 0x0000025795BAA198>],\n",
       "       [<matplotlib.axes._subplots.AxesSubplot object at 0x0000025795BD3828>,\n",
       "        <matplotlib.axes._subplots.AxesSubplot object at 0x0000025795BFAEB8>,\n",
       "        <matplotlib.axes._subplots.AxesSubplot object at 0x0000025795C2B588>,\n",
       "        <matplotlib.axes._subplots.AxesSubplot object at 0x0000025795C53C18>,\n",
       "        <matplotlib.axes._subplots.AxesSubplot object at 0x0000025795C842E8>,\n",
       "        <matplotlib.axes._subplots.AxesSubplot object at 0x0000025795CA9978>,\n",
       "        <matplotlib.axes._subplots.AxesSubplot object at 0x0000025795CDD048>],\n",
       "       [<matplotlib.axes._subplots.AxesSubplot object at 0x0000025795D036D8>,\n",
       "        <matplotlib.axes._subplots.AxesSubplot object at 0x0000025795D2CD68>,\n",
       "        <matplotlib.axes._subplots.AxesSubplot object at 0x0000025795D5D438>,\n",
       "        <matplotlib.axes._subplots.AxesSubplot object at 0x0000025795D85AC8>,\n",
       "        <matplotlib.axes._subplots.AxesSubplot object at 0x0000025795DB6198>,\n",
       "        <matplotlib.axes._subplots.AxesSubplot object at 0x0000025795DDD828>,\n",
       "        <matplotlib.axes._subplots.AxesSubplot object at 0x0000025795DFFEB8>],\n",
       "       [<matplotlib.axes._subplots.AxesSubplot object at 0x0000025795E30588>,\n",
       "        <matplotlib.axes._subplots.AxesSubplot object at 0x0000025795E57C18>,\n",
       "        <matplotlib.axes._subplots.AxesSubplot object at 0x0000025795E892E8>,\n",
       "        <matplotlib.axes._subplots.AxesSubplot object at 0x0000025795EAF978>,\n",
       "        <matplotlib.axes._subplots.AxesSubplot object at 0x0000025795EE2048>,\n",
       "        <matplotlib.axes._subplots.AxesSubplot object at 0x0000025795F0A6D8>,\n",
       "        <matplotlib.axes._subplots.AxesSubplot object at 0x0000025795F31D68>]],\n",
       "      dtype=object)"
      ]
     },
     "execution_count": 6,
     "metadata": {},
     "output_type": "execute_result"
    },
    {
     "data": {
      "image/png": "[encoded data removed]",
      "text/plain": [
       "<Figure size 1080x1080 with 49 Axes>"
      ]
     },
     "metadata": {
      "needs_background": "light"
     },
     "output_type": "display_data"
    }
   ],
   "source": [
    "#Graphical exploration of data\n",
    "\n",
    "%matplotlib inline\n",
    "from pandas.plotting import scatter_matrix\n",
    "\n",
    "attributes = Risk_data.columns[:8]\n",
    "scatter_matrix(Risk_data[attributes], figsize = (15,15),c=Risk_data['Audit_Risk'], alpha = 0.8, marker = 'O')"
   ]
  },
  {
   "cell_type": "code",
   "execution_count": 7,
   "metadata": {},
   "outputs": [
    {
     "data": {
      "text/plain": [
       "<matplotlib.axes._subplots.AxesSubplot at 0x257ffe7a358>"
      ]
     },
     "execution_count": 7,
     "metadata": {},
     "output_type": "execute_result"
    },
    {
     "data": {
      "image/png": "[encoded data removed]",
      "text/plain": [
       "<Figure size 1080x1080 with 2 Axes>"
      ]
     },
     "metadata": {
      "needs_background": "light"
     },
     "output_type": "display_data"
    }
   ],
   "source": [
    "#Checking correlation between the features\n",
    "plt.figure(figsize= (15,15))\n",
    "sns.heatmap(Risk_data.corr())"
   ]
  },
  {
   "cell_type": "code",
   "execution_count": 8,
   "metadata": {},
   "outputs": [
    {
     "data": {
      "text/html": [
       "<div>\n",
       "<style scoped>\n",
       "    .dataframe tbody tr th:only-of-type {\n",
       "        vertical-align: middle;\n",
       "    }\n",
       "\n",
       "    .dataframe tbody tr th {\n",
       "        vertical-align: top;\n",
       "    }\n",
       "\n",
       "    .dataframe thead th {\n",
       "        text-align: right;\n",
       "    }\n",
       "</style>\n",
       "<table border=\"1\" class=\"dataframe\">\n",
       "  <thead>\n",
       "    <tr style=\"text-align: right;\">\n",
       "      <th></th>\n",
       "      <th>Sector_score</th>\n",
       "      <th>PARA_A</th>\n",
       "      <th>Score_A</th>\n",
       "      <th>Risk_A</th>\n",
       "      <th>PARA_B</th>\n",
       "      <th>Score_B</th>\n",
       "      <th>Risk_B</th>\n",
       "      <th>TOTAL</th>\n",
       "      <th>numbers</th>\n",
       "      <th>Score_B.1</th>\n",
       "      <th>...</th>\n",
       "      <th>Audit_Risk</th>\n",
       "      <th>Risk</th>\n",
       "      <th>SCORE_A</th>\n",
       "      <th>SCORE_B</th>\n",
       "      <th>Marks</th>\n",
       "      <th>MONEY_Marks</th>\n",
       "      <th>District</th>\n",
       "      <th>Loss</th>\n",
       "      <th>LOSS_SCORE</th>\n",
       "      <th>History_score</th>\n",
       "    </tr>\n",
       "  </thead>\n",
       "  <tbody>\n",
       "    <tr>\n",
       "      <th>Sector_score</th>\n",
       "      <td>1.000000</td>\n",
       "      <td>-0.244341</td>\n",
       "      <td>-0.462744</td>\n",
       "      <td>-0.244301</td>\n",
       "      <td>-0.159652</td>\n",
       "      <td>-0.354941</td>\n",
       "      <td>-0.157330</td>\n",
       "      <td>-0.182717</td>\n",
       "      <td>-0.190785</td>\n",
       "      <td>-0.217181</td>\n",
       "      <td>...</td>\n",
       "      <td>-0.111264</td>\n",
       "      <td>-0.510109</td>\n",
       "      <td>-0.462744</td>\n",
       "      <td>-0.354941</td>\n",
       "      <td>-0.217181</td>\n",
       "      <td>-0.389011</td>\n",
       "      <td>-0.155540</td>\n",
       "      <td>-0.128379</td>\n",
       "      <td>-0.132147</td>\n",
       "      <td>-0.162778</td>\n",
       "    </tr>\n",
       "    <tr>\n",
       "      <th>PARA_A</th>\n",
       "      <td>-0.244341</td>\n",
       "      <td>1.000000</td>\n",
       "      <td>0.524015</td>\n",
       "      <td>0.999460</td>\n",
       "      <td>0.157794</td>\n",
       "      <td>0.393414</td>\n",
       "      <td>0.157625</td>\n",
       "      <td>0.263090</td>\n",
       "      <td>0.129791</td>\n",
       "      <td>0.136845</td>\n",
       "      <td>...</td>\n",
       "      <td>0.216369</td>\n",
       "      <td>0.383510</td>\n",
       "      <td>0.524015</td>\n",
       "      <td>0.393414</td>\n",
       "      <td>0.136845</td>\n",
       "      <td>0.283638</td>\n",
       "      <td>0.134394</td>\n",
       "      <td>0.048668</td>\n",
       "      <td>0.046604</td>\n",
       "      <td>0.169173</td>\n",
       "    </tr>\n",
       "    <tr>\n",
       "      <th>Score_A</th>\n",
       "      <td>-0.462744</td>\n",
       "      <td>0.524015</td>\n",
       "      <td>1.000000</td>\n",
       "      <td>0.531303</td>\n",
       "      <td>0.286292</td>\n",
       "      <td>0.747852</td>\n",
       "      <td>0.284598</td>\n",
       "      <td>0.336559</td>\n",
       "      <td>0.287509</td>\n",
       "      <td>0.328258</td>\n",
       "      <td>...</td>\n",
       "      <td>0.230675</td>\n",
       "      <td>0.784906</td>\n",
       "      <td>1.000000</td>\n",
       "      <td>0.747852</td>\n",
       "      <td>0.328258</td>\n",
       "      <td>0.582575</td>\n",
       "      <td>0.156769</td>\n",
       "      <td>0.129771</td>\n",
       "      <td>0.130066</td>\n",
       "      <td>0.310560</td>\n",
       "    </tr>\n",
       "    <tr>\n",
       "      <th>Risk_A</th>\n",
       "      <td>-0.244301</td>\n",
       "      <td>0.999460</td>\n",
       "      <td>0.531303</td>\n",
       "      <td>1.000000</td>\n",
       "      <td>0.160045</td>\n",
       "      <td>0.396850</td>\n",
       "      <td>0.159864</td>\n",
       "      <td>0.265224</td>\n",
       "      <td>0.130208</td>\n",
       "      <td>0.137676</td>\n",
       "      <td>...</td>\n",
       "      <td>0.217444</td>\n",
       "      <td>0.385148</td>\n",
       "      <td>0.531303</td>\n",
       "      <td>0.396850</td>\n",
       "      <td>0.137676</td>\n",
       "      <td>0.285143</td>\n",
       "      <td>0.132753</td>\n",
       "      <td>0.047877</td>\n",
       "      <td>0.045316</td>\n",
       "      <td>0.171515</td>\n",
       "    </tr>\n",
       "    <tr>\n",
       "      <th>PARA_B</th>\n",
       "      <td>-0.159652</td>\n",
       "      <td>0.157794</td>\n",
       "      <td>0.286292</td>\n",
       "      <td>0.160045</td>\n",
       "      <td>1.000000</td>\n",
       "      <td>0.361286</td>\n",
       "      <td>0.999940</td>\n",
       "      <td>0.994088</td>\n",
       "      <td>0.202393</td>\n",
       "      <td>0.223443</td>\n",
       "      <td>...</td>\n",
       "      <td>0.887055</td>\n",
       "      <td>0.238326</td>\n",
       "      <td>0.286292</td>\n",
       "      <td>0.361286</td>\n",
       "      <td>0.223443</td>\n",
       "      <td>0.303650</td>\n",
       "      <td>0.077969</td>\n",
       "      <td>0.042934</td>\n",
       "      <td>0.040254</td>\n",
       "      <td>0.311136</td>\n",
       "    </tr>\n",
       "    <tr>\n",
       "      <th>Score_B</th>\n",
       "      <td>-0.354941</td>\n",
       "      <td>0.393414</td>\n",
       "      <td>0.747852</td>\n",
       "      <td>0.396850</td>\n",
       "      <td>0.361286</td>\n",
       "      <td>1.000000</td>\n",
       "      <td>0.362001</td>\n",
       "      <td>0.396800</td>\n",
       "      <td>0.292669</td>\n",
       "      <td>0.333048</td>\n",
       "      <td>...</td>\n",
       "      <td>0.215797</td>\n",
       "      <td>0.696150</td>\n",
       "      <td>0.747852</td>\n",
       "      <td>1.000000</td>\n",
       "      <td>0.333048</td>\n",
       "      <td>0.613095</td>\n",
       "      <td>0.011184</td>\n",
       "      <td>0.113874</td>\n",
       "      <td>0.106356</td>\n",
       "      <td>0.327010</td>\n",
       "    </tr>\n",
       "    <tr>\n",
       "      <th>Risk_B</th>\n",
       "      <td>-0.157330</td>\n",
       "      <td>0.157625</td>\n",
       "      <td>0.284598</td>\n",
       "      <td>0.159864</td>\n",
       "      <td>0.999940</td>\n",
       "      <td>0.362001</td>\n",
       "      <td>1.000000</td>\n",
       "      <td>0.994008</td>\n",
       "      <td>0.202146</td>\n",
       "      <td>0.223155</td>\n",
       "      <td>...</td>\n",
       "      <td>0.886818</td>\n",
       "      <td>0.236471</td>\n",
       "      <td>0.284598</td>\n",
       "      <td>0.362001</td>\n",
       "      <td>0.223155</td>\n",
       "      <td>0.302130</td>\n",
       "      <td>0.078010</td>\n",
       "      <td>0.043172</td>\n",
       "      <td>0.040524</td>\n",
       "      <td>0.310998</td>\n",
       "    </tr>\n",
       "    <tr>\n",
       "      <th>TOTAL</th>\n",
       "      <td>-0.182717</td>\n",
       "      <td>0.263090</td>\n",
       "      <td>0.336559</td>\n",
       "      <td>0.265224</td>\n",
       "      <td>0.994088</td>\n",
       "      <td>0.396800</td>\n",
       "      <td>0.994008</td>\n",
       "      <td>1.000000</td>\n",
       "      <td>0.210004</td>\n",
       "      <td>0.230664</td>\n",
       "      <td>...</td>\n",
       "      <td>0.887373</td>\n",
       "      <td>0.274462</td>\n",
       "      <td>0.336559</td>\n",
       "      <td>0.396800</td>\n",
       "      <td>0.230664</td>\n",
       "      <td>0.326728</td>\n",
       "      <td>0.089218</td>\n",
       "      <td>0.047428</td>\n",
       "      <td>0.044586</td>\n",
       "      <td>0.320876</td>\n",
       "    </tr>\n",
       "    <tr>\n",
       "      <th>numbers</th>\n",
       "      <td>-0.190785</td>\n",
       "      <td>0.129791</td>\n",
       "      <td>0.287509</td>\n",
       "      <td>0.130208</td>\n",
       "      <td>0.202393</td>\n",
       "      <td>0.292669</td>\n",
       "      <td>0.202146</td>\n",
       "      <td>0.210004</td>\n",
       "      <td>1.000000</td>\n",
       "      <td>0.906225</td>\n",
       "      <td>...</td>\n",
       "      <td>0.215413</td>\n",
       "      <td>0.288779</td>\n",
       "      <td>0.287509</td>\n",
       "      <td>0.292669</td>\n",
       "      <td>0.906225</td>\n",
       "      <td>0.440302</td>\n",
       "      <td>0.121201</td>\n",
       "      <td>-0.006112</td>\n",
       "      <td>0.032770</td>\n",
       "      <td>0.202007</td>\n",
       "    </tr>\n",
       "    <tr>\n",
       "      <th>Score_B.1</th>\n",
       "      <td>-0.217181</td>\n",
       "      <td>0.136845</td>\n",
       "      <td>0.328258</td>\n",
       "      <td>0.137676</td>\n",
       "      <td>0.223443</td>\n",
       "      <td>0.333048</td>\n",
       "      <td>0.223155</td>\n",
       "      <td>0.230664</td>\n",
       "      <td>0.906225</td>\n",
       "      <td>1.000000</td>\n",
       "      <td>...</td>\n",
       "      <td>0.254326</td>\n",
       "      <td>0.333936</td>\n",
       "      <td>0.328258</td>\n",
       "      <td>0.333048</td>\n",
       "      <td>1.000000</td>\n",
       "      <td>0.502720</td>\n",
       "      <td>0.147371</td>\n",
       "      <td>-0.000088</td>\n",
       "      <td>0.033504</td>\n",
       "      <td>0.241330</td>\n",
       "    </tr>\n",
       "    <tr>\n",
       "      <th>Risk_C</th>\n",
       "      <td>-0.210722</td>\n",
       "      <td>0.136447</td>\n",
       "      <td>0.316826</td>\n",
       "      <td>0.137129</td>\n",
       "      <td>0.215371</td>\n",
       "      <td>0.320626</td>\n",
       "      <td>0.215073</td>\n",
       "      <td>0.222836</td>\n",
       "      <td>0.954401</td>\n",
       "      <td>0.990211</td>\n",
       "      <td>...</td>\n",
       "      <td>0.244211</td>\n",
       "      <td>0.321942</td>\n",
       "      <td>0.316826</td>\n",
       "      <td>0.320626</td>\n",
       "      <td>0.990211</td>\n",
       "      <td>0.487536</td>\n",
       "      <td>0.142911</td>\n",
       "      <td>-0.003890</td>\n",
       "      <td>0.032826</td>\n",
       "      <td>0.230229</td>\n",
       "    </tr>\n",
       "    <tr>\n",
       "      <th>Money_Value</th>\n",
       "      <td>-0.140883</td>\n",
       "      <td>0.447595</td>\n",
       "      <td>0.238907</td>\n",
       "      <td>0.446493</td>\n",
       "      <td>0.116766</td>\n",
       "      <td>0.211803</td>\n",
       "      <td>0.116807</td>\n",
       "      <td>0.160470</td>\n",
       "      <td>0.177996</td>\n",
       "      <td>0.212302</td>\n",
       "      <td>...</td>\n",
       "      <td>0.328711</td>\n",
       "      <td>0.237113</td>\n",
       "      <td>0.238907</td>\n",
       "      <td>0.211803</td>\n",
       "      <td>0.212302</td>\n",
       "      <td>0.382107</td>\n",
       "      <td>0.020710</td>\n",
       "      <td>0.021326</td>\n",
       "      <td>0.028605</td>\n",
       "      <td>0.103141</td>\n",
       "    </tr>\n",
       "    <tr>\n",
       "      <th>Score_MV</th>\n",
       "      <td>-0.389011</td>\n",
       "      <td>0.283638</td>\n",
       "      <td>0.582575</td>\n",
       "      <td>0.285143</td>\n",
       "      <td>0.303650</td>\n",
       "      <td>0.613095</td>\n",
       "      <td>0.302130</td>\n",
       "      <td>0.326728</td>\n",
       "      <td>0.440302</td>\n",
       "      <td>0.502720</td>\n",
       "      <td>...</td>\n",
       "      <td>0.282818</td>\n",
       "      <td>0.662421</td>\n",
       "      <td>0.582575</td>\n",
       "      <td>0.613095</td>\n",
       "      <td>0.502720</td>\n",
       "      <td>1.000000</td>\n",
       "      <td>0.065972</td>\n",
       "      <td>0.117740</td>\n",
       "      <td>0.129025</td>\n",
       "      <td>0.323337</td>\n",
       "    </tr>\n",
       "    <tr>\n",
       "      <th>Risk_D</th>\n",
       "      <td>-0.139390</td>\n",
       "      <td>0.446749</td>\n",
       "      <td>0.235846</td>\n",
       "      <td>0.445632</td>\n",
       "      <td>0.116449</td>\n",
       "      <td>0.208712</td>\n",
       "      <td>0.116498</td>\n",
       "      <td>0.160067</td>\n",
       "      <td>0.178456</td>\n",
       "      <td>0.212687</td>\n",
       "      <td>...</td>\n",
       "      <td>0.328867</td>\n",
       "      <td>0.234426</td>\n",
       "      <td>0.235846</td>\n",
       "      <td>0.208712</td>\n",
       "      <td>0.212687</td>\n",
       "      <td>0.382158</td>\n",
       "      <td>0.020897</td>\n",
       "      <td>0.021479</td>\n",
       "      <td>0.028789</td>\n",
       "      <td>0.102468</td>\n",
       "    </tr>\n",
       "    <tr>\n",
       "      <th>District_Loss</th>\n",
       "      <td>-0.155540</td>\n",
       "      <td>0.134394</td>\n",
       "      <td>0.156769</td>\n",
       "      <td>0.132753</td>\n",
       "      <td>0.077969</td>\n",
       "      <td>0.011184</td>\n",
       "      <td>0.078010</td>\n",
       "      <td>0.089218</td>\n",
       "      <td>0.121201</td>\n",
       "      <td>0.147371</td>\n",
       "      <td>...</td>\n",
       "      <td>0.198502</td>\n",
       "      <td>0.429904</td>\n",
       "      <td>0.156769</td>\n",
       "      <td>0.011184</td>\n",
       "      <td>0.147371</td>\n",
       "      <td>0.065972</td>\n",
       "      <td>1.000000</td>\n",
       "      <td>0.038533</td>\n",
       "      <td>0.058436</td>\n",
       "      <td>0.078428</td>\n",
       "    </tr>\n",
       "    <tr>\n",
       "      <th>PROB</th>\n",
       "      <td>-0.132147</td>\n",
       "      <td>0.046604</td>\n",
       "      <td>0.130066</td>\n",
       "      <td>0.045316</td>\n",
       "      <td>0.040254</td>\n",
       "      <td>0.106356</td>\n",
       "      <td>0.040524</td>\n",
       "      <td>0.044586</td>\n",
       "      <td>0.032770</td>\n",
       "      <td>0.033504</td>\n",
       "      <td>...</td>\n",
       "      <td>0.073137</td>\n",
       "      <td>0.178852</td>\n",
       "      <td>0.130066</td>\n",
       "      <td>0.106356</td>\n",
       "      <td>0.033504</td>\n",
       "      <td>0.129025</td>\n",
       "      <td>0.058436</td>\n",
       "      <td>0.980015</td>\n",
       "      <td>1.000000</td>\n",
       "      <td>0.143915</td>\n",
       "    </tr>\n",
       "    <tr>\n",
       "      <th>RiSk_E</th>\n",
       "      <td>-0.182185</td>\n",
       "      <td>0.123937</td>\n",
       "      <td>0.170562</td>\n",
       "      <td>0.122138</td>\n",
       "      <td>0.073154</td>\n",
       "      <td>0.030559</td>\n",
       "      <td>0.073357</td>\n",
       "      <td>0.083687</td>\n",
       "      <td>0.132036</td>\n",
       "      <td>0.153085</td>\n",
       "      <td>...</td>\n",
       "      <td>0.200596</td>\n",
       "      <td>0.430527</td>\n",
       "      <td>0.170562</td>\n",
       "      <td>0.030559</td>\n",
       "      <td>0.153085</td>\n",
       "      <td>0.088274</td>\n",
       "      <td>0.912146</td>\n",
       "      <td>0.370752</td>\n",
       "      <td>0.410962</td>\n",
       "      <td>0.118333</td>\n",
       "    </tr>\n",
       "    <tr>\n",
       "      <th>History</th>\n",
       "      <td>-0.135865</td>\n",
       "      <td>0.114362</td>\n",
       "      <td>0.209563</td>\n",
       "      <td>0.116191</td>\n",
       "      <td>0.197248</td>\n",
       "      <td>0.209465</td>\n",
       "      <td>0.196500</td>\n",
       "      <td>0.204236</td>\n",
       "      <td>0.195820</td>\n",
       "      <td>0.219895</td>\n",
       "      <td>...</td>\n",
       "      <td>0.325613</td>\n",
       "      <td>0.222368</td>\n",
       "      <td>0.209563</td>\n",
       "      <td>0.209465</td>\n",
       "      <td>0.219895</td>\n",
       "      <td>0.235054</td>\n",
       "      <td>0.064465</td>\n",
       "      <td>0.059780</td>\n",
       "      <td>0.111148</td>\n",
       "      <td>0.857712</td>\n",
       "    </tr>\n",
       "    <tr>\n",
       "      <th>Prob</th>\n",
       "      <td>-0.162778</td>\n",
       "      <td>0.169173</td>\n",
       "      <td>0.310560</td>\n",
       "      <td>0.171515</td>\n",
       "      <td>0.311136</td>\n",
       "      <td>0.327010</td>\n",
       "      <td>0.310998</td>\n",
       "      <td>0.320876</td>\n",
       "      <td>0.202007</td>\n",
       "      <td>0.241330</td>\n",
       "      <td>...</td>\n",
       "      <td>0.428738</td>\n",
       "      <td>0.279408</td>\n",
       "      <td>0.310560</td>\n",
       "      <td>0.327010</td>\n",
       "      <td>0.241330</td>\n",
       "      <td>0.323337</td>\n",
       "      <td>0.078428</td>\n",
       "      <td>0.105478</td>\n",
       "      <td>0.143915</td>\n",
       "      <td>1.000000</td>\n",
       "    </tr>\n",
       "    <tr>\n",
       "      <th>Risk_F</th>\n",
       "      <td>-0.122293</td>\n",
       "      <td>0.100110</td>\n",
       "      <td>0.177784</td>\n",
       "      <td>0.101750</td>\n",
       "      <td>0.190078</td>\n",
       "      <td>0.177666</td>\n",
       "      <td>0.189329</td>\n",
       "      <td>0.196002</td>\n",
       "      <td>0.196436</td>\n",
       "      <td>0.217641</td>\n",
       "      <td>...</td>\n",
       "      <td>0.323650</td>\n",
       "      <td>0.198465</td>\n",
       "      <td>0.177784</td>\n",
       "      <td>0.177666</td>\n",
       "      <td>0.217641</td>\n",
       "      <td>0.205540</td>\n",
       "      <td>0.066264</td>\n",
       "      <td>0.053234</td>\n",
       "      <td>0.107067</td>\n",
       "      <td>0.814824</td>\n",
       "    </tr>\n",
       "    <tr>\n",
       "      <th>Score</th>\n",
       "      <td>-0.441520</td>\n",
       "      <td>0.434674</td>\n",
       "      <td>0.834624</td>\n",
       "      <td>0.438345</td>\n",
       "      <td>0.393671</td>\n",
       "      <td>0.914557</td>\n",
       "      <td>0.393424</td>\n",
       "      <td>0.431500</td>\n",
       "      <td>0.505022</td>\n",
       "      <td>0.571444</td>\n",
       "      <td>...</td>\n",
       "      <td>0.330643</td>\n",
       "      <td>0.817854</td>\n",
       "      <td>0.834624</td>\n",
       "      <td>0.914557</td>\n",
       "      <td>0.571444</td>\n",
       "      <td>0.774958</td>\n",
       "      <td>0.226271</td>\n",
       "      <td>0.166402</td>\n",
       "      <td>0.177288</td>\n",
       "      <td>0.445245</td>\n",
       "    </tr>\n",
       "    <tr>\n",
       "      <th>Inherent_Risk</th>\n",
       "      <td>-0.208095</td>\n",
       "      <td>0.479891</td>\n",
       "      <td>0.368419</td>\n",
       "      <td>0.480350</td>\n",
       "      <td>0.650532</td>\n",
       "      <td>0.381870</td>\n",
       "      <td>0.650581</td>\n",
       "      <td>0.686017</td>\n",
       "      <td>0.261593</td>\n",
       "      <td>0.299317</td>\n",
       "      <td>...</td>\n",
       "      <td>0.749149</td>\n",
       "      <td>0.333116</td>\n",
       "      <td>0.368419</td>\n",
       "      <td>0.381870</td>\n",
       "      <td>0.299317</td>\n",
       "      <td>0.471040</td>\n",
       "      <td>0.073198</td>\n",
       "      <td>0.044753</td>\n",
       "      <td>0.049360</td>\n",
       "      <td>0.264865</td>\n",
       "    </tr>\n",
       "    <tr>\n",
       "      <th>CONTROL_RISK</th>\n",
       "      <td>-0.203040</td>\n",
       "      <td>0.149891</td>\n",
       "      <td>0.234113</td>\n",
       "      <td>0.149867</td>\n",
       "      <td>0.179589</td>\n",
       "      <td>0.143373</td>\n",
       "      <td>0.179199</td>\n",
       "      <td>0.190530</td>\n",
       "      <td>0.222140</td>\n",
       "      <td>0.250520</td>\n",
       "      <td>...</td>\n",
       "      <td>0.355026</td>\n",
       "      <td>0.416837</td>\n",
       "      <td>0.234113</td>\n",
       "      <td>0.143373</td>\n",
       "      <td>0.250520</td>\n",
       "      <td>0.200135</td>\n",
       "      <td>0.636747</td>\n",
       "      <td>0.277107</td>\n",
       "      <td>0.340591</td>\n",
       "      <td>0.643418</td>\n",
       "    </tr>\n",
       "    <tr>\n",
       "      <th>Detection_Risk</th>\n",
       "      <td>NaN</td>\n",
       "      <td>NaN</td>\n",
       "      <td>NaN</td>\n",
       "      <td>NaN</td>\n",
       "      <td>NaN</td>\n",
       "      <td>NaN</td>\n",
       "      <td>NaN</td>\n",
       "      <td>NaN</td>\n",
       "      <td>NaN</td>\n",
       "      <td>NaN</td>\n",
       "      <td>...</td>\n",
       "      <td>NaN</td>\n",
       "      <td>NaN</td>\n",
       "      <td>NaN</td>\n",
       "      <td>NaN</td>\n",
       "      <td>NaN</td>\n",
       "      <td>NaN</td>\n",
       "      <td>NaN</td>\n",
       "      <td>NaN</td>\n",
       "      <td>NaN</td>\n",
       "      <td>NaN</td>\n",
       "    </tr>\n",
       "    <tr>\n",
       "      <th>Audit_Risk</th>\n",
       "      <td>-0.111264</td>\n",
       "      <td>0.216369</td>\n",
       "      <td>0.230675</td>\n",
       "      <td>0.217444</td>\n",
       "      <td>0.887055</td>\n",
       "      <td>0.215797</td>\n",
       "      <td>0.886818</td>\n",
       "      <td>0.887373</td>\n",
       "      <td>0.215413</td>\n",
       "      <td>0.254326</td>\n",
       "      <td>...</td>\n",
       "      <td>1.000000</td>\n",
       "      <td>0.200729</td>\n",
       "      <td>0.230675</td>\n",
       "      <td>0.215797</td>\n",
       "      <td>0.254326</td>\n",
       "      <td>0.282818</td>\n",
       "      <td>0.198502</td>\n",
       "      <td>0.047841</td>\n",
       "      <td>0.073137</td>\n",
       "      <td>0.428738</td>\n",
       "    </tr>\n",
       "    <tr>\n",
       "      <th>Risk</th>\n",
       "      <td>-0.510109</td>\n",
       "      <td>0.383510</td>\n",
       "      <td>0.784906</td>\n",
       "      <td>0.385148</td>\n",
       "      <td>0.238326</td>\n",
       "      <td>0.696150</td>\n",
       "      <td>0.236471</td>\n",
       "      <td>0.274462</td>\n",
       "      <td>0.288779</td>\n",
       "      <td>0.333936</td>\n",
       "      <td>...</td>\n",
       "      <td>0.200729</td>\n",
       "      <td>1.000000</td>\n",
       "      <td>0.784906</td>\n",
       "      <td>0.696150</td>\n",
       "      <td>0.333936</td>\n",
       "      <td>0.662421</td>\n",
       "      <td>0.429904</td>\n",
       "      <td>0.173964</td>\n",
       "      <td>0.178852</td>\n",
       "      <td>0.279408</td>\n",
       "    </tr>\n",
       "    <tr>\n",
       "      <th>SCORE_A</th>\n",
       "      <td>-0.462744</td>\n",
       "      <td>0.524015</td>\n",
       "      <td>1.000000</td>\n",
       "      <td>0.531303</td>\n",
       "      <td>0.286292</td>\n",
       "      <td>0.747852</td>\n",
       "      <td>0.284598</td>\n",
       "      <td>0.336559</td>\n",
       "      <td>0.287509</td>\n",
       "      <td>0.328258</td>\n",
       "      <td>...</td>\n",
       "      <td>0.230675</td>\n",
       "      <td>0.784906</td>\n",
       "      <td>1.000000</td>\n",
       "      <td>0.747852</td>\n",
       "      <td>0.328258</td>\n",
       "      <td>0.582575</td>\n",
       "      <td>0.156769</td>\n",
       "      <td>0.129771</td>\n",
       "      <td>0.130066</td>\n",
       "      <td>0.310560</td>\n",
       "    </tr>\n",
       "    <tr>\n",
       "      <th>SCORE_B</th>\n",
       "      <td>-0.354941</td>\n",
       "      <td>0.393414</td>\n",
       "      <td>0.747852</td>\n",
       "      <td>0.396850</td>\n",
       "      <td>0.361286</td>\n",
       "      <td>1.000000</td>\n",
       "      <td>0.362001</td>\n",
       "      <td>0.396800</td>\n",
       "      <td>0.292669</td>\n",
       "      <td>0.333048</td>\n",
       "      <td>...</td>\n",
       "      <td>0.215797</td>\n",
       "      <td>0.696150</td>\n",
       "      <td>0.747852</td>\n",
       "      <td>1.000000</td>\n",
       "      <td>0.333048</td>\n",
       "      <td>0.613095</td>\n",
       "      <td>0.011184</td>\n",
       "      <td>0.113874</td>\n",
       "      <td>0.106356</td>\n",
       "      <td>0.327010</td>\n",
       "    </tr>\n",
       "    <tr>\n",
       "      <th>Marks</th>\n",
       "      <td>-0.217181</td>\n",
       "      <td>0.136845</td>\n",
       "      <td>0.328258</td>\n",
       "      <td>0.137676</td>\n",
       "      <td>0.223443</td>\n",
       "      <td>0.333048</td>\n",
       "      <td>0.223155</td>\n",
       "      <td>0.230664</td>\n",
       "      <td>0.906225</td>\n",
       "      <td>1.000000</td>\n",
       "      <td>...</td>\n",
       "      <td>0.254326</td>\n",
       "      <td>0.333936</td>\n",
       "      <td>0.328258</td>\n",
       "      <td>0.333048</td>\n",
       "      <td>1.000000</td>\n",
       "      <td>0.502720</td>\n",
       "      <td>0.147371</td>\n",
       "      <td>-0.000088</td>\n",
       "      <td>0.033504</td>\n",
       "      <td>0.241330</td>\n",
       "    </tr>\n",
       "    <tr>\n",
       "      <th>MONEY_Marks</th>\n",
       "      <td>-0.389011</td>\n",
       "      <td>0.283638</td>\n",
       "      <td>0.582575</td>\n",
       "      <td>0.285143</td>\n",
       "      <td>0.303650</td>\n",
       "      <td>0.613095</td>\n",
       "      <td>0.302130</td>\n",
       "      <td>0.326728</td>\n",
       "      <td>0.440302</td>\n",
       "      <td>0.502720</td>\n",
       "      <td>...</td>\n",
       "      <td>0.282818</td>\n",
       "      <td>0.662421</td>\n",
       "      <td>0.582575</td>\n",
       "      <td>0.613095</td>\n",
       "      <td>0.502720</td>\n",
       "      <td>1.000000</td>\n",
       "      <td>0.065972</td>\n",
       "      <td>0.117740</td>\n",
       "      <td>0.129025</td>\n",
       "      <td>0.323337</td>\n",
       "    </tr>\n",
       "    <tr>\n",
       "      <th>District</th>\n",
       "      <td>-0.155540</td>\n",
       "      <td>0.134394</td>\n",
       "      <td>0.156769</td>\n",
       "      <td>0.132753</td>\n",
       "      <td>0.077969</td>\n",
       "      <td>0.011184</td>\n",
       "      <td>0.078010</td>\n",
       "      <td>0.089218</td>\n",
       "      <td>0.121201</td>\n",
       "      <td>0.147371</td>\n",
       "      <td>...</td>\n",
       "      <td>0.198502</td>\n",
       "      <td>0.429904</td>\n",
       "      <td>0.156769</td>\n",
       "      <td>0.011184</td>\n",
       "      <td>0.147371</td>\n",
       "      <td>0.065972</td>\n",
       "      <td>1.000000</td>\n",
       "      <td>0.038533</td>\n",
       "      <td>0.058436</td>\n",
       "      <td>0.078428</td>\n",
       "    </tr>\n",
       "    <tr>\n",
       "      <th>Loss</th>\n",
       "      <td>-0.128379</td>\n",
       "      <td>0.048668</td>\n",
       "      <td>0.129771</td>\n",
       "      <td>0.047877</td>\n",
       "      <td>0.042934</td>\n",
       "      <td>0.113874</td>\n",
       "      <td>0.043172</td>\n",
       "      <td>0.047428</td>\n",
       "      <td>-0.006112</td>\n",
       "      <td>-0.000088</td>\n",
       "      <td>...</td>\n",
       "      <td>0.047841</td>\n",
       "      <td>0.173964</td>\n",
       "      <td>0.129771</td>\n",
       "      <td>0.113874</td>\n",
       "      <td>-0.000088</td>\n",
       "      <td>0.117740</td>\n",
       "      <td>0.038533</td>\n",
       "      <td>1.000000</td>\n",
       "      <td>0.980015</td>\n",
       "      <td>0.105478</td>\n",
       "    </tr>\n",
       "    <tr>\n",
       "      <th>LOSS_SCORE</th>\n",
       "      <td>-0.132147</td>\n",
       "      <td>0.046604</td>\n",
       "      <td>0.130066</td>\n",
       "      <td>0.045316</td>\n",
       "      <td>0.040254</td>\n",
       "      <td>0.106356</td>\n",
       "      <td>0.040524</td>\n",
       "      <td>0.044586</td>\n",
       "      <td>0.032770</td>\n",
       "      <td>0.033504</td>\n",
       "      <td>...</td>\n",
       "      <td>0.073137</td>\n",
       "      <td>0.178852</td>\n",
       "      <td>0.130066</td>\n",
       "      <td>0.106356</td>\n",
       "      <td>0.033504</td>\n",
       "      <td>0.129025</td>\n",
       "      <td>0.058436</td>\n",
       "      <td>0.980015</td>\n",
       "      <td>1.000000</td>\n",
       "      <td>0.143915</td>\n",
       "    </tr>\n",
       "    <tr>\n",
       "      <th>History_score</th>\n",
       "      <td>-0.162778</td>\n",
       "      <td>0.169173</td>\n",
       "      <td>0.310560</td>\n",
       "      <td>0.171515</td>\n",
       "      <td>0.311136</td>\n",
       "      <td>0.327010</td>\n",
       "      <td>0.310998</td>\n",
       "      <td>0.320876</td>\n",
       "      <td>0.202007</td>\n",
       "      <td>0.241330</td>\n",
       "      <td>...</td>\n",
       "      <td>0.428738</td>\n",
       "      <td>0.279408</td>\n",
       "      <td>0.310560</td>\n",
       "      <td>0.327010</td>\n",
       "      <td>0.241330</td>\n",
       "      <td>0.323337</td>\n",
       "      <td>0.078428</td>\n",
       "      <td>0.105478</td>\n",
       "      <td>0.143915</td>\n",
       "      <td>1.000000</td>\n",
       "    </tr>\n",
       "  </tbody>\n",
       "</table>\n",
       "<p>34 rows × 34 columns</p>\n",
       "</div>"
      ],
      "text/plain": [
       "                Sector_score    PARA_A   Score_A    Risk_A    PARA_B  \\\n",
       "Sector_score        1.000000 -0.244341 -0.462744 -0.244301 -0.159652   \n",
       "PARA_A             -0.244341  1.000000  0.524015  0.999460  0.157794   \n",
       "Score_A            -0.462744  0.524015  1.000000  0.531303  0.286292   \n",
       "Risk_A             -0.244301  0.999460  0.531303  1.000000  0.160045   \n",
       "PARA_B             -0.159652  0.157794  0.286292  0.160045  1.000000   \n",
       "Score_B            -0.354941  0.393414  0.747852  0.396850  0.361286   \n",
       "Risk_B             -0.157330  0.157625  0.284598  0.159864  0.999940   \n",
       "TOTAL              -0.182717  0.263090  0.336559  0.265224  0.994088   \n",
       "numbers            -0.190785  0.129791  0.287509  0.130208  0.202393   \n",
       "Score_B.1          -0.217181  0.136845  0.328258  0.137676  0.223443   \n",
       "Risk_C             -0.210722  0.136447  0.316826  0.137129  0.215371   \n",
       "Money_Value        -0.140883  0.447595  0.238907  0.446493  0.116766   \n",
       "Score_MV           -0.389011  0.283638  0.582575  0.285143  0.303650   \n",
       "Risk_D             -0.139390  0.446749  0.235846  0.445632  0.116449   \n",
       "District_Loss      -0.155540  0.134394  0.156769  0.132753  0.077969   \n",
       "PROB               -0.132147  0.046604  0.130066  0.045316  0.040254   \n",
       "RiSk_E             -0.182185  0.123937  0.170562  0.122138  0.073154   \n",
       "History            -0.135865  0.114362  0.209563  0.116191  0.197248   \n",
       "Prob               -0.162778  0.169173  0.310560  0.171515  0.311136   \n",
       "Risk_F             -0.122293  0.100110  0.177784  0.101750  0.190078   \n",
       "Score              -0.441520  0.434674  0.834624  0.438345  0.393671   \n",
       "Inherent_Risk      -0.208095  0.479891  0.368419  0.480350  0.650532   \n",
       "CONTROL_RISK       -0.203040  0.149891  0.234113  0.149867  0.179589   \n",
       "Detection_Risk           NaN       NaN       NaN       NaN       NaN   \n",
       "Audit_Risk         -0.111264  0.216369  0.230675  0.217444  0.887055   \n",
       "Risk               -0.510109  0.383510  0.784906  0.385148  0.238326   \n",
       "SCORE_A            -0.462744  0.524015  1.000000  0.531303  0.286292   \n",
       "SCORE_B            -0.354941  0.393414  0.747852  0.396850  0.361286   \n",
       "Marks              -0.217181  0.136845  0.328258  0.137676  0.223443   \n",
       "MONEY_Marks        -0.389011  0.283638  0.582575  0.285143  0.303650   \n",
       "District           -0.155540  0.134394  0.156769  0.132753  0.077969   \n",
       "Loss               -0.128379  0.048668  0.129771  0.047877  0.042934   \n",
       "LOSS_SCORE         -0.132147  0.046604  0.130066  0.045316  0.040254   \n",
       "History_score      -0.162778  0.169173  0.310560  0.171515  0.311136   \n",
       "\n",
       "                 Score_B    Risk_B     TOTAL   numbers  Score_B.1  \\\n",
       "Sector_score   -0.354941 -0.157330 -0.182717 -0.190785  -0.217181   \n",
       "PARA_A          0.393414  0.157625  0.263090  0.129791   0.136845   \n",
       "Score_A         0.747852  0.284598  0.336559  0.287509   0.328258   \n",
       "Risk_A          0.396850  0.159864  0.265224  0.130208   0.137676   \n",
       "PARA_B          0.361286  0.999940  0.994088  0.202393   0.223443   \n",
       "Score_B         1.000000  0.362001  0.396800  0.292669   0.333048   \n",
       "Risk_B          0.362001  1.000000  0.994008  0.202146   0.223155   \n",
       "TOTAL           0.396800  0.994008  1.000000  0.210004   0.230664   \n",
       "numbers         0.292669  0.202146  0.210004  1.000000   0.906225   \n",
       "Score_B.1       0.333048  0.223155  0.230664  0.906225   1.000000   \n",
       "Risk_C          0.320626  0.215073  0.222836  0.954401   0.990211   \n",
       "Money_Value     0.211803  0.116807  0.160470  0.177996   0.212302   \n",
       "Score_MV        0.613095  0.302130  0.326728  0.440302   0.502720   \n",
       "Risk_D          0.208712  0.116498  0.160067  0.178456   0.212687   \n",
       "District_Loss   0.011184  0.078010  0.089218  0.121201   0.147371   \n",
       "PROB            0.106356  0.040524  0.044586  0.032770   0.033504   \n",
       "RiSk_E          0.030559  0.073357  0.083687  0.132036   0.153085   \n",
       "History         0.209465  0.196500  0.204236  0.195820   0.219895   \n",
       "Prob            0.327010  0.310998  0.320876  0.202007   0.241330   \n",
       "Risk_F          0.177666  0.189329  0.196002  0.196436   0.217641   \n",
       "Score           0.914557  0.393424  0.431500  0.505022   0.571444   \n",
       "Inherent_Risk   0.381870  0.650581  0.686017  0.261593   0.299317   \n",
       "CONTROL_RISK    0.143373  0.179199  0.190530  0.222140   0.250520   \n",
       "Detection_Risk       NaN       NaN       NaN       NaN        NaN   \n",
       "Audit_Risk      0.215797  0.886818  0.887373  0.215413   0.254326   \n",
       "Risk            0.696150  0.236471  0.274462  0.288779   0.333936   \n",
       "SCORE_A         0.747852  0.284598  0.336559  0.287509   0.328258   \n",
       "SCORE_B         1.000000  0.362001  0.396800  0.292669   0.333048   \n",
       "Marks           0.333048  0.223155  0.230664  0.906225   1.000000   \n",
       "MONEY_Marks     0.613095  0.302130  0.326728  0.440302   0.502720   \n",
       "District        0.011184  0.078010  0.089218  0.121201   0.147371   \n",
       "Loss            0.113874  0.043172  0.047428 -0.006112  -0.000088   \n",
       "LOSS_SCORE      0.106356  0.040524  0.044586  0.032770   0.033504   \n",
       "History_score   0.327010  0.310998  0.320876  0.202007   0.241330   \n",
       "\n",
       "                    ...        Audit_Risk      Risk   SCORE_A   SCORE_B  \\\n",
       "Sector_score        ...         -0.111264 -0.510109 -0.462744 -0.354941   \n",
       "PARA_A              ...          0.216369  0.383510  0.524015  0.393414   \n",
       "Score_A             ...          0.230675  0.784906  1.000000  0.747852   \n",
       "Risk_A              ...          0.217444  0.385148  0.531303  0.396850   \n",
       "PARA_B              ...          0.887055  0.238326  0.286292  0.361286   \n",
       "Score_B             ...          0.215797  0.696150  0.747852  1.000000   \n",
       "Risk_B              ...          0.886818  0.236471  0.284598  0.362001   \n",
       "TOTAL               ...          0.887373  0.274462  0.336559  0.396800   \n",
       "numbers             ...          0.215413  0.288779  0.287509  0.292669   \n",
       "Score_B.1           ...          0.254326  0.333936  0.328258  0.333048   \n",
       "Risk_C              ...          0.244211  0.321942  0.316826  0.320626   \n",
       "Money_Value         ...          0.328711  0.237113  0.238907  0.211803   \n",
       "Score_MV            ...          0.282818  0.662421  0.582575  0.613095   \n",
       "Risk_D              ...          0.328867  0.234426  0.235846  0.208712   \n",
       "District_Loss       ...          0.198502  0.429904  0.156769  0.011184   \n",
       "PROB                ...          0.073137  0.178852  0.130066  0.106356   \n",
       "RiSk_E              ...          0.200596  0.430527  0.170562  0.030559   \n",
       "History             ...          0.325613  0.222368  0.209563  0.209465   \n",
       "Prob                ...          0.428738  0.279408  0.310560  0.327010   \n",
       "Risk_F              ...          0.323650  0.198465  0.177784  0.177666   \n",
       "Score               ...          0.330643  0.817854  0.834624  0.914557   \n",
       "Inherent_Risk       ...          0.749149  0.333116  0.368419  0.381870   \n",
       "CONTROL_RISK        ...          0.355026  0.416837  0.234113  0.143373   \n",
       "Detection_Risk      ...               NaN       NaN       NaN       NaN   \n",
       "Audit_Risk          ...          1.000000  0.200729  0.230675  0.215797   \n",
       "Risk                ...          0.200729  1.000000  0.784906  0.696150   \n",
       "SCORE_A             ...          0.230675  0.784906  1.000000  0.747852   \n",
       "SCORE_B             ...          0.215797  0.696150  0.747852  1.000000   \n",
       "Marks               ...          0.254326  0.333936  0.328258  0.333048   \n",
       "MONEY_Marks         ...          0.282818  0.662421  0.582575  0.613095   \n",
       "District            ...          0.198502  0.429904  0.156769  0.011184   \n",
       "Loss                ...          0.047841  0.173964  0.129771  0.113874   \n",
       "LOSS_SCORE          ...          0.073137  0.178852  0.130066  0.106356   \n",
       "History_score       ...          0.428738  0.279408  0.310560  0.327010   \n",
       "\n",
       "                   Marks  MONEY_Marks  District      Loss  LOSS_SCORE  \\\n",
       "Sector_score   -0.217181    -0.389011 -0.155540 -0.128379   -0.132147   \n",
       "PARA_A          0.136845     0.283638  0.134394  0.048668    0.046604   \n",
       "Score_A         0.328258     0.582575  0.156769  0.129771    0.130066   \n",
       "Risk_A          0.137676     0.285143  0.132753  0.047877    0.045316   \n",
       "PARA_B          0.223443     0.303650  0.077969  0.042934    0.040254   \n",
       "Score_B         0.333048     0.613095  0.011184  0.113874    0.106356   \n",
       "Risk_B          0.223155     0.302130  0.078010  0.043172    0.040524   \n",
       "TOTAL           0.230664     0.326728  0.089218  0.047428    0.044586   \n",
       "numbers         0.906225     0.440302  0.121201 -0.006112    0.032770   \n",
       "Score_B.1       1.000000     0.502720  0.147371 -0.000088    0.033504   \n",
       "Risk_C          0.990211     0.487536  0.142911 -0.003890    0.032826   \n",
       "Money_Value     0.212302     0.382107  0.020710  0.021326    0.028605   \n",
       "Score_MV        0.502720     1.000000  0.065972  0.117740    0.129025   \n",
       "Risk_D          0.212687     0.382158  0.020897  0.021479    0.028789   \n",
       "District_Loss   0.147371     0.065972  1.000000  0.038533    0.058436   \n",
       "PROB            0.033504     0.129025  0.058436  0.980015    1.000000   \n",
       "RiSk_E          0.153085     0.088274  0.912146  0.370752    0.410962   \n",
       "History         0.219895     0.235054  0.064465  0.059780    0.111148   \n",
       "Prob            0.241330     0.323337  0.078428  0.105478    0.143915   \n",
       "Risk_F          0.217641     0.205540  0.066264  0.053234    0.107067   \n",
       "Score           0.571444     0.774958  0.226271  0.166402    0.177288   \n",
       "Inherent_Risk   0.299317     0.471040  0.073198  0.044753    0.049360   \n",
       "CONTROL_RISK    0.250520     0.200135  0.636747  0.277107    0.340591   \n",
       "Detection_Risk       NaN          NaN       NaN       NaN         NaN   \n",
       "Audit_Risk      0.254326     0.282818  0.198502  0.047841    0.073137   \n",
       "Risk            0.333936     0.662421  0.429904  0.173964    0.178852   \n",
       "SCORE_A         0.328258     0.582575  0.156769  0.129771    0.130066   \n",
       "SCORE_B         0.333048     0.613095  0.011184  0.113874    0.106356   \n",
       "Marks           1.000000     0.502720  0.147371 -0.000088    0.033504   \n",
       "MONEY_Marks     0.502720     1.000000  0.065972  0.117740    0.129025   \n",
       "District        0.147371     0.065972  1.000000  0.038533    0.058436   \n",
       "Loss           -0.000088     0.117740  0.038533  1.000000    0.980015   \n",
       "LOSS_SCORE      0.033504     0.129025  0.058436  0.980015    1.000000   \n",
       "History_score   0.241330     0.323337  0.078428  0.105478    0.143915   \n",
       "\n",
       "                History_score  \n",
       "Sector_score        -0.162778  \n",
       "PARA_A               0.169173  \n",
       "Score_A              0.310560  \n",
       "Risk_A               0.171515  \n",
       "PARA_B               0.311136  \n",
       "Score_B              0.327010  \n",
       "Risk_B               0.310998  \n",
       "TOTAL                0.320876  \n",
       "numbers              0.202007  \n",
       "Score_B.1            0.241330  \n",
       "Risk_C               0.230229  \n",
       "Money_Value          0.103141  \n",
       "Score_MV             0.323337  \n",
       "Risk_D               0.102468  \n",
       "District_Loss        0.078428  \n",
       "PROB                 0.143915  \n",
       "RiSk_E               0.118333  \n",
       "History              0.857712  \n",
       "Prob                 1.000000  \n",
       "Risk_F               0.814824  \n",
       "Score                0.445245  \n",
       "Inherent_Risk        0.264865  \n",
       "CONTROL_RISK         0.643418  \n",
       "Detection_Risk            NaN  \n",
       "Audit_Risk           0.428738  \n",
       "Risk                 0.279408  \n",
       "SCORE_A              0.310560  \n",
       "SCORE_B              0.327010  \n",
       "Marks                0.241330  \n",
       "MONEY_Marks          0.323337  \n",
       "District             0.078428  \n",
       "Loss                 0.105478  \n",
       "LOSS_SCORE           0.143915  \n",
       "History_score        1.000000  \n",
       "\n",
       "[34 rows x 34 columns]"
      ]
     },
     "execution_count": 8,
     "metadata": {},
     "output_type": "execute_result"
    }
   ],
   "source": [
    "Risk_data.corr()"
   ]
  },
  {
   "cell_type": "markdown",
   "metadata": {},
   "source": [
    "#### After Careful analysis of the features and their correlation matrices, we can see that all the features of the trials csv are either same as the columns in the Audit Risk table or are derived / highly correlated with the features of the Audit Risk table. \n",
    "#### The highly correlated data will provide same information and will not be helpful in developing machine learning models. Hence, we can remove the columns of the Trials table and the features which are highly correlated among eachothers.\n",
    "#### Similar columns of different scales and highly correlated columns are tallied and one of them is removed\n",
    "\n",
    "\n",
    "Also, after going through the original published paper related to the data handed, we can see that\n",
    "Score_A in Audit_Risk multiplied by 10 is the Score_A in trial. \n",
    "The same applies to Score_B. Audit_Risk dataset contains \n",
    "PROB in Audit_Risk multiplied by 10 is the Loss_Score in trial. \n",
    "prob in Audit_Risk multiplied by 10 is the History_Score in trial. \n",
    "Score is exactly identical in both Audit_risk and trial datasets. \n",
    "Risk_A (calculated from  PARA_A and Score_A) and Risk_B(calculated from  PARA_B and Score_B) which are not present in trial. TOTAL and numbers columns are identical in Audit_Risk and trial. \n",
    "Score_B.1 multiplied by 10 is the Marks column in trial. Audit_Risk has an extra column Risk_C(calculated from  numbers and Score_B.1) compared to trial. \n",
    "Score_MV in Audit_Risk multiplied by 10 is the Money_Marks column in trial dataset. Risk_D (calculated from Money_Value and Score_MV) is absent in trial. \n",
    "Risk column in trial is calculated based on Score value. If Score value is greater than 2, Risk value = 1 else Risk = 0 (No Risk) "
   ]
  },
  {
   "cell_type": "code",
   "execution_count": 9,
   "metadata": {},
   "outputs": [],
   "source": [
    "Risk_data=Audit_Risk\n",
    "Risk_data=Risk_data.drop_duplicates(keep='first')"
   ]
  },
  {
   "cell_type": "code",
   "execution_count": 10,
   "metadata": {},
   "outputs": [],
   "source": [
    "Risk_data = Risk_data[['Sector_score', 'LOCATION_ID', 'PARA_A', 'PARA_B', 'numbers', 'Money_Value', 'District_Loss', 'PROB', 'History', 'Prob', 'Score', 'Inherent_Risk', 'CONTROL_RISK', 'Detection_Risk','Audit_Risk', 'Risk']]"
   ]
  },
  {
   "cell_type": "code",
   "execution_count": 11,
   "metadata": {},
   "outputs": [
    {
     "data": {
      "text/plain": [
       "(763, 16)"
      ]
     },
     "execution_count": 11,
     "metadata": {},
     "output_type": "execute_result"
    }
   ],
   "source": [
    "Risk_data.shape"
   ]
  },
  {
   "cell_type": "code",
   "execution_count": 12,
   "metadata": {},
   "outputs": [
    {
     "data": {
      "text/plain": [
       "Sector_score      False\n",
       "LOCATION_ID       False\n",
       "PARA_A            False\n",
       "PARA_B            False\n",
       "numbers           False\n",
       "Money_Value        True\n",
       "District_Loss     False\n",
       "PROB              False\n",
       "History           False\n",
       "Prob              False\n",
       "Score             False\n",
       "Inherent_Risk     False\n",
       "CONTROL_RISK      False\n",
       "Detection_Risk    False\n",
       "Audit_Risk        False\n",
       "Risk              False\n",
       "dtype: bool"
      ]
     },
     "execution_count": 12,
     "metadata": {},
     "output_type": "execute_result"
    }
   ],
   "source": [
    "Risk_data.isnull().any()"
   ]
  },
  {
   "cell_type": "code",
   "execution_count": 13,
   "metadata": {},
   "outputs": [],
   "source": [
    "#Removing the string value rows in the LOCATION_ID column\n",
    "\n",
    "Risk_data = Risk_data[Risk_data['LOCATION_ID']!='LOHARU']\n",
    "Risk_data = Risk_data[Risk_data['LOCATION_ID']!='NUH']\n",
    "Risk_data = Risk_data[Risk_data['LOCATION_ID']!='SAFIDON']"
   ]
  },
  {
   "cell_type": "code",
   "execution_count": 14,
   "metadata": {},
   "outputs": [],
   "source": [
    "#Converting the LOCATION_ID column with replaced string values to an int column\n",
    "Risk_data['LOCATION_ID'] = Risk_data['LOCATION_ID'].astype(int)"
   ]
  },
  {
   "cell_type": "code",
   "execution_count": 15,
   "metadata": {},
   "outputs": [],
   "source": [
    "#Imputing the missing value in the Money_Value column\n",
    "Risk_data['Money_Value'] = Risk_data['Money_Value'].replace('', np.nan)\n",
    "Risk_data['Money_Value'] = Risk_data['Money_Value'].replace(np.nan,Risk_data.Money_Value.mean())"
   ]
  },
  {
   "cell_type": "code",
   "execution_count": 16,
   "metadata": {},
   "outputs": [
    {
     "name": "stdout",
     "output_type": "stream",
     "text": [
      "<class 'pandas.core.frame.DataFrame'>\n",
      "Int64Index: 760 entries, 0 to 775\n",
      "Data columns (total 16 columns):\n",
      "Sector_score      760 non-null float64\n",
      "LOCATION_ID       760 non-null int32\n",
      "PARA_A            760 non-null float64\n",
      "PARA_B            760 non-null float64\n",
      "numbers           760 non-null float64\n",
      "Money_Value       760 non-null float64\n",
      "District_Loss     760 non-null int64\n",
      "PROB              760 non-null float64\n",
      "History           760 non-null int64\n",
      "Prob              760 non-null float64\n",
      "Score             760 non-null float64\n",
      "Inherent_Risk     760 non-null float64\n",
      "CONTROL_RISK      760 non-null float64\n",
      "Detection_Risk    760 non-null float64\n",
      "Audit_Risk        760 non-null float64\n",
      "Risk              760 non-null int64\n",
      "dtypes: float64(12), int32(1), int64(3)\n",
      "memory usage: 98.0 KB\n"
     ]
    }
   ],
   "source": [
    "#Checking if the null values in Money_Value are replaced\n",
    "Risk_data.info()"
   ]
  },
  {
   "cell_type": "code",
   "execution_count": 17,
   "metadata": {},
   "outputs": [
    {
     "name": "stdout",
     "output_type": "stream",
     "text": [
      "Identified outliers in Sector_score: 0\n",
      "Identified outliers in LOCATION_ID: 0\n",
      "Identified outliers in PARA_A: 7\n",
      "Identified outliers in PARA_B: 1\n",
      "Identified outliers in numbers: 22\n",
      "Identified outliers in Money_Value: 6\n",
      "Identified outliers in District_Loss: 0\n",
      "Identified outliers in PROB: 22\n",
      "Identified outliers in History: 15\n",
      "Identified outliers in Prob: 15\n",
      "Identified outliers in Score: 0\n",
      "Identified outliers in Inherent_Risk: 7\n",
      "Identified outliers in CONTROL_RISK: 15\n",
      "Identified outliers in Detection_Risk: 0\n",
      "Identified outliers in Audit_Risk: 6\n",
      "Identified outliers in Risk: 0\n"
     ]
    }
   ],
   "source": [
    "#Checking for outliers in the Risk_data dataframe for deciding on the type of scaling to be used\n",
    "from numpy import mean\n",
    "from numpy import std\n",
    "\n",
    "for i in Risk_data:\n",
    "    data_mean, data_std = mean(Risk_data[i]), std(Risk_data[i])\n",
    "    cut_off = data_std * 3\n",
    "    lower, upper = data_mean - cut_off, data_mean + cut_off\n",
    "    outliers = [x for x in Risk_data[i] if x < lower or x > upper]\n",
    "    print('Identified outliers in ' + i + ': %d' % len(outliers))"
   ]
  },
  {
   "cell_type": "code",
   "execution_count": 18,
   "metadata": {},
   "outputs": [
    {
     "data": {
      "text/plain": [
       "Sector_score       583.426956\n",
       "LOCATION_ID         98.722356\n",
       "PARA_A              32.811037\n",
       "PARA_B            2558.747544\n",
       "numbers              0.071309\n",
       "Money_Value       4519.845133\n",
       "District_Loss        1.520311\n",
       "PROB                 0.001436\n",
       "History              0.287704\n",
       "Prob                 0.004714\n",
       "Score                0.743221\n",
       "Inherent_Risk     3054.019796\n",
       "CONTROL_RISK         0.200705\n",
       "Detection_Risk       0.000000\n",
       "Audit_Risk        1525.693007\n",
       "Risk                 0.240316\n",
       "dtype: float64"
      ]
     },
     "execution_count": 18,
     "metadata": {},
     "output_type": "execute_result"
    }
   ],
   "source": [
    "Risk_data.var()"
   ]
  },
  {
   "cell_type": "markdown",
   "metadata": {},
   "source": [
    "#### Removing outliners from the features with high variance"
   ]
  },
  {
   "cell_type": "code",
   "execution_count": 19,
   "metadata": {},
   "outputs": [
    {
     "data": {
      "text/plain": [
       "[<matplotlib.lines.Line2D at 0x25797bbee80>]"
      ]
     },
     "execution_count": 19,
     "metadata": {},
     "output_type": "execute_result"
    },
    {
     "data": {
      "image/png": "[encoded data removed]",
      "text/plain": [
       "<Figure size 432x288 with 1 Axes>"
      ]
     },
     "metadata": {
      "needs_background": "light"
     },
     "output_type": "display_data"
    }
   ],
   "source": [
    "plt.plot(Risk_data['Audit_Risk'],Risk_data['Audit_Risk'],'.')"
   ]
  },
  {
   "cell_type": "code",
   "execution_count": 20,
   "metadata": {},
   "outputs": [
    {
     "data": {
      "text/plain": [
       "[<matplotlib.lines.Line2D at 0x25797c16748>]"
      ]
     },
     "execution_count": 20,
     "metadata": {},
     "output_type": "execute_result"
    },
    {
     "data": {
      "image/png": "[encoded data removed]",
      "text/plain": [
       "<Figure size 432x288 with 1 Axes>"
      ]
     },
     "metadata": {
      "needs_background": "light"
     },
     "output_type": "display_data"
    }
   ],
   "source": [
    "Risk_data=Risk_data[abs(Risk_data['Audit_Risk'])<400]\n",
    "plt.plot(Risk_data['Audit_Risk'],Risk_data['Audit_Risk'],'.')"
   ]
  },
  {
   "cell_type": "code",
   "execution_count": 21,
   "metadata": {},
   "outputs": [
    {
     "data": {
      "text/plain": [
       "[<matplotlib.lines.Line2D at 0x25797c6b278>]"
      ]
     },
     "execution_count": 21,
     "metadata": {},
     "output_type": "execute_result"
    },
    {
     "data": {
      "image/png": "[encoded data removed]",
      "text/plain": [
       "<Figure size 432x288 with 1 Axes>"
      ]
     },
     "metadata": {
      "needs_background": "light"
     },
     "output_type": "display_data"
    }
   ],
   "source": [
    "plt.plot(Risk_data['numbers'],Risk_data['Audit_Risk'],'.')"
   ]
  },
  {
   "cell_type": "code",
   "execution_count": 22,
   "metadata": {},
   "outputs": [
    {
     "data": {
      "text/plain": [
       "[<matplotlib.lines.Line2D at 0x25797cc9320>]"
      ]
     },
     "execution_count": 22,
     "metadata": {},
     "output_type": "execute_result"
    },
    {
     "data": {
      "image/png": "[encoded data removed]",
      "text/plain": [
       "<Figure size 432x288 with 1 Axes>"
      ]
     },
     "metadata": {
      "needs_background": "light"
     },
     "output_type": "display_data"
    }
   ],
   "source": [
    "Risk_data=Risk_data[abs(Risk_data['numbers'])<7]\n",
    "plt.plot(Risk_data['numbers'],Risk_data['Audit_Risk'],'.')"
   ]
  },
  {
   "cell_type": "code",
   "execution_count": 23,
   "metadata": {},
   "outputs": [
    {
     "data": {
      "text/plain": [
       "[<matplotlib.lines.Line2D at 0x25797d20b00>]"
      ]
     },
     "execution_count": 23,
     "metadata": {},
     "output_type": "execute_result"
    },
    {
     "data": {
      "image/png": "[encoded data removed]",
      "text/plain": [
       "<Figure size 432x288 with 1 Axes>"
      ]
     },
     "metadata": {
      "needs_background": "light"
     },
     "output_type": "display_data"
    }
   ],
   "source": [
    "plt.plot(Risk_data['Inherent_Risk'],Risk_data['Audit_Risk'],'.')"
   ]
  },
  {
   "cell_type": "code",
   "execution_count": 24,
   "metadata": {},
   "outputs": [
    {
     "data": {
      "text/plain": [
       "[<matplotlib.lines.Line2D at 0x25797d83160>]"
      ]
     },
     "execution_count": 24,
     "metadata": {},
     "output_type": "execute_result"
    },
    {
     "data": {
      "image/png": "[encoded data removed]",
      "text/plain": [
       "<Figure size 432x288 with 1 Axes>"
      ]
     },
     "metadata": {
      "needs_background": "light"
     },
     "output_type": "display_data"
    }
   ],
   "source": [
    "Risk_data=Risk_data[abs(Risk_data['Inherent_Risk'])<175]\n",
    "plt.plot(Risk_data['Inherent_Risk'],Risk_data['Audit_Risk'],'.')"
   ]
  },
  {
   "cell_type": "code",
   "execution_count": 25,
   "metadata": {},
   "outputs": [
    {
     "data": {
      "text/plain": [
       "[<matplotlib.lines.Line2D at 0x25797de54a8>]"
      ]
     },
     "execution_count": 25,
     "metadata": {},
     "output_type": "execute_result"
    },
    {
     "data": {
      "image/png": "[encoded data removed]",
      "text/plain": [
       "<Figure size 432x288 with 1 Axes>"
      ]
     },
     "metadata": {
      "needs_background": "light"
     },
     "output_type": "display_data"
    }
   ],
   "source": [
    "plt.plot(Risk_data['Money_Value'],Risk_data['Audit_Risk'],'.')"
   ]
  },
  {
   "cell_type": "code",
   "execution_count": 26,
   "metadata": {},
   "outputs": [
    {
     "data": {
      "text/plain": [
       "[<matplotlib.lines.Line2D at 0x25797e3afd0>]"
      ]
     },
     "execution_count": 26,
     "metadata": {},
     "output_type": "execute_result"
    },
    {
     "data": {
      "image/png": "[encoded data removed]",
      "text/plain": [
       "<Figure size 432x288 with 1 Axes>"
      ]
     },
     "metadata": {
      "needs_background": "light"
     },
     "output_type": "display_data"
    }
   ],
   "source": [
    "Risk_data=Risk_data[abs(Risk_data['Money_Value'])<250]\n",
    "plt.plot(Risk_data['Money_Value'],Risk_data['Audit_Risk'],'.')"
   ]
  },
  {
   "cell_type": "code",
   "execution_count": 27,
   "metadata": {},
   "outputs": [
    {
     "data": {
      "text/plain": [
       "[<matplotlib.lines.Line2D at 0x25797e9d5f8>]"
      ]
     },
     "execution_count": 27,
     "metadata": {},
     "output_type": "execute_result"
    },
    {
     "data": {
      "image/png": "[encoded data removed]",
      "text/plain": [
       "<Figure size 432x288 with 1 Axes>"
      ]
     },
     "metadata": {
      "needs_background": "light"
     },
     "output_type": "display_data"
    }
   ],
   "source": [
    "plt.plot(Risk_data['PARA_A'],Risk_data['Audit_Risk'],'.')"
   ]
  },
  {
   "cell_type": "code",
   "execution_count": 28,
   "metadata": {},
   "outputs": [
    {
     "data": {
      "text/plain": [
       "[<matplotlib.lines.Line2D at 0x25797ef3fd0>]"
      ]
     },
     "execution_count": 28,
     "metadata": {},
     "output_type": "execute_result"
    },
    {
     "data": {
      "image/png": "[encoded data removed]",
      "text/plain": [
       "<Figure size 432x288 with 1 Axes>"
      ]
     },
     "metadata": {
      "needs_background": "light"
     },
     "output_type": "display_data"
    }
   ],
   "source": [
    "Risk_data=Risk_data[abs(Risk_data['PARA_A'])<40]\n",
    "plt.plot(Risk_data['PARA_A'],Risk_data['Audit_Risk'],'.')"
   ]
  },
  {
   "cell_type": "code",
   "execution_count": null,
   "metadata": {},
   "outputs": [],
   "source": []
  },
  {
   "cell_type": "code",
   "execution_count": 29,
   "metadata": {},
   "outputs": [
    {
     "data": {
      "text/plain": [
       "(750, 16)"
      ]
     },
     "execution_count": 29,
     "metadata": {},
     "output_type": "execute_result"
    }
   ],
   "source": [
    "Risk_data.shape"
   ]
  },
  {
   "cell_type": "code",
   "execution_count": 30,
   "metadata": {},
   "outputs": [
    {
     "data": {
      "text/plain": [
       "<matplotlib.axes._subplots.AxesSubplot at 0x25797f2b470>"
      ]
     },
     "execution_count": 30,
     "metadata": {},
     "output_type": "execute_result"
    },
    {
     "data": {
      "image/png": "[encoded data removed]",
      "text/plain": [
       "<Figure size 1008x864 with 2 Axes>"
      ]
     },
     "metadata": {
      "needs_background": "light"
     },
     "output_type": "display_data"
    }
   ],
   "source": [
    "colormap = plt.cm.RdBu\n",
    "plt.figure(figsize=(14,12))\n",
    "plt.title('Pearson Corr.', y=1.05, size=12)\n",
    "sns.heatmap(Risk_data.astype(float).corr(),linewidths=0.1, vmax=1.0, \n",
    "            square=True, cmap=colormap, linecolor='white', annot=True)"
   ]
  },
  {
   "cell_type": "code",
   "execution_count": 31,
   "metadata": {},
   "outputs": [],
   "source": [
    "# Removing nominal features and selecting features for classification models\n",
    "Risk_data_class = Risk_data[['Sector_score','numbers','PARA_A', 'PARA_B','Money_Value', 'PROB', 'District_Loss','Inherent_Risk','CONTROL_RISK','History', 'Score', 'Risk']]"
   ]
  },
  {
   "cell_type": "code",
   "execution_count": 32,
   "metadata": {},
   "outputs": [],
   "source": [
    "# Removing nominal features and selecting features for regression models\n",
    "Risk_data = Risk_data[['Sector_score','numbers','PARA_A', 'PARA_B','Money_Value', 'PROB', 'District_Loss','Inherent_Risk','CONTROL_RISK','History', 'Score', 'Audit_Risk']]"
   ]
  },
  {
   "cell_type": "code",
   "execution_count": null,
   "metadata": {},
   "outputs": [],
   "source": []
  },
  {
   "cell_type": "markdown",
   "metadata": {},
   "source": [
    "# Scaling and splitting the data"
   ]
  },
  {
   "cell_type": "markdown",
   "metadata": {},
   "source": [
    "####  Seperating the target column from the data set"
   ]
  },
  {
   "cell_type": "code",
   "execution_count": 33,
   "metadata": {},
   "outputs": [],
   "source": [
    "y = Risk_data['Audit_Risk']\n",
    "X = Risk_data.drop(['Audit_Risk'], axis = 1)"
   ]
  },
  {
   "cell_type": "markdown",
   "metadata": {},
   "source": [
    "#### Splitting the dataframe into Training and Testing data (defaut split)"
   ]
  },
  {
   "cell_type": "code",
   "execution_count": 34,
   "metadata": {},
   "outputs": [],
   "source": [
    "from sklearn.model_selection import train_test_split\n",
    "X_train_org, X_test_org, y_train, y_test = train_test_split(X, y, random_state = 0)"
   ]
  },
  {
   "cell_type": "markdown",
   "metadata": {},
   "source": [
    "#### Scaling the data using Normalisation Z scores"
   ]
  },
  {
   "cell_type": "markdown",
   "metadata": {},
   "source": [
    "#### Standardscaler:\n",
    "#### Assumes that data has normally distributed features and will scale them to zero mean and 1 standard deviation. After applying the scaler all features will be of same scale .\n",
    "\n",
    "#### Minmaxscaler shrinks the data within the range of -1 to 1(if there are negative values)\n",
    "\n",
    "#### Since our data distribution is Guassian, standard deviation is high, with significant number of outliers, we use the standard  scaler for the models. The models which expect normalisation work well only with standard scaler."
   ]
  },
  {
   "cell_type": "code",
   "execution_count": 35,
   "metadata": {},
   "outputs": [],
   "source": [
    "from sklearn.preprocessing import StandardScaler\n",
    "scaler = StandardScaler()\n",
    "X_train = scaler.fit_transform(X_train_org)\n",
    "X_test = scaler.fit_transform(X_test_org)"
   ]
  },
  {
   "cell_type": "code",
   "execution_count": 36,
   "metadata": {},
   "outputs": [],
   "source": [
    "score_report_Dict = {}"
   ]
  },
  {
   "cell_type": "markdown",
   "metadata": {},
   "source": [
    "y"
   ]
  },
  {
   "cell_type": "markdown",
   "metadata": {},
   "source": [
    "### Bagging linear Regression, Decision Tree, KNN Regressor"
   ]
  },
  {
   "cell_type": "code",
   "execution_count": 118,
   "metadata": {},
   "outputs": [
    {
     "name": "stdout",
     "output_type": "stream",
     "text": [
      "Best parameters: {'n_estimators': 100}\n",
      "Train Set Score: 0.8667003617864919\n",
      "Test Set Score: 0.6365515731108702\n",
      "Oob Score: 0.8001744344066328\n"
     ]
    }
   ],
   "source": [
    "from sklearn.ensemble import BaggingRegressor\n",
    "from sklearn.model_selection import GridSearchCV\n",
    "from sklearn.linear_model import LinearRegression\n",
    "from sklearn.model_selection import cross_val_score\n",
    "lreg = LinearRegression()\n",
    "\n",
    "bag_lreg = BaggingRegressor(lreg, bootstrap = True,oob_score=True,random_state=0)\n",
    "param_grid = {'n_estimators': [100,200]}\n",
    "grid_bag_lreg = GridSearchCV(bag_lreg, param_grid, cv = 5,return_train_score=True)\n",
    "grid_bag_lreg.fit(X_train, y_train)\n",
    "\n",
    "print(\"Best parameters: {}\".format(grid_bag_lreg.best_params_))\n",
    "# grid_bag_lreg.cv_results_['params'][grid_bag_lreg.best_index_]\n",
    "\n",
    "bag_lreg = BaggingRegressor(lreg,n_estimators = grid_bag_lreg.best_params_['n_estimators'],bootstrap = True,oob_score=True,random_state=0)\n",
    "bag_lreg.fit(X_train, y_train)\n",
    "\n",
    "print(\"Train Set Score: {}\".format(grid_bag_lreg.score(X_train, y_train)))\n",
    "print(\"Test Set Score: {}\".format(grid_bag_lreg.score(X_test,y_test)))\n",
    "print(\"Oob Score: {}\".format(bag_lreg.oob_score_))"
   ]
  },
  {
   "cell_type": "code",
   "execution_count": 119,
   "metadata": {},
   "outputs": [
    {
     "name": "stdout",
     "output_type": "stream",
     "text": [
      "Best parameters: {'n_estimators': 200}\n",
      "Train score: 0.98\n",
      "Test score: 0.87\n"
     ]
    }
   ],
   "source": [
    "from sklearn.tree import DecisionTreeRegressor\n",
    "from sklearn.svm import SVR\n",
    "from sklearn.neighbors import KNeighborsRegressor\n",
    "\n",
    "#DecisionTree regressor with Bagging\n",
    "dt = DecisionTreeRegressor()\n",
    "bag_dt = BaggingRegressor(dt, bootstrap = True,oob_score=True,random_state=0)\n",
    "param_grid = {'n_estimators': [50,100,200]}\n",
    "grid_bag_dt = GridSearchCV(bag_dt, param_grid, cv = 5,return_train_score=True)\n",
    "grid_bag_dt.fit(X_train, y_train)\n",
    "print(\"Best parameters: {}\".format(grid_bag_dt.best_params_))\n",
    "\n",
    "bag_dt = BaggingRegressor(dt, n_estimators=grid_bag_dt.best_params_['n_estimators'], bootstrap=True, random_state=0)\n",
    "dt_bag_dt = bag_dt.fit(X_train, y_train)\n",
    "\n",
    "print('Train score: {:.2f}'.format(dt_bag_dt.score(X_train, y_train)))\n",
    "print('Test score: {:.2f}'.format(dt_bag_dt.score(X_test, y_test)))"
   ]
  },
  {
   "cell_type": "code",
   "execution_count": 120,
   "metadata": {},
   "outputs": [
    {
     "name": "stdout",
     "output_type": "stream",
     "text": [
      "Best parameters: {'n_estimators': 200}\n",
      "Train score: 0.81\n",
      "Test score: 0.61\n"
     ]
    }
   ],
   "source": [
    "#KNeighborsRegressor with Bagging\n",
    "knn = KNeighborsRegressor()\n",
    "bag_knn_reg = BaggingRegressor(dt, bootstrap = True,oob_score=True,random_state=0)\n",
    "param_grid = {'n_estimators': [50,100,200]}\n",
    "grid_bag_knn = GridSearchCV(bag_knn_reg, param_grid, cv = 5,return_train_score=True)\n",
    "grid_bag_knn.fit(X_train, y_train)\n",
    "print(\"Best parameters: {}\".format(grid_bag_knn.best_params_))\n",
    "\n",
    "bag_knn_reg = BaggingRegressor(knn, n_estimators=grid_bag_knn.best_params_['n_estimators'], bootstrap=True, random_state=0)\n",
    "knn_bag = bag_knn_reg.fit(X_train, y_train)\n",
    "\n",
    "print('Train score: {:.2f}'.format(bag_knn_reg.score(X_train, y_train)))\n",
    "print('Test score: {:.2f}'.format(bag_knn_reg.score(X_test, y_test)))"
   ]
  },
  {
   "cell_type": "markdown",
   "metadata": {},
   "source": [
    "### Pasting Linear Regression, SVR, KNN Regressor"
   ]
  },
  {
   "cell_type": "code",
   "execution_count": 121,
   "metadata": {},
   "outputs": [
    {
     "name": "stdout",
     "output_type": "stream",
     "text": [
      "Best parameters: {'n_estimators': 50}\n",
      "Train Set Score: 0.8676777815803489\n",
      "Test Set Score: 0.6280151085742525\n"
     ]
    }
   ],
   "source": [
    "p_lreg = BaggingRegressor(lreg, bootstrap = False,random_state=0)\n",
    "param_grid = {'n_estimators': [50,100,200]}\n",
    "grid_p_lreg = GridSearchCV(p_lreg, param_grid, cv = 5,return_train_score=True)\n",
    "grid_p_lreg.fit(X_train, y_train)\n",
    "print(\"Best parameters: {}\".format(grid_p_lreg.best_params_))\n",
    "\n",
    "p_lreg = BaggingRegressor(lreg, n_estimators=grid_p_lreg.best_params_['n_estimators'], bootstrap=False, random_state=0)\n",
    "p_lreg.fit(X_train, y_train)\n",
    "\n",
    "#### print(\"Best parameters: {}\".format(grid_p_lreg.best_params_))\n",
    "print(\"Train Set Score: {}\".format(grid_p_lreg.score(X_train, y_train)))\n",
    "print(\"Test Set Score: {}\".format(grid_p_lreg.score(X_test,y_test)))"
   ]
  },
  {
   "cell_type": "code",
   "execution_count": 122,
   "metadata": {},
   "outputs": [
    {
     "name": "stdout",
     "output_type": "stream",
     "text": [
      "Best parameters: {'n_estimators': 50}\n",
      "Train score: 0.83\n",
      "Test score: 0.57\n"
     ]
    }
   ],
   "source": [
    "#SVR - linear with Pasting\n",
    "svr = SVR(kernel='linear', C=100, gamma='auto')\n",
    "\n",
    "print(\"Best parameters: {}\".format(grid_p_lreg.best_params_))\n",
    "\n",
    "p_reg_svr = BaggingRegressor(svr, n_estimators=300, max_samples=100, bootstrap=False, random_state=0)\n",
    "svr_p = p_reg_svr.fit(X_train, y_train)\n",
    "\n",
    "print('Train score: {:.2f}'.format(svr_p.score(X_train, y_train)))\n",
    "print('Test score: {:.2f}'.format(svr_p.score(X_test, y_test)))"
   ]
  },
  {
   "cell_type": "code",
   "execution_count": 123,
   "metadata": {},
   "outputs": [
    {
     "name": "stdout",
     "output_type": "stream",
     "text": [
      "Train score: 0.48\n",
      "Test score: 0.41\n"
     ]
    }
   ],
   "source": [
    "#KNeighborsRegressor with Pasting\n",
    "knn = KNeighborsRegressor(10)\n",
    "p_reg = BaggingRegressor(knn, n_estimators=500, max_samples=100, bootstrap=False, random_state=0)\n",
    "\n",
    "kn_p = p_reg.fit(X_train, y_train)\n",
    "\n",
    "print('Train score: {:.2f}'.format(kn_p.score(X_train, y_train)))\n",
    "print('Test score: {:.2f}'.format(kn_p.score(X_test, y_test)))"
   ]
  },
  {
   "cell_type": "markdown",
   "metadata": {},
   "source": [
    "### AdaBoost Regression -  Decision Tree, KNN Regression"
   ]
  },
  {
   "cell_type": "code",
   "execution_count": 124,
   "metadata": {},
   "outputs": [
    {
     "data": {
      "text/plain": [
       "AdaBoostRegressor(base_estimator=DecisionTreeRegressor(criterion='mse', max_depth=5, max_features=None,\n",
       "           max_leaf_nodes=None, min_impurity_decrease=0.0,\n",
       "           min_impurity_split=None, min_samples_leaf=1,\n",
       "           min_samples_split=2, min_weight_fraction_leaf=0.0,\n",
       "           presort=False, random_state=None, splitter='best'),\n",
       "         learning_rate=0.5, loss='linear', n_estimators=200,\n",
       "         random_state=0)"
      ]
     },
     "execution_count": 124,
     "metadata": {},
     "output_type": "execute_result"
    }
   ],
   "source": [
    "#AdaBoost with DecisionTree Regressor\n",
    "from sklearn.tree import DecisionTreeRegressor\n",
    "from sklearn.ensemble import AdaBoostRegressor\n",
    "\n",
    "ada_rg = AdaBoostRegressor(\n",
    "    DecisionTreeRegressor(max_depth=5), n_estimators=200,\n",
    "    learning_rate= 0.5, random_state=0)\n",
    "ada_rg.fit(X_train, y_train)"
   ]
  },
  {
   "cell_type": "code",
   "execution_count": 125,
   "metadata": {},
   "outputs": [
    {
     "name": "stdout",
     "output_type": "stream",
     "text": [
      "Train score: 0.98\n",
      "Test score: 0.83\n"
     ]
    }
   ],
   "source": [
    "print('Train score: {:.2f}'.format(ada_rg.score(X_train, y_train)))\n",
    "print('Test score: {:.2f}'.format(ada_rg.score(X_test, y_test)))"
   ]
  },
  {
   "cell_type": "markdown",
   "metadata": {},
   "source": [
    "### AdaBoost KNN Regression"
   ]
  },
  {
   "cell_type": "code",
   "execution_count": 126,
   "metadata": {},
   "outputs": [
    {
     "data": {
      "text/plain": [
       "AdaBoostRegressor(base_estimator=KNeighborsRegressor(algorithm='auto', leaf_size=30, metric='minkowski',\n",
       "          metric_params=None, n_jobs=1, n_neighbors=6, p=2,\n",
       "          weights='uniform'),\n",
       "         learning_rate=1, loss='linear', n_estimators=500, random_state=0)"
      ]
     },
     "execution_count": 126,
     "metadata": {},
     "output_type": "execute_result"
    }
   ],
   "source": [
    "#AdaBoost with KNeighbors Regressor\n",
    "from sklearn.ensemble import AdaBoostRegressor\n",
    "\n",
    "ada_rg = AdaBoostRegressor(\n",
    "    KNeighborsRegressor(6), n_estimators=500,\n",
    "    learning_rate=1, random_state=0)\n",
    "ada_rg.fit(X_train, y_train)"
   ]
  },
  {
   "cell_type": "code",
   "execution_count": 127,
   "metadata": {},
   "outputs": [
    {
     "name": "stdout",
     "output_type": "stream",
     "text": [
      "Train score: 0.99\n",
      "Test score: 0.77\n"
     ]
    }
   ],
   "source": [
    "print('Train score: {:.2f}'.format(ada_rg.score(X_train, y_train)))\n",
    "print('Test score: {:.2f}'.format(ada_rg.score(X_test, y_test)))"
   ]
  },
  {
   "cell_type": "markdown",
   "metadata": {},
   "source": [
    "### Gradient Boost Regression"
   ]
  },
  {
   "cell_type": "code",
   "execution_count": 128,
   "metadata": {},
   "outputs": [
    {
     "data": {
      "text/plain": [
       "GradientBoostingRegressor(alpha=0.9, criterion='friedman_mse', init=None,\n",
       "             learning_rate=1.0, loss='ls', max_depth=2, max_features=None,\n",
       "             max_leaf_nodes=None, min_impurity_decrease=0.0,\n",
       "             min_impurity_split=None, min_samples_leaf=1,\n",
       "             min_samples_split=2, min_weight_fraction_leaf=0.0,\n",
       "             n_estimators=3, presort='auto', random_state=42,\n",
       "             subsample=1.0, verbose=0, warm_start=False)"
      ]
     },
     "execution_count": 128,
     "metadata": {},
     "output_type": "execute_result"
    }
   ],
   "source": [
    "#GradientBoost Regressor\n",
    "from  sklearn.ensemble import GradientBoostingRegressor\n",
    "\n",
    "gbrt = GradientBoostingRegressor(max_depth=2, n_estimators=3, learning_rate=1.0, random_state=42)\n",
    "gbrt.fit(X, y)"
   ]
  },
  {
   "cell_type": "markdown",
   "metadata": {},
   "source": [
    "# PCA scaling of data"
   ]
  },
  {
   "cell_type": "code",
   "execution_count": 129,
   "metadata": {},
   "outputs": [],
   "source": [
    "from sklearn.decomposition import PCA\n",
    "\n",
    "pca = PCA()\n",
    "pca.fit(X_train)\n",
    "\n",
    "cumsum = np.cumsum(pca.explained_variance_ratio_)\n",
    "d = np.argmax(cumsum >= 0.95) + 1"
   ]
  },
  {
   "cell_type": "code",
   "execution_count": 130,
   "metadata": {},
   "outputs": [],
   "source": [
    "pca = PCA(n_components=0.95)\n",
    "X_reduced = pca.fit_transform(X_train)"
   ]
  },
  {
   "cell_type": "code",
   "execution_count": 131,
   "metadata": {},
   "outputs": [
    {
     "data": {
      "text/plain": [
       "8"
      ]
     },
     "execution_count": 131,
     "metadata": {},
     "output_type": "execute_result"
    }
   ],
   "source": [
    "pca.n_components_"
   ]
  },
  {
   "cell_type": "code",
   "execution_count": 132,
   "metadata": {},
   "outputs": [
    {
     "data": {
      "text/plain": [
       "array([4.25030534, 1.79988419, 1.02717272, 0.99302934, 0.89447051,\n",
       "       0.71905762, 0.65080134, 0.47912982])"
      ]
     },
     "execution_count": 132,
     "metadata": {},
     "output_type": "execute_result"
    }
   ],
   "source": [
    "pca.explained_variance_"
   ]
  },
  {
   "cell_type": "code",
   "execution_count": 133,
   "metadata": {},
   "outputs": [
    {
     "data": {
      "text/plain": [
       "0.9813281053135972"
      ]
     },
     "execution_count": 133,
     "metadata": {},
     "output_type": "execute_result"
    }
   ],
   "source": [
    "np.sum(pca.explained_variance_ratio_) "
   ]
  },
  {
   "cell_type": "code",
   "execution_count": 134,
   "metadata": {},
   "outputs": [],
   "source": [
    "pca = PCA(n_components = pca.n_components_)\n",
    "X_train_reduced = pca.fit_transform(X_train)\n",
    "X_test_reduced = pca.transform(X_test)"
   ]
  },
  {
   "cell_type": "markdown",
   "metadata": {},
   "source": [
    "## Regression Tasks on Reduced PCA scaled Data Set"
   ]
  },
  {
   "cell_type": "markdown",
   "metadata": {},
   "source": [
    "### Linear Regression"
   ]
  },
  {
   "cell_type": "code",
   "execution_count": 135,
   "metadata": {},
   "outputs": [
    {
     "name": "stdout",
     "output_type": "stream",
     "text": [
      "Train score: 0.8356\n",
      "Test score: 0.6467\n"
     ]
    }
   ],
   "source": [
    "from sklearn.linear_model import LinearRegression\n",
    "\n",
    "lreg = LinearRegression()\n",
    "\n",
    "lreg.fit(X_train_reduced, y_train)\n",
    "\n",
    "print('Train score: %.4f'%lreg.score(X_train_reduced, y_train))\n",
    "print('Test score: %.4f'%lreg.score(X_test_reduced, y_test))\n",
    "score_report_Dict.update({\"LinearRegression\" : [lreg.score(X_train_reduced, y_train), lreg.score(X_test_reduced, y_test)]})"
   ]
  },
  {
   "cell_type": "code",
   "execution_count": 136,
   "metadata": {},
   "outputs": [
    {
     "data": {
      "text/plain": [
       "Text(0.5,0,'RM')"
      ]
     },
     "execution_count": 136,
     "metadata": {},
     "output_type": "execute_result"
    },
    {
     "data": {
      "image/png": "[encoded data removed]",
      "text/plain": [
       "<Figure size 432x288 with 1 Axes>"
      ]
     },
     "metadata": {
      "needs_background": "light"
     },
     "output_type": "display_data"
    }
   ],
   "source": [
    "%matplotlib inline\n",
    "import matplotlib.pyplot as plt\n",
    "\n",
    "X_train_rm = X_train_reduced[:,5].reshape(-1,1)\n",
    "lreg.fit(X_train_rm, y_train)\n",
    "y_predict = lreg.predict(X_train_rm)\n",
    "\n",
    "plt.plot(X_train_rm, y_predict, c = 'r')\n",
    "plt.scatter(X_train_rm,y_train)\n",
    "plt.xlabel('RM')"
   ]
  },
  {
   "cell_type": "code",
   "execution_count": 137,
   "metadata": {},
   "outputs": [
    {
     "data": {
      "text/plain": [
       "Text(0.5,0,'RM')"
      ]
     },
     "execution_count": 137,
     "metadata": {},
     "output_type": "execute_result"
    },
    {
     "data": {
      "image/png": "[encoded data removed]",
      "text/plain": [
       "<Figure size 432x288 with 1 Axes>"
      ]
     },
     "metadata": {
      "needs_background": "light"
     },
     "output_type": "display_data"
    }
   ],
   "source": [
    "%matplotlib inline\n",
    "import matplotlib.pyplot as plt\n",
    "\n",
    "X_test_rm = X_test_reduced[:,5].reshape(-1,1)\n",
    "lreg.fit(X_test_rm, y_test)\n",
    "y_predict = lreg.predict(X_test_rm)\n",
    "\n",
    "plt.plot(X_test_rm, y_predict, c = 'r')\n",
    "plt.scatter(X_test_rm,y_test)\n",
    "plt.xlabel('RM')"
   ]
  },
  {
   "cell_type": "markdown",
   "metadata": {},
   "source": [
    "### Ridge Regression "
   ]
  },
  {
   "cell_type": "code",
   "execution_count": 138,
   "metadata": {},
   "outputs": [
    {
     "name": "stdout",
     "output_type": "stream",
     "text": [
      "[0.8356140706922359, 0.8356140648143486, 0.8356134789467864, 0.8355567513088444, 0.8312764500066979]\n",
      "[0.6467057088520036, 0.6467193745937341, 0.6468551384430556, 0.6481262931995724, 0.6543592777027749]\n"
     ]
    }
   ],
   "source": [
    "from  sklearn.linear_model import Ridge\n",
    "\n",
    "x_range = [0.01, 0.1, 1, 10, 100]\n",
    "train_score_list = []\n",
    "test_score_list = []\n",
    "\n",
    "for alpha in x_range: \n",
    "    ridge = Ridge(alpha)\n",
    "    ridge.fit(X_train_reduced,y_train)\n",
    "    train_score_list.append(ridge.score(X_train_reduced,y_train))\n",
    "    test_score_list.append(ridge.score(X_test_reduced, y_test))\n",
    "\n",
    "print(train_score_list)\n",
    "print(test_score_list)\n",
    "\n",
    "ridge = Ridge(1)\n",
    "ridge.fit(X_train_reduced,y_train)\n",
    "ridge.score(X_train_reduced,y_train)\n",
    "ridge.score(X_test_reduced, y_test)\n",
    "score_report_Dict.update({\"Ridge\" : [ridge.score(X_train_reduced, y_train), ridge.score(X_test_reduced, y_test)]})"
   ]
  },
  {
   "cell_type": "code",
   "execution_count": 139,
   "metadata": {},
   "outputs": [
    {
     "data": {
      "text/plain": [
       "Text(0.5,0,'$\\\\alpha$')"
      ]
     },
     "execution_count": 139,
     "metadata": {},
     "output_type": "execute_result"
    },
    {
     "data": {
      "image/png": "[encoded data removed]",
      "text/plain": [
       "<Figure size 432x288 with 1 Axes>"
      ]
     },
     "metadata": {
      "needs_background": "light"
     },
     "output_type": "display_data"
    }
   ],
   "source": [
    "%matplotlib inline\n",
    "import matplotlib.pyplot as plt\n",
    "plt.plot(x_range, train_score_list, c = 'g', label = 'Train Score')\n",
    "plt.plot(x_range, test_score_list, c = 'b', label = 'Test Score')\n",
    "plt.xscale('log')\n",
    "plt.legend(loc = 3)\n",
    "plt.xlabel(r'$\\alpha$')"
   ]
  },
  {
   "cell_type": "code",
   "execution_count": 140,
   "metadata": {},
   "outputs": [
    {
     "data": {
      "image/png": "[encoded data removed]",
      "text/plain": [
       "<Figure size 432x288 with 1 Axes>"
      ]
     },
     "metadata": {
      "needs_background": "light"
     },
     "output_type": "display_data"
    }
   ],
   "source": [
    "%matplotlib inline\n",
    "import numpy as np\n",
    "\n",
    "x_range1 = np.linspace(0.001, 1, 100).reshape(-1,1)\n",
    "x_range2 = np.linspace(1, 10000, 10000).reshape(-1,1)\n",
    "\n",
    "x_range = np.append(x_range1, x_range2)\n",
    "coeff = []\n",
    "\n",
    "for alpha in x_range: \n",
    "    ridge = Ridge(alpha)\n",
    "    ridge.fit(X_train_reduced,y_train)\n",
    "    coeff.append(ridge.coef_ )\n",
    "    \n",
    "coeff = np.array(coeff)\n",
    "\n",
    "for i in range(0,8):\n",
    "    plt.plot(x_range, coeff[:,i], label = 'feature {:d}'.format(i))\n",
    "\n",
    "plt.axhline(y=0, xmin=0.001, xmax=9999, linewidth=1, c ='gray')\n",
    "plt.xlabel(r'$\\alpha$')\n",
    "plt.xscale('log')\n",
    "plt.legend(loc='upper center', bbox_to_anchor=(0.5, 1.5),\n",
    "          ncol=3, fancybox=True, shadow=True)\n",
    "plt.show()"
   ]
  },
  {
   "cell_type": "code",
   "execution_count": 141,
   "metadata": {},
   "outputs": [
    {
     "name": "stdout",
     "output_type": "stream",
     "text": [
      "Best score: 0.65\n",
      "Best parameters: {'x': 100}\n"
     ]
    }
   ],
   "source": [
    "#Ridge with naive Grid search\n",
    "\n",
    "from  sklearn.linear_model import Ridge\n",
    "\n",
    "x_range = [0.01, 0.1, 1, 10, 100]\n",
    "train_score_list = []\n",
    "test_score_list = []\n",
    "best_score = 0\n",
    "for alpha in x_range: \n",
    "    ridge = Ridge(alpha)\n",
    "    ridge.fit(X_train_reduced,y_train)\n",
    "    score = ridge.score(X_test_reduced, y_test)\n",
    "    if score > best_score:\n",
    "        best_score = score\n",
    "        best_parameters = {'x': alpha}\n",
    "print(\"Best score: {:.2f}\".format(best_score))\n",
    "print(\"Best parameters: {}\".format(best_parameters))\n"
   ]
  },
  {
   "cell_type": "code",
   "execution_count": 142,
   "metadata": {},
   "outputs": [
    {
     "name": "stdout",
     "output_type": "stream",
     "text": [
      "Fitting 5 folds for each of 5 candidates, totalling 25 fits\n"
     ]
    },
    {
     "name": "stderr",
     "output_type": "stream",
     "text": [
      "[Parallel(n_jobs=1)]: Done  25 out of  25 | elapsed:    0.0s finished\n"
     ]
    },
    {
     "data": {
      "text/plain": [
       "GridSearchCV(cv=5, error_score='raise',\n",
       "       estimator=Ridge(alpha=1.0, copy_X=True, fit_intercept=True, max_iter=None,\n",
       "   normalize=False, random_state=None, solver='auto', tol=0.001),\n",
       "       fit_params=None, iid=True, n_jobs=1,\n",
       "       param_grid={'alpha': [0.01, 0.1, 1, 10, 100]},\n",
       "       pre_dispatch='2*n_jobs', refit=True, return_train_score=True,\n",
       "       scoring=None, verbose=1)"
      ]
     },
     "execution_count": 142,
     "metadata": {},
     "output_type": "execute_result"
    }
   ],
   "source": [
    "from sklearn.model_selection import GridSearchCV\n",
    "params={'alpha': [0.01, 0.1, 1, 10, 100]}\n",
    "ridge_reg = Ridge()\n",
    "grid_search = GridSearchCV(ridge_reg, params,cv=5,verbose = 1,return_train_score=True) \n",
    "grid_search.fit(X_train_reduced, y_train)"
   ]
  },
  {
   "cell_type": "code",
   "execution_count": 143,
   "metadata": {},
   "outputs": [
    {
     "name": "stdout",
     "output_type": "stream",
     "text": [
      "Best parameters: {'alpha': 100}\n",
      "Best cross-validation score: 0.80\n"
     ]
    }
   ],
   "source": [
    "print(\"Best parameters: {}\".format(grid_search.best_params_))\n",
    "print(\"Best cross-validation score: {:.2f}\".format(grid_search.best_score_))"
   ]
  },
  {
   "cell_type": "code",
   "execution_count": 144,
   "metadata": {},
   "outputs": [
    {
     "data": {
      "text/html": [
       "<div>\n",
       "<style scoped>\n",
       "    .dataframe tbody tr th:only-of-type {\n",
       "        vertical-align: middle;\n",
       "    }\n",
       "\n",
       "    .dataframe tbody tr th {\n",
       "        vertical-align: top;\n",
       "    }\n",
       "\n",
       "    .dataframe thead th {\n",
       "        text-align: right;\n",
       "    }\n",
       "</style>\n",
       "<table border=\"1\" class=\"dataframe\">\n",
       "  <thead>\n",
       "    <tr style=\"text-align: right;\">\n",
       "      <th></th>\n",
       "      <th>mean_fit_time</th>\n",
       "      <th>std_fit_time</th>\n",
       "      <th>mean_score_time</th>\n",
       "      <th>std_score_time</th>\n",
       "      <th>param_alpha</th>\n",
       "      <th>params</th>\n",
       "      <th>split0_test_score</th>\n",
       "      <th>split1_test_score</th>\n",
       "      <th>split2_test_score</th>\n",
       "      <th>split3_test_score</th>\n",
       "      <th>...</th>\n",
       "      <th>mean_test_score</th>\n",
       "      <th>std_test_score</th>\n",
       "      <th>rank_test_score</th>\n",
       "      <th>split0_train_score</th>\n",
       "      <th>split1_train_score</th>\n",
       "      <th>split2_train_score</th>\n",
       "      <th>split3_train_score</th>\n",
       "      <th>split4_train_score</th>\n",
       "      <th>mean_train_score</th>\n",
       "      <th>std_train_score</th>\n",
       "    </tr>\n",
       "  </thead>\n",
       "  <tbody>\n",
       "    <tr>\n",
       "      <th>0</th>\n",
       "      <td>0.001197</td>\n",
       "      <td>3.988981e-04</td>\n",
       "      <td>0.000599</td>\n",
       "      <td>0.000489</td>\n",
       "      <td>0.01</td>\n",
       "      <td>{'alpha': 0.01}</td>\n",
       "      <td>0.871943</td>\n",
       "      <td>0.839799</td>\n",
       "      <td>0.638605</td>\n",
       "      <td>0.829244</td>\n",
       "      <td>...</td>\n",
       "      <td>0.779533</td>\n",
       "      <td>0.087660</td>\n",
       "      <td>5</td>\n",
       "      <td>0.829705</td>\n",
       "      <td>0.833728</td>\n",
       "      <td>0.853481</td>\n",
       "      <td>0.832727</td>\n",
       "      <td>0.880966</td>\n",
       "      <td>0.846121</td>\n",
       "      <td>0.019343</td>\n",
       "    </tr>\n",
       "    <tr>\n",
       "      <th>1</th>\n",
       "      <td>0.000598</td>\n",
       "      <td>4.885388e-04</td>\n",
       "      <td>0.000200</td>\n",
       "      <td>0.000399</td>\n",
       "      <td>0.1</td>\n",
       "      <td>{'alpha': 0.1}</td>\n",
       "      <td>0.871948</td>\n",
       "      <td>0.839793</td>\n",
       "      <td>0.638777</td>\n",
       "      <td>0.829247</td>\n",
       "      <td>...</td>\n",
       "      <td>0.779562</td>\n",
       "      <td>0.087610</td>\n",
       "      <td>4</td>\n",
       "      <td>0.829705</td>\n",
       "      <td>0.833728</td>\n",
       "      <td>0.853481</td>\n",
       "      <td>0.832727</td>\n",
       "      <td>0.880966</td>\n",
       "      <td>0.846121</td>\n",
       "      <td>0.019343</td>\n",
       "    </tr>\n",
       "    <tr>\n",
       "      <th>2</th>\n",
       "      <td>0.000798</td>\n",
       "      <td>3.987556e-04</td>\n",
       "      <td>0.000000</td>\n",
       "      <td>0.000000</td>\n",
       "      <td>1</td>\n",
       "      <td>{'alpha': 1}</td>\n",
       "      <td>0.872006</td>\n",
       "      <td>0.839733</td>\n",
       "      <td>0.640485</td>\n",
       "      <td>0.829272</td>\n",
       "      <td>...</td>\n",
       "      <td>0.779852</td>\n",
       "      <td>0.087111</td>\n",
       "      <td>3</td>\n",
       "      <td>0.829704</td>\n",
       "      <td>0.833727</td>\n",
       "      <td>0.853479</td>\n",
       "      <td>0.832726</td>\n",
       "      <td>0.880965</td>\n",
       "      <td>0.846120</td>\n",
       "      <td>0.019343</td>\n",
       "    </tr>\n",
       "    <tr>\n",
       "      <th>3</th>\n",
       "      <td>0.000998</td>\n",
       "      <td>3.015783e-07</td>\n",
       "      <td>0.000000</td>\n",
       "      <td>0.000000</td>\n",
       "      <td>10</td>\n",
       "      <td>{'alpha': 10}</td>\n",
       "      <td>0.872486</td>\n",
       "      <td>0.839101</td>\n",
       "      <td>0.656727</td>\n",
       "      <td>0.829480</td>\n",
       "      <td>...</td>\n",
       "      <td>0.782546</td>\n",
       "      <td>0.082523</td>\n",
       "      <td>2</td>\n",
       "      <td>0.829630</td>\n",
       "      <td>0.833661</td>\n",
       "      <td>0.853337</td>\n",
       "      <td>0.832649</td>\n",
       "      <td>0.880843</td>\n",
       "      <td>0.846024</td>\n",
       "      <td>0.019320</td>\n",
       "    </tr>\n",
       "    <tr>\n",
       "      <th>4</th>\n",
       "      <td>0.000997</td>\n",
       "      <td>2.780415e-07</td>\n",
       "      <td>0.000598</td>\n",
       "      <td>0.000488</td>\n",
       "      <td>100</td>\n",
       "      <td>{'alpha': 100}</td>\n",
       "      <td>0.871131</td>\n",
       "      <td>0.831554</td>\n",
       "      <td>0.761226</td>\n",
       "      <td>0.828022</td>\n",
       "      <td>...</td>\n",
       "      <td>0.795661</td>\n",
       "      <td>0.065369</td>\n",
       "      <td>1</td>\n",
       "      <td>0.824294</td>\n",
       "      <td>0.828815</td>\n",
       "      <td>0.844084</td>\n",
       "      <td>0.826988</td>\n",
       "      <td>0.872518</td>\n",
       "      <td>0.839340</td>\n",
       "      <td>0.017961</td>\n",
       "    </tr>\n",
       "  </tbody>\n",
       "</table>\n",
       "<p>5 rows × 21 columns</p>\n",
       "</div>"
      ],
      "text/plain": [
       "   mean_fit_time  std_fit_time  mean_score_time  std_score_time param_alpha  \\\n",
       "0       0.001197  3.988981e-04         0.000599        0.000489        0.01   \n",
       "1       0.000598  4.885388e-04         0.000200        0.000399         0.1   \n",
       "2       0.000798  3.987556e-04         0.000000        0.000000           1   \n",
       "3       0.000998  3.015783e-07         0.000000        0.000000          10   \n",
       "4       0.000997  2.780415e-07         0.000598        0.000488         100   \n",
       "\n",
       "            params  split0_test_score  split1_test_score  split2_test_score  \\\n",
       "0  {'alpha': 0.01}           0.871943           0.839799           0.638605   \n",
       "1   {'alpha': 0.1}           0.871948           0.839793           0.638777   \n",
       "2     {'alpha': 1}           0.872006           0.839733           0.640485   \n",
       "3    {'alpha': 10}           0.872486           0.839101           0.656727   \n",
       "4   {'alpha': 100}           0.871131           0.831554           0.761226   \n",
       "\n",
       "   split3_test_score       ...         mean_test_score  std_test_score  \\\n",
       "0           0.829244       ...                0.779533        0.087660   \n",
       "1           0.829247       ...                0.779562        0.087610   \n",
       "2           0.829272       ...                0.779852        0.087111   \n",
       "3           0.829480       ...                0.782546        0.082523   \n",
       "4           0.828022       ...                0.795661        0.065369   \n",
       "\n",
       "   rank_test_score  split0_train_score  split1_train_score  \\\n",
       "0                5            0.829705            0.833728   \n",
       "1                4            0.829705            0.833728   \n",
       "2                3            0.829704            0.833727   \n",
       "3                2            0.829630            0.833661   \n",
       "4                1            0.824294            0.828815   \n",
       "\n",
       "   split2_train_score  split3_train_score  split4_train_score  \\\n",
       "0            0.853481            0.832727            0.880966   \n",
       "1            0.853481            0.832727            0.880966   \n",
       "2            0.853479            0.832726            0.880965   \n",
       "3            0.853337            0.832649            0.880843   \n",
       "4            0.844084            0.826988            0.872518   \n",
       "\n",
       "   mean_train_score  std_train_score  \n",
       "0          0.846121         0.019343  \n",
       "1          0.846121         0.019343  \n",
       "2          0.846120         0.019343  \n",
       "3          0.846024         0.019320  \n",
       "4          0.839340         0.017961  \n",
       "\n",
       "[5 rows x 21 columns]"
      ]
     },
     "metadata": {},
     "output_type": "display_data"
    }
   ],
   "source": [
    "import pandas as pd\n",
    "# convert to DataFrame\n",
    "results = pd.DataFrame(grid_search.cv_results_)\n",
    "# show the first 5 rows\n",
    "display(results.head())"
   ]
  },
  {
   "cell_type": "markdown",
   "metadata": {},
   "source": [
    "### Lasso Regression "
   ]
  },
  {
   "cell_type": "code",
   "execution_count": 145,
   "metadata": {},
   "outputs": [
    {
     "name": "stdout",
     "output_type": "stream",
     "text": [
      "[0.8356075670822964, 0.8349637038184712, 0.7984642634916204, 0.5319239144383077, 0.0]\n",
      "[0.6479312716386875, 0.6584451180242488, 0.6790733489059151, 0.4538155751072719, -6.180358066543157e-05]\n"
     ]
    }
   ],
   "source": [
    "from sklearn.linear_model import Lasso\n",
    "x_range = [0.01, 0.1, 1, 10, 100]\n",
    "train_score_list = []\n",
    "test_score_list = []\n",
    "\n",
    "for alpha in x_range: \n",
    "    lasso = Lasso(alpha)\n",
    "    lasso.fit(X_train_reduced,y_train)\n",
    "    train_score_list.append(lasso.score(X_train_reduced,y_train))\n",
    "    test_score_list.append(lasso.score(X_test_reduced, y_test))\n",
    "    \n",
    "print(train_score_list)\n",
    "print(test_score_list)\n",
    "lasso = Lasso(0.01)\n",
    "lasso.fit(X_train_reduced,y_train)\n",
    "lasso.score(X_train_reduced,y_train)\n",
    "lasso.score(X_test_reduced, y_test)\n",
    "score_report_Dict.update({\"Lasso\" : [lasso.score(X_train_reduced, y_train), lasso.score(X_test_reduced, y_test)]})"
   ]
  },
  {
   "cell_type": "code",
   "execution_count": 146,
   "metadata": {},
   "outputs": [
    {
     "data": {
      "text/plain": [
       "Text(0.5,0,'$\\\\alpha$')"
      ]
     },
     "execution_count": 146,
     "metadata": {},
     "output_type": "execute_result"
    },
    {
     "data": {
      "image/png": "[encoded data removed]",
      "text/plain": [
       "<Figure size 432x288 with 1 Axes>"
      ]
     },
     "metadata": {
      "needs_background": "light"
     },
     "output_type": "display_data"
    }
   ],
   "source": [
    "plt.plot(x_range, train_score_list, c = 'g', label = 'Train Score')\n",
    "plt.plot(x_range, test_score_list, c = 'b', label = 'Test Score')\n",
    "plt.xscale('log')\n",
    "plt.legend(loc = 3)\n",
    "plt.xlabel(r'$\\alpha$')"
   ]
  },
  {
   "cell_type": "code",
   "execution_count": 148,
   "metadata": {},
   "outputs": [
    {
     "data": {
      "image/png": "[encoded data removed]",
      "text/plain": [
       "<Figure size 432x288 with 1 Axes>"
      ]
     },
     "metadata": {
      "needs_background": "light"
     },
     "output_type": "display_data"
    }
   ],
   "source": [
    "%matplotlib inline\n",
    "\n",
    "x_range1 = np.linspace(0.001, 1, 1000).reshape(-1,1)\n",
    "x_range2 = np.linspace(1, 1000, 1000).reshape(-1,1)\n",
    "\n",
    "x_range = np.append(x_range1, x_range2)\n",
    "coeff = []\n",
    "\n",
    "for alpha in x_range: \n",
    "    lasso = Lasso(alpha)\n",
    "    lasso.fit(X_train_reduced,y_train)\n",
    "    coeff.append(lasso.coef_ )\n",
    "    \n",
    "coeff = np.array(coeff)\n",
    "\n",
    "for i in range(0,8):\n",
    "    plt.plot(x_range, coeff[:,i], label = i)\n",
    "\n",
    "plt.axhline(y=0, xmin=0.001, xmax=9999, linewidth=1, c ='gray')\n",
    "plt.xlabel(r'$\\alpha$')\n",
    "plt.xscale('log')\n",
    "plt.legend(loc='upper center', bbox_to_anchor=(0.5, 1.5),\n",
    "          ncol=5, fancybox=True, shadow=True)\n",
    "plt.show()"
   ]
  },
  {
   "cell_type": "code",
   "execution_count": 149,
   "metadata": {},
   "outputs": [
    {
     "name": "stdout",
     "output_type": "stream",
     "text": [
      "Best score: 0.68\n",
      "Best parameters: {'x': 1}\n"
     ]
    }
   ],
   "source": [
    "#Lasso with Grid search\n",
    "\n",
    "from  sklearn.linear_model import Lasso\n",
    "\n",
    "x_range = [0.01, 0.1, 1, 10, 100]\n",
    "train_score_list = []\n",
    "test_score_list = []\n",
    "best_score = 0\n",
    "for alpha in x_range: \n",
    "    lasso = Lasso(alpha)\n",
    "    lasso.fit(X_train_reduced,y_train)\n",
    "    score = lasso.score(X_test_reduced, y_test)\n",
    "    if score > best_score:\n",
    "        best_score = score\n",
    "        best_parameters = {'x': alpha}\n",
    "\n",
    "print(\"Best score: {:.2f}\".format(best_score))\n",
    "print(\"Best parameters: {}\".format(best_parameters))"
   ]
  },
  {
   "cell_type": "code",
   "execution_count": 150,
   "metadata": {},
   "outputs": [
    {
     "name": "stdout",
     "output_type": "stream",
     "text": [
      "Fitting 5 folds for each of 5 candidates, totalling 25 fits\n"
     ]
    },
    {
     "name": "stderr",
     "output_type": "stream",
     "text": [
      "[Parallel(n_jobs=1)]: Done  25 out of  25 | elapsed:    0.0s finished\n"
     ]
    },
    {
     "data": {
      "text/plain": [
       "GridSearchCV(cv=5, error_score='raise',\n",
       "       estimator=Lasso(alpha=1.0, copy_X=True, fit_intercept=True, max_iter=1000,\n",
       "   normalize=False, positive=False, precompute=False, random_state=None,\n",
       "   selection='cyclic', tol=0.0001, warm_start=False),\n",
       "       fit_params=None, iid=True, n_jobs=1,\n",
       "       param_grid={'alpha': [0.01, 0.1, 1, 10, 100]},\n",
       "       pre_dispatch='2*n_jobs', refit=True, return_train_score=True,\n",
       "       scoring=None, verbose=1)"
      ]
     },
     "execution_count": 150,
     "metadata": {},
     "output_type": "execute_result"
    }
   ],
   "source": [
    "from sklearn.model_selection import GridSearchCV\n",
    "params={'alpha': [0.01, 0.1, 1, 10, 100]}\n",
    "lso_reg = Lasso()\n",
    "grid_search = GridSearchCV(lso_reg, params,cv=5,verbose = 1,return_train_score=True) \n",
    "#X_train, X_test, y_train, y_test = train_test_split(X, y, random_state = 0)\n",
    "grid_search.fit(X_train_reduced, y_train)"
   ]
  },
  {
   "cell_type": "code",
   "execution_count": 151,
   "metadata": {},
   "outputs": [
    {
     "name": "stdout",
     "output_type": "stream",
     "text": [
      "Best parameters: {'alpha': 0.1}\n",
      "Best cross-validation score: 0.78\n"
     ]
    }
   ],
   "source": [
    "print(\"Best parameters: {}\".format(grid_search.best_params_))\n",
    "print(\"Best cross-validation score: {:.2f}\".format(grid_search.best_score_))"
   ]
  },
  {
   "cell_type": "code",
   "execution_count": 152,
   "metadata": {},
   "outputs": [
    {
     "data": {
      "text/html": [
       "<div>\n",
       "<style scoped>\n",
       "    .dataframe tbody tr th:only-of-type {\n",
       "        vertical-align: middle;\n",
       "    }\n",
       "\n",
       "    .dataframe tbody tr th {\n",
       "        vertical-align: top;\n",
       "    }\n",
       "\n",
       "    .dataframe thead th {\n",
       "        text-align: right;\n",
       "    }\n",
       "</style>\n",
       "<table border=\"1\" class=\"dataframe\">\n",
       "  <thead>\n",
       "    <tr style=\"text-align: right;\">\n",
       "      <th></th>\n",
       "      <th>mean_fit_time</th>\n",
       "      <th>std_fit_time</th>\n",
       "      <th>mean_score_time</th>\n",
       "      <th>std_score_time</th>\n",
       "      <th>param_alpha</th>\n",
       "      <th>params</th>\n",
       "      <th>split0_test_score</th>\n",
       "      <th>split1_test_score</th>\n",
       "      <th>split2_test_score</th>\n",
       "      <th>split3_test_score</th>\n",
       "      <th>...</th>\n",
       "      <th>mean_test_score</th>\n",
       "      <th>std_test_score</th>\n",
       "      <th>rank_test_score</th>\n",
       "      <th>split0_train_score</th>\n",
       "      <th>split1_train_score</th>\n",
       "      <th>split2_train_score</th>\n",
       "      <th>split3_train_score</th>\n",
       "      <th>split4_train_score</th>\n",
       "      <th>mean_train_score</th>\n",
       "      <th>std_train_score</th>\n",
       "    </tr>\n",
       "  </thead>\n",
       "  <tbody>\n",
       "    <tr>\n",
       "      <th>0</th>\n",
       "      <td>0.000997</td>\n",
       "      <td>0.000631</td>\n",
       "      <td>0.000199</td>\n",
       "      <td>0.000399</td>\n",
       "      <td>0.01</td>\n",
       "      <td>{'alpha': 0.01}</td>\n",
       "      <td>0.871685</td>\n",
       "      <td>0.839161</td>\n",
       "      <td>6.424584e-01</td>\n",
       "      <td>0.829704</td>\n",
       "      <td>...</td>\n",
       "      <td>0.780097</td>\n",
       "      <td>0.086425</td>\n",
       "      <td>2</td>\n",
       "      <td>0.829700</td>\n",
       "      <td>0.833722</td>\n",
       "      <td>0.853474</td>\n",
       "      <td>0.832721</td>\n",
       "      <td>0.880955</td>\n",
       "      <td>0.846114</td>\n",
       "      <td>0.019341</td>\n",
       "    </tr>\n",
       "    <tr>\n",
       "      <th>1</th>\n",
       "      <td>0.000593</td>\n",
       "      <td>0.000484</td>\n",
       "      <td>0.000205</td>\n",
       "      <td>0.000410</td>\n",
       "      <td>0.1</td>\n",
       "      <td>{'alpha': 0.1}</td>\n",
       "      <td>0.868886</td>\n",
       "      <td>0.832187</td>\n",
       "      <td>6.756154e-01</td>\n",
       "      <td>0.831939</td>\n",
       "      <td>...</td>\n",
       "      <td>0.783829</td>\n",
       "      <td>0.076328</td>\n",
       "      <td>1</td>\n",
       "      <td>0.829176</td>\n",
       "      <td>0.833175</td>\n",
       "      <td>0.852776</td>\n",
       "      <td>0.832195</td>\n",
       "      <td>0.879940</td>\n",
       "      <td>0.845452</td>\n",
       "      <td>0.019154</td>\n",
       "    </tr>\n",
       "    <tr>\n",
       "      <th>2</th>\n",
       "      <td>0.000593</td>\n",
       "      <td>0.000484</td>\n",
       "      <td>0.000399</td>\n",
       "      <td>0.000489</td>\n",
       "      <td>1</td>\n",
       "      <td>{'alpha': 1}</td>\n",
       "      <td>0.830647</td>\n",
       "      <td>0.748544</td>\n",
       "      <td>8.648822e-01</td>\n",
       "      <td>0.806554</td>\n",
       "      <td>...</td>\n",
       "      <td>0.778153</td>\n",
       "      <td>0.078724</td>\n",
       "      <td>3</td>\n",
       "      <td>0.798419</td>\n",
       "      <td>0.802191</td>\n",
       "      <td>0.800955</td>\n",
       "      <td>0.799462</td>\n",
       "      <td>0.832924</td>\n",
       "      <td>0.806790</td>\n",
       "      <td>0.013130</td>\n",
       "    </tr>\n",
       "    <tr>\n",
       "      <th>3</th>\n",
       "      <td>0.001004</td>\n",
       "      <td>0.000012</td>\n",
       "      <td>0.000398</td>\n",
       "      <td>0.000487</td>\n",
       "      <td>10</td>\n",
       "      <td>{'alpha': 10}</td>\n",
       "      <td>0.665713</td>\n",
       "      <td>0.650141</td>\n",
       "      <td>6.467486e-01</td>\n",
       "      <td>0.602219</td>\n",
       "      <td>...</td>\n",
       "      <td>0.574520</td>\n",
       "      <td>0.135472</td>\n",
       "      <td>4</td>\n",
       "      <td>0.547329</td>\n",
       "      <td>0.572779</td>\n",
       "      <td>0.528175</td>\n",
       "      <td>0.526140</td>\n",
       "      <td>0.471665</td>\n",
       "      <td>0.529218</td>\n",
       "      <td>0.033312</td>\n",
       "    </tr>\n",
       "    <tr>\n",
       "      <th>4</th>\n",
       "      <td>0.000998</td>\n",
       "      <td>0.000021</td>\n",
       "      <td>0.000593</td>\n",
       "      <td>0.000485</td>\n",
       "      <td>100</td>\n",
       "      <td>{'alpha': 100}</td>\n",
       "      <td>-0.006241</td>\n",
       "      <td>-0.021682</td>\n",
       "      <td>-6.779010e-07</td>\n",
       "      <td>-0.001736</td>\n",
       "      <td>...</td>\n",
       "      <td>-0.007224</td>\n",
       "      <td>0.007667</td>\n",
       "      <td>5</td>\n",
       "      <td>0.000000</td>\n",
       "      <td>0.000000</td>\n",
       "      <td>0.000000</td>\n",
       "      <td>0.000000</td>\n",
       "      <td>0.000000</td>\n",
       "      <td>0.000000</td>\n",
       "      <td>0.000000</td>\n",
       "    </tr>\n",
       "  </tbody>\n",
       "</table>\n",
       "<p>5 rows × 21 columns</p>\n",
       "</div>"
      ],
      "text/plain": [
       "   mean_fit_time  std_fit_time  mean_score_time  std_score_time param_alpha  \\\n",
       "0       0.000997      0.000631         0.000199        0.000399        0.01   \n",
       "1       0.000593      0.000484         0.000205        0.000410         0.1   \n",
       "2       0.000593      0.000484         0.000399        0.000489           1   \n",
       "3       0.001004      0.000012         0.000398        0.000487          10   \n",
       "4       0.000998      0.000021         0.000593        0.000485         100   \n",
       "\n",
       "            params  split0_test_score  split1_test_score  split2_test_score  \\\n",
       "0  {'alpha': 0.01}           0.871685           0.839161       6.424584e-01   \n",
       "1   {'alpha': 0.1}           0.868886           0.832187       6.756154e-01   \n",
       "2     {'alpha': 1}           0.830647           0.748544       8.648822e-01   \n",
       "3    {'alpha': 10}           0.665713           0.650141       6.467486e-01   \n",
       "4   {'alpha': 100}          -0.006241          -0.021682      -6.779010e-07   \n",
       "\n",
       "   split3_test_score       ...         mean_test_score  std_test_score  \\\n",
       "0           0.829704       ...                0.780097        0.086425   \n",
       "1           0.831939       ...                0.783829        0.076328   \n",
       "2           0.806554       ...                0.778153        0.078724   \n",
       "3           0.602219       ...                0.574520        0.135472   \n",
       "4          -0.001736       ...               -0.007224        0.007667   \n",
       "\n",
       "   rank_test_score  split0_train_score  split1_train_score  \\\n",
       "0                2            0.829700            0.833722   \n",
       "1                1            0.829176            0.833175   \n",
       "2                3            0.798419            0.802191   \n",
       "3                4            0.547329            0.572779   \n",
       "4                5            0.000000            0.000000   \n",
       "\n",
       "   split2_train_score  split3_train_score  split4_train_score  \\\n",
       "0            0.853474            0.832721            0.880955   \n",
       "1            0.852776            0.832195            0.879940   \n",
       "2            0.800955            0.799462            0.832924   \n",
       "3            0.528175            0.526140            0.471665   \n",
       "4            0.000000            0.000000            0.000000   \n",
       "\n",
       "   mean_train_score  std_train_score  \n",
       "0          0.846114         0.019341  \n",
       "1          0.845452         0.019154  \n",
       "2          0.806790         0.013130  \n",
       "3          0.529218         0.033312  \n",
       "4          0.000000         0.000000  \n",
       "\n",
       "[5 rows x 21 columns]"
      ]
     },
     "metadata": {},
     "output_type": "display_data"
    }
   ],
   "source": [
    "import pandas as pd\n",
    "# convert to DataFrame\n",
    "results = pd.DataFrame(grid_search.cv_results_)\n",
    "# show the first 5 rows\n",
    "display(results.head())"
   ]
  },
  {
   "cell_type": "markdown",
   "metadata": {},
   "source": [
    "### Polynomial Regression "
   ]
  },
  {
   "cell_type": "code",
   "execution_count": 153,
   "metadata": {},
   "outputs": [
    {
     "data": {
      "text/plain": [
       "<matplotlib.collections.PathCollection at 0x1c2f3e51b70>"
      ]
     },
     "execution_count": 153,
     "metadata": {},
     "output_type": "execute_result"
    },
    {
     "data": {
      "image/png": "[encoded data removed]",
      "text/plain": [
       "<Figure size 432x288 with 1 Axes>"
      ]
     },
     "metadata": {
      "needs_background": "light"
     },
     "output_type": "display_data"
    }
   ],
   "source": [
    "from  sklearn.preprocessing  import PolynomialFeatures\n",
    "from sklearn.model_selection import train_test_split\n",
    "X_train_1 = X_train_reduced[:,7].reshape(-1,1)\n",
    "plt.scatter(X_train_1,y_train)"
   ]
  },
  {
   "cell_type": "code",
   "execution_count": 154,
   "metadata": {},
   "outputs": [
    {
     "name": "stdout",
     "output_type": "stream",
     "text": [
      "[0.835614070751628, 0.997628276038591]\n",
      "[0.6467041894300415, 0.8967169499417077]\n"
     ]
    }
   ],
   "source": [
    "train_score_list = []\n",
    "test_score_list = []\n",
    "\n",
    "for n in range(1,3):\n",
    "    poly = PolynomialFeatures(n)\n",
    "    X_train_poly = poly.fit_transform(X_train_reduced)\n",
    "    X_test_poly = poly.transform(X_test_reduced)\n",
    "    lreg.fit(X_train_poly, y_train)\n",
    "    train_score_list.append(lreg.score(X_train_poly, y_train))\n",
    "    test_score_list.append(lreg.score(X_test_poly, y_test))\n",
    "    \n",
    "print(train_score_list)\n",
    "print(test_score_list)\n",
    "score_report_Dict.update({\"Polynomial Regression\" : [lreg.score(X_train_poly, y_train), lreg.score(X_test_poly, y_test)]})"
   ]
  },
  {
   "cell_type": "code",
   "execution_count": 155,
   "metadata": {},
   "outputs": [
    {
     "data": {
      "text/plain": [
       "Text(0,0.5,'R2-Score')"
      ]
     },
     "execution_count": 155,
     "metadata": {},
     "output_type": "execute_result"
    },
    {
     "data": {
      "image/png": "[encoded data removed]",
      "text/plain": [
       "<Figure size 432x288 with 1 Axes>"
      ]
     },
     "metadata": {
      "needs_background": "light"
     },
     "output_type": "display_data"
    }
   ],
   "source": [
    "from sklearn.neighbors import KNeighborsRegressor\n",
    "\n",
    "%matplotlib inline\n",
    "train_score_array = []\n",
    "test_score_array = []\n",
    "\n",
    "for k in range(1,10):\n",
    "    knn_reg = KNeighborsRegressor(k)\n",
    "    knn_reg.fit(X_train_reduced, y_train)\n",
    "    train_score_array.append(knn_reg.score(X_train_reduced, y_train))\n",
    "    test_score_array.append(knn_reg.score(X_test_reduced, y_test))\n",
    "\n",
    "x_axis = range(1,10)\n",
    "plt.plot(x_axis, train_score_array, c = 'g', label = 'Train Score')\n",
    "plt.plot(x_axis, test_score_array, c = 'b', label = 'Test Score')\n",
    "plt.legend()\n",
    "plt.xlabel('k')\n",
    "plt.ylabel('R2-Score')"
   ]
  },
  {
   "cell_type": "code",
   "execution_count": 156,
   "metadata": {},
   "outputs": [
    {
     "name": "stdout",
     "output_type": "stream",
     "text": [
      "[1.0, 0.9057839478613281, 0.8704975313906618, 0.8603174159142442, 0.8138417250097332, 0.7933606754926726, 0.7763988357204017, 0.7644265122355629, 0.7461253845553006]\n",
      "[0.7371640680757934, 0.7115116065467036, 0.6704928174784779, 0.6842667001092541, 0.6412802441034247, 0.6141387609636745, 0.608180505051978, 0.5750649031822792, 0.5491929170736815]\n"
     ]
    }
   ],
   "source": [
    "print(train_score_array)\n",
    "print(test_score_array)"
   ]
  },
  {
   "cell_type": "code",
   "execution_count": 157,
   "metadata": {},
   "outputs": [],
   "source": [
    "knn_reg = KNeighborsRegressor(6)\n",
    "knn_reg.fit(X_train_reduced, y_train)   \n",
    "score_report_Dict.update({\"KNeighbors Regressor\" : [knn_reg.score(X_train_reduced, y_train), knn_reg.score(X_test_reduced, y_test)]})"
   ]
  },
  {
   "cell_type": "code",
   "execution_count": 158,
   "metadata": {},
   "outputs": [
    {
     "name": "stdout",
     "output_type": "stream",
     "text": [
      "Fitting 3 folds for each of 9604 candidates, totalling 28812 fits\n"
     ]
    },
    {
     "name": "stderr",
     "output_type": "stream",
     "text": [
      "[Parallel(n_jobs=-1)]: Done  34 tasks      | elapsed:    7.8s\n",
      "[Parallel(n_jobs=-1)]: Done 1939 tasks      | elapsed:   15.7s\n",
      "[Parallel(n_jobs=-1)]: Done 5939 tasks      | elapsed:   25.9s\n",
      "[Parallel(n_jobs=-1)]: Done 11539 tasks      | elapsed:   38.1s\n",
      "[Parallel(n_jobs=-1)]: Done 18739 tasks      | elapsed:   54.1s\n",
      "[Parallel(n_jobs=-1)]: Done 27539 tasks      | elapsed:  1.2min\n",
      "[Parallel(n_jobs=-1)]: Done 28812 out of 28812 | elapsed:  1.3min finished\n"
     ]
    },
    {
     "name": "stdout",
     "output_type": "stream",
     "text": [
      "{'leaf_size': 1, 'n_neighbors': 4, 'p': 2, 'weights': 'distance'}\n"
     ]
    }
   ],
   "source": [
    "param_grid_knn = {\n",
    "            'leaf_size' : range(1,50),\n",
    "            'n_neighbors' : range(1,50),\n",
    "            'p': [1,2],\n",
    "            'weights': ['distance','uniform'],\n",
    "            }\n",
    "\n",
    "CV_knn = GridSearchCV(estimator =knn_reg, param_grid = param_grid_knn , return_train_score=True, verbose = 1, n_jobs = -1)\n",
    "CV_knn.fit(X_train_reduced, y_train)\n",
    "\n",
    "best_parameters_knn=CV_knn.best_params_\n",
    "print(best_parameters_knn)"
   ]
  },
  {
   "cell_type": "code",
   "execution_count": 159,
   "metadata": {},
   "outputs": [
    {
     "data": {
      "text/html": [
       "<div>\n",
       "<style scoped>\n",
       "    .dataframe tbody tr th:only-of-type {\n",
       "        vertical-align: middle;\n",
       "    }\n",
       "\n",
       "    .dataframe tbody tr th {\n",
       "        vertical-align: top;\n",
       "    }\n",
       "\n",
       "    .dataframe thead th {\n",
       "        text-align: right;\n",
       "    }\n",
       "</style>\n",
       "<table border=\"1\" class=\"dataframe\">\n",
       "  <thead>\n",
       "    <tr style=\"text-align: right;\">\n",
       "      <th></th>\n",
       "      <th>mean_fit_time</th>\n",
       "      <th>std_fit_time</th>\n",
       "      <th>mean_score_time</th>\n",
       "      <th>std_score_time</th>\n",
       "      <th>param_leaf_size</th>\n",
       "      <th>param_n_neighbors</th>\n",
       "      <th>param_p</th>\n",
       "      <th>param_weights</th>\n",
       "      <th>params</th>\n",
       "      <th>split0_test_score</th>\n",
       "      <th>split1_test_score</th>\n",
       "      <th>split2_test_score</th>\n",
       "      <th>mean_test_score</th>\n",
       "      <th>std_test_score</th>\n",
       "      <th>rank_test_score</th>\n",
       "      <th>split0_train_score</th>\n",
       "      <th>split1_train_score</th>\n",
       "      <th>split2_train_score</th>\n",
       "      <th>mean_train_score</th>\n",
       "      <th>std_train_score</th>\n",
       "    </tr>\n",
       "  </thead>\n",
       "  <tbody>\n",
       "    <tr>\n",
       "      <th>0</th>\n",
       "      <td>0.000988</td>\n",
       "      <td>1.349261e-05</td>\n",
       "      <td>0.001995</td>\n",
       "      <td>4.495664e-07</td>\n",
       "      <td>1</td>\n",
       "      <td>1</td>\n",
       "      <td>1</td>\n",
       "      <td>distance</td>\n",
       "      <td>{'leaf_size': 1, 'n_neighbors': 1, 'p': 1, 'we...</td>\n",
       "      <td>0.710390</td>\n",
       "      <td>0.614372</td>\n",
       "      <td>0.520764</td>\n",
       "      <td>0.615345</td>\n",
       "      <td>0.077452</td>\n",
       "      <td>3137</td>\n",
       "      <td>1.000000</td>\n",
       "      <td>1.000000</td>\n",
       "      <td>1.000000</td>\n",
       "      <td>1.000000</td>\n",
       "      <td>0.000000</td>\n",
       "    </tr>\n",
       "    <tr>\n",
       "      <th>1</th>\n",
       "      <td>0.001671</td>\n",
       "      <td>9.522378e-04</td>\n",
       "      <td>0.001997</td>\n",
       "      <td>8.178998e-04</td>\n",
       "      <td>1</td>\n",
       "      <td>1</td>\n",
       "      <td>1</td>\n",
       "      <td>uniform</td>\n",
       "      <td>{'leaf_size': 1, 'n_neighbors': 1, 'p': 1, 'we...</td>\n",
       "      <td>0.710390</td>\n",
       "      <td>0.614372</td>\n",
       "      <td>0.520764</td>\n",
       "      <td>0.615345</td>\n",
       "      <td>0.077452</td>\n",
       "      <td>3137</td>\n",
       "      <td>1.000000</td>\n",
       "      <td>1.000000</td>\n",
       "      <td>1.000000</td>\n",
       "      <td>1.000000</td>\n",
       "      <td>0.000000</td>\n",
       "    </tr>\n",
       "    <tr>\n",
       "      <th>2</th>\n",
       "      <td>0.001992</td>\n",
       "      <td>1.620935e-06</td>\n",
       "      <td>0.002992</td>\n",
       "      <td>8.141992e-04</td>\n",
       "      <td>1</td>\n",
       "      <td>1</td>\n",
       "      <td>2</td>\n",
       "      <td>distance</td>\n",
       "      <td>{'leaf_size': 1, 'n_neighbors': 1, 'p': 2, 'we...</td>\n",
       "      <td>0.663618</td>\n",
       "      <td>0.639879</td>\n",
       "      <td>0.448415</td>\n",
       "      <td>0.584112</td>\n",
       "      <td>0.096314</td>\n",
       "      <td>4264</td>\n",
       "      <td>1.000000</td>\n",
       "      <td>1.000000</td>\n",
       "      <td>1.000000</td>\n",
       "      <td>1.000000</td>\n",
       "      <td>0.000000</td>\n",
       "    </tr>\n",
       "    <tr>\n",
       "      <th>3</th>\n",
       "      <td>0.001662</td>\n",
       "      <td>4.697415e-04</td>\n",
       "      <td>0.003324</td>\n",
       "      <td>4.701903e-04</td>\n",
       "      <td>1</td>\n",
       "      <td>1</td>\n",
       "      <td>2</td>\n",
       "      <td>uniform</td>\n",
       "      <td>{'leaf_size': 1, 'n_neighbors': 1, 'p': 2, 'we...</td>\n",
       "      <td>0.663618</td>\n",
       "      <td>0.639879</td>\n",
       "      <td>0.448415</td>\n",
       "      <td>0.584112</td>\n",
       "      <td>0.096314</td>\n",
       "      <td>4264</td>\n",
       "      <td>1.000000</td>\n",
       "      <td>1.000000</td>\n",
       "      <td>1.000000</td>\n",
       "      <td>1.000000</td>\n",
       "      <td>0.000000</td>\n",
       "    </tr>\n",
       "    <tr>\n",
       "      <th>4</th>\n",
       "      <td>0.001331</td>\n",
       "      <td>4.691804e-04</td>\n",
       "      <td>0.002658</td>\n",
       "      <td>4.716513e-04</td>\n",
       "      <td>1</td>\n",
       "      <td>2</td>\n",
       "      <td>1</td>\n",
       "      <td>distance</td>\n",
       "      <td>{'leaf_size': 1, 'n_neighbors': 2, 'p': 1, 'we...</td>\n",
       "      <td>0.854888</td>\n",
       "      <td>0.703347</td>\n",
       "      <td>0.575852</td>\n",
       "      <td>0.711618</td>\n",
       "      <td>0.114116</td>\n",
       "      <td>491</td>\n",
       "      <td>1.000000</td>\n",
       "      <td>1.000000</td>\n",
       "      <td>1.000000</td>\n",
       "      <td>1.000000</td>\n",
       "      <td>0.000000</td>\n",
       "    </tr>\n",
       "    <tr>\n",
       "      <th>5</th>\n",
       "      <td>0.000997</td>\n",
       "      <td>4.052337e-07</td>\n",
       "      <td>0.002327</td>\n",
       "      <td>4.703026e-04</td>\n",
       "      <td>1</td>\n",
       "      <td>2</td>\n",
       "      <td>1</td>\n",
       "      <td>uniform</td>\n",
       "      <td>{'leaf_size': 1, 'n_neighbors': 2, 'p': 1, 'we...</td>\n",
       "      <td>0.863210</td>\n",
       "      <td>0.715327</td>\n",
       "      <td>0.579866</td>\n",
       "      <td>0.719724</td>\n",
       "      <td>0.115767</td>\n",
       "      <td>344</td>\n",
       "      <td>0.898494</td>\n",
       "      <td>0.931491</td>\n",
       "      <td>0.930288</td>\n",
       "      <td>0.920091</td>\n",
       "      <td>0.015279</td>\n",
       "    </tr>\n",
       "    <tr>\n",
       "      <th>6</th>\n",
       "      <td>0.001664</td>\n",
       "      <td>4.712638e-04</td>\n",
       "      <td>0.004653</td>\n",
       "      <td>4.685097e-04</td>\n",
       "      <td>1</td>\n",
       "      <td>2</td>\n",
       "      <td>2</td>\n",
       "      <td>distance</td>\n",
       "      <td>{'leaf_size': 1, 'n_neighbors': 2, 'p': 2, 'we...</td>\n",
       "      <td>0.867193</td>\n",
       "      <td>0.687645</td>\n",
       "      <td>0.565020</td>\n",
       "      <td>0.706905</td>\n",
       "      <td>0.124163</td>\n",
       "      <td>736</td>\n",
       "      <td>1.000000</td>\n",
       "      <td>1.000000</td>\n",
       "      <td>1.000000</td>\n",
       "      <td>1.000000</td>\n",
       "      <td>0.000000</td>\n",
       "    </tr>\n",
       "    <tr>\n",
       "      <th>7</th>\n",
       "      <td>0.001995</td>\n",
       "      <td>1.632582e-06</td>\n",
       "      <td>0.004985</td>\n",
       "      <td>8.138098e-04</td>\n",
       "      <td>1</td>\n",
       "      <td>2</td>\n",
       "      <td>2</td>\n",
       "      <td>uniform</td>\n",
       "      <td>{'leaf_size': 1, 'n_neighbors': 2, 'p': 2, 'we...</td>\n",
       "      <td>0.868432</td>\n",
       "      <td>0.690949</td>\n",
       "      <td>0.571245</td>\n",
       "      <td>0.710490</td>\n",
       "      <td>0.122161</td>\n",
       "      <td>638</td>\n",
       "      <td>0.900575</td>\n",
       "      <td>0.935774</td>\n",
       "      <td>0.932536</td>\n",
       "      <td>0.922962</td>\n",
       "      <td>0.015885</td>\n",
       "    </tr>\n",
       "    <tr>\n",
       "      <th>8</th>\n",
       "      <td>0.001662</td>\n",
       "      <td>4.701905e-04</td>\n",
       "      <td>0.002327</td>\n",
       "      <td>4.701905e-04</td>\n",
       "      <td>1</td>\n",
       "      <td>3</td>\n",
       "      <td>1</td>\n",
       "      <td>distance</td>\n",
       "      <td>{'leaf_size': 1, 'n_neighbors': 3, 'p': 1, 'we...</td>\n",
       "      <td>0.902353</td>\n",
       "      <td>0.738316</td>\n",
       "      <td>0.520892</td>\n",
       "      <td>0.720844</td>\n",
       "      <td>0.156287</td>\n",
       "      <td>295</td>\n",
       "      <td>1.000000</td>\n",
       "      <td>1.000000</td>\n",
       "      <td>1.000000</td>\n",
       "      <td>1.000000</td>\n",
       "      <td>0.000000</td>\n",
       "    </tr>\n",
       "    <tr>\n",
       "      <th>9</th>\n",
       "      <td>0.001662</td>\n",
       "      <td>4.695159e-04</td>\n",
       "      <td>0.001995</td>\n",
       "      <td>5.619580e-07</td>\n",
       "      <td>1</td>\n",
       "      <td>3</td>\n",
       "      <td>1</td>\n",
       "      <td>uniform</td>\n",
       "      <td>{'leaf_size': 1, 'n_neighbors': 3, 'p': 1, 'we...</td>\n",
       "      <td>0.900976</td>\n",
       "      <td>0.748283</td>\n",
       "      <td>0.518025</td>\n",
       "      <td>0.722746</td>\n",
       "      <td>0.157445</td>\n",
       "      <td>246</td>\n",
       "      <td>0.851279</td>\n",
       "      <td>0.832082</td>\n",
       "      <td>0.913955</td>\n",
       "      <td>0.865772</td>\n",
       "      <td>0.034960</td>\n",
       "    </tr>\n",
       "  </tbody>\n",
       "</table>\n",
       "</div>"
      ],
      "text/plain": [
       "   mean_fit_time  std_fit_time  mean_score_time  std_score_time  \\\n",
       "0       0.000988  1.349261e-05         0.001995    4.495664e-07   \n",
       "1       0.001671  9.522378e-04         0.001997    8.178998e-04   \n",
       "2       0.001992  1.620935e-06         0.002992    8.141992e-04   \n",
       "3       0.001662  4.697415e-04         0.003324    4.701903e-04   \n",
       "4       0.001331  4.691804e-04         0.002658    4.716513e-04   \n",
       "5       0.000997  4.052337e-07         0.002327    4.703026e-04   \n",
       "6       0.001664  4.712638e-04         0.004653    4.685097e-04   \n",
       "7       0.001995  1.632582e-06         0.004985    8.138098e-04   \n",
       "8       0.001662  4.701905e-04         0.002327    4.701905e-04   \n",
       "9       0.001662  4.695159e-04         0.001995    5.619580e-07   \n",
       "\n",
       "  param_leaf_size param_n_neighbors param_p param_weights  \\\n",
       "0               1                 1       1      distance   \n",
       "1               1                 1       1       uniform   \n",
       "2               1                 1       2      distance   \n",
       "3               1                 1       2       uniform   \n",
       "4               1                 2       1      distance   \n",
       "5               1                 2       1       uniform   \n",
       "6               1                 2       2      distance   \n",
       "7               1                 2       2       uniform   \n",
       "8               1                 3       1      distance   \n",
       "9               1                 3       1       uniform   \n",
       "\n",
       "                                              params  split0_test_score  \\\n",
       "0  {'leaf_size': 1, 'n_neighbors': 1, 'p': 1, 'we...           0.710390   \n",
       "1  {'leaf_size': 1, 'n_neighbors': 1, 'p': 1, 'we...           0.710390   \n",
       "2  {'leaf_size': 1, 'n_neighbors': 1, 'p': 2, 'we...           0.663618   \n",
       "3  {'leaf_size': 1, 'n_neighbors': 1, 'p': 2, 'we...           0.663618   \n",
       "4  {'leaf_size': 1, 'n_neighbors': 2, 'p': 1, 'we...           0.854888   \n",
       "5  {'leaf_size': 1, 'n_neighbors': 2, 'p': 1, 'we...           0.863210   \n",
       "6  {'leaf_size': 1, 'n_neighbors': 2, 'p': 2, 'we...           0.867193   \n",
       "7  {'leaf_size': 1, 'n_neighbors': 2, 'p': 2, 'we...           0.868432   \n",
       "8  {'leaf_size': 1, 'n_neighbors': 3, 'p': 1, 'we...           0.902353   \n",
       "9  {'leaf_size': 1, 'n_neighbors': 3, 'p': 1, 'we...           0.900976   \n",
       "\n",
       "   split1_test_score  split2_test_score  mean_test_score  std_test_score  \\\n",
       "0           0.614372           0.520764         0.615345        0.077452   \n",
       "1           0.614372           0.520764         0.615345        0.077452   \n",
       "2           0.639879           0.448415         0.584112        0.096314   \n",
       "3           0.639879           0.448415         0.584112        0.096314   \n",
       "4           0.703347           0.575852         0.711618        0.114116   \n",
       "5           0.715327           0.579866         0.719724        0.115767   \n",
       "6           0.687645           0.565020         0.706905        0.124163   \n",
       "7           0.690949           0.571245         0.710490        0.122161   \n",
       "8           0.738316           0.520892         0.720844        0.156287   \n",
       "9           0.748283           0.518025         0.722746        0.157445   \n",
       "\n",
       "   rank_test_score  split0_train_score  split1_train_score  \\\n",
       "0             3137            1.000000            1.000000   \n",
       "1             3137            1.000000            1.000000   \n",
       "2             4264            1.000000            1.000000   \n",
       "3             4264            1.000000            1.000000   \n",
       "4              491            1.000000            1.000000   \n",
       "5              344            0.898494            0.931491   \n",
       "6              736            1.000000            1.000000   \n",
       "7              638            0.900575            0.935774   \n",
       "8              295            1.000000            1.000000   \n",
       "9              246            0.851279            0.832082   \n",
       "\n",
       "   split2_train_score  mean_train_score  std_train_score  \n",
       "0            1.000000          1.000000         0.000000  \n",
       "1            1.000000          1.000000         0.000000  \n",
       "2            1.000000          1.000000         0.000000  \n",
       "3            1.000000          1.000000         0.000000  \n",
       "4            1.000000          1.000000         0.000000  \n",
       "5            0.930288          0.920091         0.015279  \n",
       "6            1.000000          1.000000         0.000000  \n",
       "7            0.932536          0.922962         0.015885  \n",
       "8            1.000000          1.000000         0.000000  \n",
       "9            0.913955          0.865772         0.034960  "
      ]
     },
     "metadata": {},
     "output_type": "display_data"
    }
   ],
   "source": [
    "import pandas as pd\n",
    "# convert to DataFrame\n",
    "results = pd.DataFrame(CV_knn.cv_results_)\n",
    "# show the first 5 rows\n",
    "display(results.head(10))"
   ]
  },
  {
   "cell_type": "code",
   "execution_count": 160,
   "metadata": {},
   "outputs": [
    {
     "name": "stdout",
     "output_type": "stream",
     "text": [
      "Coefficient shape:  (1, 8)\n",
      "Intercept shape:  (1,)\n"
     ]
    }
   ],
   "source": [
    "from sklearn.svm import SVR\n",
    "svr_lin = SVR(kernel='linear', C=100, gamma='auto')\n",
    "y_lin = svr_lin.fit(X_train_reduced, y_train).predict(X_test_reduced)\n",
    "\n",
    "\n",
    "print(\"Coefficient shape: \", svr_lin.coef_.shape)\n",
    "print(\"Intercept shape: \", svr_lin.intercept_.shape)\n",
    "\n",
    "score_report_Dict.update({\"SVR-Linear\" : [svr_lin.score(X_train_reduced, y_train), svr_lin.score(X_test_reduced, y_test)]})"
   ]
  },
  {
   "cell_type": "code",
   "execution_count": 161,
   "metadata": {},
   "outputs": [
    {
     "name": "stdout",
     "output_type": "stream",
     "text": [
      "0.9653479131490682\n",
      "0.3654682785266141\n"
     ]
    }
   ],
   "source": [
    "from sklearn.svm import SVR\n",
    "svr_rbf = SVR(kernel='rbf', C= 80, gamma = 1)\n",
    "svr_rbf.fit(X_train_reduced, y_train).predict(X_test_reduced)\n",
    "print(svr_rbf.score(X_train_reduced, y_train))\n",
    "print(svr_rbf.score(X_test_reduced,y_test))\n",
    "\n",
    "score_report_Dict.update({\"SVR-rbf\" : [svr_rbf.score(X_train_reduced, y_train), svr_rbf.score(X_test_reduced, y_test)]})"
   ]
  },
  {
   "cell_type": "code",
   "execution_count": 162,
   "metadata": {},
   "outputs": [
    {
     "name": "stdout",
     "output_type": "stream",
     "text": [
      "0.9027399691217288\n",
      "0.7998411037843246\n"
     ]
    }
   ],
   "source": [
    "from sklearn.svm import SVR\n",
    "svr_poly = SVR(kernel='poly',degree=2, C = 100)\n",
    "svr_poly.fit(X_train_reduced, y_train).predict(X_test_reduced)\n",
    "\n",
    "print(svr_poly.score(X_train_reduced,y_train))\n",
    "print(svr_poly.score(X_test_reduced,y_test))\n",
    "\n",
    "score_report_Dict.update({\"SVR-poly\" : [svr_poly.score(X_train_reduced, y_train), svr_poly.score(X_test_reduced, y_test)]})"
   ]
  },
  {
   "cell_type": "markdown",
   "metadata": {},
   "source": [
    "### Decision Tree Regressor"
   ]
  },
  {
   "cell_type": "code",
   "execution_count": 165,
   "metadata": {},
   "outputs": [],
   "source": [
    "from sklearn.tree import DecisionTreeRegressor\n",
    "from sklearn.linear_model import LinearRegression\n",
    "from sklearn.metrics import r2_score\n",
    "\n",
    "tree = DecisionTreeRegressor().fit(X_train_reduced, y_train)\n",
    "\n",
    "pred_train_tree = tree.predict(X_train_reduced)\n",
    "pred_test_tree = tree.predict(X_test_reduced)"
   ]
  },
  {
   "cell_type": "code",
   "execution_count": 166,
   "metadata": {},
   "outputs": [
    {
     "name": "stdout",
     "output_type": "stream",
     "text": [
      " Test R Squared Value :  0.9999999999606402\n",
      " Test R Squared Value :  0.7681474934300254\n"
     ]
    }
   ],
   "source": [
    "print(\" Test R Squared Value : \", r2_score(y_train,pred_train_tree))\n",
    "print(\" Test R Squared Value : \", r2_score(y_test,pred_test_tree))\n",
    "\n",
    "score_report_Dict.update({\"Decision Tree Regressor\" : [r2_score(y_train,pred_train_tree), r2_score(y_test,pred_test_tree)]})"
   ]
  },
  {
   "cell_type": "code",
   "execution_count": 13,
   "metadata": {},
   "outputs": [
    {
     "ename": "NameError",
     "evalue": "name 'score_report_Dict' is not defined",
     "output_type": "error",
     "traceback": [
      "\u001b[1;31m---------------------------------------------------------------------------\u001b[0m",
      "\u001b[1;31mNameError\u001b[0m                                 Traceback (most recent call last)",
      "\u001b[1;32m<ipython-input-13-81a57dc95c2a>\u001b[0m in \u001b[0;36m<module>\u001b[1;34m()\u001b[0m\n\u001b[1;32m----> 1\u001b[1;33m \u001b[0mscore_report_Dict\u001b[0m\u001b[1;33m\u001b[0m\u001b[0m\n\u001b[0m",
      "\u001b[1;31mNameError\u001b[0m: name 'score_report_Dict' is not defined"
     ]
    }
   ],
   "source": [
    "score_report_Dict"
   ]
  },
  {
   "cell_type": "markdown",
   "metadata": {},
   "source": [
    "## Report with PCA"
   ]
  },
  {
   "cell_type": "code",
   "execution_count": 12,
   "metadata": {},
   "outputs": [
    {
     "ename": "NameError",
     "evalue": "name 'score_report_Dict' is not defined",
     "output_type": "error",
     "traceback": [
      "\u001b[1;31m---------------------------------------------------------------------------\u001b[0m",
      "\u001b[1;31mNameError\u001b[0m                                 Traceback (most recent call last)",
      "\u001b[1;32m<ipython-input-12-3bdf2fa8d923>\u001b[0m in \u001b[0;36m<module>\u001b[1;34m()\u001b[0m\n\u001b[1;32m----> 1\u001b[1;33m \u001b[0mdf_reg_with_pca\u001b[0m \u001b[1;33m=\u001b[0m \u001b[0mpd\u001b[0m\u001b[1;33m.\u001b[0m\u001b[0mDataFrame\u001b[0m\u001b[1;33m(\u001b[0m\u001b[0mscore_report_Dict\u001b[0m\u001b[1;33m)\u001b[0m\u001b[1;33m\u001b[0m\u001b[0m\n\u001b[0m\u001b[0;32m      2\u001b[0m \u001b[0mdf_reg_with_pca\u001b[0m\u001b[1;33m.\u001b[0m\u001b[0mrename\u001b[0m\u001b[1;33m(\u001b[0m\u001b[0mindex\u001b[0m\u001b[1;33m=\u001b[0m\u001b[1;33m{\u001b[0m\u001b[1;36m0\u001b[0m\u001b[1;33m:\u001b[0m \u001b[1;34m'Train Score'\u001b[0m\u001b[1;33m,\u001b[0m \u001b[1;36m1\u001b[0m\u001b[1;33m:\u001b[0m \u001b[1;34m'Test Score'\u001b[0m\u001b[1;33m}\u001b[0m\u001b[1;33m)\u001b[0m\u001b[1;33m\u001b[0m\u001b[0m\n",
      "\u001b[1;31mNameError\u001b[0m: name 'score_report_Dict' is not defined"
     ]
    }
   ],
   "source": [
    "df_reg_with_pca = pd.DataFrame(score_report_Dict)\n",
    "df_reg_with_pca.rename(index={0: 'Train Score', 1: 'Test Score'})"
   ]
  },
  {
   "cell_type": "markdown",
   "metadata": {},
   "source": [
    "## Report Without PCA "
   ]
  },
  {
   "cell_type": "code",
   "execution_count": 20,
   "metadata": {},
   "outputs": [],
   "source": [
    "df_reg_without_pca={'LinearRegression': [0.8676777815803488, 0.6280151085742522],\n",
    " 'Ridge': [0.8675487179922866, 0.643195841624874],\n",
    " 'Lasso': [0.8675750108413675, 0.6403188430119134],\n",
    " 'Polynomial Regression': [1.0, 0.94644671484337],\n",
    " 'KNeighbors Regressor': [0.7897610591076443, 0.6267853063926181],\n",
    " 'SVR-Linear': [0.8106293017590854, 0.43509201602940994],\n",
    " 'SVR-rbf': [0.9645506955574517, 0.34661636384340233],\n",
    " 'SVR-poly': [0.9722996189390026, 0.6685488125667015],\n",
    " 'Decision Tree Regressor': [0.9999999999152561, 0.8107906176383087]}"
   ]
  },
  {
   "cell_type": "code",
   "execution_count": 21,
   "metadata": {},
   "outputs": [
    {
     "data": {
      "text/html": [
       "<div>\n",
       "<style scoped>\n",
       "    .dataframe tbody tr th:only-of-type {\n",
       "        vertical-align: middle;\n",
       "    }\n",
       "\n",
       "    .dataframe tbody tr th {\n",
       "        vertical-align: top;\n",
       "    }\n",
       "\n",
       "    .dataframe thead th {\n",
       "        text-align: right;\n",
       "    }\n",
       "</style>\n",
       "<table border=\"1\" class=\"dataframe\">\n",
       "  <thead>\n",
       "    <tr style=\"text-align: right;\">\n",
       "      <th></th>\n",
       "      <th>LinearRegression</th>\n",
       "      <th>Ridge</th>\n",
       "      <th>Lasso</th>\n",
       "      <th>Polynomial Regression</th>\n",
       "      <th>KNeighbors Regressor</th>\n",
       "      <th>SVR-Linear</th>\n",
       "      <th>SVR-rbf</th>\n",
       "      <th>SVR-poly</th>\n",
       "      <th>Decision Tree Regressor</th>\n",
       "    </tr>\n",
       "  </thead>\n",
       "  <tbody>\n",
       "    <tr>\n",
       "      <th>Train Score</th>\n",
       "      <td>0.867678</td>\n",
       "      <td>0.867549</td>\n",
       "      <td>0.867575</td>\n",
       "      <td>1.000000</td>\n",
       "      <td>0.789761</td>\n",
       "      <td>0.810629</td>\n",
       "      <td>0.964551</td>\n",
       "      <td>0.972300</td>\n",
       "      <td>1.000000</td>\n",
       "    </tr>\n",
       "    <tr>\n",
       "      <th>Test Score</th>\n",
       "      <td>0.628015</td>\n",
       "      <td>0.643196</td>\n",
       "      <td>0.640319</td>\n",
       "      <td>0.946447</td>\n",
       "      <td>0.626785</td>\n",
       "      <td>0.435092</td>\n",
       "      <td>0.346616</td>\n",
       "      <td>0.668549</td>\n",
       "      <td>0.810791</td>\n",
       "    </tr>\n",
       "  </tbody>\n",
       "</table>\n",
       "</div>"
      ],
      "text/plain": [
       "             LinearRegression     Ridge     Lasso  Polynomial Regression  \\\n",
       "Train Score          0.867678  0.867549  0.867575               1.000000   \n",
       "Test Score           0.628015  0.643196  0.640319               0.946447   \n",
       "\n",
       "             KNeighbors Regressor  SVR-Linear   SVR-rbf  SVR-poly  \\\n",
       "Train Score              0.789761    0.810629  0.964551  0.972300   \n",
       "Test Score               0.626785    0.435092  0.346616  0.668549   \n",
       "\n",
       "             Decision Tree Regressor  \n",
       "Train Score                 1.000000  \n",
       "Test Score                  0.810791  "
      ]
     },
     "execution_count": 21,
     "metadata": {},
     "output_type": "execute_result"
    }
   ],
   "source": [
    "df_reg_without_pca = pd.DataFrame(df_reg_without_pca)\n",
    "df_reg_without_pca.rename(index={0: 'Train Score', 1: 'Test Score'})"
   ]
  },
  {
   "cell_type": "markdown",
   "metadata": {},
   "source": [
    "<img src=\"reg_Nopca.PNG\">"
   ]
  },
  {
   "cell_type": "markdown",
   "metadata": {},
   "source": [
    "## Best model for regression is  polynomial regressor"
   ]
  },
  {
   "cell_type": "markdown",
   "metadata": {},
   "source": [
    "# Deep Learning Models - Regression"
   ]
  },
  {
   "cell_type": "code",
   "execution_count": 124,
   "metadata": {},
   "outputs": [],
   "source": [
    "from tensorflow.keras import Sequential\n",
    "from tensorflow.keras.layers import Dense"
   ]
  },
  {
   "cell_type": "code",
   "execution_count": 125,
   "metadata": {},
   "outputs": [],
   "source": [
    "from keras import backend as K\n",
    "def coeff_determination(y_true, y_pred):\n",
    "    SS_res =  K.sum(K.square( y_true-y_pred )) \n",
    "    SS_tot = K.sum(K.square( y_true - K.mean(y_true) ) ) \n",
    "    return ( 1 - SS_res/(SS_tot + K.epsilon()) )"
   ]
  },
  {
   "cell_type": "markdown",
   "metadata": {},
   "source": [
    "## Perceptron - Regression "
   ]
  },
  {
   "cell_type": "code",
   "execution_count": 127,
   "metadata": {},
   "outputs": [
    {
     "name": "stdout",
     "output_type": "stream",
     "text": [
      "Epoch 1/400\n",
      "562/562 [==============================] - 0s 303us/step - loss: 0.5782 - coeff_determination: -1.4544\n",
      "Epoch 2/400\n",
      "562/562 [==============================] - 0s 9us/step - loss: 0.4371 - coeff_determination: -0.8307\n",
      "Epoch 3/400\n",
      "562/562 [==============================] - 0s 9us/step - loss: 0.3645 - coeff_determination: -0.5270\n",
      "Epoch 4/400\n",
      "562/562 [==============================] - 0s 11us/step - loss: 0.3243 - coeff_determination: -0.3629\n",
      "Epoch 5/400\n",
      "562/562 [==============================] - 0s 7us/step - loss: 0.2969 - coeff_determination: -0.2441\n",
      "Epoch 6/400\n",
      "562/562 [==============================] - 0s 11us/step - loss: 0.2786 - coeff_determination: -0.1768\n",
      "Epoch 7/400\n",
      "562/562 [==============================] - 0s 11us/step - loss: 0.2640 - coeff_determination: -0.1155\n",
      "Epoch 8/400\n",
      "562/562 [==============================] - 0s 9us/step - loss: 0.2508 - coeff_determination: -0.0524\n",
      "Epoch 9/400\n",
      "562/562 [==============================] - 0s 9us/step - loss: 0.2399 - coeff_determination: -0.0049\n",
      "Epoch 10/400\n",
      "562/562 [==============================] - 0s 9us/step - loss: 0.2301 - coeff_determination: 0.0302\n",
      "Epoch 11/400\n",
      "562/562 [==============================] - 0s 12us/step - loss: 0.2211 - coeff_determination: 0.0720\n",
      "Epoch 12/400\n",
      "562/562 [==============================] - 0s 11us/step - loss: 0.2124 - coeff_determination: 0.1104\n",
      "Epoch 13/400\n",
      "562/562 [==============================] - 0s 11us/step - loss: 0.2044 - coeff_determination: 0.1396\n",
      "Epoch 14/400\n",
      "562/562 [==============================] - 0s 14us/step - loss: 0.1972 - coeff_determination: 0.1709\n",
      "Epoch 15/400\n",
      "562/562 [==============================] - 0s 11us/step - loss: 0.1902 - coeff_determination: 0.1999\n",
      "Epoch 16/400\n",
      "562/562 [==============================] - 0s 9us/step - loss: 0.1835 - coeff_determination: 0.2263\n",
      "Epoch 17/400\n",
      "562/562 [==============================] - 0s 11us/step - loss: 0.1773 - coeff_determination: 0.2547\n",
      "Epoch 18/400\n",
      "562/562 [==============================] - 0s 11us/step - loss: 0.1719 - coeff_determination: 0.2688\n",
      "Epoch 19/400\n",
      "562/562 [==============================] - 0s 11us/step - loss: 0.1668 - coeff_determination: 0.2900\n",
      "Epoch 20/400\n",
      "562/562 [==============================] - 0s 9us/step - loss: 0.1612 - coeff_determination: 0.3226\n",
      "Epoch 21/400\n",
      "562/562 [==============================] - 0s 9us/step - loss: 0.1564 - coeff_determination: 0.3371\n",
      "Epoch 22/400\n",
      "562/562 [==============================] - 0s 9us/step - loss: 0.1517 - coeff_determination: 0.3641\n",
      "Epoch 23/400\n",
      "562/562 [==============================] - 0s 12us/step - loss: 0.1474 - coeff_determination: 0.3819\n",
      "Epoch 24/400\n",
      "562/562 [==============================] - 0s 12us/step - loss: 0.1434 - coeff_determination: 0.3950\n",
      "Epoch 25/400\n",
      "562/562 [==============================] - 0s 11us/step - loss: 0.1396 - coeff_determination: 0.4133\n",
      "Epoch 26/400\n",
      "562/562 [==============================] - 0s 11us/step - loss: 0.1361 - coeff_determination: 0.4296\n",
      "Epoch 27/400\n",
      "562/562 [==============================] - 0s 14us/step - loss: 0.1328 - coeff_determination: 0.4319\n",
      "Epoch 28/400\n",
      "562/562 [==============================] - 0s 12us/step - loss: 0.1295 - coeff_determination: 0.4527\n",
      "Epoch 29/400\n",
      "562/562 [==============================] - 0s 11us/step - loss: 0.1265 - coeff_determination: 0.4710\n",
      "Epoch 30/400\n",
      "562/562 [==============================] - 0s 12us/step - loss: 0.1237 - coeff_determination: 0.4815\n",
      "Epoch 31/400\n",
      "562/562 [==============================] - 0s 12us/step - loss: 0.1211 - coeff_determination: 0.4915\n",
      "Epoch 32/400\n",
      "562/562 [==============================] - 0s 9us/step - loss: 0.1186 - coeff_determination: 0.4994\n",
      "Epoch 33/400\n",
      "562/562 [==============================] - 0s 12us/step - loss: 0.1162 - coeff_determination: 0.5087\n",
      "Epoch 34/400\n",
      "562/562 [==============================] - 0s 11us/step - loss: 0.1141 - coeff_determination: 0.5223\n",
      "Epoch 35/400\n",
      "562/562 [==============================] - 0s 11us/step - loss: 0.1122 - coeff_determination: 0.5142\n",
      "Epoch 36/400\n",
      "562/562 [==============================] - 0s 12us/step - loss: 0.1100 - coeff_determination: 0.5387\n",
      "Epoch 37/400\n",
      "562/562 [==============================] - 0s 11us/step - loss: 0.1081 - coeff_determination: 0.5455\n",
      "Epoch 38/400\n",
      "562/562 [==============================] - 0s 11us/step - loss: 0.1064 - coeff_determination: 0.5540\n",
      "Epoch 39/400\n",
      "562/562 [==============================] - 0s 11us/step - loss: 0.1048 - coeff_determination: 0.5590\n",
      "Epoch 40/400\n",
      "562/562 [==============================] - 0s 11us/step - loss: 0.1032 - coeff_determination: 0.5656\n",
      "Epoch 41/400\n",
      "562/562 [==============================] - 0s 11us/step - loss: 0.1016 - coeff_determination: 0.5705\n",
      "Epoch 42/400\n",
      "562/562 [==============================] - 0s 9us/step - loss: 0.1001 - coeff_determination: 0.5811\n",
      "Epoch 43/400\n",
      "562/562 [==============================] - 0s 11us/step - loss: 0.0988 - coeff_determination: 0.5860\n",
      "Epoch 44/400\n",
      "562/562 [==============================] - 0s 9us/step - loss: 0.0975 - coeff_determination: 0.5923\n",
      "Epoch 45/400\n",
      "562/562 [==============================] - 0s 11us/step - loss: 0.0964 - coeff_determination: 0.5968\n",
      "Epoch 46/400\n",
      "562/562 [==============================] - 0s 11us/step - loss: 0.0952 - coeff_determination: 0.5975\n",
      "Epoch 47/400\n",
      "562/562 [==============================] - 0s 11us/step - loss: 0.0941 - coeff_determination: 0.6044\n",
      "Epoch 48/400\n",
      "562/562 [==============================] - 0s 12us/step - loss: 0.0930 - coeff_determination: 0.6077\n",
      "Epoch 49/400\n",
      "562/562 [==============================] - 0s 12us/step - loss: 0.0920 - coeff_determination: 0.6154\n",
      "Epoch 50/400\n",
      "562/562 [==============================] - 0s 12us/step - loss: 0.0910 - coeff_determination: 0.6192\n",
      "Epoch 51/400\n",
      "562/562 [==============================] - 0s 11us/step - loss: 0.0901 - coeff_determination: 0.6202\n",
      "Epoch 52/400\n",
      "562/562 [==============================] - 0s 11us/step - loss: 0.0892 - coeff_determination: 0.6256\n",
      "Epoch 53/400\n",
      "562/562 [==============================] - 0s 14us/step - loss: 0.0884 - coeff_determination: 0.6304\n",
      "Epoch 54/400\n",
      "562/562 [==============================] - 0s 11us/step - loss: 0.0877 - coeff_determination: 0.6289\n",
      "Epoch 55/400\n",
      "562/562 [==============================] - 0s 12us/step - loss: 0.0870 - coeff_determination: 0.6358\n",
      "Epoch 56/400\n",
      "562/562 [==============================] - 0s 11us/step - loss: 0.0863 - coeff_determination: 0.6386\n",
      "Epoch 57/400\n",
      "562/562 [==============================] - 0s 11us/step - loss: 0.0856 - coeff_determination: 0.6385\n",
      "Epoch 58/400\n",
      "562/562 [==============================] - 0s 9us/step - loss: 0.0850 - coeff_determination: 0.6382\n",
      "Epoch 59/400\n",
      "562/562 [==============================] - 0s 11us/step - loss: 0.0843 - coeff_determination: 0.6439\n",
      "Epoch 60/400\n",
      "562/562 [==============================] - 0s 12us/step - loss: 0.0838 - coeff_determination: 0.6493\n",
      "Epoch 61/400\n",
      "562/562 [==============================] - 0s 14us/step - loss: 0.0832 - coeff_determination: 0.6506\n",
      "Epoch 62/400\n",
      "562/562 [==============================] - 0s 12us/step - loss: 0.0826 - coeff_determination: 0.6531\n",
      "Epoch 63/400\n",
      "562/562 [==============================] - 0s 14us/step - loss: 0.0819 - coeff_determination: 0.6563\n",
      "Epoch 64/400\n",
      "562/562 [==============================] - 0s 18us/step - loss: 0.0815 - coeff_determination: 0.6585\n",
      "Epoch 65/400\n",
      "562/562 [==============================] - 0s 14us/step - loss: 0.0809 - coeff_determination: 0.6561\n",
      "Epoch 66/400\n",
      "562/562 [==============================] - 0s 14us/step - loss: 0.0805 - coeff_determination: 0.6618\n",
      "Epoch 67/400\n",
      "562/562 [==============================] - 0s 12us/step - loss: 0.0800 - coeff_determination: 0.6608\n",
      "Epoch 68/400\n",
      "562/562 [==============================] - 0s 12us/step - loss: 0.0796 - coeff_determination: 0.6668\n",
      "Epoch 69/400\n",
      "562/562 [==============================] - 0s 11us/step - loss: 0.0791 - coeff_determination: 0.6681\n",
      "Epoch 70/400\n",
      "562/562 [==============================] - 0s 11us/step - loss: 0.0787 - coeff_determination: 0.6682\n",
      "Epoch 71/400\n",
      "562/562 [==============================] - 0s 11us/step - loss: 0.0783 - coeff_determination: 0.6718\n",
      "Epoch 72/400\n",
      "562/562 [==============================] - 0s 11us/step - loss: 0.0779 - coeff_determination: 0.6723\n",
      "Epoch 73/400\n",
      "562/562 [==============================] - 0s 12us/step - loss: 0.0776 - coeff_determination: 0.6725\n",
      "Epoch 74/400\n",
      "562/562 [==============================] - 0s 12us/step - loss: 0.0772 - coeff_determination: 0.6759\n",
      "Epoch 75/400\n",
      "562/562 [==============================] - 0s 12us/step - loss: 0.0768 - coeff_determination: 0.6784\n",
      "Epoch 76/400\n",
      "562/562 [==============================] - 0s 11us/step - loss: 0.0765 - coeff_determination: 0.6778\n",
      "Epoch 77/400\n",
      "562/562 [==============================] - 0s 14us/step - loss: 0.0762 - coeff_determination: 0.6801\n",
      "Epoch 78/400\n",
      "562/562 [==============================] - 0s 14us/step - loss: 0.0759 - coeff_determination: 0.6819\n",
      "Epoch 79/400\n",
      "562/562 [==============================] - 0s 12us/step - loss: 0.0755 - coeff_determination: 0.6834\n",
      "Epoch 80/400\n",
      "562/562 [==============================] - 0s 18us/step - loss: 0.0753 - coeff_determination: 0.6821\n",
      "Epoch 81/400\n",
      "562/562 [==============================] - 0s 14us/step - loss: 0.0750 - coeff_determination: 0.6831\n",
      "Epoch 82/400\n",
      "562/562 [==============================] - 0s 14us/step - loss: 0.0747 - coeff_determination: 0.6878\n",
      "Epoch 83/400\n",
      "562/562 [==============================] - 0s 12us/step - loss: 0.0744 - coeff_determination: 0.6842\n",
      "Epoch 84/400\n",
      "562/562 [==============================] - 0s 12us/step - loss: 0.0741 - coeff_determination: 0.6896\n",
      "Epoch 85/400\n",
      "562/562 [==============================] - 0s 12us/step - loss: 0.0739 - coeff_determination: 0.6899\n",
      "Epoch 86/400\n",
      "562/562 [==============================] - 0s 12us/step - loss: 0.0736 - coeff_determination: 0.6914\n",
      "Epoch 87/400\n",
      "562/562 [==============================] - 0s 14us/step - loss: 0.0734 - coeff_determination: 0.6922\n",
      "Epoch 88/400\n",
      "562/562 [==============================] - 0s 14us/step - loss: 0.0731 - coeff_determination: 0.6922\n",
      "Epoch 89/400\n",
      "562/562 [==============================] - 0s 18us/step - loss: 0.0729 - coeff_determination: 0.6944\n",
      "Epoch 90/400\n",
      "562/562 [==============================] - 0s 16us/step - loss: 0.0727 - coeff_determination: 0.6964\n",
      "Epoch 91/400\n",
      "562/562 [==============================] - 0s 16us/step - loss: 0.0725 - coeff_determination: 0.6971\n",
      "Epoch 92/400\n",
      "562/562 [==============================] - 0s 16us/step - loss: 0.0722 - coeff_determination: 0.6970\n",
      "Epoch 93/400\n",
      "562/562 [==============================] - 0s 14us/step - loss: 0.0720 - coeff_determination: 0.6983\n",
      "Epoch 94/400\n",
      "562/562 [==============================] - 0s 14us/step - loss: 0.0718 - coeff_determination: 0.6997\n",
      "Epoch 95/400\n",
      "562/562 [==============================] - 0s 14us/step - loss: 0.0716 - coeff_determination: 0.6992\n",
      "Epoch 96/400\n",
      "562/562 [==============================] - 0s 14us/step - loss: 0.0714 - coeff_determination: 0.7006\n",
      "Epoch 97/400\n",
      "562/562 [==============================] - 0s 14us/step - loss: 0.0712 - coeff_determination: 0.7023\n",
      "Epoch 98/400\n",
      "562/562 [==============================] - 0s 16us/step - loss: 0.0710 - coeff_determination: 0.7016\n",
      "Epoch 99/400\n",
      "562/562 [==============================] - 0s 12us/step - loss: 0.0708 - coeff_determination: 0.7014\n",
      "Epoch 100/400\n",
      "562/562 [==============================] - 0s 12us/step - loss: 0.0706 - coeff_determination: 0.7018\n",
      "Epoch 101/400\n",
      "562/562 [==============================] - 0s 16us/step - loss: 0.0704 - coeff_determination: 0.7049\n",
      "Epoch 102/400\n",
      "562/562 [==============================] - 0s 14us/step - loss: 0.0702 - coeff_determination: 0.7069\n",
      "Epoch 103/400\n",
      "562/562 [==============================] - 0s 14us/step - loss: 0.0700 - coeff_determination: 0.7076\n",
      "Epoch 104/400\n",
      "562/562 [==============================] - 0s 14us/step - loss: 0.0699 - coeff_determination: 0.7054\n",
      "Epoch 105/400\n",
      "562/562 [==============================] - 0s 20us/step - loss: 0.0697 - coeff_determination: 0.7090\n",
      "Epoch 106/400\n",
      "562/562 [==============================] - 0s 14us/step - loss: 0.0695 - coeff_determination: 0.7083\n",
      "Epoch 107/400\n",
      "562/562 [==============================] - 0s 20us/step - loss: 0.0693 - coeff_determination: 0.7090\n",
      "Epoch 108/400\n",
      "562/562 [==============================] - 0s 18us/step - loss: 0.0691 - coeff_determination: 0.7088\n",
      "Epoch 109/400\n",
      "562/562 [==============================] - 0s 16us/step - loss: 0.0690 - coeff_determination: 0.7097\n",
      "Epoch 110/400\n",
      "562/562 [==============================] - 0s 16us/step - loss: 0.0689 - coeff_determination: 0.7104\n",
      "Epoch 111/400\n",
      "562/562 [==============================] - 0s 14us/step - loss: 0.0687 - coeff_determination: 0.7114\n",
      "Epoch 112/400\n",
      "562/562 [==============================] - 0s 16us/step - loss: 0.0685 - coeff_determination: 0.7116\n",
      "Epoch 113/400\n",
      "562/562 [==============================] - 0s 14us/step - loss: 0.0684 - coeff_determination: 0.7125\n",
      "Epoch 114/400\n",
      "562/562 [==============================] - 0s 16us/step - loss: 0.0683 - coeff_determination: 0.7129\n",
      "Epoch 115/400\n",
      "562/562 [==============================] - 0s 14us/step - loss: 0.0681 - coeff_determination: 0.7129\n",
      "Epoch 116/400\n",
      "562/562 [==============================] - 0s 14us/step - loss: 0.0679 - coeff_determination: 0.7151\n",
      "Epoch 117/400\n",
      "562/562 [==============================] - 0s 16us/step - loss: 0.0677 - coeff_determination: 0.7151\n",
      "Epoch 118/400\n",
      "562/562 [==============================] - 0s 16us/step - loss: 0.0676 - coeff_determination: 0.7142\n",
      "Epoch 119/400\n",
      "562/562 [==============================] - 0s 16us/step - loss: 0.0675 - coeff_determination: 0.7160\n",
      "Epoch 120/400\n",
      "562/562 [==============================] - 0s 16us/step - loss: 0.0674 - coeff_determination: 0.7186\n",
      "Epoch 121/400\n",
      "562/562 [==============================] - 0s 12us/step - loss: 0.0672 - coeff_determination: 0.7179\n",
      "Epoch 122/400\n",
      "562/562 [==============================] - 0s 18us/step - loss: 0.0671 - coeff_determination: 0.7189\n",
      "Epoch 123/400\n",
      "562/562 [==============================] - 0s 16us/step - loss: 0.0669 - coeff_determination: 0.7200\n",
      "Epoch 124/400\n",
      "562/562 [==============================] - 0s 14us/step - loss: 0.0668 - coeff_determination: 0.7193\n",
      "Epoch 125/400\n",
      "562/562 [==============================] - 0s 18us/step - loss: 0.0666 - coeff_determination: 0.7203\n",
      "Epoch 126/400\n",
      "562/562 [==============================] - 0s 14us/step - loss: 0.0666 - coeff_determination: 0.7173\n",
      "Epoch 127/400\n",
      "562/562 [==============================] - 0s 14us/step - loss: 0.0664 - coeff_determination: 0.7200\n",
      "Epoch 128/400\n",
      "562/562 [==============================] - 0s 18us/step - loss: 0.0662 - coeff_determination: 0.7229\n",
      "Epoch 129/400\n",
      "562/562 [==============================] - 0s 21us/step - loss: 0.0661 - coeff_determination: 0.7233\n",
      "Epoch 130/400\n",
      "562/562 [==============================] - 0s 20us/step - loss: 0.0661 - coeff_determination: 0.7180\n",
      "Epoch 131/400\n",
      "562/562 [==============================] - 0s 18us/step - loss: 0.0659 - coeff_determination: 0.7227\n",
      "Epoch 132/400\n",
      "562/562 [==============================] - 0s 12us/step - loss: 0.0658 - coeff_determination: 0.7246\n",
      "Epoch 133/400\n",
      "562/562 [==============================] - 0s 14us/step - loss: 0.0657 - coeff_determination: 0.7218\n",
      "Epoch 134/400\n",
      "562/562 [==============================] - 0s 14us/step - loss: 0.0656 - coeff_determination: 0.7251\n",
      "Epoch 135/400\n",
      "562/562 [==============================] - 0s 20us/step - loss: 0.0655 - coeff_determination: 0.7237\n",
      "Epoch 136/400\n",
      "562/562 [==============================] - 0s 14us/step - loss: 0.0653 - coeff_determination: 0.7248\n",
      "Epoch 137/400\n",
      "562/562 [==============================] - 0s 14us/step - loss: 0.0652 - coeff_determination: 0.7267\n",
      "Epoch 138/400\n",
      "562/562 [==============================] - 0s 14us/step - loss: 0.0651 - coeff_determination: 0.7263\n",
      "Epoch 139/400\n",
      "562/562 [==============================] - 0s 14us/step - loss: 0.0650 - coeff_determination: 0.7263\n",
      "Epoch 140/400\n",
      "562/562 [==============================] - 0s 16us/step - loss: 0.0649 - coeff_determination: 0.7264\n",
      "Epoch 141/400\n",
      "562/562 [==============================] - 0s 16us/step - loss: 0.0648 - coeff_determination: 0.7274\n",
      "Epoch 142/400\n",
      "562/562 [==============================] - 0s 16us/step - loss: 0.0647 - coeff_determination: 0.7292\n",
      "Epoch 143/400\n",
      "562/562 [==============================] - 0s 12us/step - loss: 0.0646 - coeff_determination: 0.7249\n",
      "Epoch 144/400\n",
      "562/562 [==============================] - 0s 14us/step - loss: 0.0645 - coeff_determination: 0.7256\n",
      "Epoch 145/400\n",
      "562/562 [==============================] - 0s 12us/step - loss: 0.0644 - coeff_determination: 0.7272\n",
      "Epoch 146/400\n",
      "562/562 [==============================] - 0s 16us/step - loss: 0.0642 - coeff_determination: 0.7299\n",
      "Epoch 147/400\n",
      "562/562 [==============================] - 0s 14us/step - loss: 0.0642 - coeff_determination: 0.7315\n",
      "Epoch 148/400\n",
      "562/562 [==============================] - 0s 12us/step - loss: 0.0641 - coeff_determination: 0.7311\n",
      "Epoch 149/400\n",
      "562/562 [==============================] - 0s 12us/step - loss: 0.0640 - coeff_determination: 0.7309\n",
      "Epoch 150/400\n",
      "562/562 [==============================] - 0s 12us/step - loss: 0.0638 - coeff_determination: 0.7326\n",
      "Epoch 151/400\n",
      "562/562 [==============================] - 0s 12us/step - loss: 0.0638 - coeff_determination: 0.7314\n",
      "Epoch 152/400\n",
      "562/562 [==============================] - 0s 11us/step - loss: 0.0636 - coeff_determination: 0.7316\n",
      "Epoch 153/400\n",
      "562/562 [==============================] - 0s 11us/step - loss: 0.0636 - coeff_determination: 0.7321\n",
      "Epoch 154/400\n",
      "562/562 [==============================] - 0s 12us/step - loss: 0.0635 - coeff_determination: 0.7321\n",
      "Epoch 155/400\n",
      "562/562 [==============================] - 0s 12us/step - loss: 0.0634 - coeff_determination: 0.7342\n",
      "Epoch 156/400\n",
      "562/562 [==============================] - 0s 14us/step - loss: 0.0632 - coeff_determination: 0.7354\n",
      "Epoch 157/400\n",
      "562/562 [==============================] - 0s 12us/step - loss: 0.0632 - coeff_determination: 0.7359\n",
      "Epoch 158/400\n",
      "562/562 [==============================] - 0s 14us/step - loss: 0.0631 - coeff_determination: 0.7361\n",
      "Epoch 159/400\n",
      "562/562 [==============================] - 0s 14us/step - loss: 0.0630 - coeff_determination: 0.7334\n",
      "Epoch 160/400\n",
      "562/562 [==============================] - 0s 14us/step - loss: 0.0629 - coeff_determination: 0.7373\n",
      "Epoch 161/400\n",
      "562/562 [==============================] - 0s 12us/step - loss: 0.0628 - coeff_determination: 0.7368\n",
      "Epoch 162/400\n",
      "562/562 [==============================] - 0s 11us/step - loss: 0.0627 - coeff_determination: 0.7377\n",
      "Epoch 163/400\n",
      "562/562 [==============================] - 0s 11us/step - loss: 0.0627 - coeff_determination: 0.7367\n",
      "Epoch 164/400\n",
      "562/562 [==============================] - 0s 12us/step - loss: 0.0625 - coeff_determination: 0.7384\n",
      "Epoch 165/400\n",
      "562/562 [==============================] - 0s 11us/step - loss: 0.0625 - coeff_determination: 0.7379\n",
      "Epoch 166/400\n",
      "562/562 [==============================] - 0s 11us/step - loss: 0.0624 - coeff_determination: 0.7381\n",
      "Epoch 167/400\n",
      "562/562 [==============================] - 0s 11us/step - loss: 0.0623 - coeff_determination: 0.7373\n",
      "Epoch 168/400\n",
      "562/562 [==============================] - 0s 14us/step - loss: 0.0622 - coeff_determination: 0.7378\n",
      "Epoch 169/400\n",
      "562/562 [==============================] - 0s 11us/step - loss: 0.0621 - coeff_determination: 0.7381\n",
      "Epoch 170/400\n",
      "562/562 [==============================] - 0s 12us/step - loss: 0.0620 - coeff_determination: 0.7397\n",
      "Epoch 171/400\n",
      "562/562 [==============================] - 0s 11us/step - loss: 0.0619 - coeff_determination: 0.7402\n",
      "Epoch 172/400\n",
      "562/562 [==============================] - 0s 12us/step - loss: 0.0618 - coeff_determination: 0.7402\n",
      "Epoch 173/400\n",
      "562/562 [==============================] - 0s 11us/step - loss: 0.0618 - coeff_determination: 0.7409\n",
      "Epoch 174/400\n",
      "562/562 [==============================] - 0s 12us/step - loss: 0.0617 - coeff_determination: 0.7408\n",
      "Epoch 175/400\n",
      "562/562 [==============================] - 0s 11us/step - loss: 0.0616 - coeff_determination: 0.7383\n",
      "Epoch 176/400\n",
      "562/562 [==============================] - 0s 11us/step - loss: 0.0615 - coeff_determination: 0.7425\n",
      "Epoch 177/400\n",
      "562/562 [==============================] - 0s 11us/step - loss: 0.0614 - coeff_determination: 0.7395\n",
      "Epoch 178/400\n",
      "562/562 [==============================] - 0s 11us/step - loss: 0.0614 - coeff_determination: 0.7427\n",
      "Epoch 179/400\n",
      "562/562 [==============================] - 0s 12us/step - loss: 0.0613 - coeff_determination: 0.7422\n",
      "Epoch 180/400\n",
      "562/562 [==============================] - 0s 12us/step - loss: 0.0612 - coeff_determination: 0.7438\n",
      "Epoch 181/400\n",
      "562/562 [==============================] - 0s 11us/step - loss: 0.0612 - coeff_determination: 0.7440\n",
      "Epoch 182/400\n",
      "562/562 [==============================] - 0s 11us/step - loss: 0.0611 - coeff_determination: 0.7414\n",
      "Epoch 183/400\n",
      "562/562 [==============================] - 0s 12us/step - loss: 0.0610 - coeff_determination: 0.7448\n",
      "Epoch 184/400\n",
      "562/562 [==============================] - 0s 11us/step - loss: 0.0609 - coeff_determination: 0.7442\n",
      "Epoch 185/400\n",
      "562/562 [==============================] - 0s 12us/step - loss: 0.0608 - coeff_determination: 0.7441\n",
      "Epoch 186/400\n",
      "562/562 [==============================] - 0s 12us/step - loss: 0.0607 - coeff_determination: 0.7451\n",
      "Epoch 187/400\n",
      "562/562 [==============================] - 0s 12us/step - loss: 0.0607 - coeff_determination: 0.7452\n",
      "Epoch 188/400\n",
      "562/562 [==============================] - 0s 14us/step - loss: 0.0606 - coeff_determination: 0.7466\n",
      "Epoch 189/400\n",
      "562/562 [==============================] - 0s 16us/step - loss: 0.0606 - coeff_determination: 0.7466\n",
      "Epoch 190/400\n",
      "562/562 [==============================] - 0s 16us/step - loss: 0.0604 - coeff_determination: 0.7476\n",
      "Epoch 191/400\n",
      "562/562 [==============================] - 0s 12us/step - loss: 0.0604 - coeff_determination: 0.7464\n",
      "Epoch 192/400\n",
      "562/562 [==============================] - 0s 18us/step - loss: 0.0603 - coeff_determination: 0.7480\n",
      "Epoch 193/400\n",
      "562/562 [==============================] - 0s 12us/step - loss: 0.0603 - coeff_determination: 0.7464\n",
      "Epoch 194/400\n",
      "562/562 [==============================] - 0s 12us/step - loss: 0.0602 - coeff_determination: 0.7483\n",
      "Epoch 195/400\n",
      "562/562 [==============================] - 0s 12us/step - loss: 0.0601 - coeff_determination: 0.7483\n",
      "Epoch 196/400\n",
      "562/562 [==============================] - 0s 12us/step - loss: 0.0601 - coeff_determination: 0.7472\n",
      "Epoch 197/400\n",
      "562/562 [==============================] - 0s 12us/step - loss: 0.0600 - coeff_determination: 0.7475\n",
      "Epoch 198/400\n",
      "562/562 [==============================] - 0s 12us/step - loss: 0.0599 - coeff_determination: 0.7487\n",
      "Epoch 199/400\n",
      "562/562 [==============================] - 0s 11us/step - loss: 0.0598 - coeff_determination: 0.7490\n",
      "Epoch 200/400\n",
      "562/562 [==============================] - 0s 12us/step - loss: 0.0598 - coeff_determination: 0.7502\n",
      "Epoch 201/400\n",
      "562/562 [==============================] - 0s 12us/step - loss: 0.0597 - coeff_determination: 0.7457\n",
      "Epoch 202/400\n",
      "562/562 [==============================] - 0s 14us/step - loss: 0.0596 - coeff_determination: 0.7468\n",
      "Epoch 203/400\n",
      "562/562 [==============================] - 0s 12us/step - loss: 0.0596 - coeff_determination: 0.7487\n",
      "Epoch 204/400\n",
      "562/562 [==============================] - 0s 14us/step - loss: 0.0596 - coeff_determination: 0.7488\n",
      "Epoch 205/400\n",
      "562/562 [==============================] - 0s 12us/step - loss: 0.0595 - coeff_determination: 0.7506\n",
      "Epoch 206/400\n",
      "562/562 [==============================] - 0s 11us/step - loss: 0.0594 - coeff_determination: 0.7517\n",
      "Epoch 207/400\n",
      "562/562 [==============================] - 0s 12us/step - loss: 0.0593 - coeff_determination: 0.7513\n",
      "Epoch 208/400\n",
      "562/562 [==============================] - 0s 12us/step - loss: 0.0592 - coeff_determination: 0.7519\n",
      "Epoch 209/400\n",
      "562/562 [==============================] - 0s 12us/step - loss: 0.0592 - coeff_determination: 0.7521\n",
      "Epoch 210/400\n",
      "562/562 [==============================] - 0s 12us/step - loss: 0.0591 - coeff_determination: 0.7515\n",
      "Epoch 211/400\n",
      "562/562 [==============================] - 0s 12us/step - loss: 0.0591 - coeff_determination: 0.7515\n",
      "Epoch 212/400\n",
      "562/562 [==============================] - 0s 12us/step - loss: 0.0591 - coeff_determination: 0.7504\n",
      "Epoch 213/400\n",
      "562/562 [==============================] - 0s 11us/step - loss: 0.0590 - coeff_determination: 0.7534\n",
      "Epoch 214/400\n",
      "562/562 [==============================] - 0s 11us/step - loss: 0.0589 - coeff_determination: 0.7537\n",
      "Epoch 215/400\n",
      "562/562 [==============================] - 0s 12us/step - loss: 0.0589 - coeff_determination: 0.7530\n",
      "Epoch 216/400\n",
      "562/562 [==============================] - 0s 12us/step - loss: 0.0588 - coeff_determination: 0.7532\n",
      "Epoch 217/400\n",
      "562/562 [==============================] - 0s 14us/step - loss: 0.0587 - coeff_determination: 0.7540\n",
      "Epoch 218/400\n",
      "562/562 [==============================] - 0s 12us/step - loss: 0.0587 - coeff_determination: 0.7537\n",
      "Epoch 219/400\n",
      "562/562 [==============================] - 0s 12us/step - loss: 0.0586 - coeff_determination: 0.7544\n",
      "Epoch 220/400\n",
      "562/562 [==============================] - 0s 12us/step - loss: 0.0586 - coeff_determination: 0.7549\n",
      "Epoch 221/400\n",
      "562/562 [==============================] - 0s 12us/step - loss: 0.0585 - coeff_determination: 0.7551\n",
      "Epoch 222/400\n",
      "562/562 [==============================] - 0s 12us/step - loss: 0.0584 - coeff_determination: 0.7552\n",
      "Epoch 223/400\n",
      "562/562 [==============================] - 0s 12us/step - loss: 0.0584 - coeff_determination: 0.7552\n",
      "Epoch 224/400\n",
      "562/562 [==============================] - 0s 12us/step - loss: 0.0583 - coeff_determination: 0.7545\n",
      "Epoch 225/400\n",
      "562/562 [==============================] - 0s 11us/step - loss: 0.0582 - coeff_determination: 0.7552\n",
      "Epoch 226/400\n",
      "562/562 [==============================] - 0s 14us/step - loss: 0.0582 - coeff_determination: 0.7571\n",
      "Epoch 227/400\n",
      "562/562 [==============================] - 0s 9us/step - loss: 0.0581 - coeff_determination: 0.7500\n",
      "Epoch 228/400\n",
      "562/562 [==============================] - 0s 12us/step - loss: 0.0581 - coeff_determination: 0.7560\n",
      "Epoch 229/400\n",
      "562/562 [==============================] - 0s 11us/step - loss: 0.0580 - coeff_determination: 0.7558\n",
      "Epoch 230/400\n",
      "562/562 [==============================] - 0s 12us/step - loss: 0.0580 - coeff_determination: 0.7541\n",
      "Epoch 231/400\n",
      "562/562 [==============================] - 0s 11us/step - loss: 0.0579 - coeff_determination: 0.7576\n",
      "Epoch 232/400\n",
      "562/562 [==============================] - 0s 11us/step - loss: 0.0579 - coeff_determination: 0.7572\n",
      "Epoch 233/400\n",
      "562/562 [==============================] - 0s 12us/step - loss: 0.0578 - coeff_determination: 0.7526\n",
      "Epoch 234/400\n",
      "562/562 [==============================] - 0s 11us/step - loss: 0.0578 - coeff_determination: 0.7586\n",
      "Epoch 235/400\n",
      "562/562 [==============================] - 0s 11us/step - loss: 0.0577 - coeff_determination: 0.7585\n",
      "Epoch 236/400\n",
      "562/562 [==============================] - 0s 12us/step - loss: 0.0577 - coeff_determination: 0.7570\n",
      "Epoch 237/400\n",
      "562/562 [==============================] - 0s 11us/step - loss: 0.0576 - coeff_determination: 0.7577\n",
      "Epoch 238/400\n",
      "562/562 [==============================] - 0s 12us/step - loss: 0.0575 - coeff_determination: 0.7589\n",
      "Epoch 239/400\n",
      "562/562 [==============================] - 0s 11us/step - loss: 0.0575 - coeff_determination: 0.7587\n",
      "Epoch 240/400\n",
      "562/562 [==============================] - 0s 12us/step - loss: 0.0575 - coeff_determination: 0.7592\n",
      "Epoch 241/400\n",
      "562/562 [==============================] - 0s 11us/step - loss: 0.0574 - coeff_determination: 0.7593\n",
      "Epoch 242/400\n",
      "562/562 [==============================] - 0s 20us/step - loss: 0.0573 - coeff_determination: 0.7582\n",
      "Epoch 243/400\n",
      "562/562 [==============================] - 0s 12us/step - loss: 0.0573 - coeff_determination: 0.7584\n",
      "Epoch 244/400\n",
      "562/562 [==============================] - 0s 11us/step - loss: 0.0572 - coeff_determination: 0.7594\n",
      "Epoch 245/400\n",
      "562/562 [==============================] - 0s 12us/step - loss: 0.0572 - coeff_determination: 0.7608\n",
      "Epoch 246/400\n",
      "562/562 [==============================] - 0s 75us/step - loss: 0.0571 - coeff_determination: 0.7611\n",
      "Epoch 247/400\n",
      "562/562 [==============================] - 0s 34us/step - loss: 0.0571 - coeff_determination: 0.7595\n",
      "Epoch 248/400\n",
      "562/562 [==============================] - 0s 16us/step - loss: 0.0571 - coeff_determination: 0.7616\n",
      "Epoch 249/400\n",
      "562/562 [==============================] - 0s 16us/step - loss: 0.0570 - coeff_determination: 0.7607\n",
      "Epoch 250/400\n",
      "562/562 [==============================] - 0s 16us/step - loss: 0.0570 - coeff_determination: 0.7610\n",
      "Epoch 251/400\n",
      "562/562 [==============================] - 0s 16us/step - loss: 0.0569 - coeff_determination: 0.7618\n",
      "Epoch 252/400\n",
      "562/562 [==============================] - 0s 18us/step - loss: 0.0568 - coeff_determination: 0.7626\n",
      "Epoch 253/400\n",
      "562/562 [==============================] - 0s 18us/step - loss: 0.0568 - coeff_determination: 0.7583\n",
      "Epoch 254/400\n",
      "562/562 [==============================] - 0s 14us/step - loss: 0.0567 - coeff_determination: 0.7615\n",
      "Epoch 255/400\n",
      "562/562 [==============================] - 0s 12us/step - loss: 0.0567 - coeff_determination: 0.7626\n",
      "Epoch 256/400\n",
      "562/562 [==============================] - 0s 11us/step - loss: 0.0567 - coeff_determination: 0.7602\n",
      "Epoch 257/400\n",
      "562/562 [==============================] - 0s 12us/step - loss: 0.0566 - coeff_determination: 0.7619\n",
      "Epoch 258/400\n",
      "562/562 [==============================] - 0s 11us/step - loss: 0.0565 - coeff_determination: 0.7623\n",
      "Epoch 259/400\n",
      "562/562 [==============================] - 0s 11us/step - loss: 0.0565 - coeff_determination: 0.7634\n",
      "Epoch 260/400\n",
      "562/562 [==============================] - 0s 12us/step - loss: 0.0565 - coeff_determination: 0.7608\n",
      "Epoch 261/400\n",
      "562/562 [==============================] - 0s 12us/step - loss: 0.0564 - coeff_determination: 0.7632\n",
      "Epoch 262/400\n",
      "562/562 [==============================] - 0s 14us/step - loss: 0.0564 - coeff_determination: 0.7636\n",
      "Epoch 263/400\n",
      "562/562 [==============================] - 0s 12us/step - loss: 0.0563 - coeff_determination: 0.7637\n",
      "Epoch 264/400\n",
      "562/562 [==============================] - 0s 14us/step - loss: 0.0563 - coeff_determination: 0.7642\n",
      "Epoch 265/400\n",
      "562/562 [==============================] - 0s 14us/step - loss: 0.0562 - coeff_determination: 0.7624\n",
      "Epoch 266/400\n",
      "562/562 [==============================] - 0s 12us/step - loss: 0.0562 - coeff_determination: 0.7650\n",
      "Epoch 267/400\n",
      "562/562 [==============================] - 0s 14us/step - loss: 0.0562 - coeff_determination: 0.7629\n",
      "Epoch 268/400\n",
      "562/562 [==============================] - 0s 12us/step - loss: 0.0562 - coeff_determination: 0.7622\n",
      "Epoch 269/400\n",
      "562/562 [==============================] - 0s 12us/step - loss: 0.0561 - coeff_determination: 0.7624\n",
      "Epoch 270/400\n",
      "562/562 [==============================] - 0s 12us/step - loss: 0.0560 - coeff_determination: 0.7655\n",
      "Epoch 271/400\n",
      "562/562 [==============================] - 0s 16us/step - loss: 0.0560 - coeff_determination: 0.7659\n",
      "Epoch 272/400\n",
      "562/562 [==============================] - 0s 11us/step - loss: 0.0560 - coeff_determination: 0.7646\n",
      "Epoch 273/400\n",
      "562/562 [==============================] - 0s 12us/step - loss: 0.0559 - coeff_determination: 0.7632\n",
      "Epoch 274/400\n",
      "562/562 [==============================] - 0s 11us/step - loss: 0.0559 - coeff_determination: 0.7629\n",
      "Epoch 275/400\n",
      "562/562 [==============================] - 0s 14us/step - loss: 0.0558 - coeff_determination: 0.7659\n",
      "Epoch 276/400\n",
      "562/562 [==============================] - 0s 14us/step - loss: 0.0558 - coeff_determination: 0.7649\n",
      "Epoch 277/400\n",
      "562/562 [==============================] - 0s 12us/step - loss: 0.0557 - coeff_determination: 0.7650\n",
      "Epoch 278/400\n",
      "562/562 [==============================] - 0s 18us/step - loss: 0.0557 - coeff_determination: 0.7662\n",
      "Epoch 279/400\n",
      "562/562 [==============================] - 0s 11us/step - loss: 0.0557 - coeff_determination: 0.7662\n",
      "Epoch 280/400\n",
      "562/562 [==============================] - 0s 12us/step - loss: 0.0556 - coeff_determination: 0.7661\n",
      "Epoch 281/400\n",
      "562/562 [==============================] - 0s 11us/step - loss: 0.0556 - coeff_determination: 0.7671\n",
      "Epoch 282/400\n",
      "562/562 [==============================] - 0s 12us/step - loss: 0.0555 - coeff_determination: 0.7671\n",
      "Epoch 283/400\n",
      "562/562 [==============================] - 0s 11us/step - loss: 0.0555 - coeff_determination: 0.7661\n",
      "Epoch 284/400\n",
      "562/562 [==============================] - 0s 14us/step - loss: 0.0554 - coeff_determination: 0.7674\n",
      "Epoch 285/400\n",
      "562/562 [==============================] - 0s 12us/step - loss: 0.0554 - coeff_determination: 0.7669\n",
      "Epoch 286/400\n",
      "562/562 [==============================] - 0s 11us/step - loss: 0.0554 - coeff_determination: 0.7684\n",
      "Epoch 287/400\n",
      "562/562 [==============================] - 0s 11us/step - loss: 0.0553 - coeff_determination: 0.7670\n",
      "Epoch 288/400\n",
      "562/562 [==============================] - 0s 12us/step - loss: 0.0553 - coeff_determination: 0.7678\n",
      "Epoch 289/400\n",
      "562/562 [==============================] - 0s 11us/step - loss: 0.0552 - coeff_determination: 0.7678\n",
      "Epoch 290/400\n",
      "562/562 [==============================] - 0s 11us/step - loss: 0.0552 - coeff_determination: 0.7682\n",
      "Epoch 291/400\n",
      "562/562 [==============================] - 0s 12us/step - loss: 0.0551 - coeff_determination: 0.7693\n",
      "Epoch 292/400\n",
      "562/562 [==============================] - 0s 12us/step - loss: 0.0551 - coeff_determination: 0.7679\n",
      "Epoch 293/400\n",
      "562/562 [==============================] - 0s 9us/step - loss: 0.0551 - coeff_determination: 0.7693\n",
      "Epoch 294/400\n",
      "562/562 [==============================] - 0s 12us/step - loss: 0.0551 - coeff_determination: 0.7681\n",
      "Epoch 295/400\n",
      "562/562 [==============================] - 0s 12us/step - loss: 0.0551 - coeff_determination: 0.7668\n",
      "Epoch 296/400\n",
      "562/562 [==============================] - 0s 11us/step - loss: 0.0550 - coeff_determination: 0.7685\n",
      "Epoch 297/400\n",
      "562/562 [==============================] - 0s 9us/step - loss: 0.0549 - coeff_determination: 0.7695\n",
      "Epoch 298/400\n",
      "562/562 [==============================] - 0s 11us/step - loss: 0.0549 - coeff_determination: 0.7699\n",
      "Epoch 299/400\n",
      "562/562 [==============================] - 0s 12us/step - loss: 0.0549 - coeff_determination: 0.7691\n",
      "Epoch 300/400\n",
      "562/562 [==============================] - 0s 11us/step - loss: 0.0548 - coeff_determination: 0.7698\n",
      "Epoch 301/400\n",
      "562/562 [==============================] - 0s 11us/step - loss: 0.0548 - coeff_determination: 0.7697\n",
      "Epoch 302/400\n",
      "562/562 [==============================] - 0s 11us/step - loss: 0.0547 - coeff_determination: 0.7704\n",
      "Epoch 303/400\n",
      "562/562 [==============================] - 0s 12us/step - loss: 0.0547 - coeff_determination: 0.7687\n",
      "Epoch 304/400\n",
      "562/562 [==============================] - 0s 11us/step - loss: 0.0547 - coeff_determination: 0.7705\n",
      "Epoch 305/400\n",
      "562/562 [==============================] - 0s 14us/step - loss: 0.0546 - coeff_determination: 0.7709\n",
      "Epoch 306/400\n",
      "562/562 [==============================] - 0s 12us/step - loss: 0.0546 - coeff_determination: 0.7680\n",
      "Epoch 307/400\n",
      "562/562 [==============================] - 0s 14us/step - loss: 0.0546 - coeff_determination: 0.7703\n",
      "Epoch 308/400\n",
      "562/562 [==============================] - 0s 12us/step - loss: 0.0545 - coeff_determination: 0.7721\n",
      "Epoch 309/400\n",
      "562/562 [==============================] - 0s 12us/step - loss: 0.0545 - coeff_determination: 0.7717\n",
      "Epoch 310/400\n",
      "562/562 [==============================] - 0s 11us/step - loss: 0.0544 - coeff_determination: 0.7689\n",
      "Epoch 311/400\n",
      "562/562 [==============================] - 0s 12us/step - loss: 0.0544 - coeff_determination: 0.7708\n",
      "Epoch 312/400\n",
      "562/562 [==============================] - 0s 11us/step - loss: 0.0544 - coeff_determination: 0.7709\n",
      "Epoch 313/400\n",
      "562/562 [==============================] - 0s 12us/step - loss: 0.0543 - coeff_determination: 0.7727\n",
      "Epoch 314/400\n",
      "562/562 [==============================] - 0s 12us/step - loss: 0.0543 - coeff_determination: 0.7726\n",
      "Epoch 315/400\n",
      "562/562 [==============================] - 0s 11us/step - loss: 0.0542 - coeff_determination: 0.7730\n",
      "Epoch 316/400\n",
      "562/562 [==============================] - 0s 12us/step - loss: 0.0542 - coeff_determination: 0.7731\n",
      "Epoch 317/400\n",
      "562/562 [==============================] - 0s 14us/step - loss: 0.0542 - coeff_determination: 0.7726\n",
      "Epoch 318/400\n",
      "562/562 [==============================] - 0s 11us/step - loss: 0.0542 - coeff_determination: 0.7731\n",
      "Epoch 319/400\n",
      "562/562 [==============================] - 0s 12us/step - loss: 0.0541 - coeff_determination: 0.7727\n",
      "Epoch 320/400\n",
      "562/562 [==============================] - 0s 9us/step - loss: 0.0541 - coeff_determination: 0.7682\n",
      "Epoch 321/400\n",
      "562/562 [==============================] - 0s 11us/step - loss: 0.0540 - coeff_determination: 0.7721\n",
      "Epoch 322/400\n",
      "562/562 [==============================] - 0s 12us/step - loss: 0.0540 - coeff_determination: 0.7734\n",
      "Epoch 323/400\n",
      "562/562 [==============================] - 0s 11us/step - loss: 0.0540 - coeff_determination: 0.7727\n",
      "Epoch 324/400\n",
      "562/562 [==============================] - 0s 11us/step - loss: 0.0539 - coeff_determination: 0.7725\n",
      "Epoch 325/400\n",
      "562/562 [==============================] - 0s 11us/step - loss: 0.0539 - coeff_determination: 0.7724\n",
      "Epoch 326/400\n",
      "562/562 [==============================] - 0s 11us/step - loss: 0.0539 - coeff_determination: 0.7708\n",
      "Epoch 327/400\n",
      "562/562 [==============================] - 0s 12us/step - loss: 0.0539 - coeff_determination: 0.7720\n",
      "Epoch 328/400\n",
      "562/562 [==============================] - 0s 12us/step - loss: 0.0538 - coeff_determination: 0.7746\n",
      "Epoch 329/400\n",
      "562/562 [==============================] - 0s 11us/step - loss: 0.0538 - coeff_determination: 0.7729\n",
      "Epoch 330/400\n",
      "562/562 [==============================] - 0s 11us/step - loss: 0.0537 - coeff_determination: 0.7714\n",
      "Epoch 331/400\n",
      "562/562 [==============================] - 0s 11us/step - loss: 0.0537 - coeff_determination: 0.7749\n",
      "Epoch 332/400\n",
      "562/562 [==============================] - 0s 12us/step - loss: 0.0537 - coeff_determination: 0.7751\n",
      "Epoch 333/400\n",
      "562/562 [==============================] - 0s 12us/step - loss: 0.0536 - coeff_determination: 0.7749\n",
      "Epoch 334/400\n",
      "562/562 [==============================] - 0s 12us/step - loss: 0.0536 - coeff_determination: 0.7735\n",
      "Epoch 335/400\n",
      "562/562 [==============================] - 0s 9us/step - loss: 0.0536 - coeff_determination: 0.7751\n",
      "Epoch 336/400\n",
      "562/562 [==============================] - 0s 11us/step - loss: 0.0535 - coeff_determination: 0.7744\n",
      "Epoch 337/400\n",
      "562/562 [==============================] - 0s 11us/step - loss: 0.0535 - coeff_determination: 0.7754\n",
      "Epoch 338/400\n",
      "562/562 [==============================] - 0s 11us/step - loss: 0.0535 - coeff_determination: 0.7742\n",
      "Epoch 339/400\n",
      "562/562 [==============================] - 0s 11us/step - loss: 0.0535 - coeff_determination: 0.7749\n",
      "Epoch 340/400\n",
      "562/562 [==============================] - 0s 11us/step - loss: 0.0534 - coeff_determination: 0.7743\n",
      "Epoch 341/400\n",
      "562/562 [==============================] - 0s 9us/step - loss: 0.0534 - coeff_determination: 0.7756\n",
      "Epoch 342/400\n",
      "562/562 [==============================] - 0s 11us/step - loss: 0.0534 - coeff_determination: 0.7760\n",
      "Epoch 343/400\n",
      "562/562 [==============================] - 0s 11us/step - loss: 0.0533 - coeff_determination: 0.7752\n",
      "Epoch 344/400\n",
      "562/562 [==============================] - 0s 9us/step - loss: 0.0533 - coeff_determination: 0.7766\n",
      "Epoch 345/400\n",
      "562/562 [==============================] - 0s 11us/step - loss: 0.0533 - coeff_determination: 0.7749\n",
      "Epoch 346/400\n",
      "562/562 [==============================] - 0s 11us/step - loss: 0.0532 - coeff_determination: 0.7757\n",
      "Epoch 347/400\n",
      "562/562 [==============================] - 0s 11us/step - loss: 0.0532 - coeff_determination: 0.7778\n",
      "Epoch 348/400\n",
      "562/562 [==============================] - 0s 9us/step - loss: 0.0532 - coeff_determination: 0.7774\n",
      "Epoch 349/400\n",
      "562/562 [==============================] - 0s 11us/step - loss: 0.0531 - coeff_determination: 0.7773\n",
      "Epoch 350/400\n",
      "562/562 [==============================] - 0s 11us/step - loss: 0.0531 - coeff_determination: 0.7742\n",
      "Epoch 351/400\n",
      "562/562 [==============================] - 0s 11us/step - loss: 0.0531 - coeff_determination: 0.7771\n",
      "Epoch 352/400\n",
      "562/562 [==============================] - 0s 11us/step - loss: 0.0530 - coeff_determination: 0.7755\n",
      "Epoch 353/400\n",
      "562/562 [==============================] - 0s 11us/step - loss: 0.0530 - coeff_determination: 0.7779\n",
      "Epoch 354/400\n",
      "562/562 [==============================] - 0s 11us/step - loss: 0.0530 - coeff_determination: 0.7788\n",
      "Epoch 355/400\n",
      "562/562 [==============================] - 0s 11us/step - loss: 0.0530 - coeff_determination: 0.7775\n",
      "Epoch 356/400\n",
      "562/562 [==============================] - 0s 11us/step - loss: 0.0529 - coeff_determination: 0.7785\n",
      "Epoch 357/400\n",
      "562/562 [==============================] - 0s 11us/step - loss: 0.0529 - coeff_determination: 0.7770\n",
      "Epoch 358/400\n",
      "562/562 [==============================] - 0s 9us/step - loss: 0.0529 - coeff_determination: 0.7780\n",
      "Epoch 359/400\n",
      "562/562 [==============================] - 0s 12us/step - loss: 0.0528 - coeff_determination: 0.7765\n",
      "Epoch 360/400\n",
      "562/562 [==============================] - 0s 11us/step - loss: 0.0528 - coeff_determination: 0.7784\n",
      "Epoch 361/400\n",
      "562/562 [==============================] - 0s 11us/step - loss: 0.0528 - coeff_determination: 0.7793\n",
      "Epoch 362/400\n",
      "562/562 [==============================] - 0s 11us/step - loss: 0.0527 - coeff_determination: 0.7791\n",
      "Epoch 363/400\n",
      "562/562 [==============================] - 0s 12us/step - loss: 0.0527 - coeff_determination: 0.7787\n",
      "Epoch 364/400\n",
      "562/562 [==============================] - 0s 14us/step - loss: 0.0527 - coeff_determination: 0.7793\n",
      "Epoch 365/400\n",
      "562/562 [==============================] - 0s 12us/step - loss: 0.0527 - coeff_determination: 0.7793\n",
      "Epoch 366/400\n",
      "562/562 [==============================] - 0s 14us/step - loss: 0.0527 - coeff_determination: 0.7779\n",
      "Epoch 367/400\n",
      "562/562 [==============================] - 0s 11us/step - loss: 0.0526 - coeff_determination: 0.7780\n",
      "Epoch 368/400\n",
      "562/562 [==============================] - 0s 11us/step - loss: 0.0526 - coeff_determination: 0.7788\n",
      "Epoch 369/400\n",
      "562/562 [==============================] - 0s 11us/step - loss: 0.0526 - coeff_determination: 0.7758\n",
      "Epoch 370/400\n",
      "562/562 [==============================] - 0s 12us/step - loss: 0.0525 - coeff_determination: 0.7800\n",
      "Epoch 371/400\n",
      "562/562 [==============================] - 0s 12us/step - loss: 0.0525 - coeff_determination: 0.7794\n",
      "Epoch 372/400\n",
      "562/562 [==============================] - 0s 14us/step - loss: 0.0525 - coeff_determination: 0.7792\n",
      "Epoch 373/400\n",
      "562/562 [==============================] - 0s 12us/step - loss: 0.0524 - coeff_determination: 0.7805\n",
      "Epoch 374/400\n",
      "562/562 [==============================] - 0s 14us/step - loss: 0.0524 - coeff_determination: 0.7766\n",
      "Epoch 375/400\n",
      "562/562 [==============================] - 0s 14us/step - loss: 0.0524 - coeff_determination: 0.7811\n",
      "Epoch 376/400\n",
      "562/562 [==============================] - 0s 12us/step - loss: 0.0524 - coeff_determination: 0.7782\n",
      "Epoch 377/400\n",
      "562/562 [==============================] - 0s 12us/step - loss: 0.0523 - coeff_determination: 0.7756\n",
      "Epoch 378/400\n",
      "562/562 [==============================] - 0s 14us/step - loss: 0.0523 - coeff_determination: 0.7801\n",
      "Epoch 379/400\n",
      "562/562 [==============================] - 0s 11us/step - loss: 0.0523 - coeff_determination: 0.7804\n",
      "Epoch 380/400\n",
      "562/562 [==============================] - 0s 12us/step - loss: 0.0523 - coeff_determination: 0.7815\n",
      "Epoch 381/400\n",
      "562/562 [==============================] - 0s 12us/step - loss: 0.0522 - coeff_determination: 0.7805\n",
      "Epoch 382/400\n",
      "562/562 [==============================] - 0s 11us/step - loss: 0.0522 - coeff_determination: 0.7813\n",
      "Epoch 383/400\n",
      "562/562 [==============================] - 0s 11us/step - loss: 0.0522 - coeff_determination: 0.7815\n",
      "Epoch 384/400\n",
      "562/562 [==============================] - 0s 12us/step - loss: 0.0522 - coeff_determination: 0.7821\n",
      "Epoch 385/400\n",
      "562/562 [==============================] - 0s 11us/step - loss: 0.0521 - coeff_determination: 0.7794\n",
      "Epoch 386/400\n",
      "562/562 [==============================] - 0s 11us/step - loss: 0.0521 - coeff_determination: 0.7803\n",
      "Epoch 387/400\n",
      "562/562 [==============================] - 0s 14us/step - loss: 0.0521 - coeff_determination: 0.7811\n",
      "Epoch 388/400\n",
      "562/562 [==============================] - 0s 12us/step - loss: 0.0520 - coeff_determination: 0.7814\n",
      "Epoch 389/400\n",
      "562/562 [==============================] - 0s 14us/step - loss: 0.0520 - coeff_determination: 0.7818\n",
      "Epoch 390/400\n",
      "562/562 [==============================] - 0s 11us/step - loss: 0.0520 - coeff_determination: 0.7820\n",
      "Epoch 391/400\n",
      "562/562 [==============================] - 0s 11us/step - loss: 0.0520 - coeff_determination: 0.7824\n",
      "Epoch 392/400\n",
      "562/562 [==============================] - 0s 14us/step - loss: 0.0519 - coeff_determination: 0.7822\n",
      "Epoch 393/400\n",
      "562/562 [==============================] - 0s 11us/step - loss: 0.0519 - coeff_determination: 0.7806\n",
      "Epoch 394/400\n",
      "562/562 [==============================] - 0s 12us/step - loss: 0.0520 - coeff_determination: 0.7793\n",
      "Epoch 395/400\n",
      "562/562 [==============================] - 0s 11us/step - loss: 0.0519 - coeff_determination: 0.7818\n",
      "Epoch 396/400\n",
      "562/562 [==============================] - 0s 12us/step - loss: 0.0518 - coeff_determination: 0.7813\n",
      "Epoch 397/400\n",
      "562/562 [==============================] - 0s 11us/step - loss: 0.0518 - coeff_determination: 0.7836\n",
      "Epoch 398/400\n",
      "562/562 [==============================] - 0s 11us/step - loss: 0.0518 - coeff_determination: 0.7821\n",
      "Epoch 399/400\n",
      "562/562 [==============================] - 0s 12us/step - loss: 0.0518 - coeff_determination: 0.7837\n",
      "Epoch 400/400\n",
      "562/562 [==============================] - 0s 11us/step - loss: 0.0518 - coeff_determination: 0.7824\n",
      "562/562 [==============================] - 0s 119us/step\n"
     ]
    },
    {
     "data": {
      "text/plain": [
       "[0.05170567609449298, 0.781113977746183]"
      ]
     },
     "execution_count": 127,
     "metadata": {},
     "output_type": "execute_result"
    }
   ],
   "source": [
    "from keras.models import Sequential\n",
    "from keras.layers.core import Dense, Activation\n",
    "from keras.optimizers import SGD\n",
    "#make model\n",
    "modelRP = Sequential()\n",
    "#input layer\n",
    "modelRP.add(Dense(10, input_dim = 11 , activation = 'sigmoid'))\n",
    "#output layer\n",
    "modelRP.add(Dense(1))\n",
    "\n",
    "#compile the model \n",
    "modelRP.compile(loss ='mse', optimizer = 'sgd' , metrics = [coeff_determination] )\n",
    "\n",
    "#train the model\n",
    "modelRP.fit(X_train, y_train, epochs = 400, batch_size = 128)\n",
    "\n",
    "#step 4: evaluation\n",
    "modelRP.evaluate(X_train, y_train)"
   ]
  },
  {
   "cell_type": "code",
   "execution_count": 128,
   "metadata": {},
   "outputs": [
    {
     "name": "stdout",
     "output_type": "stream",
     "text": [
      "188/188 [==============================] - 0s 32us/step\n"
     ]
    },
    {
     "data": {
      "text/plain": [
       "[0.05484704609881056, 0.754708560223275]"
      ]
     },
     "execution_count": 128,
     "metadata": {},
     "output_type": "execute_result"
    }
   ],
   "source": [
    "modelRP.evaluate(X_test, y_test)"
   ]
  },
  {
   "cell_type": "markdown",
   "metadata": {},
   "source": [
    "## MLP - Regression "
   ]
  },
  {
   "cell_type": "code",
   "execution_count": 129,
   "metadata": {},
   "outputs": [
    {
     "name": "stdout",
     "output_type": "stream",
     "text": [
      "Epoch 1/400\n",
      "562/562 [==============================] - 0s 365us/step - loss: 0.3375 - coeff_determination: -0.4194\n",
      "Epoch 2/400\n",
      "562/562 [==============================] - 0s 11us/step - loss: 0.2984 - coeff_determination: -0.2808\n",
      "Epoch 3/400\n",
      "562/562 [==============================] - 0s 9us/step - loss: 0.2800 - coeff_determination: -0.1893\n",
      "Epoch 4/400\n",
      "562/562 [==============================] - 0s 12us/step - loss: 0.2647 - coeff_determination: -0.1132\n",
      "Epoch 5/400\n",
      "562/562 [==============================] - 0s 9us/step - loss: 0.2510 - coeff_determination: -0.0517\n",
      "Epoch 6/400\n",
      "562/562 [==============================] - 0s 11us/step - loss: 0.2385 - coeff_determination: -0.0011\n",
      "Epoch 7/400\n",
      "562/562 [==============================] - 0s 11us/step - loss: 0.2289 - coeff_determination: 0.0395\n",
      "Epoch 8/400\n",
      "562/562 [==============================] - 0s 11us/step - loss: 0.2216 - coeff_determination: 0.0687\n",
      "Epoch 9/400\n",
      "562/562 [==============================] - 0s 11us/step - loss: 0.2153 - coeff_determination: 0.0977\n",
      "Epoch 10/400\n",
      "562/562 [==============================] - 0s 9us/step - loss: 0.2100 - coeff_determination: 0.1110\n",
      "Epoch 11/400\n",
      "562/562 [==============================] - 0s 11us/step - loss: 0.2052 - coeff_determination: 0.1210\n",
      "Epoch 12/400\n",
      "562/562 [==============================] - 0s 9us/step - loss: 0.2002 - coeff_determination: 0.1604\n",
      "Epoch 13/400\n",
      "562/562 [==============================] - 0s 11us/step - loss: 0.1955 - coeff_determination: 0.1805\n",
      "Epoch 14/400\n",
      "562/562 [==============================] - 0s 11us/step - loss: 0.1911 - coeff_determination: 0.2000\n",
      "Epoch 15/400\n",
      "562/562 [==============================] - 0s 11us/step - loss: 0.1868 - coeff_determination: 0.2127\n",
      "Epoch 16/400\n",
      "562/562 [==============================] - 0s 12us/step - loss: 0.1824 - coeff_determination: 0.2351\n",
      "Epoch 17/400\n",
      "562/562 [==============================] - 0s 12us/step - loss: 0.1781 - coeff_determination: 0.2550\n",
      "Epoch 18/400\n",
      "562/562 [==============================] - 0s 9us/step - loss: 0.1744 - coeff_determination: 0.2635\n",
      "Epoch 19/400\n",
      "562/562 [==============================] - 0s 9us/step - loss: 0.1708 - coeff_determination: 0.2835\n",
      "Epoch 20/400\n",
      "562/562 [==============================] - 0s 12us/step - loss: 0.1671 - coeff_determination: 0.2996\n",
      "Epoch 21/400\n",
      "562/562 [==============================] - 0s 11us/step - loss: 0.1636 - coeff_determination: 0.3065\n",
      "Epoch 22/400\n",
      "562/562 [==============================] - 0s 9us/step - loss: 0.1601 - coeff_determination: 0.3228\n",
      "Epoch 23/400\n",
      "562/562 [==============================] - 0s 9us/step - loss: 0.1567 - coeff_determination: 0.3445\n",
      "Epoch 24/400\n",
      "562/562 [==============================] - 0s 9us/step - loss: 0.1535 - coeff_determination: 0.3542\n",
      "Epoch 25/400\n",
      "562/562 [==============================] - 0s 11us/step - loss: 0.1501 - coeff_determination: 0.3695\n",
      "Epoch 26/400\n",
      "562/562 [==============================] - 0s 11us/step - loss: 0.1467 - coeff_determination: 0.3850\n",
      "Epoch 27/400\n",
      "562/562 [==============================] - 0s 12us/step - loss: 0.1434 - coeff_determination: 0.3958\n",
      "Epoch 28/400\n",
      "562/562 [==============================] - 0s 14us/step - loss: 0.1404 - coeff_determination: 0.4130\n",
      "Epoch 29/400\n",
      "562/562 [==============================] - 0s 14us/step - loss: 0.1374 - coeff_determination: 0.4169\n",
      "Epoch 30/400\n",
      "562/562 [==============================] - 0s 18us/step - loss: 0.1343 - coeff_determination: 0.4380\n",
      "Epoch 31/400\n",
      "562/562 [==============================] - 0s 11us/step - loss: 0.1316 - coeff_determination: 0.4461\n",
      "Epoch 32/400\n",
      "562/562 [==============================] - 0s 11us/step - loss: 0.1288 - coeff_determination: 0.4598\n",
      "Epoch 33/400\n",
      "562/562 [==============================] - 0s 12us/step - loss: 0.1266 - coeff_determination: 0.4671\n",
      "Epoch 34/400\n",
      "562/562 [==============================] - 0s 11us/step - loss: 0.1244 - coeff_determination: 0.4737\n",
      "Epoch 35/400\n",
      "562/562 [==============================] - 0s 11us/step - loss: 0.1223 - coeff_determination: 0.4835\n",
      "Epoch 36/400\n",
      "562/562 [==============================] - 0s 11us/step - loss: 0.1203 - coeff_determination: 0.4967\n",
      "Epoch 37/400\n",
      "562/562 [==============================] - 0s 12us/step - loss: 0.1184 - coeff_determination: 0.5011\n",
      "Epoch 38/400\n",
      "562/562 [==============================] - 0s 11us/step - loss: 0.1164 - coeff_determination: 0.5120\n",
      "Epoch 39/400\n",
      "562/562 [==============================] - 0s 12us/step - loss: 0.1148 - coeff_determination: 0.5193\n",
      "Epoch 40/400\n",
      "562/562 [==============================] - 0s 11us/step - loss: 0.1134 - coeff_determination: 0.5208\n",
      "Epoch 41/400\n",
      "562/562 [==============================] - 0s 12us/step - loss: 0.1115 - coeff_determination: 0.5332\n",
      "Epoch 42/400\n",
      "562/562 [==============================] - 0s 12us/step - loss: 0.1102 - coeff_determination: 0.5401\n",
      "Epoch 43/400\n",
      "562/562 [==============================] - 0s 11us/step - loss: 0.1094 - coeff_determination: 0.5384\n",
      "Epoch 44/400\n",
      "562/562 [==============================] - 0s 11us/step - loss: 0.1077 - coeff_determination: 0.5474\n",
      "Epoch 45/400\n",
      "562/562 [==============================] - 0s 12us/step - loss: 0.1065 - coeff_determination: 0.5492\n",
      "Epoch 46/400\n",
      "562/562 [==============================] - 0s 11us/step - loss: 0.1053 - coeff_determination: 0.5589\n",
      "Epoch 47/400\n",
      "562/562 [==============================] - 0s 12us/step - loss: 0.1040 - coeff_determination: 0.5646\n",
      "Epoch 48/400\n",
      "562/562 [==============================] - 0s 11us/step - loss: 0.1030 - coeff_determination: 0.5669\n",
      "Epoch 49/400\n",
      "562/562 [==============================] - 0s 14us/step - loss: 0.1020 - coeff_determination: 0.5704\n",
      "Epoch 50/400\n",
      "562/562 [==============================] - 0s 16us/step - loss: 0.1011 - coeff_determination: 0.5702\n",
      "Epoch 51/400\n",
      "562/562 [==============================] - 0s 25us/step - loss: 0.1002 - coeff_determination: 0.5788\n",
      "Epoch 52/400\n",
      "562/562 [==============================] - 0s 20us/step - loss: 0.0992 - coeff_determination: 0.5781\n",
      "Epoch 53/400\n",
      "562/562 [==============================] - 0s 18us/step - loss: 0.0983 - coeff_determination: 0.5869\n",
      "Epoch 54/400\n",
      "562/562 [==============================] - 0s 16us/step - loss: 0.0974 - coeff_determination: 0.5922\n",
      "Epoch 55/400\n",
      "562/562 [==============================] - 0s 14us/step - loss: 0.0967 - coeff_determination: 0.5954\n",
      "Epoch 56/400\n",
      "562/562 [==============================] - 0s 14us/step - loss: 0.0960 - coeff_determination: 0.5966\n",
      "Epoch 57/400\n",
      "562/562 [==============================] - 0s 12us/step - loss: 0.0954 - coeff_determination: 0.5994\n",
      "Epoch 58/400\n",
      "562/562 [==============================] - 0s 11us/step - loss: 0.0945 - coeff_determination: 0.6036\n",
      "Epoch 59/400\n",
      "562/562 [==============================] - 0s 12us/step - loss: 0.0941 - coeff_determination: 0.5975\n",
      "Epoch 60/400\n",
      "562/562 [==============================] - 0s 11us/step - loss: 0.0935 - coeff_determination: 0.6046\n",
      "Epoch 61/400\n",
      "562/562 [==============================] - 0s 11us/step - loss: 0.0927 - coeff_determination: 0.6072\n",
      "Epoch 62/400\n",
      "562/562 [==============================] - 0s 11us/step - loss: 0.0920 - coeff_determination: 0.6124\n",
      "Epoch 63/400\n",
      "562/562 [==============================] - 0s 12us/step - loss: 0.0916 - coeff_determination: 0.6123\n",
      "Epoch 64/400\n",
      "562/562 [==============================] - 0s 12us/step - loss: 0.0909 - coeff_determination: 0.6182\n",
      "Epoch 65/400\n",
      "562/562 [==============================] - 0s 11us/step - loss: 0.0904 - coeff_determination: 0.6198\n",
      "Epoch 66/400\n",
      "562/562 [==============================] - 0s 11us/step - loss: 0.0900 - coeff_determination: 0.6183\n",
      "Epoch 67/400\n",
      "562/562 [==============================] - 0s 12us/step - loss: 0.0894 - coeff_determination: 0.6250\n",
      "Epoch 68/400\n",
      "562/562 [==============================] - 0s 12us/step - loss: 0.0889 - coeff_determination: 0.6258\n",
      "Epoch 69/400\n",
      "562/562 [==============================] - 0s 12us/step - loss: 0.0884 - coeff_determination: 0.6295\n",
      "Epoch 70/400\n",
      "562/562 [==============================] - 0s 12us/step - loss: 0.0882 - coeff_determination: 0.6288\n",
      "Epoch 71/400\n",
      "562/562 [==============================] - 0s 16us/step - loss: 0.0876 - coeff_determination: 0.6339\n",
      "Epoch 72/400\n",
      "562/562 [==============================] - 0s 12us/step - loss: 0.0871 - coeff_determination: 0.6355\n",
      "Epoch 73/400\n",
      "562/562 [==============================] - 0s 12us/step - loss: 0.0867 - coeff_determination: 0.6354\n",
      "Epoch 74/400\n",
      "562/562 [==============================] - 0s 11us/step - loss: 0.0862 - coeff_determination: 0.6395\n",
      "Epoch 75/400\n",
      "562/562 [==============================] - 0s 12us/step - loss: 0.0858 - coeff_determination: 0.6396\n",
      "Epoch 76/400\n",
      "562/562 [==============================] - 0s 14us/step - loss: 0.0853 - coeff_determination: 0.6435\n",
      "Epoch 77/400\n",
      "562/562 [==============================] - 0s 14us/step - loss: 0.0850 - coeff_determination: 0.6449\n",
      "Epoch 78/400\n",
      "562/562 [==============================] - 0s 14us/step - loss: 0.0846 - coeff_determination: 0.6437\n",
      "Epoch 79/400\n",
      "562/562 [==============================] - 0s 12us/step - loss: 0.0842 - coeff_determination: 0.6461\n",
      "Epoch 80/400\n",
      "562/562 [==============================] - 0s 12us/step - loss: 0.0838 - coeff_determination: 0.6484\n",
      "Epoch 81/400\n",
      "562/562 [==============================] - 0s 12us/step - loss: 0.0835 - coeff_determination: 0.6480\n",
      "Epoch 82/400\n",
      "562/562 [==============================] - 0s 12us/step - loss: 0.0831 - coeff_determination: 0.6514\n",
      "Epoch 83/400\n",
      "562/562 [==============================] - 0s 12us/step - loss: 0.0828 - coeff_determination: 0.6536\n",
      "Epoch 84/400\n",
      "562/562 [==============================] - 0s 16us/step - loss: 0.0825 - coeff_determination: 0.6492\n",
      "Epoch 85/400\n",
      "562/562 [==============================] - 0s 12us/step - loss: 0.0821 - coeff_determination: 0.6527\n",
      "Epoch 86/400\n",
      "562/562 [==============================] - 0s 14us/step - loss: 0.0818 - coeff_determination: 0.6574\n",
      "Epoch 87/400\n",
      "562/562 [==============================] - 0s 16us/step - loss: 0.0814 - coeff_determination: 0.6597\n",
      "Epoch 88/400\n",
      "562/562 [==============================] - 0s 16us/step - loss: 0.0811 - coeff_determination: 0.6601\n",
      "Epoch 89/400\n",
      "562/562 [==============================] - 0s 14us/step - loss: 0.0808 - coeff_determination: 0.6598\n",
      "Epoch 90/400\n",
      "562/562 [==============================] - 0s 14us/step - loss: 0.0804 - coeff_determination: 0.6595\n",
      "Epoch 91/400\n",
      "562/562 [==============================] - 0s 12us/step - loss: 0.0801 - coeff_determination: 0.6598\n",
      "Epoch 92/400\n",
      "562/562 [==============================] - 0s 11us/step - loss: 0.0799 - coeff_determination: 0.6660\n",
      "Epoch 93/400\n",
      "562/562 [==============================] - 0s 12us/step - loss: 0.0795 - coeff_determination: 0.6626\n",
      "Epoch 94/400\n",
      "562/562 [==============================] - 0s 11us/step - loss: 0.0792 - coeff_determination: 0.6668\n",
      "Epoch 95/400\n",
      "562/562 [==============================] - 0s 12us/step - loss: 0.0789 - coeff_determination: 0.6710\n",
      "Epoch 96/400\n",
      "562/562 [==============================] - 0s 11us/step - loss: 0.0786 - coeff_determination: 0.6674\n",
      "Epoch 97/400\n",
      "562/562 [==============================] - 0s 12us/step - loss: 0.0785 - coeff_determination: 0.6710\n",
      "Epoch 98/400\n",
      "562/562 [==============================] - 0s 11us/step - loss: 0.0782 - coeff_determination: 0.6718\n",
      "Epoch 99/400\n",
      "562/562 [==============================] - 0s 11us/step - loss: 0.0779 - coeff_determination: 0.6731\n",
      "Epoch 100/400\n",
      "562/562 [==============================] - 0s 12us/step - loss: 0.0777 - coeff_determination: 0.6719\n",
      "Epoch 101/400\n",
      "562/562 [==============================] - 0s 11us/step - loss: 0.0771 - coeff_determination: 0.6771\n",
      "Epoch 102/400\n",
      "562/562 [==============================] - 0s 11us/step - loss: 0.0769 - coeff_determination: 0.6768\n",
      "Epoch 103/400\n",
      "562/562 [==============================] - 0s 11us/step - loss: 0.0766 - coeff_determination: 0.6778\n",
      "Epoch 104/400\n",
      "562/562 [==============================] - 0s 14us/step - loss: 0.0764 - coeff_determination: 0.6783\n",
      "Epoch 105/400\n",
      "562/562 [==============================] - 0s 12us/step - loss: 0.0763 - coeff_determination: 0.6787\n",
      "Epoch 106/400\n",
      "562/562 [==============================] - 0s 16us/step - loss: 0.0759 - coeff_determination: 0.6814\n",
      "Epoch 107/400\n",
      "562/562 [==============================] - 0s 16us/step - loss: 0.0756 - coeff_determination: 0.6823\n",
      "Epoch 108/400\n",
      "562/562 [==============================] - 0s 16us/step - loss: 0.0754 - coeff_determination: 0.6833\n",
      "Epoch 109/400\n",
      "562/562 [==============================] - 0s 16us/step - loss: 0.0752 - coeff_determination: 0.6841\n",
      "Epoch 110/400\n",
      "562/562 [==============================] - 0s 12us/step - loss: 0.0749 - coeff_determination: 0.6851\n",
      "Epoch 111/400\n",
      "562/562 [==============================] - 0s 12us/step - loss: 0.0747 - coeff_determination: 0.6875\n",
      "Epoch 112/400\n",
      "562/562 [==============================] - 0s 11us/step - loss: 0.0745 - coeff_determination: 0.6882\n",
      "Epoch 113/400\n",
      "562/562 [==============================] - 0s 11us/step - loss: 0.0743 - coeff_determination: 0.6871\n",
      "Epoch 114/400\n",
      "562/562 [==============================] - 0s 14us/step - loss: 0.0741 - coeff_determination: 0.6889\n",
      "Epoch 115/400\n",
      "562/562 [==============================] - 0s 12us/step - loss: 0.0738 - coeff_determination: 0.6903\n",
      "Epoch 116/400\n",
      "562/562 [==============================] - 0s 12us/step - loss: 0.0736 - coeff_determination: 0.6922\n",
      "Epoch 117/400\n",
      "562/562 [==============================] - 0s 11us/step - loss: 0.0734 - coeff_determination: 0.6933\n",
      "Epoch 118/400\n",
      "562/562 [==============================] - 0s 18us/step - loss: 0.0732 - coeff_determination: 0.6929\n",
      "Epoch 119/400\n",
      "562/562 [==============================] - 0s 12us/step - loss: 0.0729 - coeff_determination: 0.6944\n",
      "Epoch 120/400\n",
      "562/562 [==============================] - 0s 12us/step - loss: 0.0728 - coeff_determination: 0.6953\n",
      "Epoch 121/400\n",
      "562/562 [==============================] - 0s 12us/step - loss: 0.0727 - coeff_determination: 0.6941\n",
      "Epoch 122/400\n",
      "562/562 [==============================] - 0s 14us/step - loss: 0.0724 - coeff_determination: 0.6943\n",
      "Epoch 123/400\n",
      "562/562 [==============================] - 0s 12us/step - loss: 0.0723 - coeff_determination: 0.6984\n",
      "Epoch 124/400\n",
      "562/562 [==============================] - 0s 11us/step - loss: 0.0721 - coeff_determination: 0.6979\n",
      "Epoch 125/400\n",
      "562/562 [==============================] - 0s 12us/step - loss: 0.0718 - coeff_determination: 0.6981\n",
      "Epoch 126/400\n",
      "562/562 [==============================] - 0s 11us/step - loss: 0.0718 - coeff_determination: 0.6984\n",
      "Epoch 127/400\n",
      "562/562 [==============================] - 0s 12us/step - loss: 0.0715 - coeff_determination: 0.6992\n",
      "Epoch 128/400\n",
      "562/562 [==============================] - 0s 12us/step - loss: 0.0713 - coeff_determination: 0.7001\n",
      "Epoch 129/400\n",
      "562/562 [==============================] - 0s 11us/step - loss: 0.0712 - coeff_determination: 0.7008\n",
      "Epoch 130/400\n",
      "562/562 [==============================] - 0s 11us/step - loss: 0.0711 - coeff_determination: 0.7019\n",
      "Epoch 131/400\n",
      "562/562 [==============================] - 0s 16us/step - loss: 0.0708 - coeff_determination: 0.7027\n",
      "Epoch 132/400\n",
      "562/562 [==============================] - 0s 12us/step - loss: 0.0707 - coeff_determination: 0.7038\n",
      "Epoch 133/400\n",
      "562/562 [==============================] - 0s 14us/step - loss: 0.0705 - coeff_determination: 0.7019\n",
      "Epoch 134/400\n",
      "562/562 [==============================] - 0s 11us/step - loss: 0.0703 - coeff_determination: 0.7060\n",
      "Epoch 135/400\n",
      "562/562 [==============================] - 0s 14us/step - loss: 0.0702 - coeff_determination: 0.7055\n",
      "Epoch 136/400\n",
      "562/562 [==============================] - 0s 12us/step - loss: 0.0701 - coeff_determination: 0.7062\n",
      "Epoch 137/400\n",
      "562/562 [==============================] - 0s 11us/step - loss: 0.0699 - coeff_determination: 0.7060\n",
      "Epoch 138/400\n",
      "562/562 [==============================] - 0s 11us/step - loss: 0.0698 - coeff_determination: 0.7065\n",
      "Epoch 139/400\n",
      "562/562 [==============================] - 0s 21us/step - loss: 0.0697 - coeff_determination: 0.7072\n",
      "Epoch 140/400\n",
      "562/562 [==============================] - 0s 12us/step - loss: 0.0694 - coeff_determination: 0.7084\n",
      "Epoch 141/400\n",
      "562/562 [==============================] - 0s 12us/step - loss: 0.0693 - coeff_determination: 0.7051\n",
      "Epoch 142/400\n",
      "562/562 [==============================] - 0s 12us/step - loss: 0.0693 - coeff_determination: 0.7095\n",
      "Epoch 143/400\n",
      "562/562 [==============================] - 0s 11us/step - loss: 0.0690 - coeff_determination: 0.7085\n",
      "Epoch 144/400\n",
      "562/562 [==============================] - 0s 12us/step - loss: 0.0691 - coeff_determination: 0.7099\n",
      "Epoch 145/400\n",
      "562/562 [==============================] - 0s 12us/step - loss: 0.0688 - coeff_determination: 0.7102\n",
      "Epoch 146/400\n",
      "562/562 [==============================] - 0s 16us/step - loss: 0.0684 - coeff_determination: 0.7131\n",
      "Epoch 147/400\n",
      "562/562 [==============================] - 0s 16us/step - loss: 0.0683 - coeff_determination: 0.7143\n",
      "Epoch 148/400\n",
      "562/562 [==============================] - 0s 14us/step - loss: 0.0682 - coeff_determination: 0.7140\n",
      "Epoch 149/400\n",
      "562/562 [==============================] - 0s 16us/step - loss: 0.0681 - coeff_determination: 0.7143\n",
      "Epoch 150/400\n",
      "562/562 [==============================] - 0s 12us/step - loss: 0.0680 - coeff_determination: 0.7126\n",
      "Epoch 151/400\n",
      "562/562 [==============================] - 0s 14us/step - loss: 0.0678 - coeff_determination: 0.7147\n",
      "Epoch 152/400\n",
      "562/562 [==============================] - 0s 11us/step - loss: 0.0677 - coeff_determination: 0.7165\n",
      "Epoch 153/400\n",
      "562/562 [==============================] - 0s 12us/step - loss: 0.0675 - coeff_determination: 0.7142\n",
      "Epoch 154/400\n",
      "562/562 [==============================] - 0s 14us/step - loss: 0.0674 - coeff_determination: 0.7178\n",
      "Epoch 155/400\n",
      "562/562 [==============================] - 0s 12us/step - loss: 0.0671 - coeff_determination: 0.7178\n",
      "Epoch 156/400\n",
      "562/562 [==============================] - 0s 14us/step - loss: 0.0671 - coeff_determination: 0.7153\n",
      "Epoch 157/400\n",
      "562/562 [==============================] - 0s 12us/step - loss: 0.0669 - coeff_determination: 0.7157\n",
      "Epoch 158/400\n",
      "562/562 [==============================] - 0s 14us/step - loss: 0.0669 - coeff_determination: 0.7164\n",
      "Epoch 159/400\n",
      "562/562 [==============================] - 0s 11us/step - loss: 0.0666 - coeff_determination: 0.7210\n",
      "Epoch 160/400\n",
      "562/562 [==============================] - 0s 11us/step - loss: 0.0665 - coeff_determination: 0.7197\n",
      "Epoch 161/400\n",
      "562/562 [==============================] - 0s 11us/step - loss: 0.0663 - coeff_determination: 0.7192\n",
      "Epoch 162/400\n",
      "562/562 [==============================] - 0s 14us/step - loss: 0.0662 - coeff_determination: 0.7222\n",
      "Epoch 163/400\n",
      "562/562 [==============================] - 0s 14us/step - loss: 0.0660 - coeff_determination: 0.7229\n",
      "Epoch 164/400\n",
      "562/562 [==============================] - 0s 11us/step - loss: 0.0659 - coeff_determination: 0.7238\n",
      "Epoch 165/400\n",
      "562/562 [==============================] - 0s 12us/step - loss: 0.0658 - coeff_determination: 0.7247\n",
      "Epoch 166/400\n",
      "562/562 [==============================] - 0s 14us/step - loss: 0.0656 - coeff_determination: 0.7227\n",
      "Epoch 167/400\n",
      "562/562 [==============================] - 0s 12us/step - loss: 0.0654 - coeff_determination: 0.7255\n",
      "Epoch 168/400\n",
      "562/562 [==============================] - 0s 11us/step - loss: 0.0653 - coeff_determination: 0.7259\n",
      "Epoch 169/400\n",
      "562/562 [==============================] - 0s 12us/step - loss: 0.0652 - coeff_determination: 0.7245\n",
      "Epoch 170/400\n",
      "562/562 [==============================] - 0s 12us/step - loss: 0.0651 - coeff_determination: 0.7248\n",
      "Epoch 171/400\n",
      "562/562 [==============================] - 0s 12us/step - loss: 0.0650 - coeff_determination: 0.7274\n",
      "Epoch 172/400\n",
      "562/562 [==============================] - 0s 14us/step - loss: 0.0648 - coeff_determination: 0.7274\n",
      "Epoch 173/400\n",
      "562/562 [==============================] - 0s 12us/step - loss: 0.0647 - coeff_determination: 0.7298\n",
      "Epoch 174/400\n",
      "562/562 [==============================] - 0s 12us/step - loss: 0.0647 - coeff_determination: 0.7269\n",
      "Epoch 175/400\n",
      "562/562 [==============================] - 0s 11us/step - loss: 0.0644 - coeff_determination: 0.7293\n",
      "Epoch 176/400\n",
      "562/562 [==============================] - 0s 14us/step - loss: 0.0643 - coeff_determination: 0.7298\n",
      "Epoch 177/400\n",
      "562/562 [==============================] - 0s 14us/step - loss: 0.0642 - coeff_determination: 0.7303\n",
      "Epoch 178/400\n",
      "562/562 [==============================] - 0s 12us/step - loss: 0.0640 - coeff_determination: 0.7304\n",
      "Epoch 179/400\n",
      "562/562 [==============================] - 0s 12us/step - loss: 0.0639 - coeff_determination: 0.7304\n",
      "Epoch 180/400\n",
      "562/562 [==============================] - 0s 12us/step - loss: 0.0637 - coeff_determination: 0.7334\n",
      "Epoch 181/400\n",
      "562/562 [==============================] - 0s 12us/step - loss: 0.0636 - coeff_determination: 0.7339\n",
      "Epoch 182/400\n",
      "562/562 [==============================] - 0s 11us/step - loss: 0.0635 - coeff_determination: 0.7336\n",
      "Epoch 183/400\n",
      "562/562 [==============================] - 0s 16us/step - loss: 0.0635 - coeff_determination: 0.7344\n",
      "Epoch 184/400\n",
      "562/562 [==============================] - 0s 14us/step - loss: 0.0633 - coeff_determination: 0.7332\n",
      "Epoch 185/400\n",
      "562/562 [==============================] - 0s 16us/step - loss: 0.0632 - coeff_determination: 0.7352\n",
      "Epoch 186/400\n",
      "562/562 [==============================] - 0s 14us/step - loss: 0.0631 - coeff_determination: 0.7356\n",
      "Epoch 187/400\n",
      "562/562 [==============================] - 0s 14us/step - loss: 0.0630 - coeff_determination: 0.7322\n",
      "Epoch 188/400\n",
      "562/562 [==============================] - 0s 16us/step - loss: 0.0629 - coeff_determination: 0.7353\n",
      "Epoch 189/400\n",
      "562/562 [==============================] - 0s 14us/step - loss: 0.0628 - coeff_determination: 0.7368\n",
      "Epoch 190/400\n",
      "562/562 [==============================] - 0s 14us/step - loss: 0.0627 - coeff_determination: 0.7369\n",
      "Epoch 191/400\n",
      "562/562 [==============================] - 0s 14us/step - loss: 0.0626 - coeff_determination: 0.7389\n",
      "Epoch 192/400\n",
      "562/562 [==============================] - 0s 14us/step - loss: 0.0627 - coeff_determination: 0.7379\n",
      "Epoch 193/400\n",
      "562/562 [==============================] - 0s 12us/step - loss: 0.0624 - coeff_determination: 0.7324\n",
      "Epoch 194/400\n",
      "562/562 [==============================] - 0s 16us/step - loss: 0.0623 - coeff_determination: 0.7378\n",
      "Epoch 195/400\n",
      "562/562 [==============================] - 0s 12us/step - loss: 0.0622 - coeff_determination: 0.7390\n",
      "Epoch 196/400\n",
      "562/562 [==============================] - 0s 14us/step - loss: 0.0623 - coeff_determination: 0.7382\n",
      "Epoch 197/400\n",
      "562/562 [==============================] - 0s 16us/step - loss: 0.0619 - coeff_determination: 0.7414\n",
      "Epoch 198/400\n",
      "562/562 [==============================] - 0s 18us/step - loss: 0.0618 - coeff_determination: 0.7396\n",
      "Epoch 199/400\n",
      "562/562 [==============================] - 0s 14us/step - loss: 0.0617 - coeff_determination: 0.7411\n",
      "Epoch 200/400\n",
      "562/562 [==============================] - 0s 12us/step - loss: 0.0616 - coeff_determination: 0.7417\n",
      "Epoch 201/400\n",
      "562/562 [==============================] - 0s 12us/step - loss: 0.0617 - coeff_determination: 0.7421\n",
      "Epoch 202/400\n",
      "562/562 [==============================] - 0s 16us/step - loss: 0.0615 - coeff_determination: 0.7430\n",
      "Epoch 203/400\n",
      "562/562 [==============================] - 0s 16us/step - loss: 0.0614 - coeff_determination: 0.7410\n",
      "Epoch 204/400\n",
      "562/562 [==============================] - 0s 16us/step - loss: 0.0612 - coeff_determination: 0.7404\n",
      "Epoch 205/400\n",
      "562/562 [==============================] - 0s 20us/step - loss: 0.0611 - coeff_determination: 0.7433\n",
      "Epoch 206/400\n",
      "562/562 [==============================] - 0s 20us/step - loss: 0.0610 - coeff_determination: 0.7418\n",
      "Epoch 207/400\n",
      "562/562 [==============================] - 0s 14us/step - loss: 0.0611 - coeff_determination: 0.7437\n",
      "Epoch 208/400\n",
      "562/562 [==============================] - 0s 14us/step - loss: 0.0608 - coeff_determination: 0.7445\n",
      "Epoch 209/400\n",
      "562/562 [==============================] - 0s 14us/step - loss: 0.0608 - coeff_determination: 0.7449\n",
      "Epoch 210/400\n",
      "562/562 [==============================] - 0s 14us/step - loss: 0.0607 - coeff_determination: 0.7454\n",
      "Epoch 211/400\n",
      "562/562 [==============================] - 0s 14us/step - loss: 0.0606 - coeff_determination: 0.7468\n",
      "Epoch 212/400\n",
      "562/562 [==============================] - 0s 16us/step - loss: 0.0606 - coeff_determination: 0.7451\n",
      "Epoch 213/400\n",
      "562/562 [==============================] - 0s 12us/step - loss: 0.0604 - coeff_determination: 0.7467\n",
      "Epoch 214/400\n",
      "562/562 [==============================] - 0s 18us/step - loss: 0.0602 - coeff_determination: 0.7478\n",
      "Epoch 215/400\n",
      "562/562 [==============================] - 0s 20us/step - loss: 0.0602 - coeff_determination: 0.7482\n",
      "Epoch 216/400\n",
      "562/562 [==============================] - 0s 12us/step - loss: 0.0601 - coeff_determination: 0.7484\n",
      "Epoch 217/400\n",
      "562/562 [==============================] - 0s 14us/step - loss: 0.0600 - coeff_determination: 0.7484\n",
      "Epoch 218/400\n",
      "562/562 [==============================] - 0s 12us/step - loss: 0.0600 - coeff_determination: 0.7468\n",
      "Epoch 219/400\n",
      "562/562 [==============================] - 0s 12us/step - loss: 0.0599 - coeff_determination: 0.7467\n",
      "Epoch 220/400\n",
      "562/562 [==============================] - 0s 14us/step - loss: 0.0598 - coeff_determination: 0.7489\n",
      "Epoch 221/400\n",
      "562/562 [==============================] - 0s 12us/step - loss: 0.0597 - coeff_determination: 0.7485\n",
      "Epoch 222/400\n",
      "562/562 [==============================] - 0s 14us/step - loss: 0.0597 - coeff_determination: 0.7481\n",
      "Epoch 223/400\n",
      "562/562 [==============================] - 0s 14us/step - loss: 0.0595 - coeff_determination: 0.7494\n",
      "Epoch 224/400\n",
      "562/562 [==============================] - 0s 16us/step - loss: 0.0595 - coeff_determination: 0.7498\n",
      "Epoch 225/400\n",
      "562/562 [==============================] - 0s 14us/step - loss: 0.0594 - coeff_determination: 0.7499\n",
      "Epoch 226/400\n",
      "562/562 [==============================] - 0s 14us/step - loss: 0.0594 - coeff_determination: 0.7501\n",
      "Epoch 227/400\n",
      "562/562 [==============================] - 0s 16us/step - loss: 0.0592 - coeff_determination: 0.7511\n",
      "Epoch 228/400\n",
      "562/562 [==============================] - 0s 16us/step - loss: 0.0592 - coeff_determination: 0.7509\n",
      "Epoch 229/400\n",
      "562/562 [==============================] - 0s 14us/step - loss: 0.0591 - coeff_determination: 0.7504\n",
      "Epoch 230/400\n",
      "562/562 [==============================] - 0s 16us/step - loss: 0.0592 - coeff_determination: 0.7506\n",
      "Epoch 231/400\n",
      "562/562 [==============================] - 0s 18us/step - loss: 0.0591 - coeff_determination: 0.7532\n",
      "Epoch 232/400\n",
      "562/562 [==============================] - 0s 12us/step - loss: 0.0589 - coeff_determination: 0.7519\n",
      "Epoch 233/400\n",
      "562/562 [==============================] - 0s 14us/step - loss: 0.0590 - coeff_determination: 0.7522\n",
      "Epoch 234/400\n",
      "562/562 [==============================] - 0s 14us/step - loss: 0.0589 - coeff_determination: 0.7528\n",
      "Epoch 235/400\n",
      "562/562 [==============================] - 0s 11us/step - loss: 0.0586 - coeff_determination: 0.7524\n",
      "Epoch 236/400\n",
      "562/562 [==============================] - 0s 12us/step - loss: 0.0586 - coeff_determination: 0.7525\n",
      "Epoch 237/400\n",
      "562/562 [==============================] - 0s 12us/step - loss: 0.0585 - coeff_determination: 0.7536\n",
      "Epoch 238/400\n",
      "562/562 [==============================] - 0s 14us/step - loss: 0.0585 - coeff_determination: 0.7521\n",
      "Epoch 239/400\n",
      "562/562 [==============================] - 0s 11us/step - loss: 0.0584 - coeff_determination: 0.7528\n",
      "Epoch 240/400\n",
      "562/562 [==============================] - 0s 12us/step - loss: 0.0585 - coeff_determination: 0.7545\n",
      "Epoch 241/400\n",
      "562/562 [==============================] - 0s 11us/step - loss: 0.0584 - coeff_determination: 0.7559\n",
      "Epoch 242/400\n",
      "562/562 [==============================] - 0s 11us/step - loss: 0.0583 - coeff_determination: 0.7557\n",
      "Epoch 243/400\n",
      "562/562 [==============================] - 0s 14us/step - loss: 0.0581 - coeff_determination: 0.7562\n",
      "Epoch 244/400\n",
      "562/562 [==============================] - 0s 12us/step - loss: 0.0581 - coeff_determination: 0.7539\n",
      "Epoch 245/400\n",
      "562/562 [==============================] - 0s 14us/step - loss: 0.0580 - coeff_determination: 0.7562\n",
      "Epoch 246/400\n",
      "562/562 [==============================] - 0s 12us/step - loss: 0.0579 - coeff_determination: 0.7540\n",
      "Epoch 247/400\n",
      "562/562 [==============================] - 0s 11us/step - loss: 0.0579 - coeff_determination: 0.7569\n",
      "Epoch 248/400\n",
      "562/562 [==============================] - 0s 14us/step - loss: 0.0578 - coeff_determination: 0.7580\n",
      "Epoch 249/400\n",
      "562/562 [==============================] - 0s 12us/step - loss: 0.0577 - coeff_determination: 0.7592\n",
      "Epoch 250/400\n",
      "562/562 [==============================] - 0s 14us/step - loss: 0.0577 - coeff_determination: 0.7576\n",
      "Epoch 251/400\n",
      "562/562 [==============================] - 0s 12us/step - loss: 0.0576 - coeff_determination: 0.7588\n",
      "Epoch 252/400\n",
      "562/562 [==============================] - 0s 12us/step - loss: 0.0576 - coeff_determination: 0.7581\n",
      "Epoch 253/400\n",
      "562/562 [==============================] - 0s 14us/step - loss: 0.0577 - coeff_determination: 0.7557\n",
      "Epoch 254/400\n",
      "562/562 [==============================] - 0s 14us/step - loss: 0.0575 - coeff_determination: 0.7579\n",
      "Epoch 255/400\n",
      "562/562 [==============================] - 0s 12us/step - loss: 0.0575 - coeff_determination: 0.7558\n",
      "Epoch 256/400\n",
      "562/562 [==============================] - 0s 12us/step - loss: 0.0573 - coeff_determination: 0.7576\n",
      "Epoch 257/400\n",
      "562/562 [==============================] - 0s 14us/step - loss: 0.0572 - coeff_determination: 0.7599\n",
      "Epoch 258/400\n",
      "562/562 [==============================] - 0s 14us/step - loss: 0.0571 - coeff_determination: 0.7611\n",
      "Epoch 259/400\n",
      "562/562 [==============================] - 0s 11us/step - loss: 0.0571 - coeff_determination: 0.7598\n",
      "Epoch 260/400\n",
      "562/562 [==============================] - 0s 12us/step - loss: 0.0572 - coeff_determination: 0.7613\n",
      "Epoch 261/400\n",
      "562/562 [==============================] - 0s 16us/step - loss: 0.0570 - coeff_determination: 0.7586\n",
      "Epoch 262/400\n",
      "562/562 [==============================] - 0s 16us/step - loss: 0.0569 - coeff_determination: 0.7618\n",
      "Epoch 263/400\n",
      "562/562 [==============================] - 0s 14us/step - loss: 0.0569 - coeff_determination: 0.7628\n",
      "Epoch 264/400\n",
      "562/562 [==============================] - 0s 12us/step - loss: 0.0568 - coeff_determination: 0.7622\n",
      "Epoch 265/400\n",
      "562/562 [==============================] - 0s 11us/step - loss: 0.0567 - coeff_determination: 0.7614\n",
      "Epoch 266/400\n",
      "562/562 [==============================] - 0s 11us/step - loss: 0.0567 - coeff_determination: 0.7621\n",
      "Epoch 267/400\n",
      "562/562 [==============================] - 0s 12us/step - loss: 0.0567 - coeff_determination: 0.7604\n",
      "Epoch 268/400\n",
      "562/562 [==============================] - 0s 12us/step - loss: 0.0565 - coeff_determination: 0.7636\n",
      "Epoch 269/400\n",
      "562/562 [==============================] - 0s 12us/step - loss: 0.0564 - coeff_determination: 0.7619\n",
      "Epoch 270/400\n",
      "562/562 [==============================] - 0s 11us/step - loss: 0.0564 - coeff_determination: 0.7639\n",
      "Epoch 271/400\n",
      "562/562 [==============================] - 0s 14us/step - loss: 0.0563 - coeff_determination: 0.7643\n",
      "Epoch 272/400\n",
      "562/562 [==============================] - 0s 12us/step - loss: 0.0562 - coeff_determination: 0.7642\n",
      "Epoch 273/400\n",
      "562/562 [==============================] - 0s 12us/step - loss: 0.0561 - coeff_determination: 0.7643\n",
      "Epoch 274/400\n",
      "562/562 [==============================] - 0s 11us/step - loss: 0.0561 - coeff_determination: 0.7643\n",
      "Epoch 275/400\n",
      "562/562 [==============================] - 0s 12us/step - loss: 0.0561 - coeff_determination: 0.7647\n",
      "Epoch 276/400\n",
      "562/562 [==============================] - 0s 14us/step - loss: 0.0560 - coeff_determination: 0.7661\n",
      "Epoch 277/400\n",
      "562/562 [==============================] - 0s 12us/step - loss: 0.0559 - coeff_determination: 0.7644\n",
      "Epoch 278/400\n",
      "562/562 [==============================] - 0s 11us/step - loss: 0.0559 - coeff_determination: 0.7662\n",
      "Epoch 279/400\n",
      "562/562 [==============================] - 0s 12us/step - loss: 0.0558 - coeff_determination: 0.7658\n",
      "Epoch 280/400\n",
      "562/562 [==============================] - 0s 12us/step - loss: 0.0557 - coeff_determination: 0.7655\n",
      "Epoch 281/400\n",
      "562/562 [==============================] - 0s 11us/step - loss: 0.0557 - coeff_determination: 0.7661\n",
      "Epoch 282/400\n",
      "562/562 [==============================] - 0s 12us/step - loss: 0.0556 - coeff_determination: 0.7668\n",
      "Epoch 283/400\n",
      "562/562 [==============================] - 0s 12us/step - loss: 0.0555 - coeff_determination: 0.7662\n",
      "Epoch 284/400\n",
      "562/562 [==============================] - 0s 12us/step - loss: 0.0555 - coeff_determination: 0.7673\n",
      "Epoch 285/400\n",
      "562/562 [==============================] - 0s 14us/step - loss: 0.0555 - coeff_determination: 0.7684\n",
      "Epoch 286/400\n",
      "562/562 [==============================] - 0s 12us/step - loss: 0.0554 - coeff_determination: 0.7639\n",
      "Epoch 287/400\n",
      "562/562 [==============================] - 0s 12us/step - loss: 0.0554 - coeff_determination: 0.7678\n",
      "Epoch 288/400\n",
      "562/562 [==============================] - 0s 11us/step - loss: 0.0554 - coeff_determination: 0.7683\n",
      "Epoch 289/400\n",
      "562/562 [==============================] - 0s 14us/step - loss: 0.0553 - coeff_determination: 0.7687\n",
      "Epoch 290/400\n",
      "562/562 [==============================] - 0s 12us/step - loss: 0.0552 - coeff_determination: 0.7686\n",
      "Epoch 291/400\n",
      "562/562 [==============================] - 0s 12us/step - loss: 0.0551 - coeff_determination: 0.7682\n",
      "Epoch 292/400\n",
      "562/562 [==============================] - 0s 12us/step - loss: 0.0550 - coeff_determination: 0.7682\n",
      "Epoch 293/400\n",
      "562/562 [==============================] - 0s 14us/step - loss: 0.0550 - coeff_determination: 0.7689\n",
      "Epoch 294/400\n",
      "562/562 [==============================] - 0s 12us/step - loss: 0.0550 - coeff_determination: 0.7665\n",
      "Epoch 295/400\n",
      "562/562 [==============================] - 0s 12us/step - loss: 0.0550 - coeff_determination: 0.7691\n",
      "Epoch 296/400\n",
      "562/562 [==============================] - 0s 12us/step - loss: 0.0549 - coeff_determination: 0.7666\n",
      "Epoch 297/400\n",
      "562/562 [==============================] - 0s 12us/step - loss: 0.0549 - coeff_determination: 0.7699\n",
      "Epoch 298/400\n",
      "562/562 [==============================] - 0s 11us/step - loss: 0.0549 - coeff_determination: 0.7699\n",
      "Epoch 299/400\n",
      "562/562 [==============================] - 0s 12us/step - loss: 0.0547 - coeff_determination: 0.7692\n",
      "Epoch 300/400\n",
      "562/562 [==============================] - 0s 12us/step - loss: 0.0546 - coeff_determination: 0.7702\n",
      "Epoch 301/400\n",
      "562/562 [==============================] - 0s 12us/step - loss: 0.0546 - coeff_determination: 0.7710\n",
      "Epoch 302/400\n",
      "562/562 [==============================] - 0s 12us/step - loss: 0.0546 - coeff_determination: 0.7717\n",
      "Epoch 303/400\n",
      "562/562 [==============================] - 0s 11us/step - loss: 0.0545 - coeff_determination: 0.7719\n",
      "Epoch 304/400\n",
      "562/562 [==============================] - 0s 12us/step - loss: 0.0545 - coeff_determination: 0.7688\n",
      "Epoch 305/400\n",
      "562/562 [==============================] - 0s 12us/step - loss: 0.0544 - coeff_determination: 0.7712\n",
      "Epoch 306/400\n",
      "562/562 [==============================] - 0s 14us/step - loss: 0.0544 - coeff_determination: 0.7685\n",
      "Epoch 307/400\n",
      "562/562 [==============================] - 0s 12us/step - loss: 0.0544 - coeff_determination: 0.7717\n",
      "Epoch 308/400\n",
      "562/562 [==============================] - 0s 16us/step - loss: 0.0543 - coeff_determination: 0.7728\n",
      "Epoch 309/400\n",
      "562/562 [==============================] - 0s 14us/step - loss: 0.0542 - coeff_determination: 0.7727\n",
      "Epoch 310/400\n",
      "562/562 [==============================] - 0s 12us/step - loss: 0.0542 - coeff_determination: 0.7706\n",
      "Epoch 311/400\n",
      "562/562 [==============================] - 0s 12us/step - loss: 0.0542 - coeff_determination: 0.7729\n",
      "Epoch 312/400\n",
      "562/562 [==============================] - 0s 12us/step - loss: 0.0540 - coeff_determination: 0.7722\n",
      "Epoch 313/400\n",
      "562/562 [==============================] - 0s 11us/step - loss: 0.0541 - coeff_determination: 0.7722\n",
      "Epoch 314/400\n",
      "562/562 [==============================] - 0s 11us/step - loss: 0.0540 - coeff_determination: 0.7741\n",
      "Epoch 315/400\n",
      "562/562 [==============================] - 0s 14us/step - loss: 0.0541 - coeff_determination: 0.7711\n",
      "Epoch 316/400\n",
      "562/562 [==============================] - 0s 11us/step - loss: 0.0539 - coeff_determination: 0.7737\n",
      "Epoch 317/400\n",
      "562/562 [==============================] - 0s 12us/step - loss: 0.0539 - coeff_determination: 0.7736\n",
      "Epoch 318/400\n",
      "562/562 [==============================] - 0s 12us/step - loss: 0.0537 - coeff_determination: 0.7744\n",
      "Epoch 319/400\n",
      "562/562 [==============================] - 0s 16us/step - loss: 0.0537 - coeff_determination: 0.7745\n",
      "Epoch 320/400\n",
      "562/562 [==============================] - 0s 16us/step - loss: 0.0537 - coeff_determination: 0.7735\n",
      "Epoch 321/400\n",
      "562/562 [==============================] - 0s 14us/step - loss: 0.0537 - coeff_determination: 0.7747\n",
      "Epoch 322/400\n",
      "562/562 [==============================] - 0s 12us/step - loss: 0.0537 - coeff_determination: 0.7731\n",
      "Epoch 323/400\n",
      "562/562 [==============================] - 0s 14us/step - loss: 0.0535 - coeff_determination: 0.7740\n",
      "Epoch 324/400\n",
      "562/562 [==============================] - 0s 14us/step - loss: 0.0535 - coeff_determination: 0.7758\n",
      "Epoch 325/400\n",
      "562/562 [==============================] - 0s 16us/step - loss: 0.0536 - coeff_determination: 0.7751\n",
      "Epoch 326/400\n",
      "562/562 [==============================] - 0s 14us/step - loss: 0.0534 - coeff_determination: 0.7760\n",
      "Epoch 327/400\n",
      "562/562 [==============================] - 0s 18us/step - loss: 0.0534 - coeff_determination: 0.7761\n",
      "Epoch 328/400\n",
      "562/562 [==============================] - 0s 18us/step - loss: 0.0535 - coeff_determination: 0.7724\n",
      "Epoch 329/400\n",
      "562/562 [==============================] - 0s 14us/step - loss: 0.0533 - coeff_determination: 0.7769\n",
      "Epoch 330/400\n",
      "562/562 [==============================] - 0s 20us/step - loss: 0.0532 - coeff_determination: 0.7763\n",
      "Epoch 331/400\n",
      "562/562 [==============================] - 0s 14us/step - loss: 0.0532 - coeff_determination: 0.7775\n",
      "Epoch 332/400\n",
      "562/562 [==============================] - 0s 16us/step - loss: 0.0531 - coeff_determination: 0.7777\n",
      "Epoch 333/400\n",
      "562/562 [==============================] - 0s 12us/step - loss: 0.0531 - coeff_determination: 0.7762\n",
      "Epoch 334/400\n",
      "562/562 [==============================] - 0s 12us/step - loss: 0.0531 - coeff_determination: 0.7778\n",
      "Epoch 335/400\n",
      "562/562 [==============================] - 0s 14us/step - loss: 0.0531 - coeff_determination: 0.7771\n",
      "Epoch 336/400\n",
      "562/562 [==============================] - 0s 14us/step - loss: 0.0530 - coeff_determination: 0.7756\n",
      "Epoch 337/400\n",
      "562/562 [==============================] - 0s 11us/step - loss: 0.0529 - coeff_determination: 0.7784\n",
      "Epoch 338/400\n",
      "562/562 [==============================] - 0s 12us/step - loss: 0.0529 - coeff_determination: 0.7788\n",
      "Epoch 339/400\n",
      "562/562 [==============================] - 0s 12us/step - loss: 0.0528 - coeff_determination: 0.7777\n",
      "Epoch 340/400\n",
      "562/562 [==============================] - 0s 12us/step - loss: 0.0528 - coeff_determination: 0.7788\n",
      "Epoch 341/400\n",
      "562/562 [==============================] - 0s 12us/step - loss: 0.0527 - coeff_determination: 0.7789\n",
      "Epoch 342/400\n",
      "562/562 [==============================] - 0s 12us/step - loss: 0.0527 - coeff_determination: 0.7762\n",
      "Epoch 343/400\n",
      "562/562 [==============================] - 0s 11us/step - loss: 0.0527 - coeff_determination: 0.7788\n",
      "Epoch 344/400\n",
      "562/562 [==============================] - 0s 11us/step - loss: 0.0527 - coeff_determination: 0.7782\n",
      "Epoch 345/400\n",
      "562/562 [==============================] - 0s 16us/step - loss: 0.0525 - coeff_determination: 0.7798\n",
      "Epoch 346/400\n",
      "562/562 [==============================] - 0s 12us/step - loss: 0.0525 - coeff_determination: 0.7796\n",
      "Epoch 347/400\n",
      "562/562 [==============================] - 0s 14us/step - loss: 0.0525 - coeff_determination: 0.7786\n",
      "Epoch 348/400\n",
      "562/562 [==============================] - 0s 12us/step - loss: 0.0525 - coeff_determination: 0.7799\n",
      "Epoch 349/400\n",
      "562/562 [==============================] - 0s 12us/step - loss: 0.0524 - coeff_determination: 0.7804\n",
      "Epoch 350/400\n",
      "562/562 [==============================] - 0s 14us/step - loss: 0.0524 - coeff_determination: 0.7805\n",
      "Epoch 351/400\n",
      "562/562 [==============================] - 0s 11us/step - loss: 0.0523 - coeff_determination: 0.7805\n",
      "Epoch 352/400\n",
      "562/562 [==============================] - 0s 12us/step - loss: 0.0523 - coeff_determination: 0.7812\n",
      "Epoch 353/400\n",
      "562/562 [==============================] - 0s 12us/step - loss: 0.0522 - coeff_determination: 0.7806\n",
      "Epoch 354/400\n",
      "562/562 [==============================] - 0s 14us/step - loss: 0.0522 - coeff_determination: 0.7816\n",
      "Epoch 355/400\n",
      "562/562 [==============================] - 0s 12us/step - loss: 0.0521 - coeff_determination: 0.7812\n",
      "Epoch 356/400\n",
      "562/562 [==============================] - 0s 14us/step - loss: 0.0521 - coeff_determination: 0.7788\n",
      "Epoch 357/400\n",
      "562/562 [==============================] - 0s 12us/step - loss: 0.0521 - coeff_determination: 0.7816\n",
      "Epoch 358/400\n",
      "562/562 [==============================] - 0s 11us/step - loss: 0.0520 - coeff_determination: 0.7819\n",
      "Epoch 359/400\n",
      "562/562 [==============================] - 0s 11us/step - loss: 0.0520 - coeff_determination: 0.7805\n",
      "Epoch 360/400\n",
      "562/562 [==============================] - 0s 11us/step - loss: 0.0519 - coeff_determination: 0.7811\n",
      "Epoch 361/400\n",
      "562/562 [==============================] - 0s 11us/step - loss: 0.0519 - coeff_determination: 0.7812\n",
      "Epoch 362/400\n",
      "562/562 [==============================] - 0s 12us/step - loss: 0.0519 - coeff_determination: 0.7820\n",
      "Epoch 363/400\n",
      "562/562 [==============================] - 0s 12us/step - loss: 0.0518 - coeff_determination: 0.7821\n",
      "Epoch 364/400\n",
      "562/562 [==============================] - 0s 12us/step - loss: 0.0519 - coeff_determination: 0.7825\n",
      "Epoch 365/400\n",
      "562/562 [==============================] - 0s 11us/step - loss: 0.0518 - coeff_determination: 0.7824\n",
      "Epoch 366/400\n",
      "562/562 [==============================] - 0s 11us/step - loss: 0.0517 - coeff_determination: 0.7827\n",
      "Epoch 367/400\n",
      "562/562 [==============================] - 0s 12us/step - loss: 0.0517 - coeff_determination: 0.7837\n",
      "Epoch 368/400\n",
      "562/562 [==============================] - 0s 12us/step - loss: 0.0516 - coeff_determination: 0.7834\n",
      "Epoch 369/400\n",
      "562/562 [==============================] - 0s 12us/step - loss: 0.0516 - coeff_determination: 0.7831\n",
      "Epoch 370/400\n",
      "562/562 [==============================] - 0s 11us/step - loss: 0.0516 - coeff_determination: 0.7833\n",
      "Epoch 371/400\n",
      "562/562 [==============================] - 0s 14us/step - loss: 0.0515 - coeff_determination: 0.7832\n",
      "Epoch 372/400\n",
      "562/562 [==============================] - 0s 12us/step - loss: 0.0515 - coeff_determination: 0.7843\n",
      "Epoch 373/400\n",
      "562/562 [==============================] - 0s 12us/step - loss: 0.0515 - coeff_determination: 0.7851\n",
      "Epoch 374/400\n",
      "562/562 [==============================] - 0s 12us/step - loss: 0.0514 - coeff_determination: 0.7852\n",
      "Epoch 375/400\n",
      "562/562 [==============================] - 0s 12us/step - loss: 0.0514 - coeff_determination: 0.7828\n",
      "Epoch 376/400\n",
      "562/562 [==============================] - 0s 12us/step - loss: 0.0513 - coeff_determination: 0.7829\n",
      "Epoch 377/400\n",
      "562/562 [==============================] - 0s 12us/step - loss: 0.0512 - coeff_determination: 0.7844\n",
      "Epoch 378/400\n",
      "562/562 [==============================] - 0s 12us/step - loss: 0.0512 - coeff_determination: 0.7776\n",
      "Epoch 379/400\n",
      "562/562 [==============================] - 0s 11us/step - loss: 0.0512 - coeff_determination: 0.7840\n",
      "Epoch 380/400\n",
      "562/562 [==============================] - 0s 12us/step - loss: 0.0512 - coeff_determination: 0.7831\n",
      "Epoch 381/400\n",
      "562/562 [==============================] - 0s 11us/step - loss: 0.0512 - coeff_determination: 0.7796\n",
      "Epoch 382/400\n",
      "562/562 [==============================] - 0s 11us/step - loss: 0.0511 - coeff_determination: 0.7840\n",
      "Epoch 383/400\n",
      "562/562 [==============================] - 0s 11us/step - loss: 0.0510 - coeff_determination: 0.7863\n",
      "Epoch 384/400\n",
      "562/562 [==============================] - 0s 12us/step - loss: 0.0509 - coeff_determination: 0.7852\n",
      "Epoch 385/400\n",
      "562/562 [==============================] - 0s 11us/step - loss: 0.0509 - coeff_determination: 0.7865\n",
      "Epoch 386/400\n",
      "562/562 [==============================] - 0s 12us/step - loss: 0.0509 - coeff_determination: 0.7864\n",
      "Epoch 387/400\n",
      "562/562 [==============================] - 0s 12us/step - loss: 0.0509 - coeff_determination: 0.7850\n",
      "Epoch 388/400\n",
      "562/562 [==============================] - 0s 11us/step - loss: 0.0508 - coeff_determination: 0.7878\n",
      "Epoch 389/400\n",
      "562/562 [==============================] - 0s 12us/step - loss: 0.0508 - coeff_determination: 0.7865\n",
      "Epoch 390/400\n",
      "562/562 [==============================] - 0s 11us/step - loss: 0.0507 - coeff_determination: 0.7865\n",
      "Epoch 391/400\n",
      "562/562 [==============================] - 0s 14us/step - loss: 0.0506 - coeff_determination: 0.7875\n",
      "Epoch 392/400\n",
      "562/562 [==============================] - 0s 12us/step - loss: 0.0506 - coeff_determination: 0.7883\n",
      "Epoch 393/400\n",
      "562/562 [==============================] - 0s 12us/step - loss: 0.0506 - coeff_determination: 0.7863\n",
      "Epoch 394/400\n",
      "562/562 [==============================] - 0s 11us/step - loss: 0.0507 - coeff_determination: 0.7877\n",
      "Epoch 395/400\n",
      "562/562 [==============================] - 0s 14us/step - loss: 0.0506 - coeff_determination: 0.7878\n",
      "Epoch 396/400\n",
      "562/562 [==============================] - 0s 11us/step - loss: 0.0505 - coeff_determination: 0.7882\n",
      "Epoch 397/400\n",
      "562/562 [==============================] - 0s 11us/step - loss: 0.0504 - coeff_determination: 0.7890\n",
      "Epoch 398/400\n",
      "562/562 [==============================] - 0s 12us/step - loss: 0.0504 - coeff_determination: 0.7889\n",
      "Epoch 399/400\n",
      "562/562 [==============================] - 0s 12us/step - loss: 0.0504 - coeff_determination: 0.7880\n",
      "Epoch 400/400\n",
      "562/562 [==============================] - 0s 11us/step - loss: 0.0503 - coeff_determination: 0.7888\n",
      "562/562 [==============================] - 0s 131us/step\n"
     ]
    },
    {
     "data": {
      "text/plain": [
       "[0.05024247308961013, 0.7868973544908164]"
      ]
     },
     "execution_count": 129,
     "metadata": {},
     "output_type": "execute_result"
    }
   ],
   "source": [
    "#make model\n",
    "modelRM = Sequential()\n",
    "#input layer\n",
    "modelRM.add(Dense(10, input_dim = 11 , activation = 'sigmoid'))\n",
    "#hidden layers\n",
    "modelRM.add(Dense(10, activation = 'relu'))\n",
    "modelRM.add(Dense(5, activation = 'relu'))\n",
    "#output layer\n",
    "modelRM.add(Dense(1))\n",
    "\n",
    "#compile the model \n",
    "modelRM.compile(loss ='mse', optimizer = 'sgd' , metrics = [coeff_determination] )\n",
    "\n",
    "#train the model\n",
    "modelRM.fit(X_train, y_train, epochs = 400, batch_size = 128)\n",
    "\n",
    "#step 4: evaluation\n",
    "modelRM.evaluate(X_train, y_train)"
   ]
  },
  {
   "cell_type": "code",
   "execution_count": 130,
   "metadata": {},
   "outputs": [
    {
     "name": "stdout",
     "output_type": "stream",
     "text": [
      "188/188 [==============================] - 0s 21us/step\n"
     ]
    },
    {
     "data": {
      "text/plain": [
       "[0.050236541223018724, 0.7745479649685799]"
      ]
     },
     "execution_count": 130,
     "metadata": {},
     "output_type": "execute_result"
    }
   ],
   "source": [
    "modelRM.evaluate(X_test, y_test)"
   ]
  },
  {
   "cell_type": "code",
   "execution_count": null,
   "metadata": {},
   "outputs": [],
   "source": []
  },
  {
   "cell_type": "markdown",
   "metadata": {},
   "source": [
    "# Classification Models"
   ]
  },
  {
   "cell_type": "markdown",
   "metadata": {},
   "source": [
    "####  Seperating the target column from the data set"
   ]
  },
  {
   "cell_type": "code",
   "execution_count": 37,
   "metadata": {},
   "outputs": [],
   "source": [
    "y = Risk_data_class['Risk']\n",
    "X = Risk_data_class.drop(['Risk'], axis = 1)"
   ]
  },
  {
   "cell_type": "markdown",
   "metadata": {},
   "source": [
    "#### Splitting the dataframe into Training and Testing data (defaut split)"
   ]
  },
  {
   "cell_type": "code",
   "execution_count": 38,
   "metadata": {},
   "outputs": [],
   "source": [
    "from sklearn.model_selection import train_test_split\n",
    "X_train_org, X_test_org, y_train, y_test = train_test_split(X, y, random_state = 0)"
   ]
  },
  {
   "cell_type": "markdown",
   "metadata": {},
   "source": [
    "#### Scaling the data using Normalisation Z scores"
   ]
  },
  {
   "cell_type": "code",
   "execution_count": 39,
   "metadata": {},
   "outputs": [],
   "source": [
    "from sklearn.preprocessing import StandardScaler\n",
    "scaler = StandardScaler()\n",
    "X_train = scaler.fit_transform(X_train_org)\n",
    "X_test = scaler.fit_transform(X_test_org)"
   ]
  },
  {
   "cell_type": "markdown",
   "metadata": {},
   "source": [
    "### Voting Classifier\n",
    "\n",
    "#### 1. Hard Voting Classifier"
   ]
  },
  {
   "cell_type": "code",
   "execution_count": 40,
   "metadata": {},
   "outputs": [
    {
     "name": "stderr",
     "output_type": "stream",
     "text": [
      "C:\\Users\\speed\\Anaconda3\\lib\\site-packages\\sklearn\\ensemble\\weight_boosting.py:29: DeprecationWarning: numpy.core.umath_tests is an internal NumPy module and should not be imported. It will be removed in a future NumPy release.\n",
      "  from numpy.core.umath_tests import inner1d\n"
     ]
    }
   ],
   "source": [
    "from sklearn.neighbors import KNeighborsClassifier\n",
    "from sklearn.ensemble import VotingClassifier\n",
    "from sklearn.linear_model import LogisticRegression\n",
    "from sklearn.svm import SVC"
   ]
  },
  {
   "cell_type": "code",
   "execution_count": 41,
   "metadata": {},
   "outputs": [
    {
     "name": "stdout",
     "output_type": "stream",
     "text": [
      "LogisticRegression 0.9787234042553191\n",
      "KNeighborsClassifier 0.973404255319149\n",
      "SVC 0.9893617021276596\n",
      "VotingClassifier 0.9840425531914894\n"
     ]
    },
    {
     "name": "stderr",
     "output_type": "stream",
     "text": [
      "C:\\Users\\speed\\Anaconda3\\lib\\site-packages\\sklearn\\preprocessing\\label.py:151: DeprecationWarning: The truth value of an empty array is ambiguous. Returning False, but in future this will result in an error. Use `array.size > 0` to check that an array is not empty.\n",
      "  if diff:\n"
     ]
    }
   ],
   "source": [
    "log_clf = LogisticRegression()\n",
    "log_clf.fit(X_train, y_train)\n",
    "knn_clf = KNeighborsClassifier(7)\n",
    "knn_clf.fit(X_train, y_train)\n",
    "svm_clf = SVC(C = 10, probability = True)\n",
    "svm_clf.fit(X_train, y_train)\n",
    "\n",
    "voting_clf = VotingClassifier(estimators=[('lr', log_clf), ('knn', knn_clf), ('svc', svm_clf)], voting='hard')\n",
    "voting_clf.fit(X_train, y_train)\n",
    "\n",
    "from sklearn.metrics import accuracy_score\n",
    "for clf in (log_clf, knn_clf, svm_clf, voting_clf):\n",
    "    clf.fit(X_train, y_train)\n",
    "    y_pred = clf.predict(X_test)\n",
    "    print(clf.__class__.__name__, accuracy_score(y_test, y_pred))\n"
   ]
  },
  {
   "cell_type": "markdown",
   "metadata": {},
   "source": [
    "#### 2. Soft voting"
   ]
  },
  {
   "cell_type": "code",
   "execution_count": 42,
   "metadata": {},
   "outputs": [
    {
     "name": "stdout",
     "output_type": "stream",
     "text": [
      "LogisticRegression 0.9787234042553191\n",
      "KNeighborsClassifier 0.973404255319149\n",
      "SVC 0.9893617021276596\n",
      "VotingClassifier 0.9840425531914894\n"
     ]
    },
    {
     "name": "stderr",
     "output_type": "stream",
     "text": [
      "C:\\Users\\speed\\Anaconda3\\lib\\site-packages\\sklearn\\preprocessing\\label.py:151: DeprecationWarning: The truth value of an empty array is ambiguous. Returning False, but in future this will result in an error. Use `array.size > 0` to check that an array is not empty.\n",
      "  if diff:\n"
     ]
    }
   ],
   "source": [
    "log_clf = LogisticRegression()\n",
    "log_clf.fit(X_train, y_train)\n",
    "knn_clf = KNeighborsClassifier(7)\n",
    "knn_clf.fit(X_train, y_train)\n",
    "svm_clf = SVC(C = 10, probability = True)\n",
    "svm_clf.fit(X_train, y_train)\n",
    "\n",
    "voting_clf = VotingClassifier(estimators=[('lr', log_clf), ('knn', knn_clf), ('svc', svm_clf)], voting='soft')\n",
    "voting_clf.fit(X_train, y_train)\n",
    "\n",
    "from sklearn.metrics import accuracy_score\n",
    "for clf in (log_clf, knn_clf, svm_clf, voting_clf):\n",
    "    clf.fit(X_train, y_train)\n",
    "    y_pred = clf.predict(X_test)\n",
    "    print(clf.__class__.__name__, accuracy_score(y_test, y_pred))\n"
   ]
  },
  {
   "cell_type": "markdown",
   "metadata": {},
   "source": [
    "### Model 1: Logistic Regression"
   ]
  },
  {
   "cell_type": "code",
   "execution_count": 43,
   "metadata": {},
   "outputs": [
    {
     "data": {
      "text/plain": [
       "GridSearchCV(cv=5, error_score='raise',\n",
       "       estimator=LogisticRegression(C=1.0, class_weight=None, dual=False, fit_intercept=True,\n",
       "          intercept_scaling=1, max_iter=100, multi_class='ovr', n_jobs=1,\n",
       "          penalty='l2', random_state=None, solver='liblinear', tol=0.0001,\n",
       "          verbose=0, warm_start=False),\n",
       "       fit_params=None, iid=True, n_jobs=-1,\n",
       "       param_grid={'C': [0.01, 0.1, 1, 10, 100, 1000], 'penalty': ['l1', 'l2']},\n",
       "       pre_dispatch='2*n_jobs', refit=True, return_train_score='warn',\n",
       "       scoring='roc_auc', verbose=0)"
      ]
     },
     "execution_count": 43,
     "metadata": {},
     "output_type": "execute_result"
    }
   ],
   "source": [
    "from sklearn.linear_model import LogisticRegression\n",
    "from sklearn.model_selection import GridSearchCV\n",
    "param_lr = {'C':[0.01, 0.1, 1, 10, 100, 1000], 'penalty': ['l1','l2']}\n",
    "\n",
    "log_reg = LogisticRegression()\n",
    "\n",
    "grid_LogR = GridSearchCV(log_reg, param_grid = param_lr, cv = 5, scoring='roc_auc',n_jobs=-1)\n",
    "grid_LogR.fit(X_train, y_train)"
   ]
  },
  {
   "cell_type": "code",
   "execution_count": 44,
   "metadata": {},
   "outputs": [
    {
     "name": "stdout",
     "output_type": "stream",
     "text": [
      "Best cross-validation accuracy: 1.00\n",
      "Best parameters: {'C': 100, 'penalty': 'l1'}\n",
      "Train Set Score: 1.00\n",
      "Test Set Score: 1.00\n"
     ]
    }
   ],
   "source": [
    "print(\"Best cross-validation accuracy: {:.2f}\".format(grid_LogR.best_score_))\n",
    "print(\"Best parameters: {}\".format(grid_LogR.best_params_))\n",
    "print(\"Train Set Score: {:.2f}\".format(grid_LogR.score(X_train, y_train)))\n",
    "print(\"Test Set Score: {:.2f}\".format(grid_LogR.score(X_test, y_test)))"
   ]
  },
  {
   "cell_type": "code",
   "execution_count": 45,
   "metadata": {},
   "outputs": [],
   "source": [
    "LogR_train_predict = grid_LogR.predict(X_train);\n",
    "LogR_predict = grid_LogR.predict(X_test);"
   ]
  },
  {
   "cell_type": "code",
   "execution_count": 46,
   "metadata": {},
   "outputs": [
    {
     "name": "stdout",
     "output_type": "stream",
     "text": [
      "Train roc_auc_score: 1.00\n",
      "Test roc_auc_score: 0.95 \n"
     ]
    }
   ],
   "source": [
    "from sklearn.metrics import roc_auc_score\n",
    "print('Train roc_auc_score: %.2f'%roc_auc_score(LogR_train_predict, y_train))\n",
    "print('Test roc_auc_score: %.2f '%roc_auc_score(LogR_predict, y_test))"
   ]
  },
  {
   "cell_type": "code",
   "execution_count": 47,
   "metadata": {},
   "outputs": [],
   "source": [
    "best_log_reg = LogisticRegression(C=grid_LogR.best_params_['C'],penalty=grid_LogR.best_params_['penalty'])\n",
    "best_log_reg.fit(X_train, y_train)\n",
    "prediction = best_log_reg.predict(X_train)"
   ]
  },
  {
   "cell_type": "markdown",
   "metadata": {},
   "source": [
    "#### Logistic Regression with Bagging "
   ]
  },
  {
   "cell_type": "code",
   "execution_count": 48,
   "metadata": {},
   "outputs": [
    {
     "data": {
      "text/plain": [
       "GridSearchCV(cv=5, error_score='raise',\n",
       "       estimator=BaggingClassifier(base_estimator=LogisticRegression(C=100, class_weight=None, dual=False, fit_intercept=True,\n",
       "          intercept_scaling=1, max_iter=100, multi_class='ovr', n_jobs=1,\n",
       "          penalty='l1', random_state=None, solver='liblinear', tol=0.0001,\n",
       "          verbose=0, warm_start=False),\n",
       "         bootstrap=True, bootstrap_features=False, max_features=1.0,\n",
       "         max_samples=1.0, n_estimators=10, n_jobs=1, oob_score=True,\n",
       "         random_state=0, verbose=0, warm_start=False),\n",
       "       fit_params=None, iid=True, n_jobs=-1,\n",
       "       param_grid={'n_estimators': [100]}, pre_dispatch='2*n_jobs',\n",
       "       refit=True, return_train_score=True, scoring=None, verbose=0)"
      ]
     },
     "execution_count": 48,
     "metadata": {},
     "output_type": "execute_result"
    }
   ],
   "source": [
    "from sklearn.ensemble import BaggingClassifier\n",
    "\n",
    "bag_LogR = BaggingClassifier(best_log_reg, bootstrap = True,oob_score=True,random_state=0)\n",
    "param_grid = {'n_estimators': [100]}\n",
    "grid_bag_LogR = GridSearchCV(bag_LogR, param_grid, cv = 5,return_train_score=True,n_jobs=-1)\n",
    "grid_bag_LogR.fit(X_train, y_train)"
   ]
  },
  {
   "cell_type": "code",
   "execution_count": 49,
   "metadata": {},
   "outputs": [
    {
     "name": "stdout",
     "output_type": "stream",
     "text": [
      "Best parameters: {'n_estimators': 100}\n"
     ]
    }
   ],
   "source": [
    "print(\"Best parameters: {}\".format(grid_bag_LogR.best_params_))"
   ]
  },
  {
   "cell_type": "code",
   "execution_count": 50,
   "metadata": {},
   "outputs": [
    {
     "name": "stdout",
     "output_type": "stream",
     "text": [
      "Best cross-validation accuracy: 0.99\n",
      "Train Set Score: 0.998220640569395\n",
      "Test Set Score: 0.9574468085106383\n",
      "Oob Score: 0.9893238434163701\n"
     ]
    }
   ],
   "source": [
    "best_bag_LogR = BaggingClassifier(best_log_reg,n_estimators = grid_bag_LogR.best_params_['n_estimators'],bootstrap = True,oob_score=True,random_state=0)\n",
    "best_bag_LogR.fit(X_train, y_train)\n",
    "print(\"Best cross-validation accuracy: {:.2f}\".format(grid_bag_LogR.best_score_))\n",
    "print(\"Train Set Score: {}\".format(grid_bag_LogR.score(X_train, y_train)))\n",
    "print(\"Test Set Score: {}\".format(grid_bag_LogR.score(X_test,y_test)))\n",
    "print(\"Oob Score: {}\".format(best_bag_LogR.oob_score_))"
   ]
  },
  {
   "cell_type": "markdown",
   "metadata": {},
   "source": [
    "#### Logistic Regression with Pasting"
   ]
  },
  {
   "cell_type": "code",
   "execution_count": 51,
   "metadata": {},
   "outputs": [
    {
     "data": {
      "text/plain": [
       "GridSearchCV(cv=5, error_score='raise',\n",
       "       estimator=BaggingClassifier(base_estimator=LogisticRegression(C=100, class_weight=None, dual=False, fit_intercept=True,\n",
       "          intercept_scaling=1, max_iter=100, multi_class='ovr', n_jobs=1,\n",
       "          penalty='l1', random_state=None, solver='liblinear', tol=0.0001,\n",
       "          verbose=0, warm_start...0, n_estimators=10, n_jobs=1, oob_score=False,\n",
       "         random_state=0, verbose=0, warm_start=False),\n",
       "       fit_params=None, iid=True, n_jobs=-1,\n",
       "       param_grid={'n_estimators': [100]}, pre_dispatch='2*n_jobs',\n",
       "       refit=True, return_train_score=True, scoring=None, verbose=0)"
      ]
     },
     "execution_count": 51,
     "metadata": {},
     "output_type": "execute_result"
    }
   ],
   "source": [
    "p_LogR = BaggingClassifier(best_log_reg, bootstrap = False,random_state=0)\n",
    "param_grid = {'n_estimators': [100]}\n",
    "grid_p_LogR = GridSearchCV(p_LogR, param_grid, cv = 5,return_train_score=True,n_jobs=-1)\n",
    "grid_p_LogR.fit(X_train, y_train)"
   ]
  },
  {
   "cell_type": "code",
   "execution_count": 52,
   "metadata": {},
   "outputs": [
    {
     "name": "stdout",
     "output_type": "stream",
     "text": [
      "Best cross-validation accuracy: 0.99\n",
      "Best parameters: {'n_estimators': 100}\n",
      "Train Set Score: 1.0\n",
      "Test Set Score: 0.9574468085106383\n"
     ]
    }
   ],
   "source": [
    "print(\"Best cross-validation accuracy: {:.2f}\".format(grid_p_LogR.best_score_))\n",
    "print(\"Best parameters: {}\".format(grid_p_LogR.best_params_))\n",
    "print(\"Train Set Score: {}\".format(grid_p_LogR.score(X_train, y_train)))\n",
    "print(\"Test Set Score: {}\".format(grid_p_LogR.score(X_test,y_test)))"
   ]
  },
  {
   "cell_type": "markdown",
   "metadata": {},
   "source": [
    "#### Logistic Regression with Adaboost "
   ]
  },
  {
   "cell_type": "code",
   "execution_count": 53,
   "metadata": {},
   "outputs": [
    {
     "data": {
      "text/plain": [
       "GridSearchCV(cv=5, error_score='raise',\n",
       "       estimator=AdaBoostClassifier(algorithm='SAMME.R',\n",
       "          base_estimator=LogisticRegression(C=100, class_weight=None, dual=False, fit_intercept=True,\n",
       "          intercept_scaling=1, max_iter=100, multi_class='ovr', n_jobs=1,\n",
       "          penalty='l1', random_state=None, solver='liblinear', tol=0.0001,\n",
       "          verbose=0, warm_start=False),\n",
       "          learning_rate=1.0, n_estimators=50, random_state=0),\n",
       "       fit_params=None, iid=True, n_jobs=-1,\n",
       "       param_grid={'learning_rate': [0.01, 0.1, 1.0], 'n_estimators': [50, 100, 200]},\n",
       "       pre_dispatch='2*n_jobs', refit=True, return_train_score=True,\n",
       "       scoring=None, verbose=0)"
      ]
     },
     "execution_count": 53,
     "metadata": {},
     "output_type": "execute_result"
    }
   ],
   "source": [
    "from sklearn.ensemble import AdaBoostClassifier\n",
    "\n",
    "adbst_LogR = AdaBoostClassifier(best_log_reg,random_state=0)\n",
    "param_grid = {'learning_rate': [0.01,0.1,1.0],\n",
    "              'n_estimators': [50,100,200]}\n",
    "grid_adbst_LogR = GridSearchCV(adbst_LogR, param_grid, cv = 5,return_train_score=True,n_jobs=-1)\n",
    "grid_adbst_LogR.fit(X_train, y_train)"
   ]
  },
  {
   "cell_type": "code",
   "execution_count": 54,
   "metadata": {},
   "outputs": [
    {
     "name": "stdout",
     "output_type": "stream",
     "text": [
      "Best cross-validation accuracy: 0.99\n",
      "Best parameters: {'learning_rate': 0.1, 'n_estimators': 100}\n",
      "Train Set Score: 0.9911032028469751\n",
      "Test Set Score: 0.9840425531914894\n"
     ]
    }
   ],
   "source": [
    "print(\"Best cross-validation accuracy: {:.2f}\".format(grid_adbst_LogR.best_score_))\n",
    "print(\"Best parameters: {}\".format(grid_adbst_LogR.best_params_))\n",
    "print(\"Train Set Score: {}\".format(grid_adbst_LogR.score(X_train, y_train)))\n",
    "print(\"Test Set Score: {}\".format(grid_adbst_LogR.score(X_test,y_test)))"
   ]
  },
  {
   "cell_type": "markdown",
   "metadata": {},
   "source": [
    "### Model 2: Decision Trees"
   ]
  },
  {
   "cell_type": "code",
   "execution_count": 55,
   "metadata": {},
   "outputs": [
    {
     "data": {
      "text/plain": [
       "GridSearchCV(cv=5, error_score='raise',\n",
       "       estimator=DecisionTreeClassifier(class_weight=None, criterion='gini', max_depth=None,\n",
       "            max_features=None, max_leaf_nodes=None,\n",
       "            min_impurity_decrease=0.0, min_impurity_split=None,\n",
       "            min_samples_leaf=1, min_samples_split=2,\n",
       "            min_weight_fraction_leaf=0.0, presort=False, random_state=None,\n",
       "            splitter='best'),\n",
       "       fit_params=None, iid=True, n_jobs=-1,\n",
       "       param_grid={'max_depth': [1, 2, 3, 4, 5, 6, 7, 8]},\n",
       "       pre_dispatch='2*n_jobs', refit=True, return_train_score=True,\n",
       "       scoring='roc_auc', verbose=0)"
      ]
     },
     "execution_count": 55,
     "metadata": {},
     "output_type": "execute_result"
    }
   ],
   "source": [
    "from sklearn.tree import DecisionTreeClassifier\n",
    "\n",
    "\n",
    "param_grid = {'max_depth':[1, 2, 3, 4, 5, 6, 7, 8]}\n",
    "dtree = DecisionTreeClassifier()\n",
    "\n",
    "grid_tree = GridSearchCV(dtree, param_grid, cv = 5, scoring='roc_auc', return_train_score=True,n_jobs = -1)\n",
    "grid_tree.fit(X_train, y_train)"
   ]
  },
  {
   "cell_type": "code",
   "execution_count": 56,
   "metadata": {},
   "outputs": [
    {
     "name": "stdout",
     "output_type": "stream",
     "text": [
      "Best cross-validation accuracy: 1.00\n",
      "Best parameters: {'max_depth': 4}\n",
      "Train Set Score: 1.0\n",
      "Test Set Score: 0.9444444444444444\n"
     ]
    }
   ],
   "source": [
    "print(\"Best cross-validation accuracy: {:.2f}\".format(grid_tree.best_score_))\n",
    "print(\"Best parameters: {}\".format(grid_tree.best_params_))\n",
    "print(\"Train Set Score: {}\".format(grid_tree.score(X_train, y_train)))\n",
    "print(\"Test Set Score: {}\".format(grid_tree.score(X_test,y_test)))"
   ]
  },
  {
   "cell_type": "code",
   "execution_count": 57,
   "metadata": {},
   "outputs": [],
   "source": [
    "best_dtree = DecisionTreeClassifier(max_depth=6)"
   ]
  },
  {
   "cell_type": "markdown",
   "metadata": {},
   "source": [
    "#### Decision Trees with Bagging"
   ]
  },
  {
   "cell_type": "code",
   "execution_count": 58,
   "metadata": {},
   "outputs": [
    {
     "data": {
      "text/plain": [
       "GridSearchCV(cv=5, error_score='raise',\n",
       "       estimator=BaggingClassifier(base_estimator=DecisionTreeClassifier(class_weight=None, criterion='gini', max_depth=6,\n",
       "            max_features=None, max_leaf_nodes=None,\n",
       "            min_impurity_decrease=0.0, min_impurity_split=None,\n",
       "            min_samples_leaf=1, min_samples_split=2,\n",
       "            min....0, n_estimators=10, n_jobs=1, oob_score=True,\n",
       "         random_state=0, verbose=0, warm_start=False),\n",
       "       fit_params=None, iid=True, n_jobs=-1,\n",
       "       param_grid={'n_estimators': [100, 200, 300]},\n",
       "       pre_dispatch='2*n_jobs', refit=True, return_train_score=True,\n",
       "       scoring=None, verbose=0)"
      ]
     },
     "execution_count": 58,
     "metadata": {},
     "output_type": "execute_result"
    }
   ],
   "source": [
    "bagging_dt = BaggingClassifier(best_dtree, bootstrap = True,oob_score=True,random_state=0)\n",
    "param_grid = {'n_estimators': [100, 200, 300]}\n",
    "grid_bagging_dt = GridSearchCV(bagging_dt, param_grid, cv = 5,return_train_score=True,n_jobs = -1)\n",
    "grid_bagging_dt.fit(X_train, y_train)"
   ]
  },
  {
   "cell_type": "code",
   "execution_count": 59,
   "metadata": {},
   "outputs": [
    {
     "name": "stdout",
     "output_type": "stream",
     "text": [
      "Best cross-validation accuracy: 0.99\n",
      "Train Set Score: 1.0\n",
      "Test Set Score: 0.9308510638297872\n",
      "Oob Score: 0.9928825622775801\n"
     ]
    }
   ],
   "source": [
    "best_bag_dt = BaggingClassifier(best_dtree,n_estimators = grid_bagging_dt.best_params_['n_estimators'],bootstrap = True,oob_score=True,random_state=0)\n",
    "best_bag_dt.fit(X_train, y_train)\n",
    "print(\"Best cross-validation accuracy: {:.2f}\".format(grid_bagging_dt.best_score_))\n",
    "print(\"Train Set Score: {}\".format(grid_bagging_dt.score(X_train, y_train)))\n",
    "print(\"Test Set Score: {}\".format(grid_bagging_dt.score(X_test,y_test)))\n",
    "print(\"Oob Score: {}\".format(best_bag_dt.oob_score_))"
   ]
  },
  {
   "cell_type": "markdown",
   "metadata": {},
   "source": [
    "#### Decision Trees with Pasting"
   ]
  },
  {
   "cell_type": "code",
   "execution_count": 60,
   "metadata": {},
   "outputs": [
    {
     "data": {
      "text/plain": [
       "GridSearchCV(cv=5, error_score='raise',\n",
       "       estimator=BaggingClassifier(base_estimator=DecisionTreeClassifier(class_weight=None, criterion='gini', max_depth=6,\n",
       "            max_features=None, max_leaf_nodes=None,\n",
       "            min_impurity_decrease=0.0, min_impurity_split=None,\n",
       "            min_samples_leaf=1, min_samples_split=2,\n",
       "            min...n_estimators=10, n_jobs=1, oob_score=False,\n",
       "         random_state=None, verbose=0, warm_start=False),\n",
       "       fit_params=None, iid=True, n_jobs=-1,\n",
       "       param_grid={'n_estimators': [100, 200, 300]},\n",
       "       pre_dispatch='2*n_jobs', refit=True, return_train_score=True,\n",
       "       scoring=None, verbose=0)"
      ]
     },
     "execution_count": 60,
     "metadata": {},
     "output_type": "execute_result"
    }
   ],
   "source": [
    "pasting_dt = BaggingClassifier(best_dtree, bootstrap = False)\n",
    "param_grid = {'n_estimators': [100, 200, 300]}\n",
    "grid_pasting_dt = GridSearchCV(pasting_dt, param_grid, cv = 5,return_train_score=True,n_jobs = -1)\n",
    "grid_pasting_dt.fit(X_train, y_train)"
   ]
  },
  {
   "cell_type": "code",
   "execution_count": 61,
   "metadata": {},
   "outputs": [
    {
     "name": "stdout",
     "output_type": "stream",
     "text": [
      "Best cross-validation accuracy: 0.99\n",
      "Train Set Score: 1.0\n",
      "Test Set Score: 0.9308510638297872\n",
      "Oob Score: 0.9928825622775801\n"
     ]
    }
   ],
   "source": [
    "best_paste_dt = BaggingClassifier(best_dtree,n_estimators = grid_pasting_dt.best_params_['n_estimators'],bootstrap = True,oob_score=True,random_state=0)\n",
    "best_paste_dt.fit(X_train, y_train)\n",
    "print(\"Best cross-validation accuracy: {:.2f}\".format(grid_bagging_dt.best_score_))\n",
    "print(\"Train Set Score: {}\".format(grid_bagging_dt.score(X_train, y_train)))\n",
    "print(\"Test Set Score: {}\".format(grid_bagging_dt.score(X_test,y_test)))\n",
    "print(\"Oob Score: {}\".format(best_paste_dt.oob_score_))"
   ]
  },
  {
   "cell_type": "markdown",
   "metadata": {},
   "source": [
    "#### Decision Trees with Adaboost"
   ]
  },
  {
   "cell_type": "code",
   "execution_count": 62,
   "metadata": {},
   "outputs": [
    {
     "data": {
      "text/plain": [
       "GridSearchCV(cv=5, error_score='raise',\n",
       "       estimator=AdaBoostClassifier(algorithm='SAMME.R',\n",
       "          base_estimator=DecisionTreeClassifier(class_weight=None, criterion='gini', max_depth=6,\n",
       "            max_features=None, max_leaf_nodes=None,\n",
       "            min_impurity_decrease=0.0, min_impurity_split=None,\n",
       "            min_samples_leaf=1, min_samples_split=2,\n",
       "            min_weight_fraction_leaf=0.0, presort=False, random_state=None,\n",
       "            splitter='best'),\n",
       "          learning_rate=1.0, n_estimators=50, random_state=0),\n",
       "       fit_params=None, iid=True, n_jobs=-1,\n",
       "       param_grid={'learning_rate': [0.1, 0.5, 1.0], 'n_estimators': [100, 200]},\n",
       "       pre_dispatch='2*n_jobs', refit=True, return_train_score=True,\n",
       "       scoring=None, verbose=0)"
      ]
     },
     "execution_count": 62,
     "metadata": {},
     "output_type": "execute_result"
    }
   ],
   "source": [
    "adaboost_dt = AdaBoostClassifier(base_estimator = best_dtree,random_state=0)\n",
    "param_grid = {'learning_rate': [0.1,0.5,1.0],\n",
    "              'n_estimators': [100,200]}\n",
    "grid_dt = GridSearchCV(adaboost_dt, param_grid, cv = 5,return_train_score=True,n_jobs=-1)\n",
    "grid_dt.fit(X_train, y_train)"
   ]
  },
  {
   "cell_type": "code",
   "execution_count": 63,
   "metadata": {},
   "outputs": [
    {
     "name": "stdout",
     "output_type": "stream",
     "text": [
      "Best cross-validation accuracy: 0.99\n",
      "Best parameters: {'learning_rate': 0.1, 'n_estimators': 100}\n",
      "Train Set Score: 1.0\n",
      "Test Set Score: 0.9308510638297872\n"
     ]
    }
   ],
   "source": [
    "print(\"Best cross-validation accuracy: {:.2f}\".format(grid_dt.best_score_))\n",
    "print(\"Best parameters: {}\".format(grid_dt.best_params_))\n",
    "print(\"Train Set Score: {}\".format(grid_dt.score(X_train, y_train)))\n",
    "print(\"Test Set Score: {}\".format(grid_dt.score(X_test,y_test)))"
   ]
  },
  {
   "cell_type": "markdown",
   "metadata": {},
   "source": [
    "### Gradient Boosting"
   ]
  },
  {
   "cell_type": "code",
   "execution_count": 64,
   "metadata": {},
   "outputs": [],
   "source": [
    "from sklearn.ensemble import GradientBoostingClassifier"
   ]
  },
  {
   "cell_type": "code",
   "execution_count": 65,
   "metadata": {},
   "outputs": [
    {
     "data": {
      "text/plain": [
       "GridSearchCV(cv=5, error_score='raise',\n",
       "       estimator=GradientBoostingClassifier(criterion='friedman_mse', init=None,\n",
       "              learning_rate=0.1, loss='deviance', max_depth=3,\n",
       "              max_features=None, max_leaf_nodes=None,\n",
       "              min_impurity_decrease=0.0, min_impurity_split=None,\n",
       "              min_samples_leaf=1, min_samples_split=2,\n",
       "              min_weight_fraction_leaf=0.0, n_estimators=100,\n",
       "              presort='auto', random_state=0, subsample=1.0, verbose=0,\n",
       "              warm_start=False),\n",
       "       fit_params=None, iid=True, n_jobs=1,\n",
       "       param_grid={'learning_rate': [0.1, 0.5, 1.0], 'n_estimators': [100, 200]},\n",
       "       pre_dispatch='2*n_jobs', refit=True, return_train_score=True,\n",
       "       scoring=None, verbose=0)"
      ]
     },
     "execution_count": 65,
     "metadata": {},
     "output_type": "execute_result"
    }
   ],
   "source": [
    "gb = GradientBoostingClassifier(random_state=0)\n",
    "\n",
    "param_grid = {'learning_rate': [0.1,0.5,1.0],\n",
    "              'n_estimators': [100,200]}\n",
    "grid_gb = GridSearchCV(gb, param_grid, cv = 5,return_train_score=True)\n",
    "grid_gb.fit(X_train, y_train)"
   ]
  },
  {
   "cell_type": "code",
   "execution_count": 66,
   "metadata": {},
   "outputs": [
    {
     "name": "stdout",
     "output_type": "stream",
     "text": [
      "Best cross-validation accuracy: 0.99\n",
      "Best parameters: {'learning_rate': 0.1, 'n_estimators': 100}\n",
      "Train Set Score: 1.0\n",
      "Test Set Score: 0.9308510638297872\n"
     ]
    }
   ],
   "source": [
    "print(\"Best cross-validation accuracy: {:.2f}\".format(grid_gb.best_score_))\n",
    "print(\"Best parameters: {}\".format(grid_gb.best_params_))\n",
    "print(\"Train Set Score: {}\".format(grid_gb.score(X_train, y_train)))\n",
    "print(\"Test Set Score: {}\".format(grid_gb.score(X_test,y_test)))"
   ]
  },
  {
   "cell_type": "markdown",
   "metadata": {},
   "source": [
    "### PCA"
   ]
  },
  {
   "cell_type": "code",
   "execution_count": 67,
   "metadata": {},
   "outputs": [],
   "source": [
    "from sklearn.decomposition import PCA\n",
    "\n",
    "pca = PCA(n_components=0.95)\n",
    "X_reduced_train = pca.fit_transform(X_train)\n",
    "X_reduced_test = pca.transform(X_test)"
   ]
  },
  {
   "cell_type": "code",
   "execution_count": 68,
   "metadata": {},
   "outputs": [
    {
     "data": {
      "text/plain": [
       "array([[-0.66715975, -0.30951755, -0.80613946, ...,  0.52728249,\n",
       "        -0.17006723, -0.29876292],\n",
       "       [ 1.181926  , -1.16841689, -0.65187986, ..., -0.1959108 ,\n",
       "        -0.05681147,  1.01323649],\n",
       "       [-1.03780382,  1.29983317,  0.49391278, ..., -1.20573045,\n",
       "         0.40824304, -0.0605198 ],\n",
       "       ...,\n",
       "       [-1.60586511, -0.16452176,  0.91615788, ..., -0.5992961 ,\n",
       "         0.07667738, -0.17675819],\n",
       "       [-1.70052408, -0.14076607,  1.11497159, ..., -0.64981943,\n",
       "         0.0974226 , -0.08517739],\n",
       "       [-1.61743255, -0.15940166,  0.93295189, ..., -0.58723139,\n",
       "         0.07677947, -0.15363676]])"
      ]
     },
     "execution_count": 68,
     "metadata": {},
     "output_type": "execute_result"
    }
   ],
   "source": [
    "X_reduced_train"
   ]
  },
  {
   "cell_type": "code",
   "execution_count": 69,
   "metadata": {},
   "outputs": [
    {
     "data": {
      "text/plain": [
       "0.9813281053135972"
      ]
     },
     "execution_count": 69,
     "metadata": {},
     "output_type": "execute_result"
    }
   ],
   "source": [
    "### Explained Variance \n",
    "pca.explained_variance_ratio_.sum()"
   ]
  },
  {
   "cell_type": "markdown",
   "metadata": {},
   "source": [
    "### Model 1: Logistic Regression after PCA"
   ]
  },
  {
   "cell_type": "code",
   "execution_count": 70,
   "metadata": {},
   "outputs": [
    {
     "data": {
      "text/plain": [
       "GridSearchCV(cv=5, error_score='raise',\n",
       "       estimator=LogisticRegression(C=1.0, class_weight=None, dual=False, fit_intercept=True,\n",
       "          intercept_scaling=1, max_iter=100, multi_class='ovr', n_jobs=1,\n",
       "          penalty='l2', random_state=None, solver='liblinear', tol=0.0001,\n",
       "          verbose=0, warm_start=False),\n",
       "       fit_params=None, iid=True, n_jobs=-1,\n",
       "       param_grid={'C': [0.01, 0.1, 1, 10, 100, 1000], 'penalty': ['l1', 'l2']},\n",
       "       pre_dispatch='2*n_jobs', refit=True, return_train_score='warn',\n",
       "       scoring='roc_auc', verbose=0)"
      ]
     },
     "execution_count": 70,
     "metadata": {},
     "output_type": "execute_result"
    }
   ],
   "source": [
    "from sklearn.linear_model import LogisticRegression\n",
    "from sklearn.model_selection import GridSearchCV\n",
    "param_lr = {'C':[0.01, 0.1, 1, 10, 100, 1000], 'penalty': ['l1','l2']}\n",
    "\n",
    "log_reg = LogisticRegression()\n",
    "\n",
    "grid_LogR = GridSearchCV(log_reg, param_grid = param_lr, cv = 5, scoring='roc_auc',n_jobs=-1)\n",
    "grid_LogR.fit(X_reduced_train, y_train)"
   ]
  },
  {
   "cell_type": "code",
   "execution_count": 71,
   "metadata": {},
   "outputs": [
    {
     "name": "stdout",
     "output_type": "stream",
     "text": [
      "Best cross-validation accuracy: 1.00\n",
      "Best parameters: {'C': 1000, 'penalty': 'l1'}\n",
      "Train Set Score: 1.00\n",
      "Test Set Score: 0.98\n"
     ]
    }
   ],
   "source": [
    "print(\"Best cross-validation accuracy: {:.2f}\".format(grid_LogR.best_score_))\n",
    "print(\"Best parameters: {}\".format(grid_LogR.best_params_))\n",
    "print(\"Train Set Score: {:.2f}\".format(grid_LogR.score(X_reduced_train, y_train)))\n",
    "print(\"Test Set Score: {:.2f}\".format(grid_LogR.score(X_reduced_test, y_test)))"
   ]
  },
  {
   "cell_type": "code",
   "execution_count": 72,
   "metadata": {},
   "outputs": [],
   "source": [
    "LogR_train_predict = grid_LogR.predict(X_reduced_train);\n",
    "LogR_predict = grid_LogR.predict(X_reduced_test);"
   ]
  },
  {
   "cell_type": "code",
   "execution_count": 73,
   "metadata": {},
   "outputs": [
    {
     "name": "stdout",
     "output_type": "stream",
     "text": [
      "Train roc_auc_score: 0.99\n",
      "Test roc_auc_score: 0.97 \n"
     ]
    }
   ],
   "source": [
    "from sklearn.metrics import roc_auc_score\n",
    "print('Train roc_auc_score: %.2f'%roc_auc_score(LogR_train_predict, y_train))\n",
    "print('Test roc_auc_score: %.2f '%roc_auc_score(LogR_predict, y_test))"
   ]
  },
  {
   "cell_type": "code",
   "execution_count": 74,
   "metadata": {},
   "outputs": [
    {
     "name": "stderr",
     "output_type": "stream",
     "text": [
      "C:\\Users\\speed\\Anaconda3\\lib\\site-packages\\sklearn\\utils\\deprecation.py:122: FutureWarning: You are accessing a training score ('split0_train_score'), which will not be available by default any more in 0.21. If you need training scores, please set return_train_score=True\n",
      "  warnings.warn(*warn_args, **warn_kwargs)\n",
      "C:\\Users\\speed\\Anaconda3\\lib\\site-packages\\sklearn\\utils\\deprecation.py:122: FutureWarning: You are accessing a training score ('split1_train_score'), which will not be available by default any more in 0.21. If you need training scores, please set return_train_score=True\n",
      "  warnings.warn(*warn_args, **warn_kwargs)\n",
      "C:\\Users\\speed\\Anaconda3\\lib\\site-packages\\sklearn\\utils\\deprecation.py:122: FutureWarning: You are accessing a training score ('split2_train_score'), which will not be available by default any more in 0.21. If you need training scores, please set return_train_score=True\n",
      "  warnings.warn(*warn_args, **warn_kwargs)\n",
      "C:\\Users\\speed\\Anaconda3\\lib\\site-packages\\sklearn\\utils\\deprecation.py:122: FutureWarning: You are accessing a training score ('split3_train_score'), which will not be available by default any more in 0.21. If you need training scores, please set return_train_score=True\n",
      "  warnings.warn(*warn_args, **warn_kwargs)\n",
      "C:\\Users\\speed\\Anaconda3\\lib\\site-packages\\sklearn\\utils\\deprecation.py:122: FutureWarning: You are accessing a training score ('split4_train_score'), which will not be available by default any more in 0.21. If you need training scores, please set return_train_score=True\n",
      "  warnings.warn(*warn_args, **warn_kwargs)\n",
      "C:\\Users\\speed\\Anaconda3\\lib\\site-packages\\sklearn\\utils\\deprecation.py:122: FutureWarning: You are accessing a training score ('mean_train_score'), which will not be available by default any more in 0.21. If you need training scores, please set return_train_score=True\n",
      "  warnings.warn(*warn_args, **warn_kwargs)\n",
      "C:\\Users\\speed\\Anaconda3\\lib\\site-packages\\sklearn\\utils\\deprecation.py:122: FutureWarning: You are accessing a training score ('std_train_score'), which will not be available by default any more in 0.21. If you need training scores, please set return_train_score=True\n",
      "  warnings.warn(*warn_args, **warn_kwargs)\n"
     ]
    },
    {
     "data": {
      "text/html": [
       "<div>\n",
       "<style scoped>\n",
       "    .dataframe tbody tr th:only-of-type {\n",
       "        vertical-align: middle;\n",
       "    }\n",
       "\n",
       "    .dataframe tbody tr th {\n",
       "        vertical-align: top;\n",
       "    }\n",
       "\n",
       "    .dataframe thead th {\n",
       "        text-align: right;\n",
       "    }\n",
       "</style>\n",
       "<table border=\"1\" class=\"dataframe\">\n",
       "  <thead>\n",
       "    <tr style=\"text-align: right;\">\n",
       "      <th></th>\n",
       "      <th>params</th>\n",
       "      <th>param_penalty</th>\n",
       "      <th>mean_train_score</th>\n",
       "      <th>mean_test_score</th>\n",
       "    </tr>\n",
       "  </thead>\n",
       "  <tbody>\n",
       "    <tr>\n",
       "      <th>0</th>\n",
       "      <td>{'C': 0.01, 'penalty': 'l1'}</td>\n",
       "      <td>l1</td>\n",
       "      <td>0.991913</td>\n",
       "      <td>0.991634</td>\n",
       "    </tr>\n",
       "    <tr>\n",
       "      <th>1</th>\n",
       "      <td>{'C': 0.01, 'penalty': 'l2'}</td>\n",
       "      <td>l2</td>\n",
       "      <td>0.988021</td>\n",
       "      <td>0.986601</td>\n",
       "    </tr>\n",
       "    <tr>\n",
       "      <th>2</th>\n",
       "      <td>{'C': 0.1, 'penalty': 'l1'}</td>\n",
       "      <td>l1</td>\n",
       "      <td>0.992057</td>\n",
       "      <td>0.990973</td>\n",
       "    </tr>\n",
       "    <tr>\n",
       "      <th>3</th>\n",
       "      <td>{'C': 0.1, 'penalty': 'l2'}</td>\n",
       "      <td>l2</td>\n",
       "      <td>0.992178</td>\n",
       "      <td>0.990118</td>\n",
       "    </tr>\n",
       "    <tr>\n",
       "      <th>4</th>\n",
       "      <td>{'C': 1, 'penalty': 'l1'}</td>\n",
       "      <td>l1</td>\n",
       "      <td>0.998062</td>\n",
       "      <td>0.997012</td>\n",
       "    </tr>\n",
       "    <tr>\n",
       "      <th>5</th>\n",
       "      <td>{'C': 1, 'penalty': 'l2'}</td>\n",
       "      <td>l2</td>\n",
       "      <td>0.996462</td>\n",
       "      <td>0.996018</td>\n",
       "    </tr>\n",
       "    <tr>\n",
       "      <th>6</th>\n",
       "      <td>{'C': 10, 'penalty': 'l1'}</td>\n",
       "      <td>l1</td>\n",
       "      <td>0.999479</td>\n",
       "      <td>0.999206</td>\n",
       "    </tr>\n",
       "    <tr>\n",
       "      <th>7</th>\n",
       "      <td>{'C': 10, 'penalty': 'l2'}</td>\n",
       "      <td>l2</td>\n",
       "      <td>0.999174</td>\n",
       "      <td>0.998940</td>\n",
       "    </tr>\n",
       "    <tr>\n",
       "      <th>8</th>\n",
       "      <td>{'C': 100, 'penalty': 'l1'}</td>\n",
       "      <td>l1</td>\n",
       "      <td>0.999533</td>\n",
       "      <td>0.999339</td>\n",
       "    </tr>\n",
       "    <tr>\n",
       "      <th>9</th>\n",
       "      <td>{'C': 100, 'penalty': 'l2'}</td>\n",
       "      <td>l2</td>\n",
       "      <td>0.999500</td>\n",
       "      <td>0.999273</td>\n",
       "    </tr>\n",
       "    <tr>\n",
       "      <th>10</th>\n",
       "      <td>{'C': 1000, 'penalty': 'l1'}</td>\n",
       "      <td>l1</td>\n",
       "      <td>0.999529</td>\n",
       "      <td>0.999406</td>\n",
       "    </tr>\n",
       "    <tr>\n",
       "      <th>11</th>\n",
       "      <td>{'C': 1000, 'penalty': 'l2'}</td>\n",
       "      <td>l2</td>\n",
       "      <td>0.999525</td>\n",
       "      <td>0.999339</td>\n",
       "    </tr>\n",
       "  </tbody>\n",
       "</table>\n",
       "</div>"
      ],
      "text/plain": [
       "                          params param_penalty  mean_train_score  \\\n",
       "0   {'C': 0.01, 'penalty': 'l1'}            l1          0.991913   \n",
       "1   {'C': 0.01, 'penalty': 'l2'}            l2          0.988021   \n",
       "2    {'C': 0.1, 'penalty': 'l1'}            l1          0.992057   \n",
       "3    {'C': 0.1, 'penalty': 'l2'}            l2          0.992178   \n",
       "4      {'C': 1, 'penalty': 'l1'}            l1          0.998062   \n",
       "5      {'C': 1, 'penalty': 'l2'}            l2          0.996462   \n",
       "6     {'C': 10, 'penalty': 'l1'}            l1          0.999479   \n",
       "7     {'C': 10, 'penalty': 'l2'}            l2          0.999174   \n",
       "8    {'C': 100, 'penalty': 'l1'}            l1          0.999533   \n",
       "9    {'C': 100, 'penalty': 'l2'}            l2          0.999500   \n",
       "10  {'C': 1000, 'penalty': 'l1'}            l1          0.999529   \n",
       "11  {'C': 1000, 'penalty': 'l2'}            l2          0.999525   \n",
       "\n",
       "    mean_test_score  \n",
       "0          0.991634  \n",
       "1          0.986601  \n",
       "2          0.990973  \n",
       "3          0.990118  \n",
       "4          0.997012  \n",
       "5          0.996018  \n",
       "6          0.999206  \n",
       "7          0.998940  \n",
       "8          0.999339  \n",
       "9          0.999273  \n",
       "10         0.999406  \n",
       "11         0.999339  "
      ]
     },
     "execution_count": 74,
     "metadata": {},
     "output_type": "execute_result"
    }
   ],
   "source": [
    "cv_results = pd.DataFrame.from_dict(grid_LogR.cv_results_)\n",
    "cv_results[['params','param_penalty','mean_train_score','mean_test_score']]"
   ]
  },
  {
   "cell_type": "code",
   "execution_count": 75,
   "metadata": {},
   "outputs": [],
   "source": [
    "x_axis = param_lr['C']\n",
    "l1_trn = cv_results[cv_results['param_penalty']=='l1']['mean_train_score']\n",
    "l1_tst = cv_results[cv_results['param_penalty']=='l1']['mean_test_score']\n",
    "l2_trn = cv_results[cv_results['param_penalty']=='l2']['mean_train_score']\n",
    "l2_tst = cv_results[cv_results['param_penalty']=='l2']['mean_test_score']"
   ]
  },
  {
   "cell_type": "code",
   "execution_count": 76,
   "metadata": {},
   "outputs": [
    {
     "data": {
      "text/plain": [
       "<matplotlib.legend.Legend at 0x25798172978>"
      ]
     },
     "execution_count": 76,
     "metadata": {},
     "output_type": "execute_result"
    },
    {
     "data": {
      "image/png": "[encoded data removed]",
      "text/plain": [
       "<Figure size 432x288 with 1 Axes>"
      ]
     },
     "metadata": {
      "needs_background": "light"
     },
     "output_type": "display_data"
    }
   ],
   "source": [
    "%matplotlib inline\n",
    "plt.plot(x_axis, l1_trn , label = ' Train Score l1')\n",
    "plt.plot(x_axis, l1_tst , label = ' Test Score l1')\n",
    "plt.plot(x_axis, l2_trn , label = ' Train Score l2')\n",
    "plt.plot(x_axis, l2_tst , label = ' Test Score l2')\n",
    "plt.xlabel('C')\n",
    "plt.xscale('log')\n",
    "plt.ylabel('Accuracy')\n",
    "plt.legend()"
   ]
  },
  {
   "cell_type": "code",
   "execution_count": 77,
   "metadata": {},
   "outputs": [],
   "source": [
    "report_table = [['Logistic', grid_LogR.best_params_, grid_LogR.score(X_reduced_train, y_train), grid_LogR.score(X_reduced_test, y_test), roc_auc_score(LogR_train_predict, y_train), roc_auc_score(LogR_predict, y_test)]]"
   ]
  },
  {
   "cell_type": "markdown",
   "metadata": {},
   "source": [
    "### Model 2: KNN Classifier after PCA"
   ]
  },
  {
   "cell_type": "code",
   "execution_count": 78,
   "metadata": {},
   "outputs": [
    {
     "data": {
      "text/plain": [
       "GridSearchCV(cv=5, error_score='raise',\n",
       "       estimator=KNeighborsClassifier(algorithm='auto', leaf_size=30, metric='minkowski',\n",
       "           metric_params=None, n_jobs=1, n_neighbors=5, p=2,\n",
       "           weights='uniform'),\n",
       "       fit_params=None, iid=True, n_jobs=-1,\n",
       "       param_grid={'n_neighbors': [1, 5, 10, 15, 20]},\n",
       "       pre_dispatch='2*n_jobs', refit=True, return_train_score='warn',\n",
       "       scoring='roc_auc', verbose=0)"
      ]
     },
     "execution_count": 78,
     "metadata": {},
     "output_type": "execute_result"
    }
   ],
   "source": [
    "from sklearn.neighbors import KNeighborsClassifier\n",
    "\n",
    "Knn = KNeighborsClassifier()\n",
    "param_Knn = {'n_neighbors':[1, 5, 10, 15, 20]}\n",
    "\n",
    "grid_Knn = GridSearchCV(Knn, param_grid=param_Knn, cv = 5, scoring='roc_auc',n_jobs=-1)\n",
    "grid_Knn.fit(X_reduced_train, y_train)"
   ]
  },
  {
   "cell_type": "code",
   "execution_count": 79,
   "metadata": {},
   "outputs": [
    {
     "name": "stdout",
     "output_type": "stream",
     "text": [
      "Best cross-validation accuracy: 0.99\n",
      "Best parameters: {'n_neighbors': 15}\n",
      "Train Set Score: 1.00\n",
      "Test Set Score: 1.00\n"
     ]
    }
   ],
   "source": [
    "print(\"Best cross-validation accuracy: {:.2f}\".format(grid_Knn.best_score_))\n",
    "print(\"Best parameters: {}\".format(grid_Knn.best_params_))\n",
    "print(\"Train Set Score: {:.2f}\".format(grid_Knn.score(X_reduced_train, y_train)))\n",
    "print(\"Test Set Score: {:.2f}\".format(grid_Knn.score(X_reduced_test, y_test)))"
   ]
  },
  {
   "cell_type": "code",
   "execution_count": 80,
   "metadata": {},
   "outputs": [
    {
     "name": "stdout",
     "output_type": "stream",
     "text": [
      "Train roc_auc_score: 0.96\n",
      "Test roc_auc_score: 0.96 \n"
     ]
    }
   ],
   "source": [
    "Knn_train_predict = grid_Knn.predict(X_reduced_train);\n",
    "Knn_predict = grid_Knn.predict(X_reduced_test);\n",
    "from sklearn.metrics import roc_auc_score\n",
    "print('Train roc_auc_score: %.2f'%roc_auc_score(Knn_train_predict, y_train))\n",
    "print('Test roc_auc_score: %.2f '%roc_auc_score(Knn_predict, y_test))"
   ]
  },
  {
   "cell_type": "code",
   "execution_count": 81,
   "metadata": {},
   "outputs": [
    {
     "name": "stderr",
     "output_type": "stream",
     "text": [
      "C:\\Users\\speed\\Anaconda3\\lib\\site-packages\\sklearn\\utils\\deprecation.py:122: FutureWarning: You are accessing a training score ('split0_train_score'), which will not be available by default any more in 0.21. If you need training scores, please set return_train_score=True\n",
      "  warnings.warn(*warn_args, **warn_kwargs)\n",
      "C:\\Users\\speed\\Anaconda3\\lib\\site-packages\\sklearn\\utils\\deprecation.py:122: FutureWarning: You are accessing a training score ('split1_train_score'), which will not be available by default any more in 0.21. If you need training scores, please set return_train_score=True\n",
      "  warnings.warn(*warn_args, **warn_kwargs)\n",
      "C:\\Users\\speed\\Anaconda3\\lib\\site-packages\\sklearn\\utils\\deprecation.py:122: FutureWarning: You are accessing a training score ('split2_train_score'), which will not be available by default any more in 0.21. If you need training scores, please set return_train_score=True\n",
      "  warnings.warn(*warn_args, **warn_kwargs)\n",
      "C:\\Users\\speed\\Anaconda3\\lib\\site-packages\\sklearn\\utils\\deprecation.py:122: FutureWarning: You are accessing a training score ('split3_train_score'), which will not be available by default any more in 0.21. If you need training scores, please set return_train_score=True\n",
      "  warnings.warn(*warn_args, **warn_kwargs)\n",
      "C:\\Users\\speed\\Anaconda3\\lib\\site-packages\\sklearn\\utils\\deprecation.py:122: FutureWarning: You are accessing a training score ('split4_train_score'), which will not be available by default any more in 0.21. If you need training scores, please set return_train_score=True\n",
      "  warnings.warn(*warn_args, **warn_kwargs)\n",
      "C:\\Users\\speed\\Anaconda3\\lib\\site-packages\\sklearn\\utils\\deprecation.py:122: FutureWarning: You are accessing a training score ('mean_train_score'), which will not be available by default any more in 0.21. If you need training scores, please set return_train_score=True\n",
      "  warnings.warn(*warn_args, **warn_kwargs)\n",
      "C:\\Users\\speed\\Anaconda3\\lib\\site-packages\\sklearn\\utils\\deprecation.py:122: FutureWarning: You are accessing a training score ('std_train_score'), which will not be available by default any more in 0.21. If you need training scores, please set return_train_score=True\n",
      "  warnings.warn(*warn_args, **warn_kwargs)\n"
     ]
    },
    {
     "data": {
      "text/html": [
       "<div>\n",
       "<style scoped>\n",
       "    .dataframe tbody tr th:only-of-type {\n",
       "        vertical-align: middle;\n",
       "    }\n",
       "\n",
       "    .dataframe tbody tr th {\n",
       "        vertical-align: top;\n",
       "    }\n",
       "\n",
       "    .dataframe thead th {\n",
       "        text-align: right;\n",
       "    }\n",
       "</style>\n",
       "<table border=\"1\" class=\"dataframe\">\n",
       "  <thead>\n",
       "    <tr style=\"text-align: right;\">\n",
       "      <th></th>\n",
       "      <th>params</th>\n",
       "      <th>mean_train_score</th>\n",
       "      <th>mean_test_score</th>\n",
       "    </tr>\n",
       "  </thead>\n",
       "  <tbody>\n",
       "    <tr>\n",
       "      <th>0</th>\n",
       "      <td>{'n_neighbors': 1}</td>\n",
       "      <td>1.000000</td>\n",
       "      <td>0.962830</td>\n",
       "    </tr>\n",
       "    <tr>\n",
       "      <th>1</th>\n",
       "      <td>{'n_neighbors': 5}</td>\n",
       "      <td>0.998439</td>\n",
       "      <td>0.986213</td>\n",
       "    </tr>\n",
       "    <tr>\n",
       "      <th>2</th>\n",
       "      <td>{'n_neighbors': 10}</td>\n",
       "      <td>0.996983</td>\n",
       "      <td>0.989924</td>\n",
       "    </tr>\n",
       "    <tr>\n",
       "      <th>3</th>\n",
       "      <td>{'n_neighbors': 15}</td>\n",
       "      <td>0.995876</td>\n",
       "      <td>0.993037</td>\n",
       "    </tr>\n",
       "    <tr>\n",
       "      <th>4</th>\n",
       "      <td>{'n_neighbors': 20}</td>\n",
       "      <td>0.995994</td>\n",
       "      <td>0.991976</td>\n",
       "    </tr>\n",
       "  </tbody>\n",
       "</table>\n",
       "</div>"
      ],
      "text/plain": [
       "                params  mean_train_score  mean_test_score\n",
       "0   {'n_neighbors': 1}          1.000000         0.962830\n",
       "1   {'n_neighbors': 5}          0.998439         0.986213\n",
       "2  {'n_neighbors': 10}          0.996983         0.989924\n",
       "3  {'n_neighbors': 15}          0.995876         0.993037\n",
       "4  {'n_neighbors': 20}          0.995994         0.991976"
      ]
     },
     "execution_count": 81,
     "metadata": {},
     "output_type": "execute_result"
    }
   ],
   "source": [
    "cv_results = pd.DataFrame.from_dict(grid_Knn.cv_results_)\n",
    "cv_results[['params','mean_train_score','mean_test_score']]"
   ]
  },
  {
   "cell_type": "code",
   "execution_count": 82,
   "metadata": {},
   "outputs": [
    {
     "data": {
      "text/plain": [
       "<matplotlib.legend.Legend at 0x25798975550>"
      ]
     },
     "execution_count": 82,
     "metadata": {},
     "output_type": "execute_result"
    },
    {
     "data": {
      "image/png": "[encoded data removed]",
      "text/plain": [
       "<Figure size 432x288 with 1 Axes>"
      ]
     },
     "metadata": {
      "needs_background": "light"
     },
     "output_type": "display_data"
    }
   ],
   "source": [
    "x_axis = cv_results['param_n_neighbors']\n",
    "%matplotlib inline\n",
    "plt.plot(x_axis, cv_results['mean_train_score'], label = 'Mean Train Score', c = 'g')\n",
    "plt.plot(x_axis, cv_results['mean_test_score'], label = 'Mean Test Score', c='b')\n",
    "plt.xlabel('Neighbours')\n",
    "plt.ylabel('Accuracy')\n",
    "plt.legend()"
   ]
  },
  {
   "cell_type": "code",
   "execution_count": 83,
   "metadata": {},
   "outputs": [],
   "source": [
    "report_table = report_table+[['Knn Classifier', grid_Knn.best_params_, grid_Knn.score(X_reduced_train, y_train), grid_Knn.score(X_reduced_test, y_test), roc_auc_score(Knn_train_predict, y_train), roc_auc_score(Knn_predict, y_test) ]]"
   ]
  },
  {
   "cell_type": "markdown",
   "metadata": {},
   "source": [
    "### Model 3: Linear SVC after PCA"
   ]
  },
  {
   "cell_type": "code",
   "execution_count": 84,
   "metadata": {},
   "outputs": [
    {
     "name": "stdout",
     "output_type": "stream",
     "text": [
      "Parameter grid for Linear SVC: {'C': [0.001, 0.01, 0.1, 1, 10, 100]}\n"
     ]
    }
   ],
   "source": [
    "from sklearn.svm import LinearSVC\n",
    "\n",
    "LSVC = LinearSVC()\n",
    "param_LSVC = {'C':[0.001, 0.01, 0.1, 1, 10, 100]}\n",
    "print(\"Parameter grid for Linear SVC: {}\".format(param_LSVC))"
   ]
  },
  {
   "cell_type": "code",
   "execution_count": 85,
   "metadata": {},
   "outputs": [
    {
     "data": {
      "text/plain": [
       "GridSearchCV(cv=5, error_score='raise',\n",
       "       estimator=LinearSVC(C=1.0, class_weight=None, dual=True, fit_intercept=True,\n",
       "     intercept_scaling=1, loss='squared_hinge', max_iter=1000,\n",
       "     multi_class='ovr', penalty='l2', random_state=None, tol=0.0001,\n",
       "     verbose=0),\n",
       "       fit_params=None, iid=True, n_jobs=-1,\n",
       "       param_grid={'C': [0.001, 0.01, 0.1, 1, 10, 100]},\n",
       "       pre_dispatch='2*n_jobs', refit=True, return_train_score=True,\n",
       "       scoring='roc_auc', verbose=0)"
      ]
     },
     "execution_count": 85,
     "metadata": {},
     "output_type": "execute_result"
    }
   ],
   "source": [
    "grid_LSVC = GridSearchCV(LSVC, param_grid=param_LSVC, cv = 5, scoring='roc_auc', return_train_score=True,n_jobs=-1)\n",
    "grid_LSVC.fit(X_reduced_train, y_train)"
   ]
  },
  {
   "cell_type": "code",
   "execution_count": 86,
   "metadata": {},
   "outputs": [],
   "source": [
    "LSCV_predict_train = grid_LSVC.predict(X_reduced_train)\n",
    "LSCV_predict = grid_LSVC.predict(X_reduced_test)"
   ]
  },
  {
   "cell_type": "code",
   "execution_count": 87,
   "metadata": {},
   "outputs": [
    {
     "name": "stdout",
     "output_type": "stream",
     "text": [
      "Best cross-validation accuracy: 1.00\n",
      "Best parameters: {'C': 10}\n",
      "Train Set Score: 1.00\n",
      "Test Set Score: 0.99\n"
     ]
    }
   ],
   "source": [
    "print(\"Best cross-validation accuracy: {:.2f}\".format(grid_LSVC.best_score_))\n",
    "print(\"Best parameters: {}\".format(grid_LSVC.best_params_))\n",
    "print(\"Train Set Score: {:.2f}\".format(grid_LSVC.score(X_reduced_train, y_train)))\n",
    "print(\"Test Set Score: {:.2f}\".format(grid_LSVC.score(X_reduced_test, y_test)))"
   ]
  },
  {
   "cell_type": "code",
   "execution_count": 88,
   "metadata": {},
   "outputs": [],
   "source": [
    "report_table = report_table + [['Linear SVC', grid_LSVC.best_params_, grid_LSVC.score(X_reduced_train, y_train), \n",
    "                                grid_LSVC.score(X_reduced_test, y_test), \n",
    "                                roc_auc_score(LSCV_predict_train, y_train), \n",
    "                                roc_auc_score(LSCV_predict, y_test)]]"
   ]
  },
  {
   "cell_type": "markdown",
   "metadata": {},
   "source": [
    "### Model 4: SVC kernel 'Linear' after PCA"
   ]
  },
  {
   "cell_type": "code",
   "execution_count": 89,
   "metadata": {},
   "outputs": [
    {
     "name": "stdout",
     "output_type": "stream",
     "text": [
      "Parameter grid for Linear SVM: {'C': [0.01, 0.1, 1, 10]}\n"
     ]
    }
   ],
   "source": [
    "from sklearn.svm import SVC, LinearSVC\n",
    "\n",
    "svc_linear = SVC(kernel = 'linear') \n",
    "param_grid = {'C':[0.01, 0.1, 1, 10]}\n",
    "print(\"Parameter grid for Linear SVM: {}\".format(param_grid))"
   ]
  },
  {
   "cell_type": "code",
   "execution_count": 90,
   "metadata": {},
   "outputs": [
    {
     "data": {
      "text/plain": [
       "GridSearchCV(cv=5, error_score='raise',\n",
       "       estimator=SVC(C=1.0, cache_size=200, class_weight=None, coef0=0.0,\n",
       "  decision_function_shape='ovr', degree=3, gamma='auto', kernel='linear',\n",
       "  max_iter=-1, probability=False, random_state=None, shrinking=True,\n",
       "  tol=0.001, verbose=False),\n",
       "       fit_params=None, iid=True, n_jobs=-1,\n",
       "       param_grid={'C': [0.01, 0.1, 1, 10]}, pre_dispatch='2*n_jobs',\n",
       "       refit=True, return_train_score='warn', scoring='roc_auc', verbose=0)"
      ]
     },
     "execution_count": 90,
     "metadata": {},
     "output_type": "execute_result"
    }
   ],
   "source": [
    "grid_svcLinear = GridSearchCV(svc_linear, param_grid = param_grid, cv = 5, n_jobs = -1, scoring='roc_auc')\n",
    "grid_svcLinear.fit(X_reduced_train, y_train)"
   ]
  },
  {
   "cell_type": "code",
   "execution_count": 91,
   "metadata": {},
   "outputs": [
    {
     "name": "stderr",
     "output_type": "stream",
     "text": [
      "C:\\Users\\speed\\Anaconda3\\lib\\site-packages\\sklearn\\utils\\deprecation.py:122: FutureWarning: You are accessing a training score ('split0_train_score'), which will not be available by default any more in 0.21. If you need training scores, please set return_train_score=True\n",
      "  warnings.warn(*warn_args, **warn_kwargs)\n",
      "C:\\Users\\speed\\Anaconda3\\lib\\site-packages\\sklearn\\utils\\deprecation.py:122: FutureWarning: You are accessing a training score ('split1_train_score'), which will not be available by default any more in 0.21. If you need training scores, please set return_train_score=True\n",
      "  warnings.warn(*warn_args, **warn_kwargs)\n",
      "C:\\Users\\speed\\Anaconda3\\lib\\site-packages\\sklearn\\utils\\deprecation.py:122: FutureWarning: You are accessing a training score ('split2_train_score'), which will not be available by default any more in 0.21. If you need training scores, please set return_train_score=True\n",
      "  warnings.warn(*warn_args, **warn_kwargs)\n",
      "C:\\Users\\speed\\Anaconda3\\lib\\site-packages\\sklearn\\utils\\deprecation.py:122: FutureWarning: You are accessing a training score ('split3_train_score'), which will not be available by default any more in 0.21. If you need training scores, please set return_train_score=True\n",
      "  warnings.warn(*warn_args, **warn_kwargs)\n",
      "C:\\Users\\speed\\Anaconda3\\lib\\site-packages\\sklearn\\utils\\deprecation.py:122: FutureWarning: You are accessing a training score ('split4_train_score'), which will not be available by default any more in 0.21. If you need training scores, please set return_train_score=True\n",
      "  warnings.warn(*warn_args, **warn_kwargs)\n",
      "C:\\Users\\speed\\Anaconda3\\lib\\site-packages\\sklearn\\utils\\deprecation.py:122: FutureWarning: You are accessing a training score ('mean_train_score'), which will not be available by default any more in 0.21. If you need training scores, please set return_train_score=True\n",
      "  warnings.warn(*warn_args, **warn_kwargs)\n",
      "C:\\Users\\speed\\Anaconda3\\lib\\site-packages\\sklearn\\utils\\deprecation.py:122: FutureWarning: You are accessing a training score ('std_train_score'), which will not be available by default any more in 0.21. If you need training scores, please set return_train_score=True\n",
      "  warnings.warn(*warn_args, **warn_kwargs)\n"
     ]
    },
    {
     "data": {
      "text/html": [
       "<div>\n",
       "<style scoped>\n",
       "    .dataframe tbody tr th:only-of-type {\n",
       "        vertical-align: middle;\n",
       "    }\n",
       "\n",
       "    .dataframe tbody tr th {\n",
       "        vertical-align: top;\n",
       "    }\n",
       "\n",
       "    .dataframe thead th {\n",
       "        text-align: right;\n",
       "    }\n",
       "</style>\n",
       "<table border=\"1\" class=\"dataframe\">\n",
       "  <thead>\n",
       "    <tr style=\"text-align: right;\">\n",
       "      <th></th>\n",
       "      <th>params</th>\n",
       "      <th>mean_train_score</th>\n",
       "      <th>mean_test_score</th>\n",
       "    </tr>\n",
       "  </thead>\n",
       "  <tbody>\n",
       "    <tr>\n",
       "      <th>0</th>\n",
       "      <td>{'C': 0.01}</td>\n",
       "      <td>0.989524</td>\n",
       "      <td>0.986622</td>\n",
       "    </tr>\n",
       "    <tr>\n",
       "      <th>1</th>\n",
       "      <td>{'C': 0.1}</td>\n",
       "      <td>0.994708</td>\n",
       "      <td>0.993699</td>\n",
       "    </tr>\n",
       "    <tr>\n",
       "      <th>2</th>\n",
       "      <td>{'C': 1}</td>\n",
       "      <td>0.998690</td>\n",
       "      <td>0.998138</td>\n",
       "    </tr>\n",
       "    <tr>\n",
       "      <th>3</th>\n",
       "      <td>{'C': 10}</td>\n",
       "      <td>0.999388</td>\n",
       "      <td>0.999404</td>\n",
       "    </tr>\n",
       "  </tbody>\n",
       "</table>\n",
       "</div>"
      ],
      "text/plain": [
       "        params  mean_train_score  mean_test_score\n",
       "0  {'C': 0.01}          0.989524         0.986622\n",
       "1   {'C': 0.1}          0.994708         0.993699\n",
       "2     {'C': 1}          0.998690         0.998138\n",
       "3    {'C': 10}          0.999388         0.999404"
      ]
     },
     "execution_count": 91,
     "metadata": {},
     "output_type": "execute_result"
    }
   ],
   "source": [
    "cv_results = pd.DataFrame.from_dict(grid_svcLinear.cv_results_)\n",
    "cv_results[['params','mean_train_score','mean_test_score']]"
   ]
  },
  {
   "cell_type": "code",
   "execution_count": 92,
   "metadata": {},
   "outputs": [
    {
     "name": "stdout",
     "output_type": "stream",
     "text": [
      "Best cross-validation score: 1.00\n",
      "Best penalty term: {'C': 10}\n",
      "Training Score: 1.00\n",
      "Testing Score: 0.98\n"
     ]
    }
   ],
   "source": [
    "print(\"Best cross-validation score: {:.2f}\".format(grid_svcLinear.best_score_))\n",
    "print('Best penalty term:',grid_svcLinear.best_params_)\n",
    "print(\"Training Score: {:.2f}\".format(grid_svcLinear.score(X_reduced_train, y_train)))\n",
    "print(\"Testing Score: {:.2f}\".format(grid_svcLinear.score(X_reduced_test, y_test)))"
   ]
  },
  {
   "cell_type": "code",
   "execution_count": 93,
   "metadata": {},
   "outputs": [],
   "source": [
    "svcLinear_predict_train = grid_svcLinear.predict(X_reduced_train);\n",
    "svcLinear_predict = grid_svcLinear.predict(X_reduced_test);"
   ]
  },
  {
   "cell_type": "code",
   "execution_count": 94,
   "metadata": {},
   "outputs": [],
   "source": [
    "report_table = report_table + [['SVC Linear Kernalized', 'C = 10', grid_svcLinear.score(X_reduced_train, y_train), \n",
    "                                grid_svcLinear.score(X_reduced_test, y_test), \n",
    "                                roc_auc_score(svcLinear_predict_train, y_train), \n",
    "                                roc_auc_score(svcLinear_predict, y_test)]]"
   ]
  },
  {
   "cell_type": "markdown",
   "metadata": {},
   "source": [
    "### Model 5: SVC kernel 'RBF' after PCA"
   ]
  },
  {
   "cell_type": "code",
   "execution_count": 95,
   "metadata": {},
   "outputs": [
    {
     "name": "stdout",
     "output_type": "stream",
     "text": [
      "Parameter grid for Linear SVR: {'C': [0.01, 0.1, 1, 10], 'gamma': [0.01, 0.1, 1, 10]}\n"
     ]
    },
    {
     "data": {
      "text/plain": [
       "GridSearchCV(cv=5, error_score='raise',\n",
       "       estimator=SVC(C=1.0, cache_size=200, class_weight=None, coef0=0.0,\n",
       "  decision_function_shape='ovr', degree=3, gamma='auto', kernel='rbf',\n",
       "  max_iter=-1, probability=False, random_state=None, shrinking=True,\n",
       "  tol=0.001, verbose=False),\n",
       "       fit_params=None, iid=True, n_jobs=-1,\n",
       "       param_grid={'C': [0.01, 0.1, 1, 10], 'gamma': [0.01, 0.1, 1, 10]},\n",
       "       pre_dispatch='2*n_jobs', refit=True, return_train_score='warn',\n",
       "       scoring='roc_auc', verbose=0)"
      ]
     },
     "execution_count": 95,
     "metadata": {},
     "output_type": "execute_result"
    }
   ],
   "source": [
    "svc_rbf = SVC(kernel = 'rbf') \n",
    "param_grid = {'C':[0.01, 0.1, 1, 10], 'gamma':[0.01,0.1,1,10]}\n",
    "print(\"Parameter grid for Linear SVR: {}\".format(param_grid))\n",
    "\n",
    "grid_svcRbf = GridSearchCV(svc_rbf, param_grid = param_grid, cv = 5, n_jobs = -1, scoring='roc_auc')\n",
    "grid_svcRbf.fit(X_reduced_train, y_train)"
   ]
  },
  {
   "cell_type": "code",
   "execution_count": 96,
   "metadata": {},
   "outputs": [
    {
     "name": "stdout",
     "output_type": "stream",
     "text": [
      "Best cross-validation score: 1.00\n",
      "Best parameters term: {'C': 10, 'gamma': 0.1}\n",
      "Training Score: 0.9992\n",
      "Testing Score: 0.9987\n"
     ]
    }
   ],
   "source": [
    "print(\"Best cross-validation score: {:.2f}\".format(grid_svcRbf.best_score_))\n",
    "print('Best parameters term:',grid_svcRbf.best_params_)\n",
    "print(\"Training Score: {:.4f}\".format(grid_svcRbf.score(X_reduced_train, y_train)))\n",
    "print(\"Testing Score: {:.4f}\".format(grid_svcRbf.score(X_reduced_test, y_test)))"
   ]
  },
  {
   "cell_type": "code",
   "execution_count": 97,
   "metadata": {},
   "outputs": [],
   "source": [
    "y_svcRbf_predict_train = grid_svcRbf.predict(X_reduced_train)\n",
    "y_svcRbf_predict = grid_svcRbf.predict(X_reduced_test)"
   ]
  },
  {
   "cell_type": "code",
   "execution_count": 98,
   "metadata": {},
   "outputs": [],
   "source": [
    "report_table = report_table + [['SVC RBF Kernalized', 'C = 10, Gamma = 0.01', grid_svcRbf.score(X_reduced_train, y_train), grid_svcRbf.score(X_reduced_test, y_test), roc_auc_score(y_svcRbf_predict_train, y_train), roc_auc_score(y_svcRbf_predict, y_test)]]"
   ]
  },
  {
   "cell_type": "markdown",
   "metadata": {},
   "source": [
    "### Model 6: SVC Kernel 'Poly'"
   ]
  },
  {
   "cell_type": "code",
   "execution_count": 99,
   "metadata": {},
   "outputs": [
    {
     "data": {
      "text/plain": [
       "GridSearchCV(cv=5, error_score='raise',\n",
       "       estimator=SVC(C=1.0, cache_size=200, class_weight=None, coef0=0.0,\n",
       "  decision_function_shape='ovr', degree=2, gamma='auto', kernel='rbf',\n",
       "  max_iter=-1, probability=False, random_state=None, shrinking=True,\n",
       "  tol=0.001, verbose=False),\n",
       "       fit_params=None, iid=True, n_jobs=-1,\n",
       "       param_grid={'C': [0.01, 0.1, 1, 10]}, pre_dispatch='2*n_jobs',\n",
       "       refit=True, return_train_score='warn', scoring='roc_auc', verbose=0)"
      ]
     },
     "execution_count": 99,
     "metadata": {},
     "output_type": "execute_result"
    }
   ],
   "source": [
    "svc_poly = SVC(degree = 2) \n",
    "param_grid = {'C':[0.01, 0.1, 1, 10]}\n",
    "\n",
    "grid_svcPoly = GridSearchCV(svc_poly, param_grid = param_grid, cv = 5, n_jobs = -1, scoring='roc_auc')\n",
    "grid_svcPoly.fit(X_reduced_train, y_train)"
   ]
  },
  {
   "cell_type": "code",
   "execution_count": 100,
   "metadata": {},
   "outputs": [
    {
     "name": "stderr",
     "output_type": "stream",
     "text": [
      "C:\\Users\\speed\\Anaconda3\\lib\\site-packages\\sklearn\\utils\\deprecation.py:122: FutureWarning: You are accessing a training score ('split0_train_score'), which will not be available by default any more in 0.21. If you need training scores, please set return_train_score=True\n",
      "  warnings.warn(*warn_args, **warn_kwargs)\n",
      "C:\\Users\\speed\\Anaconda3\\lib\\site-packages\\sklearn\\utils\\deprecation.py:122: FutureWarning: You are accessing a training score ('split1_train_score'), which will not be available by default any more in 0.21. If you need training scores, please set return_train_score=True\n",
      "  warnings.warn(*warn_args, **warn_kwargs)\n",
      "C:\\Users\\speed\\Anaconda3\\lib\\site-packages\\sklearn\\utils\\deprecation.py:122: FutureWarning: You are accessing a training score ('split2_train_score'), which will not be available by default any more in 0.21. If you need training scores, please set return_train_score=True\n",
      "  warnings.warn(*warn_args, **warn_kwargs)\n",
      "C:\\Users\\speed\\Anaconda3\\lib\\site-packages\\sklearn\\utils\\deprecation.py:122: FutureWarning: You are accessing a training score ('split3_train_score'), which will not be available by default any more in 0.21. If you need training scores, please set return_train_score=True\n",
      "  warnings.warn(*warn_args, **warn_kwargs)\n",
      "C:\\Users\\speed\\Anaconda3\\lib\\site-packages\\sklearn\\utils\\deprecation.py:122: FutureWarning: You are accessing a training score ('split4_train_score'), which will not be available by default any more in 0.21. If you need training scores, please set return_train_score=True\n",
      "  warnings.warn(*warn_args, **warn_kwargs)\n",
      "C:\\Users\\speed\\Anaconda3\\lib\\site-packages\\sklearn\\utils\\deprecation.py:122: FutureWarning: You are accessing a training score ('mean_train_score'), which will not be available by default any more in 0.21. If you need training scores, please set return_train_score=True\n",
      "  warnings.warn(*warn_args, **warn_kwargs)\n",
      "C:\\Users\\speed\\Anaconda3\\lib\\site-packages\\sklearn\\utils\\deprecation.py:122: FutureWarning: You are accessing a training score ('std_train_score'), which will not be available by default any more in 0.21. If you need training scores, please set return_train_score=True\n",
      "  warnings.warn(*warn_args, **warn_kwargs)\n"
     ]
    },
    {
     "data": {
      "text/html": [
       "<div>\n",
       "<style scoped>\n",
       "    .dataframe tbody tr th:only-of-type {\n",
       "        vertical-align: middle;\n",
       "    }\n",
       "\n",
       "    .dataframe tbody tr th {\n",
       "        vertical-align: top;\n",
       "    }\n",
       "\n",
       "    .dataframe thead th {\n",
       "        text-align: right;\n",
       "    }\n",
       "</style>\n",
       "<table border=\"1\" class=\"dataframe\">\n",
       "  <thead>\n",
       "    <tr style=\"text-align: right;\">\n",
       "      <th></th>\n",
       "      <th>param_C</th>\n",
       "      <th>mean_train_score</th>\n",
       "      <th>mean_test_score</th>\n",
       "    </tr>\n",
       "  </thead>\n",
       "  <tbody>\n",
       "    <tr>\n",
       "      <th>0</th>\n",
       "      <td>0.01</td>\n",
       "      <td>0.988268</td>\n",
       "      <td>0.987032</td>\n",
       "    </tr>\n",
       "    <tr>\n",
       "      <th>1</th>\n",
       "      <td>0.1</td>\n",
       "      <td>0.992800</td>\n",
       "      <td>0.990801</td>\n",
       "    </tr>\n",
       "    <tr>\n",
       "      <th>2</th>\n",
       "      <td>1</td>\n",
       "      <td>0.997892</td>\n",
       "      <td>0.996348</td>\n",
       "    </tr>\n",
       "    <tr>\n",
       "      <th>3</th>\n",
       "      <td>10</td>\n",
       "      <td>0.999343</td>\n",
       "      <td>0.997942</td>\n",
       "    </tr>\n",
       "  </tbody>\n",
       "</table>\n",
       "</div>"
      ],
      "text/plain": [
       "  param_C  mean_train_score  mean_test_score\n",
       "0    0.01          0.988268         0.987032\n",
       "1     0.1          0.992800         0.990801\n",
       "2       1          0.997892         0.996348\n",
       "3      10          0.999343         0.997942"
      ]
     },
     "execution_count": 100,
     "metadata": {},
     "output_type": "execute_result"
    }
   ],
   "source": [
    "cv_results = pd.DataFrame.from_dict(grid_svcPoly.cv_results_)\n",
    "cv_results[['param_C','mean_train_score','mean_test_score']]"
   ]
  },
  {
   "cell_type": "code",
   "execution_count": 101,
   "metadata": {},
   "outputs": [],
   "source": [
    "y_svcPoly_predict_train = grid_svcPoly.predict(X_reduced_train);\n",
    "y_svcPoly_predict = grid_svcPoly.predict(X_reduced_test);"
   ]
  },
  {
   "cell_type": "code",
   "execution_count": 102,
   "metadata": {},
   "outputs": [],
   "source": [
    "report_table = report_table + [['SVC Poly', 'C = 10', grid_svcPoly.score(X_reduced_train, y_train), \n",
    "                                grid_svcPoly.score(X_reduced_test, y_test), \n",
    "                                roc_auc_score(y_svcPoly_predict_train, y_train), \n",
    "                                roc_auc_score(y_svcPoly_predict, y_test)]]"
   ]
  },
  {
   "cell_type": "markdown",
   "metadata": {},
   "source": [
    "### Model 7: Decision Trees after PCA"
   ]
  },
  {
   "cell_type": "code",
   "execution_count": 103,
   "metadata": {},
   "outputs": [
    {
     "data": {
      "text/plain": [
       "GridSearchCV(cv=5, error_score='raise',\n",
       "       estimator=DecisionTreeClassifier(class_weight=None, criterion='gini', max_depth=None,\n",
       "            max_features=None, max_leaf_nodes=None,\n",
       "            min_impurity_decrease=0.0, min_impurity_split=None,\n",
       "            min_samples_leaf=1, min_samples_split=2,\n",
       "            min_weight_fraction_leaf=0.0, presort=False, random_state=None,\n",
       "            splitter='best'),\n",
       "       fit_params=None, iid=True, n_jobs=-1,\n",
       "       param_grid={'max_depth': [1, 2, 3, 4, 5, 6]},\n",
       "       pre_dispatch='2*n_jobs', refit=True, return_train_score=True,\n",
       "       scoring='roc_auc', verbose=0)"
      ]
     },
     "execution_count": 103,
     "metadata": {},
     "output_type": "execute_result"
    }
   ],
   "source": [
    "from sklearn.tree import DecisionTreeClassifier\n",
    "\n",
    "param_grid = {'max_depth':[1, 2, 3, 4, 5, 6]}\n",
    "dtree = DecisionTreeClassifier()\n",
    "\n",
    "grid_tree = GridSearchCV(dtree, param_grid, cv = 5, scoring='roc_auc', return_train_score=True,n_jobs=-1)\n",
    "grid_tree.fit(X_reduced_train, y_train)"
   ]
  },
  {
   "cell_type": "code",
   "execution_count": 104,
   "metadata": {},
   "outputs": [],
   "source": [
    "dtree_predict_train = grid_tree.predict(X_reduced_train);\n",
    "dtree_predict = grid_tree.predict(X_reduced_test);"
   ]
  },
  {
   "cell_type": "code",
   "execution_count": 105,
   "metadata": {},
   "outputs": [],
   "source": [
    "report_table = report_table + [['Decision Tree', 'max_depth = 4', grid_tree.score(X_reduced_train, y_train), \n",
    "                                grid_tree.score(X_reduced_test, y_test), \n",
    "                                roc_auc_score(dtree_predict_train, y_train), \n",
    "                                roc_auc_score(dtree_predict, y_test)]]"
   ]
  },
  {
   "cell_type": "code",
   "execution_count": 106,
   "metadata": {},
   "outputs": [],
   "source": [
    "report = pd.DataFrame(report_table,columns = ['Model name', 'Model parameter', 'Train accuracy', \n",
    "                                              'Test accuracy', 'Train auc score', 'Test auc score'])"
   ]
  },
  {
   "cell_type": "markdown",
   "metadata": {},
   "source": [
    "## Model results with PCA"
   ]
  },
  {
   "cell_type": "code",
   "execution_count": 107,
   "metadata": {},
   "outputs": [
    {
     "data": {
      "text/html": [
       "<div>\n",
       "<style scoped>\n",
       "    .dataframe tbody tr th:only-of-type {\n",
       "        vertical-align: middle;\n",
       "    }\n",
       "\n",
       "    .dataframe tbody tr th {\n",
       "        vertical-align: top;\n",
       "    }\n",
       "\n",
       "    .dataframe thead th {\n",
       "        text-align: right;\n",
       "    }\n",
       "</style>\n",
       "<table border=\"1\" class=\"dataframe\">\n",
       "  <thead>\n",
       "    <tr style=\"text-align: right;\">\n",
       "      <th></th>\n",
       "      <th>Model name</th>\n",
       "      <th>Model parameter</th>\n",
       "      <th>Train accuracy</th>\n",
       "      <th>Test accuracy</th>\n",
       "      <th>Train auc score</th>\n",
       "      <th>Test auc score</th>\n",
       "    </tr>\n",
       "  </thead>\n",
       "  <tbody>\n",
       "    <tr>\n",
       "      <th>0</th>\n",
       "      <td>Logistic</td>\n",
       "      <td>{'C': 1000, 'penalty': 'l1'}</td>\n",
       "      <td>0.999537</td>\n",
       "      <td>0.981702</td>\n",
       "      <td>0.991084</td>\n",
       "      <td>0.970546</td>\n",
       "    </tr>\n",
       "    <tr>\n",
       "      <th>1</th>\n",
       "      <td>Knn Classifier</td>\n",
       "      <td>{'n_neighbors': 15}</td>\n",
       "      <td>0.996309</td>\n",
       "      <td>0.995185</td>\n",
       "      <td>0.963052</td>\n",
       "      <td>0.963852</td>\n",
       "    </tr>\n",
       "    <tr>\n",
       "      <th>2</th>\n",
       "      <td>Linear SVC</td>\n",
       "      <td>{'C': 10}</td>\n",
       "      <td>0.999471</td>\n",
       "      <td>0.986277</td>\n",
       "      <td>0.993339</td>\n",
       "      <td>0.966053</td>\n",
       "    </tr>\n",
       "    <tr>\n",
       "      <th>3</th>\n",
       "      <td>SVC Linear Kernalized</td>\n",
       "      <td>C = 10</td>\n",
       "      <td>0.999206</td>\n",
       "      <td>0.984832</td>\n",
       "      <td>0.990428</td>\n",
       "      <td>0.966053</td>\n",
       "    </tr>\n",
       "    <tr>\n",
       "      <th>4</th>\n",
       "      <td>SVC RBF Kernalized</td>\n",
       "      <td>C = 10, Gamma = 0.01</td>\n",
       "      <td>0.999167</td>\n",
       "      <td>0.998676</td>\n",
       "      <td>0.983798</td>\n",
       "      <td>0.981801</td>\n",
       "    </tr>\n",
       "    <tr>\n",
       "      <th>5</th>\n",
       "      <td>SVC Poly</td>\n",
       "      <td>C = 10</td>\n",
       "      <td>0.999312</td>\n",
       "      <td>0.997111</td>\n",
       "      <td>0.985238</td>\n",
       "      <td>0.981801</td>\n",
       "    </tr>\n",
       "    <tr>\n",
       "      <th>6</th>\n",
       "      <td>Decision Tree</td>\n",
       "      <td>max_depth = 4</td>\n",
       "      <td>0.990800</td>\n",
       "      <td>0.975262</td>\n",
       "      <td>0.965153</td>\n",
       "      <td>0.911298</td>\n",
       "    </tr>\n",
       "  </tbody>\n",
       "</table>\n",
       "</div>"
      ],
      "text/plain": [
       "              Model name               Model parameter  Train accuracy  \\\n",
       "0               Logistic  {'C': 1000, 'penalty': 'l1'}        0.999537   \n",
       "1         Knn Classifier           {'n_neighbors': 15}        0.996309   \n",
       "2             Linear SVC                     {'C': 10}        0.999471   \n",
       "3  SVC Linear Kernalized                        C = 10        0.999206   \n",
       "4     SVC RBF Kernalized          C = 10, Gamma = 0.01        0.999167   \n",
       "5               SVC Poly                        C = 10        0.999312   \n",
       "6          Decision Tree                 max_depth = 4        0.990800   \n",
       "\n",
       "   Test accuracy  Train auc score  Test auc score  \n",
       "0       0.981702         0.991084        0.970546  \n",
       "1       0.995185         0.963052        0.963852  \n",
       "2       0.986277         0.993339        0.966053  \n",
       "3       0.984832         0.990428        0.966053  \n",
       "4       0.998676         0.983798        0.981801  \n",
       "5       0.997111         0.985238        0.981801  \n",
       "6       0.975262         0.965153        0.911298  "
      ]
     },
     "execution_count": 107,
     "metadata": {},
     "output_type": "execute_result"
    }
   ],
   "source": [
    "report"
   ]
  },
  {
   "cell_type": "markdown",
   "metadata": {},
   "source": [
    "## Model results without PCA"
   ]
  },
  {
   "cell_type": "markdown",
   "metadata": {},
   "source": [
    "<img src=\"class_Nopca.PNG\">"
   ]
  },
  {
   "cell_type": "markdown",
   "metadata": {},
   "source": [
    "## Conclusion"
   ]
  },
  {
   "cell_type": "markdown",
   "metadata": {},
   "source": [
    "After carefully implementing all the models with and without PCA, we come to the conclusion that 'SVC Linear Kernelized without PCA' gives us the best test accuracy of 99.46% and test AUC of 0.9615. Also, since the change is not very significant with original and reduced dataset, we can conclude that original dataset can be used for our analysis."
   ]
  },
  {
   "cell_type": "code",
   "execution_count": 108,
   "metadata": {},
   "outputs": [
    {
     "name": "stderr",
     "output_type": "stream",
     "text": [
      "Using TensorFlow backend.\n"
     ]
    }
   ],
   "source": [
    "from keras.models import Sequential\n",
    "from keras.layers import Dense\n",
    "from sklearn.metrics import recall_score, precision_score"
   ]
  },
  {
   "cell_type": "code",
   "execution_count": 111,
   "metadata": {},
   "outputs": [
    {
     "name": "stdout",
     "output_type": "stream",
     "text": [
      "WARNING:tensorflow:From C:\\Users\\speed\\Anaconda3\\lib\\site-packages\\tensorflow\\python\\ops\\math_ops.py:3066: to_int32 (from tensorflow.python.ops.math_ops) is deprecated and will be removed in a future version.\n",
      "Instructions for updating:\n",
      "Use tf.cast instead.\n",
      "Epoch 1/1\n",
      "562/562 [==============================] - 0s 722us/step - loss: 0.6706 - acc: 0.6032\n"
     ]
    },
    {
     "data": {
      "text/plain": [
       "<keras.callbacks.History at 0x2579ce374a8>"
      ]
     },
     "execution_count": 111,
     "metadata": {},
     "output_type": "execute_result"
    }
   ],
   "source": [
    "model = Sequential()\n",
    "model.add(Dense(15,input_dim=11,activation='sigmoid'))\n",
    "model.add(Dense(8, activation='relu'))\n",
    "model.add(Dense(1, activation='sigmoid'))\n",
    "model.compile(optimizer='adam',loss='binary_crossentropy',metrics=['accuracy'])\n",
    "model.fit(X_train, y_train)"
   ]
  },
  {
   "cell_type": "code",
   "execution_count": 112,
   "metadata": {},
   "outputs": [
    {
     "name": "stdout",
     "output_type": "stream",
     "text": [
      "188/188 [==============================] - 0s 202us/step\n",
      "\n",
      "acc: 62.23%\n"
     ]
    }
   ],
   "source": [
    "# evaluate the model\n",
    "scores = model.evaluate(X_test, y_test)\n",
    "print(\"\\n%s: %.2f%%\" % (model.metrics_names[1], scores[1]*100))"
   ]
  },
  {
   "cell_type": "code",
   "execution_count": 121,
   "metadata": {},
   "outputs": [
    {
     "name": "stdout",
     "output_type": "stream",
     "text": [
      "562/562 [==============================] - 0s 16us/step\n",
      "188/188 [==============================] - 0s 21us/step\n"
     ]
    },
    {
     "data": {
      "text/plain": [
       "[0.630642980971235, 0.6223404268000988]"
      ]
     },
     "execution_count": 121,
     "metadata": {},
     "output_type": "execute_result"
    }
   ],
   "source": [
    "model.evaluate(X_train, y_train)\n",
    "model.evaluate(X_test, y_test)"
   ]
  },
  {
   "cell_type": "code",
   "execution_count": 116,
   "metadata": {},
   "outputs": [
    {
     "name": "stdout",
     "output_type": "stream",
     "text": [
      "_________________________________________________________________\n",
      "Layer (type)                 Output Shape              Param #   \n",
      "=================================================================\n",
      "dense_7 (Dense)              (None, 15)                180       \n",
      "_________________________________________________________________\n",
      "dense_8 (Dense)              (None, 8)                 128       \n",
      "_________________________________________________________________\n",
      "dense_9 (Dense)              (None, 1)                 9         \n",
      "=================================================================\n",
      "Total params: 317\n",
      "Trainable params: 317\n",
      "Non-trainable params: 0\n",
      "_________________________________________________________________\n"
     ]
    }
   ],
   "source": [
    "model.summary()"
   ]
  }
 ],
 "metadata": {
  "kernelspec": {
   "display_name": "Python 3",
   "language": "python",
   "name": "python3"
  },
  "language_info": {
   "codemirror_mode": {
    "name": "ipython",
    "version": 3
   },
   "file_extension": ".py",
   "mimetype": "text/x-python",
   "name": "python",
   "nbconvert_exporter": "python",
   "pygments_lexer": "ipython3",
   "version": "3.7.3"
  }
 },
 "nbformat": 4,
 "nbformat_minor": 4
}
