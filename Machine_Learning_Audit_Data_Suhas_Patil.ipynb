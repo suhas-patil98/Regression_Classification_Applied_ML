{
 "cells": [
  {
   "cell_type": "markdown",
   "metadata": {},
   "source": [
    "## APPLIED MACHINE LEARNING PROJECT"
   ]
  },
  {
   "cell_type": "markdown",
   "metadata": {},
   "source": [
    "### Suhas Patil"
   ]
  },
  {
   "cell_type": "code",
   "execution_count": null,
   "metadata": {},
   "outputs": [],
   "source": [
    "#imports\n",
    "import pandas as pd\n",
    "import numpy as np\n",
    "import matplotlib.pyplot as plt\n",
    "import seaborn as sns\n",
    "import mglearn"
   ]
  },
  {
   "cell_type": "markdown",
   "metadata": {},
   "source": [
    "### Import Data from files to Pandas Dataframe"
   ]
  },
  {
   "cell_type": "code",
   "execution_count": 2,
   "metadata": {},
   "outputs": [],
   "source": [
    "Audit_Risk = pd.read_csv('audit_risk.csv')\n",
    "Trials = pd.read_csv('trial.csv')"
   ]
  },
  {
   "cell_type": "code",
   "execution_count": 3,
   "metadata": {},
   "outputs": [
    {
     "name": "stdout",
     "output_type": "stream",
     "text": [
      "(776, 27)\n",
      "(776, 18)\n"
     ]
    }
   ],
   "source": [
    "print(Audit_Risk.shape)\n",
    "print(Trials.shape)"
   ]
  },
  {
   "cell_type": "code",
   "execution_count": 4,
   "metadata": {},
   "outputs": [
    {
     "data": {
      "text/plain": [
       "{'History',\n",
       " 'LOCATION_ID',\n",
       " 'Money_Value',\n",
       " 'PARA_A',\n",
       " 'PARA_B',\n",
       " 'Risk',\n",
       " 'Score',\n",
       " 'Sector_score',\n",
       " 'TOTAL',\n",
       " 'numbers'}"
      ]
     },
     "execution_count": 4,
     "metadata": {},
     "output_type": "execute_result"
    }
   ],
   "source": [
    "# Selecting columns with same name & values from both csv tables\n",
    "Common_Cols=set(Audit_Risk.columns).intersection(set(Trials.columns))\n",
    "Common_Cols"
   ]
  },
  {
   "cell_type": "code",
   "execution_count": 5,
   "metadata": {},
   "outputs": [
    {
     "data": {
      "text/plain": [
       "(629, 35)"
      ]
     },
     "execution_count": 5,
     "metadata": {},
     "output_type": "execute_result"
    }
   ],
   "source": [
    "# Merging the Audit_Risk and Trials based on common columns\n",
    "Risk_data = Audit_Risk.merge(Trials, how = 'inner', on = ['History',\n",
    " 'LOCATION_ID',\n",
    " 'Money_Value',\n",
    " 'PARA_A',\n",
    " 'PARA_B',\n",
    " 'Risk',\n",
    " 'Score',\n",
    " 'Sector_score',\n",
    " 'TOTAL',\n",
    " 'numbers'], sort = False)\n",
    "\n",
    "Risk_data.head()\n",
    "Risk_data.shape"
   ]
  },
  {
   "cell_type": "code",
   "execution_count": 6,
   "metadata": {},
   "outputs": [
    {
     "data": {
      "text/plain": [
       "array([[<matplotlib.axes._subplots.AxesSubplot object at 0x00000231EA6717F0>,\n",
       "        <matplotlib.axes._subplots.AxesSubplot object at 0x00000231EA910D30>,\n",
       "        <matplotlib.axes._subplots.AxesSubplot object at 0x00000231EA943400>,\n",
       "        <matplotlib.axes._subplots.AxesSubplot object at 0x00000231EA967A90>,\n",
       "        <matplotlib.axes._subplots.AxesSubplot object at 0x00000231EA99A160>,\n",
       "        <matplotlib.axes._subplots.AxesSubplot object at 0x00000231EA99A198>,\n",
       "        <matplotlib.axes._subplots.AxesSubplot object at 0x00000231EA9EAE80>],\n",
       "       [<matplotlib.axes._subplots.AxesSubplot object at 0x00000231EAA18550>,\n",
       "        <matplotlib.axes._subplots.AxesSubplot object at 0x00000231EAA41BE0>,\n",
       "        <matplotlib.axes._subplots.AxesSubplot object at 0x00000231EAA742B0>,\n",
       "        <matplotlib.axes._subplots.AxesSubplot object at 0x00000231EAA98940>,\n",
       "        <matplotlib.axes._subplots.AxesSubplot object at 0x00000231EAAC3FD0>,\n",
       "        <matplotlib.axes._subplots.AxesSubplot object at 0x00000231EAAF26A0>,\n",
       "        <matplotlib.axes._subplots.AxesSubplot object at 0x00000231EAB17CF8>],\n",
       "       [<matplotlib.axes._subplots.AxesSubplot object at 0x00000231EAB4A3C8>,\n",
       "        <matplotlib.axes._subplots.AxesSubplot object at 0x00000231EAB73A58>,\n",
       "        <matplotlib.axes._subplots.AxesSubplot object at 0x00000231EABA4128>,\n",
       "        <matplotlib.axes._subplots.AxesSubplot object at 0x00000231EABCA7B8>,\n",
       "        <matplotlib.axes._subplots.AxesSubplot object at 0x00000231EABF2E48>,\n",
       "        <matplotlib.axes._subplots.AxesSubplot object at 0x00000231EAC22518>,\n",
       "        <matplotlib.axes._subplots.AxesSubplot object at 0x00000231EAC4ABA8>],\n",
       "       [<matplotlib.axes._subplots.AxesSubplot object at 0x00000231EAC7D278>,\n",
       "        <matplotlib.axes._subplots.AxesSubplot object at 0x00000231EACA3908>,\n",
       "        <matplotlib.axes._subplots.AxesSubplot object at 0x00000231EACCBF98>,\n",
       "        <matplotlib.axes._subplots.AxesSubplot object at 0x00000231EACFD668>,\n",
       "        <matplotlib.axes._subplots.AxesSubplot object at 0x00000231EAD24CF8>,\n",
       "        <matplotlib.axes._subplots.AxesSubplot object at 0x00000231EAD553C8>,\n",
       "        <matplotlib.axes._subplots.AxesSubplot object at 0x00000231EAD7EA58>],\n",
       "       [<matplotlib.axes._subplots.AxesSubplot object at 0x00000231EADB0128>,\n",
       "        <matplotlib.axes._subplots.AxesSubplot object at 0x00000231EADD67B8>,\n",
       "        <matplotlib.axes._subplots.AxesSubplot object at 0x00000231EADFEE48>,\n",
       "        <matplotlib.axes._subplots.AxesSubplot object at 0x00000231EAE2F518>,\n",
       "        <matplotlib.axes._subplots.AxesSubplot object at 0x00000231EAE56BA8>,\n",
       "        <matplotlib.axes._subplots.AxesSubplot object at 0x00000231EAE88278>,\n",
       "        <matplotlib.axes._subplots.AxesSubplot object at 0x00000231EAEAF908>],\n",
       "       [<matplotlib.axes._subplots.AxesSubplot object at 0x00000231EAED8F98>,\n",
       "        <matplotlib.axes._subplots.AxesSubplot object at 0x00000231EAF07668>,\n",
       "        <matplotlib.axes._subplots.AxesSubplot object at 0x00000231EAF2ECF8>,\n",
       "        <matplotlib.axes._subplots.AxesSubplot object at 0x00000231EAF603C8>,\n",
       "        <matplotlib.axes._subplots.AxesSubplot object at 0x00000231EAF88A58>,\n",
       "        <matplotlib.axes._subplots.AxesSubplot object at 0x00000231EAFBA128>,\n",
       "        <matplotlib.axes._subplots.AxesSubplot object at 0x00000231EAFD97B8>],\n",
       "       [<matplotlib.axes._subplots.AxesSubplot object at 0x00000231EB003E48>,\n",
       "        <matplotlib.axes._subplots.AxesSubplot object at 0x00000231EB034518>,\n",
       "        <matplotlib.axes._subplots.AxesSubplot object at 0x00000231EB05BBA8>,\n",
       "        <matplotlib.axes._subplots.AxesSubplot object at 0x00000231EB08D278>,\n",
       "        <matplotlib.axes._subplots.AxesSubplot object at 0x00000231EB0B7908>,\n",
       "        <matplotlib.axes._subplots.AxesSubplot object at 0x00000231EB0DFF98>,\n",
       "        <matplotlib.axes._subplots.AxesSubplot object at 0x00000231EB10D668>]],\n",
       "      dtype=object)"
      ]
     },
     "execution_count": 6,
     "metadata": {},
     "output_type": "execute_result"
    },
    {
     "data": {
      "image/png": "[encoded data removed]",
      "text/plain": [
       "<Figure size 1080x1080 with 49 Axes>"
      ]
     },
     "metadata": {
      "needs_background": "light"
     },
     "output_type": "display_data"
    }
   ],
   "source": [
    "#Graphical exploration of data\n",
    "\n",
    "%matplotlib inline\n",
    "from pandas.plotting import scatter_matrix\n",
    "\n",
    "attributes = Risk_data.columns[:8]\n",
    "scatter_matrix(Risk_data[attributes], figsize = (15,15),c=Risk_data['Audit_Risk'], alpha = 0.8, marker = 'O')"
   ]
  },
  {
   "cell_type": "code",
   "execution_count": null,
   "metadata": {},
   "outputs": [],
   "source": [
    "#Checking correlation between the features\n",
    "colormap = plt.cm.RdBu\n",
    "plt.title('Pearson Corr.', y=1.05, size=12)\n",
    "plt.figure(figsize= (15,15))\n",
    "sns.heatmap(Risk_data.corr(),linewidths=0.1, vmax=1.0, \n",
    "            square=True, cmap=colormap, linecolor='white', annot=True))"
   ]
  },
  {
   "cell_type": "code",
   "execution_count": 8,
   "metadata": {},
   "outputs": [
    {
     "data": {
      "text/html": [
       "<div>\n",
       "<style scoped>\n",
       "    .dataframe tbody tr th:only-of-type {\n",
       "        vertical-align: middle;\n",
       "    }\n",
       "\n",
       "    .dataframe tbody tr th {\n",
       "        vertical-align: top;\n",
       "    }\n",
       "\n",
       "    .dataframe thead th {\n",
       "        text-align: right;\n",
       "    }\n",
       "</style>\n",
       "<table border=\"1\" class=\"dataframe\">\n",
       "  <thead>\n",
       "    <tr style=\"text-align: right;\">\n",
       "      <th></th>\n",
       "      <th>Sector_score</th>\n",
       "      <th>PARA_A</th>\n",
       "      <th>Score_A</th>\n",
       "      <th>Risk_A</th>\n",
       "      <th>PARA_B</th>\n",
       "      <th>Score_B</th>\n",
       "      <th>Risk_B</th>\n",
       "      <th>TOTAL</th>\n",
       "      <th>numbers</th>\n",
       "      <th>Score_B.1</th>\n",
       "      <th>...</th>\n",
       "      <th>Audit_Risk</th>\n",
       "      <th>Risk</th>\n",
       "      <th>SCORE_A</th>\n",
       "      <th>SCORE_B</th>\n",
       "      <th>Marks</th>\n",
       "      <th>MONEY_Marks</th>\n",
       "      <th>District</th>\n",
       "      <th>Loss</th>\n",
       "      <th>LOSS_SCORE</th>\n",
       "      <th>History_score</th>\n",
       "    </tr>\n",
       "  </thead>\n",
       "  <tbody>\n",
       "    <tr>\n",
       "      <th>Sector_score</th>\n",
       "      <td>1.000000</td>\n",
       "      <td>-0.244341</td>\n",
       "      <td>-0.462744</td>\n",
       "      <td>-0.244301</td>\n",
       "      <td>-0.159652</td>\n",
       "      <td>-0.354941</td>\n",
       "      <td>-0.157330</td>\n",
       "      <td>-0.182717</td>\n",
       "      <td>-0.190785</td>\n",
       "      <td>-0.217181</td>\n",
       "      <td>...</td>\n",
       "      <td>-0.111264</td>\n",
       "      <td>-0.510109</td>\n",
       "      <td>-0.462744</td>\n",
       "      <td>-0.354941</td>\n",
       "      <td>-0.217181</td>\n",
       "      <td>-0.389011</td>\n",
       "      <td>-0.155540</td>\n",
       "      <td>-0.128379</td>\n",
       "      <td>-0.132147</td>\n",
       "      <td>-0.162778</td>\n",
       "    </tr>\n",
       "    <tr>\n",
       "      <th>PARA_A</th>\n",
       "      <td>-0.244341</td>\n",
       "      <td>1.000000</td>\n",
       "      <td>0.524015</td>\n",
       "      <td>0.999460</td>\n",
       "      <td>0.157794</td>\n",
       "      <td>0.393414</td>\n",
       "      <td>0.157625</td>\n",
       "      <td>0.263090</td>\n",
       "      <td>0.129791</td>\n",
       "      <td>0.136845</td>\n",
       "      <td>...</td>\n",
       "      <td>0.216369</td>\n",
       "      <td>0.383510</td>\n",
       "      <td>0.524015</td>\n",
       "      <td>0.393414</td>\n",
       "      <td>0.136845</td>\n",
       "      <td>0.283638</td>\n",
       "      <td>0.134394</td>\n",
       "      <td>0.048668</td>\n",
       "      <td>0.046604</td>\n",
       "      <td>0.169173</td>\n",
       "    </tr>\n",
       "    <tr>\n",
       "      <th>Score_A</th>\n",
       "      <td>-0.462744</td>\n",
       "      <td>0.524015</td>\n",
       "      <td>1.000000</td>\n",
       "      <td>0.531303</td>\n",
       "      <td>0.286292</td>\n",
       "      <td>0.747852</td>\n",
       "      <td>0.284598</td>\n",
       "      <td>0.336559</td>\n",
       "      <td>0.287509</td>\n",
       "      <td>0.328258</td>\n",
       "      <td>...</td>\n",
       "      <td>0.230675</td>\n",
       "      <td>0.784906</td>\n",
       "      <td>1.000000</td>\n",
       "      <td>0.747852</td>\n",
       "      <td>0.328258</td>\n",
       "      <td>0.582575</td>\n",
       "      <td>0.156769</td>\n",
       "      <td>0.129771</td>\n",
       "      <td>0.130066</td>\n",
       "      <td>0.310560</td>\n",
       "    </tr>\n",
       "    <tr>\n",
       "      <th>Risk_A</th>\n",
       "      <td>-0.244301</td>\n",
       "      <td>0.999460</td>\n",
       "      <td>0.531303</td>\n",
       "      <td>1.000000</td>\n",
       "      <td>0.160045</td>\n",
       "      <td>0.396850</td>\n",
       "      <td>0.159864</td>\n",
       "      <td>0.265224</td>\n",
       "      <td>0.130208</td>\n",
       "      <td>0.137676</td>\n",
       "      <td>...</td>\n",
       "      <td>0.217444</td>\n",
       "      <td>0.385148</td>\n",
       "      <td>0.531303</td>\n",
       "      <td>0.396850</td>\n",
       "      <td>0.137676</td>\n",
       "      <td>0.285143</td>\n",
       "      <td>0.132753</td>\n",
       "      <td>0.047877</td>\n",
       "      <td>0.045316</td>\n",
       "      <td>0.171515</td>\n",
       "    </tr>\n",
       "    <tr>\n",
       "      <th>PARA_B</th>\n",
       "      <td>-0.159652</td>\n",
       "      <td>0.157794</td>\n",
       "      <td>0.286292</td>\n",
       "      <td>0.160045</td>\n",
       "      <td>1.000000</td>\n",
       "      <td>0.361286</td>\n",
       "      <td>0.999940</td>\n",
       "      <td>0.994088</td>\n",
       "      <td>0.202393</td>\n",
       "      <td>0.223443</td>\n",
       "      <td>...</td>\n",
       "      <td>0.887055</td>\n",
       "      <td>0.238326</td>\n",
       "      <td>0.286292</td>\n",
       "      <td>0.361286</td>\n",
       "      <td>0.223443</td>\n",
       "      <td>0.303650</td>\n",
       "      <td>0.077969</td>\n",
       "      <td>0.042934</td>\n",
       "      <td>0.040254</td>\n",
       "      <td>0.311136</td>\n",
       "    </tr>\n",
       "    <tr>\n",
       "      <th>Score_B</th>\n",
       "      <td>-0.354941</td>\n",
       "      <td>0.393414</td>\n",
       "      <td>0.747852</td>\n",
       "      <td>0.396850</td>\n",
       "      <td>0.361286</td>\n",
       "      <td>1.000000</td>\n",
       "      <td>0.362001</td>\n",
       "      <td>0.396800</td>\n",
       "      <td>0.292669</td>\n",
       "      <td>0.333048</td>\n",
       "      <td>...</td>\n",
       "      <td>0.215797</td>\n",
       "      <td>0.696150</td>\n",
       "      <td>0.747852</td>\n",
       "      <td>1.000000</td>\n",
       "      <td>0.333048</td>\n",
       "      <td>0.613095</td>\n",
       "      <td>0.011184</td>\n",
       "      <td>0.113874</td>\n",
       "      <td>0.106356</td>\n",
       "      <td>0.327010</td>\n",
       "    </tr>\n",
       "    <tr>\n",
       "      <th>Risk_B</th>\n",
       "      <td>-0.157330</td>\n",
       "      <td>0.157625</td>\n",
       "      <td>0.284598</td>\n",
       "      <td>0.159864</td>\n",
       "      <td>0.999940</td>\n",
       "      <td>0.362001</td>\n",
       "      <td>1.000000</td>\n",
       "      <td>0.994008</td>\n",
       "      <td>0.202146</td>\n",
       "      <td>0.223155</td>\n",
       "      <td>...</td>\n",
       "      <td>0.886818</td>\n",
       "      <td>0.236471</td>\n",
       "      <td>0.284598</td>\n",
       "      <td>0.362001</td>\n",
       "      <td>0.223155</td>\n",
       "      <td>0.302130</td>\n",
       "      <td>0.078010</td>\n",
       "      <td>0.043172</td>\n",
       "      <td>0.040524</td>\n",
       "      <td>0.310998</td>\n",
       "    </tr>\n",
       "    <tr>\n",
       "      <th>TOTAL</th>\n",
       "      <td>-0.182717</td>\n",
       "      <td>0.263090</td>\n",
       "      <td>0.336559</td>\n",
       "      <td>0.265224</td>\n",
       "      <td>0.994088</td>\n",
       "      <td>0.396800</td>\n",
       "      <td>0.994008</td>\n",
       "      <td>1.000000</td>\n",
       "      <td>0.210004</td>\n",
       "      <td>0.230664</td>\n",
       "      <td>...</td>\n",
       "      <td>0.887373</td>\n",
       "      <td>0.274462</td>\n",
       "      <td>0.336559</td>\n",
       "      <td>0.396800</td>\n",
       "      <td>0.230664</td>\n",
       "      <td>0.326728</td>\n",
       "      <td>0.089218</td>\n",
       "      <td>0.047428</td>\n",
       "      <td>0.044586</td>\n",
       "      <td>0.320876</td>\n",
       "    </tr>\n",
       "    <tr>\n",
       "      <th>numbers</th>\n",
       "      <td>-0.190785</td>\n",
       "      <td>0.129791</td>\n",
       "      <td>0.287509</td>\n",
       "      <td>0.130208</td>\n",
       "      <td>0.202393</td>\n",
       "      <td>0.292669</td>\n",
       "      <td>0.202146</td>\n",
       "      <td>0.210004</td>\n",
       "      <td>1.000000</td>\n",
       "      <td>0.906225</td>\n",
       "      <td>...</td>\n",
       "      <td>0.215413</td>\n",
       "      <td>0.288779</td>\n",
       "      <td>0.287509</td>\n",
       "      <td>0.292669</td>\n",
       "      <td>0.906225</td>\n",
       "      <td>0.440302</td>\n",
       "      <td>0.121201</td>\n",
       "      <td>-0.006112</td>\n",
       "      <td>0.032770</td>\n",
       "      <td>0.202007</td>\n",
       "    </tr>\n",
       "    <tr>\n",
       "      <th>Score_B.1</th>\n",
       "      <td>-0.217181</td>\n",
       "      <td>0.136845</td>\n",
       "      <td>0.328258</td>\n",
       "      <td>0.137676</td>\n",
       "      <td>0.223443</td>\n",
       "      <td>0.333048</td>\n",
       "      <td>0.223155</td>\n",
       "      <td>0.230664</td>\n",
       "      <td>0.906225</td>\n",
       "      <td>1.000000</td>\n",
       "      <td>...</td>\n",
       "      <td>0.254326</td>\n",
       "      <td>0.333936</td>\n",
       "      <td>0.328258</td>\n",
       "      <td>0.333048</td>\n",
       "      <td>1.000000</td>\n",
       "      <td>0.502720</td>\n",
       "      <td>0.147371</td>\n",
       "      <td>-0.000088</td>\n",
       "      <td>0.033504</td>\n",
       "      <td>0.241330</td>\n",
       "    </tr>\n",
       "    <tr>\n",
       "      <th>Risk_C</th>\n",
       "      <td>-0.210722</td>\n",
       "      <td>0.136447</td>\n",
       "      <td>0.316826</td>\n",
       "      <td>0.137129</td>\n",
       "      <td>0.215371</td>\n",
       "      <td>0.320626</td>\n",
       "      <td>0.215073</td>\n",
       "      <td>0.222836</td>\n",
       "      <td>0.954401</td>\n",
       "      <td>0.990211</td>\n",
       "      <td>...</td>\n",
       "      <td>0.244211</td>\n",
       "      <td>0.321942</td>\n",
       "      <td>0.316826</td>\n",
       "      <td>0.320626</td>\n",
       "      <td>0.990211</td>\n",
       "      <td>0.487536</td>\n",
       "      <td>0.142911</td>\n",
       "      <td>-0.003890</td>\n",
       "      <td>0.032826</td>\n",
       "      <td>0.230229</td>\n",
       "    </tr>\n",
       "    <tr>\n",
       "      <th>Money_Value</th>\n",
       "      <td>-0.140883</td>\n",
       "      <td>0.447595</td>\n",
       "      <td>0.238907</td>\n",
       "      <td>0.446493</td>\n",
       "      <td>0.116766</td>\n",
       "      <td>0.211803</td>\n",
       "      <td>0.116807</td>\n",
       "      <td>0.160470</td>\n",
       "      <td>0.177996</td>\n",
       "      <td>0.212302</td>\n",
       "      <td>...</td>\n",
       "      <td>0.328711</td>\n",
       "      <td>0.237113</td>\n",
       "      <td>0.238907</td>\n",
       "      <td>0.211803</td>\n",
       "      <td>0.212302</td>\n",
       "      <td>0.382107</td>\n",
       "      <td>0.020710</td>\n",
       "      <td>0.021326</td>\n",
       "      <td>0.028605</td>\n",
       "      <td>0.103141</td>\n",
       "    </tr>\n",
       "    <tr>\n",
       "      <th>Score_MV</th>\n",
       "      <td>-0.389011</td>\n",
       "      <td>0.283638</td>\n",
       "      <td>0.582575</td>\n",
       "      <td>0.285143</td>\n",
       "      <td>0.303650</td>\n",
       "      <td>0.613095</td>\n",
       "      <td>0.302130</td>\n",
       "      <td>0.326728</td>\n",
       "      <td>0.440302</td>\n",
       "      <td>0.502720</td>\n",
       "      <td>...</td>\n",
       "      <td>0.282818</td>\n",
       "      <td>0.662421</td>\n",
       "      <td>0.582575</td>\n",
       "      <td>0.613095</td>\n",
       "      <td>0.502720</td>\n",
       "      <td>1.000000</td>\n",
       "      <td>0.065972</td>\n",
       "      <td>0.117740</td>\n",
       "      <td>0.129025</td>\n",
       "      <td>0.323337</td>\n",
       "    </tr>\n",
       "    <tr>\n",
       "      <th>Risk_D</th>\n",
       "      <td>-0.139390</td>\n",
       "      <td>0.446749</td>\n",
       "      <td>0.235846</td>\n",
       "      <td>0.445632</td>\n",
       "      <td>0.116449</td>\n",
       "      <td>0.208712</td>\n",
       "      <td>0.116498</td>\n",
       "      <td>0.160067</td>\n",
       "      <td>0.178456</td>\n",
       "      <td>0.212687</td>\n",
       "      <td>...</td>\n",
       "      <td>0.328867</td>\n",
       "      <td>0.234426</td>\n",
       "      <td>0.235846</td>\n",
       "      <td>0.208712</td>\n",
       "      <td>0.212687</td>\n",
       "      <td>0.382158</td>\n",
       "      <td>0.020897</td>\n",
       "      <td>0.021479</td>\n",
       "      <td>0.028789</td>\n",
       "      <td>0.102468</td>\n",
       "    </tr>\n",
       "    <tr>\n",
       "      <th>District_Loss</th>\n",
       "      <td>-0.155540</td>\n",
       "      <td>0.134394</td>\n",
       "      <td>0.156769</td>\n",
       "      <td>0.132753</td>\n",
       "      <td>0.077969</td>\n",
       "      <td>0.011184</td>\n",
       "      <td>0.078010</td>\n",
       "      <td>0.089218</td>\n",
       "      <td>0.121201</td>\n",
       "      <td>0.147371</td>\n",
       "      <td>...</td>\n",
       "      <td>0.198502</td>\n",
       "      <td>0.429904</td>\n",
       "      <td>0.156769</td>\n",
       "      <td>0.011184</td>\n",
       "      <td>0.147371</td>\n",
       "      <td>0.065972</td>\n",
       "      <td>1.000000</td>\n",
       "      <td>0.038533</td>\n",
       "      <td>0.058436</td>\n",
       "      <td>0.078428</td>\n",
       "    </tr>\n",
       "    <tr>\n",
       "      <th>PROB</th>\n",
       "      <td>-0.132147</td>\n",
       "      <td>0.046604</td>\n",
       "      <td>0.130066</td>\n",
       "      <td>0.045316</td>\n",
       "      <td>0.040254</td>\n",
       "      <td>0.106356</td>\n",
       "      <td>0.040524</td>\n",
       "      <td>0.044586</td>\n",
       "      <td>0.032770</td>\n",
       "      <td>0.033504</td>\n",
       "      <td>...</td>\n",
       "      <td>0.073137</td>\n",
       "      <td>0.178852</td>\n",
       "      <td>0.130066</td>\n",
       "      <td>0.106356</td>\n",
       "      <td>0.033504</td>\n",
       "      <td>0.129025</td>\n",
       "      <td>0.058436</td>\n",
       "      <td>0.980015</td>\n",
       "      <td>1.000000</td>\n",
       "      <td>0.143915</td>\n",
       "    </tr>\n",
       "    <tr>\n",
       "      <th>RiSk_E</th>\n",
       "      <td>-0.182185</td>\n",
       "      <td>0.123937</td>\n",
       "      <td>0.170562</td>\n",
       "      <td>0.122138</td>\n",
       "      <td>0.073154</td>\n",
       "      <td>0.030559</td>\n",
       "      <td>0.073357</td>\n",
       "      <td>0.083687</td>\n",
       "      <td>0.132036</td>\n",
       "      <td>0.153085</td>\n",
       "      <td>...</td>\n",
       "      <td>0.200596</td>\n",
       "      <td>0.430527</td>\n",
       "      <td>0.170562</td>\n",
       "      <td>0.030559</td>\n",
       "      <td>0.153085</td>\n",
       "      <td>0.088274</td>\n",
       "      <td>0.912146</td>\n",
       "      <td>0.370752</td>\n",
       "      <td>0.410962</td>\n",
       "      <td>0.118333</td>\n",
       "    </tr>\n",
       "    <tr>\n",
       "      <th>History</th>\n",
       "      <td>-0.135865</td>\n",
       "      <td>0.114362</td>\n",
       "      <td>0.209563</td>\n",
       "      <td>0.116191</td>\n",
       "      <td>0.197248</td>\n",
       "      <td>0.209465</td>\n",
       "      <td>0.196500</td>\n",
       "      <td>0.204236</td>\n",
       "      <td>0.195820</td>\n",
       "      <td>0.219895</td>\n",
       "      <td>...</td>\n",
       "      <td>0.325613</td>\n",
       "      <td>0.222368</td>\n",
       "      <td>0.209563</td>\n",
       "      <td>0.209465</td>\n",
       "      <td>0.219895</td>\n",
       "      <td>0.235054</td>\n",
       "      <td>0.064465</td>\n",
       "      <td>0.059780</td>\n",
       "      <td>0.111148</td>\n",
       "      <td>0.857712</td>\n",
       "    </tr>\n",
       "    <tr>\n",
       "      <th>Prob</th>\n",
       "      <td>-0.162778</td>\n",
       "      <td>0.169173</td>\n",
       "      <td>0.310560</td>\n",
       "      <td>0.171515</td>\n",
       "      <td>0.311136</td>\n",
       "      <td>0.327010</td>\n",
       "      <td>0.310998</td>\n",
       "      <td>0.320876</td>\n",
       "      <td>0.202007</td>\n",
       "      <td>0.241330</td>\n",
       "      <td>...</td>\n",
       "      <td>0.428738</td>\n",
       "      <td>0.279408</td>\n",
       "      <td>0.310560</td>\n",
       "      <td>0.327010</td>\n",
       "      <td>0.241330</td>\n",
       "      <td>0.323337</td>\n",
       "      <td>0.078428</td>\n",
       "      <td>0.105478</td>\n",
       "      <td>0.143915</td>\n",
       "      <td>1.000000</td>\n",
       "    </tr>\n",
       "    <tr>\n",
       "      <th>Risk_F</th>\n",
       "      <td>-0.122293</td>\n",
       "      <td>0.100110</td>\n",
       "      <td>0.177784</td>\n",
       "      <td>0.101750</td>\n",
       "      <td>0.190078</td>\n",
       "      <td>0.177666</td>\n",
       "      <td>0.189329</td>\n",
       "      <td>0.196002</td>\n",
       "      <td>0.196436</td>\n",
       "      <td>0.217641</td>\n",
       "      <td>...</td>\n",
       "      <td>0.323650</td>\n",
       "      <td>0.198465</td>\n",
       "      <td>0.177784</td>\n",
       "      <td>0.177666</td>\n",
       "      <td>0.217641</td>\n",
       "      <td>0.205540</td>\n",
       "      <td>0.066264</td>\n",
       "      <td>0.053234</td>\n",
       "      <td>0.107067</td>\n",
       "      <td>0.814824</td>\n",
       "    </tr>\n",
       "    <tr>\n",
       "      <th>Score</th>\n",
       "      <td>-0.441520</td>\n",
       "      <td>0.434674</td>\n",
       "      <td>0.834624</td>\n",
       "      <td>0.438345</td>\n",
       "      <td>0.393671</td>\n",
       "      <td>0.914557</td>\n",
       "      <td>0.393424</td>\n",
       "      <td>0.431500</td>\n",
       "      <td>0.505022</td>\n",
       "      <td>0.571444</td>\n",
       "      <td>...</td>\n",
       "      <td>0.330643</td>\n",
       "      <td>0.817854</td>\n",
       "      <td>0.834624</td>\n",
       "      <td>0.914557</td>\n",
       "      <td>0.571444</td>\n",
       "      <td>0.774958</td>\n",
       "      <td>0.226271</td>\n",
       "      <td>0.166402</td>\n",
       "      <td>0.177288</td>\n",
       "      <td>0.445245</td>\n",
       "    </tr>\n",
       "    <tr>\n",
       "      <th>Inherent_Risk</th>\n",
       "      <td>-0.208095</td>\n",
       "      <td>0.479891</td>\n",
       "      <td>0.368419</td>\n",
       "      <td>0.480350</td>\n",
       "      <td>0.650532</td>\n",
       "      <td>0.381870</td>\n",
       "      <td>0.650581</td>\n",
       "      <td>0.686017</td>\n",
       "      <td>0.261593</td>\n",
       "      <td>0.299317</td>\n",
       "      <td>...</td>\n",
       "      <td>0.749149</td>\n",
       "      <td>0.333116</td>\n",
       "      <td>0.368419</td>\n",
       "      <td>0.381870</td>\n",
       "      <td>0.299317</td>\n",
       "      <td>0.471040</td>\n",
       "      <td>0.073198</td>\n",
       "      <td>0.044753</td>\n",
       "      <td>0.049360</td>\n",
       "      <td>0.264865</td>\n",
       "    </tr>\n",
       "    <tr>\n",
       "      <th>CONTROL_RISK</th>\n",
       "      <td>-0.203040</td>\n",
       "      <td>0.149891</td>\n",
       "      <td>0.234113</td>\n",
       "      <td>0.149867</td>\n",
       "      <td>0.179589</td>\n",
       "      <td>0.143373</td>\n",
       "      <td>0.179199</td>\n",
       "      <td>0.190530</td>\n",
       "      <td>0.222140</td>\n",
       "      <td>0.250520</td>\n",
       "      <td>...</td>\n",
       "      <td>0.355026</td>\n",
       "      <td>0.416837</td>\n",
       "      <td>0.234113</td>\n",
       "      <td>0.143373</td>\n",
       "      <td>0.250520</td>\n",
       "      <td>0.200135</td>\n",
       "      <td>0.636747</td>\n",
       "      <td>0.277107</td>\n",
       "      <td>0.340591</td>\n",
       "      <td>0.643418</td>\n",
       "    </tr>\n",
       "    <tr>\n",
       "      <th>Detection_Risk</th>\n",
       "      <td>NaN</td>\n",
       "      <td>NaN</td>\n",
       "      <td>NaN</td>\n",
       "      <td>NaN</td>\n",
       "      <td>NaN</td>\n",
       "      <td>NaN</td>\n",
       "      <td>NaN</td>\n",
       "      <td>NaN</td>\n",
       "      <td>NaN</td>\n",
       "      <td>NaN</td>\n",
       "      <td>...</td>\n",
       "      <td>NaN</td>\n",
       "      <td>NaN</td>\n",
       "      <td>NaN</td>\n",
       "      <td>NaN</td>\n",
       "      <td>NaN</td>\n",
       "      <td>NaN</td>\n",
       "      <td>NaN</td>\n",
       "      <td>NaN</td>\n",
       "      <td>NaN</td>\n",
       "      <td>NaN</td>\n",
       "    </tr>\n",
       "    <tr>\n",
       "      <th>Audit_Risk</th>\n",
       "      <td>-0.111264</td>\n",
       "      <td>0.216369</td>\n",
       "      <td>0.230675</td>\n",
       "      <td>0.217444</td>\n",
       "      <td>0.887055</td>\n",
       "      <td>0.215797</td>\n",
       "      <td>0.886818</td>\n",
       "      <td>0.887373</td>\n",
       "      <td>0.215413</td>\n",
       "      <td>0.254326</td>\n",
       "      <td>...</td>\n",
       "      <td>1.000000</td>\n",
       "      <td>0.200729</td>\n",
       "      <td>0.230675</td>\n",
       "      <td>0.215797</td>\n",
       "      <td>0.254326</td>\n",
       "      <td>0.282818</td>\n",
       "      <td>0.198502</td>\n",
       "      <td>0.047841</td>\n",
       "      <td>0.073137</td>\n",
       "      <td>0.428738</td>\n",
       "    </tr>\n",
       "    <tr>\n",
       "      <th>Risk</th>\n",
       "      <td>-0.510109</td>\n",
       "      <td>0.383510</td>\n",
       "      <td>0.784906</td>\n",
       "      <td>0.385148</td>\n",
       "      <td>0.238326</td>\n",
       "      <td>0.696150</td>\n",
       "      <td>0.236471</td>\n",
       "      <td>0.274462</td>\n",
       "      <td>0.288779</td>\n",
       "      <td>0.333936</td>\n",
       "      <td>...</td>\n",
       "      <td>0.200729</td>\n",
       "      <td>1.000000</td>\n",
       "      <td>0.784906</td>\n",
       "      <td>0.696150</td>\n",
       "      <td>0.333936</td>\n",
       "      <td>0.662421</td>\n",
       "      <td>0.429904</td>\n",
       "      <td>0.173964</td>\n",
       "      <td>0.178852</td>\n",
       "      <td>0.279408</td>\n",
       "    </tr>\n",
       "    <tr>\n",
       "      <th>SCORE_A</th>\n",
       "      <td>-0.462744</td>\n",
       "      <td>0.524015</td>\n",
       "      <td>1.000000</td>\n",
       "      <td>0.531303</td>\n",
       "      <td>0.286292</td>\n",
       "      <td>0.747852</td>\n",
       "      <td>0.284598</td>\n",
       "      <td>0.336559</td>\n",
       "      <td>0.287509</td>\n",
       "      <td>0.328258</td>\n",
       "      <td>...</td>\n",
       "      <td>0.230675</td>\n",
       "      <td>0.784906</td>\n",
       "      <td>1.000000</td>\n",
       "      <td>0.747852</td>\n",
       "      <td>0.328258</td>\n",
       "      <td>0.582575</td>\n",
       "      <td>0.156769</td>\n",
       "      <td>0.129771</td>\n",
       "      <td>0.130066</td>\n",
       "      <td>0.310560</td>\n",
       "    </tr>\n",
       "    <tr>\n",
       "      <th>SCORE_B</th>\n",
       "      <td>-0.354941</td>\n",
       "      <td>0.393414</td>\n",
       "      <td>0.747852</td>\n",
       "      <td>0.396850</td>\n",
       "      <td>0.361286</td>\n",
       "      <td>1.000000</td>\n",
       "      <td>0.362001</td>\n",
       "      <td>0.396800</td>\n",
       "      <td>0.292669</td>\n",
       "      <td>0.333048</td>\n",
       "      <td>...</td>\n",
       "      <td>0.215797</td>\n",
       "      <td>0.696150</td>\n",
       "      <td>0.747852</td>\n",
       "      <td>1.000000</td>\n",
       "      <td>0.333048</td>\n",
       "      <td>0.613095</td>\n",
       "      <td>0.011184</td>\n",
       "      <td>0.113874</td>\n",
       "      <td>0.106356</td>\n",
       "      <td>0.327010</td>\n",
       "    </tr>\n",
       "    <tr>\n",
       "      <th>Marks</th>\n",
       "      <td>-0.217181</td>\n",
       "      <td>0.136845</td>\n",
       "      <td>0.328258</td>\n",
       "      <td>0.137676</td>\n",
       "      <td>0.223443</td>\n",
       "      <td>0.333048</td>\n",
       "      <td>0.223155</td>\n",
       "      <td>0.230664</td>\n",
       "      <td>0.906225</td>\n",
       "      <td>1.000000</td>\n",
       "      <td>...</td>\n",
       "      <td>0.254326</td>\n",
       "      <td>0.333936</td>\n",
       "      <td>0.328258</td>\n",
       "      <td>0.333048</td>\n",
       "      <td>1.000000</td>\n",
       "      <td>0.502720</td>\n",
       "      <td>0.147371</td>\n",
       "      <td>-0.000088</td>\n",
       "      <td>0.033504</td>\n",
       "      <td>0.241330</td>\n",
       "    </tr>\n",
       "    <tr>\n",
       "      <th>MONEY_Marks</th>\n",
       "      <td>-0.389011</td>\n",
       "      <td>0.283638</td>\n",
       "      <td>0.582575</td>\n",
       "      <td>0.285143</td>\n",
       "      <td>0.303650</td>\n",
       "      <td>0.613095</td>\n",
       "      <td>0.302130</td>\n",
       "      <td>0.326728</td>\n",
       "      <td>0.440302</td>\n",
       "      <td>0.502720</td>\n",
       "      <td>...</td>\n",
       "      <td>0.282818</td>\n",
       "      <td>0.662421</td>\n",
       "      <td>0.582575</td>\n",
       "      <td>0.613095</td>\n",
       "      <td>0.502720</td>\n",
       "      <td>1.000000</td>\n",
       "      <td>0.065972</td>\n",
       "      <td>0.117740</td>\n",
       "      <td>0.129025</td>\n",
       "      <td>0.323337</td>\n",
       "    </tr>\n",
       "    <tr>\n",
       "      <th>District</th>\n",
       "      <td>-0.155540</td>\n",
       "      <td>0.134394</td>\n",
       "      <td>0.156769</td>\n",
       "      <td>0.132753</td>\n",
       "      <td>0.077969</td>\n",
       "      <td>0.011184</td>\n",
       "      <td>0.078010</td>\n",
       "      <td>0.089218</td>\n",
       "      <td>0.121201</td>\n",
       "      <td>0.147371</td>\n",
       "      <td>...</td>\n",
       "      <td>0.198502</td>\n",
       "      <td>0.429904</td>\n",
       "      <td>0.156769</td>\n",
       "      <td>0.011184</td>\n",
       "      <td>0.147371</td>\n",
       "      <td>0.065972</td>\n",
       "      <td>1.000000</td>\n",
       "      <td>0.038533</td>\n",
       "      <td>0.058436</td>\n",
       "      <td>0.078428</td>\n",
       "    </tr>\n",
       "    <tr>\n",
       "      <th>Loss</th>\n",
       "      <td>-0.128379</td>\n",
       "      <td>0.048668</td>\n",
       "      <td>0.129771</td>\n",
       "      <td>0.047877</td>\n",
       "      <td>0.042934</td>\n",
       "      <td>0.113874</td>\n",
       "      <td>0.043172</td>\n",
       "      <td>0.047428</td>\n",
       "      <td>-0.006112</td>\n",
       "      <td>-0.000088</td>\n",
       "      <td>...</td>\n",
       "      <td>0.047841</td>\n",
       "      <td>0.173964</td>\n",
       "      <td>0.129771</td>\n",
       "      <td>0.113874</td>\n",
       "      <td>-0.000088</td>\n",
       "      <td>0.117740</td>\n",
       "      <td>0.038533</td>\n",
       "      <td>1.000000</td>\n",
       "      <td>0.980015</td>\n",
       "      <td>0.105478</td>\n",
       "    </tr>\n",
       "    <tr>\n",
       "      <th>LOSS_SCORE</th>\n",
       "      <td>-0.132147</td>\n",
       "      <td>0.046604</td>\n",
       "      <td>0.130066</td>\n",
       "      <td>0.045316</td>\n",
       "      <td>0.040254</td>\n",
       "      <td>0.106356</td>\n",
       "      <td>0.040524</td>\n",
       "      <td>0.044586</td>\n",
       "      <td>0.032770</td>\n",
       "      <td>0.033504</td>\n",
       "      <td>...</td>\n",
       "      <td>0.073137</td>\n",
       "      <td>0.178852</td>\n",
       "      <td>0.130066</td>\n",
       "      <td>0.106356</td>\n",
       "      <td>0.033504</td>\n",
       "      <td>0.129025</td>\n",
       "      <td>0.058436</td>\n",
       "      <td>0.980015</td>\n",
       "      <td>1.000000</td>\n",
       "      <td>0.143915</td>\n",
       "    </tr>\n",
       "    <tr>\n",
       "      <th>History_score</th>\n",
       "      <td>-0.162778</td>\n",
       "      <td>0.169173</td>\n",
       "      <td>0.310560</td>\n",
       "      <td>0.171515</td>\n",
       "      <td>0.311136</td>\n",
       "      <td>0.327010</td>\n",
       "      <td>0.310998</td>\n",
       "      <td>0.320876</td>\n",
       "      <td>0.202007</td>\n",
       "      <td>0.241330</td>\n",
       "      <td>...</td>\n",
       "      <td>0.428738</td>\n",
       "      <td>0.279408</td>\n",
       "      <td>0.310560</td>\n",
       "      <td>0.327010</td>\n",
       "      <td>0.241330</td>\n",
       "      <td>0.323337</td>\n",
       "      <td>0.078428</td>\n",
       "      <td>0.105478</td>\n",
       "      <td>0.143915</td>\n",
       "      <td>1.000000</td>\n",
       "    </tr>\n",
       "  </tbody>\n",
       "</table>\n",
       "<p>34 rows × 34 columns</p>\n",
       "</div>"
      ],
      "text/plain": [
       "                Sector_score    PARA_A   Score_A    Risk_A    PARA_B  \\\n",
       "Sector_score        1.000000 -0.244341 -0.462744 -0.244301 -0.159652   \n",
       "PARA_A             -0.244341  1.000000  0.524015  0.999460  0.157794   \n",
       "Score_A            -0.462744  0.524015  1.000000  0.531303  0.286292   \n",
       "Risk_A             -0.244301  0.999460  0.531303  1.000000  0.160045   \n",
       "PARA_B             -0.159652  0.157794  0.286292  0.160045  1.000000   \n",
       "Score_B            -0.354941  0.393414  0.747852  0.396850  0.361286   \n",
       "Risk_B             -0.157330  0.157625  0.284598  0.159864  0.999940   \n",
       "TOTAL              -0.182717  0.263090  0.336559  0.265224  0.994088   \n",
       "numbers            -0.190785  0.129791  0.287509  0.130208  0.202393   \n",
       "Score_B.1          -0.217181  0.136845  0.328258  0.137676  0.223443   \n",
       "Risk_C             -0.210722  0.136447  0.316826  0.137129  0.215371   \n",
       "Money_Value        -0.140883  0.447595  0.238907  0.446493  0.116766   \n",
       "Score_MV           -0.389011  0.283638  0.582575  0.285143  0.303650   \n",
       "Risk_D             -0.139390  0.446749  0.235846  0.445632  0.116449   \n",
       "District_Loss      -0.155540  0.134394  0.156769  0.132753  0.077969   \n",
       "PROB               -0.132147  0.046604  0.130066  0.045316  0.040254   \n",
       "RiSk_E             -0.182185  0.123937  0.170562  0.122138  0.073154   \n",
       "History            -0.135865  0.114362  0.209563  0.116191  0.197248   \n",
       "Prob               -0.162778  0.169173  0.310560  0.171515  0.311136   \n",
       "Risk_F             -0.122293  0.100110  0.177784  0.101750  0.190078   \n",
       "Score              -0.441520  0.434674  0.834624  0.438345  0.393671   \n",
       "Inherent_Risk      -0.208095  0.479891  0.368419  0.480350  0.650532   \n",
       "CONTROL_RISK       -0.203040  0.149891  0.234113  0.149867  0.179589   \n",
       "Detection_Risk           NaN       NaN       NaN       NaN       NaN   \n",
       "Audit_Risk         -0.111264  0.216369  0.230675  0.217444  0.887055   \n",
       "Risk               -0.510109  0.383510  0.784906  0.385148  0.238326   \n",
       "SCORE_A            -0.462744  0.524015  1.000000  0.531303  0.286292   \n",
       "SCORE_B            -0.354941  0.393414  0.747852  0.396850  0.361286   \n",
       "Marks              -0.217181  0.136845  0.328258  0.137676  0.223443   \n",
       "MONEY_Marks        -0.389011  0.283638  0.582575  0.285143  0.303650   \n",
       "District           -0.155540  0.134394  0.156769  0.132753  0.077969   \n",
       "Loss               -0.128379  0.048668  0.129771  0.047877  0.042934   \n",
       "LOSS_SCORE         -0.132147  0.046604  0.130066  0.045316  0.040254   \n",
       "History_score      -0.162778  0.169173  0.310560  0.171515  0.311136   \n",
       "\n",
       "                 Score_B    Risk_B     TOTAL   numbers  Score_B.1  \\\n",
       "Sector_score   -0.354941 -0.157330 -0.182717 -0.190785  -0.217181   \n",
       "PARA_A          0.393414  0.157625  0.263090  0.129791   0.136845   \n",
       "Score_A         0.747852  0.284598  0.336559  0.287509   0.328258   \n",
       "Risk_A          0.396850  0.159864  0.265224  0.130208   0.137676   \n",
       "PARA_B          0.361286  0.999940  0.994088  0.202393   0.223443   \n",
       "Score_B         1.000000  0.362001  0.396800  0.292669   0.333048   \n",
       "Risk_B          0.362001  1.000000  0.994008  0.202146   0.223155   \n",
       "TOTAL           0.396800  0.994008  1.000000  0.210004   0.230664   \n",
       "numbers         0.292669  0.202146  0.210004  1.000000   0.906225   \n",
       "Score_B.1       0.333048  0.223155  0.230664  0.906225   1.000000   \n",
       "Risk_C          0.320626  0.215073  0.222836  0.954401   0.990211   \n",
       "Money_Value     0.211803  0.116807  0.160470  0.177996   0.212302   \n",
       "Score_MV        0.613095  0.302130  0.326728  0.440302   0.502720   \n",
       "Risk_D          0.208712  0.116498  0.160067  0.178456   0.212687   \n",
       "District_Loss   0.011184  0.078010  0.089218  0.121201   0.147371   \n",
       "PROB            0.106356  0.040524  0.044586  0.032770   0.033504   \n",
       "RiSk_E          0.030559  0.073357  0.083687  0.132036   0.153085   \n",
       "History         0.209465  0.196500  0.204236  0.195820   0.219895   \n",
       "Prob            0.327010  0.310998  0.320876  0.202007   0.241330   \n",
       "Risk_F          0.177666  0.189329  0.196002  0.196436   0.217641   \n",
       "Score           0.914557  0.393424  0.431500  0.505022   0.571444   \n",
       "Inherent_Risk   0.381870  0.650581  0.686017  0.261593   0.299317   \n",
       "CONTROL_RISK    0.143373  0.179199  0.190530  0.222140   0.250520   \n",
       "Detection_Risk       NaN       NaN       NaN       NaN        NaN   \n",
       "Audit_Risk      0.215797  0.886818  0.887373  0.215413   0.254326   \n",
       "Risk            0.696150  0.236471  0.274462  0.288779   0.333936   \n",
       "SCORE_A         0.747852  0.284598  0.336559  0.287509   0.328258   \n",
       "SCORE_B         1.000000  0.362001  0.396800  0.292669   0.333048   \n",
       "Marks           0.333048  0.223155  0.230664  0.906225   1.000000   \n",
       "MONEY_Marks     0.613095  0.302130  0.326728  0.440302   0.502720   \n",
       "District        0.011184  0.078010  0.089218  0.121201   0.147371   \n",
       "Loss            0.113874  0.043172  0.047428 -0.006112  -0.000088   \n",
       "LOSS_SCORE      0.106356  0.040524  0.044586  0.032770   0.033504   \n",
       "History_score   0.327010  0.310998  0.320876  0.202007   0.241330   \n",
       "\n",
       "                    ...        Audit_Risk      Risk   SCORE_A   SCORE_B  \\\n",
       "Sector_score        ...         -0.111264 -0.510109 -0.462744 -0.354941   \n",
       "PARA_A              ...          0.216369  0.383510  0.524015  0.393414   \n",
       "Score_A             ...          0.230675  0.784906  1.000000  0.747852   \n",
       "Risk_A              ...          0.217444  0.385148  0.531303  0.396850   \n",
       "PARA_B              ...          0.887055  0.238326  0.286292  0.361286   \n",
       "Score_B             ...          0.215797  0.696150  0.747852  1.000000   \n",
       "Risk_B              ...          0.886818  0.236471  0.284598  0.362001   \n",
       "TOTAL               ...          0.887373  0.274462  0.336559  0.396800   \n",
       "numbers             ...          0.215413  0.288779  0.287509  0.292669   \n",
       "Score_B.1           ...          0.254326  0.333936  0.328258  0.333048   \n",
       "Risk_C              ...          0.244211  0.321942  0.316826  0.320626   \n",
       "Money_Value         ...          0.328711  0.237113  0.238907  0.211803   \n",
       "Score_MV            ...          0.282818  0.662421  0.582575  0.613095   \n",
       "Risk_D              ...          0.328867  0.234426  0.235846  0.208712   \n",
       "District_Loss       ...          0.198502  0.429904  0.156769  0.011184   \n",
       "PROB                ...          0.073137  0.178852  0.130066  0.106356   \n",
       "RiSk_E              ...          0.200596  0.430527  0.170562  0.030559   \n",
       "History             ...          0.325613  0.222368  0.209563  0.209465   \n",
       "Prob                ...          0.428738  0.279408  0.310560  0.327010   \n",
       "Risk_F              ...          0.323650  0.198465  0.177784  0.177666   \n",
       "Score               ...          0.330643  0.817854  0.834624  0.914557   \n",
       "Inherent_Risk       ...          0.749149  0.333116  0.368419  0.381870   \n",
       "CONTROL_RISK        ...          0.355026  0.416837  0.234113  0.143373   \n",
       "Detection_Risk      ...               NaN       NaN       NaN       NaN   \n",
       "Audit_Risk          ...          1.000000  0.200729  0.230675  0.215797   \n",
       "Risk                ...          0.200729  1.000000  0.784906  0.696150   \n",
       "SCORE_A             ...          0.230675  0.784906  1.000000  0.747852   \n",
       "SCORE_B             ...          0.215797  0.696150  0.747852  1.000000   \n",
       "Marks               ...          0.254326  0.333936  0.328258  0.333048   \n",
       "MONEY_Marks         ...          0.282818  0.662421  0.582575  0.613095   \n",
       "District            ...          0.198502  0.429904  0.156769  0.011184   \n",
       "Loss                ...          0.047841  0.173964  0.129771  0.113874   \n",
       "LOSS_SCORE          ...          0.073137  0.178852  0.130066  0.106356   \n",
       "History_score       ...          0.428738  0.279408  0.310560  0.327010   \n",
       "\n",
       "                   Marks  MONEY_Marks  District      Loss  LOSS_SCORE  \\\n",
       "Sector_score   -0.217181    -0.389011 -0.155540 -0.128379   -0.132147   \n",
       "PARA_A          0.136845     0.283638  0.134394  0.048668    0.046604   \n",
       "Score_A         0.328258     0.582575  0.156769  0.129771    0.130066   \n",
       "Risk_A          0.137676     0.285143  0.132753  0.047877    0.045316   \n",
       "PARA_B          0.223443     0.303650  0.077969  0.042934    0.040254   \n",
       "Score_B         0.333048     0.613095  0.011184  0.113874    0.106356   \n",
       "Risk_B          0.223155     0.302130  0.078010  0.043172    0.040524   \n",
       "TOTAL           0.230664     0.326728  0.089218  0.047428    0.044586   \n",
       "numbers         0.906225     0.440302  0.121201 -0.006112    0.032770   \n",
       "Score_B.1       1.000000     0.502720  0.147371 -0.000088    0.033504   \n",
       "Risk_C          0.990211     0.487536  0.142911 -0.003890    0.032826   \n",
       "Money_Value     0.212302     0.382107  0.020710  0.021326    0.028605   \n",
       "Score_MV        0.502720     1.000000  0.065972  0.117740    0.129025   \n",
       "Risk_D          0.212687     0.382158  0.020897  0.021479    0.028789   \n",
       "District_Loss   0.147371     0.065972  1.000000  0.038533    0.058436   \n",
       "PROB            0.033504     0.129025  0.058436  0.980015    1.000000   \n",
       "RiSk_E          0.153085     0.088274  0.912146  0.370752    0.410962   \n",
       "History         0.219895     0.235054  0.064465  0.059780    0.111148   \n",
       "Prob            0.241330     0.323337  0.078428  0.105478    0.143915   \n",
       "Risk_F          0.217641     0.205540  0.066264  0.053234    0.107067   \n",
       "Score           0.571444     0.774958  0.226271  0.166402    0.177288   \n",
       "Inherent_Risk   0.299317     0.471040  0.073198  0.044753    0.049360   \n",
       "CONTROL_RISK    0.250520     0.200135  0.636747  0.277107    0.340591   \n",
       "Detection_Risk       NaN          NaN       NaN       NaN         NaN   \n",
       "Audit_Risk      0.254326     0.282818  0.198502  0.047841    0.073137   \n",
       "Risk            0.333936     0.662421  0.429904  0.173964    0.178852   \n",
       "SCORE_A         0.328258     0.582575  0.156769  0.129771    0.130066   \n",
       "SCORE_B         0.333048     0.613095  0.011184  0.113874    0.106356   \n",
       "Marks           1.000000     0.502720  0.147371 -0.000088    0.033504   \n",
       "MONEY_Marks     0.502720     1.000000  0.065972  0.117740    0.129025   \n",
       "District        0.147371     0.065972  1.000000  0.038533    0.058436   \n",
       "Loss           -0.000088     0.117740  0.038533  1.000000    0.980015   \n",
       "LOSS_SCORE      0.033504     0.129025  0.058436  0.980015    1.000000   \n",
       "History_score   0.241330     0.323337  0.078428  0.105478    0.143915   \n",
       "\n",
       "                History_score  \n",
       "Sector_score        -0.162778  \n",
       "PARA_A               0.169173  \n",
       "Score_A              0.310560  \n",
       "Risk_A               0.171515  \n",
       "PARA_B               0.311136  \n",
       "Score_B              0.327010  \n",
       "Risk_B               0.310998  \n",
       "TOTAL                0.320876  \n",
       "numbers              0.202007  \n",
       "Score_B.1            0.241330  \n",
       "Risk_C               0.230229  \n",
       "Money_Value          0.103141  \n",
       "Score_MV             0.323337  \n",
       "Risk_D               0.102468  \n",
       "District_Loss        0.078428  \n",
       "PROB                 0.143915  \n",
       "RiSk_E               0.118333  \n",
       "History              0.857712  \n",
       "Prob                 1.000000  \n",
       "Risk_F               0.814824  \n",
       "Score                0.445245  \n",
       "Inherent_Risk        0.264865  \n",
       "CONTROL_RISK         0.643418  \n",
       "Detection_Risk            NaN  \n",
       "Audit_Risk           0.428738  \n",
       "Risk                 0.279408  \n",
       "SCORE_A              0.310560  \n",
       "SCORE_B              0.327010  \n",
       "Marks                0.241330  \n",
       "MONEY_Marks          0.323337  \n",
       "District             0.078428  \n",
       "Loss                 0.105478  \n",
       "LOSS_SCORE           0.143915  \n",
       "History_score        1.000000  \n",
       "\n",
       "[34 rows x 34 columns]"
      ]
     },
     "execution_count": 8,
     "metadata": {},
     "output_type": "execute_result"
    }
   ],
   "source": [
    "Risk_data.corr()"
   ]
  },
  {
   "cell_type": "markdown",
   "metadata": {},
   "source": [
    "#### After Careful analysis of the features and their correlation matrices, we can see that all the features of the trials csv are either same as the columns in the Audit Risk table or are derived / highly correlated with the features of the Audit Risk table. \n",
    "#### The highly correlated data will provide same information and will not be helpful in developing machine learning models. Hence, we can remove the columns of the Trails table and the features which are highly correlated among eachothers.\n",
    "\n",
    "Also, after going through the original published paper related to the data handed, we can see that\n",
    "Score_A in Audit_Risk multiplied by 10 is the Score_A in trial. \n",
    "The same applies to Score_B. Audit_Risk dataset contains \n",
    "PROB in Audit_Risk multiplied by 10 is the Loss_Score in trial. \n",
    "prob in Audit_Risk multiplied by 10 is the History_Score in trial. \n",
    "Score is exactly identical in both Audit_risk and trial datasets. \n",
    "Risk_A (calculated from  PARA_A and Score_A) and Risk_B(calculated from  PARA_B and Score_B) which are not present in trial. TOTAL and numbers columns are identical in Audit_Risk and trial. \n",
    "Score_B.1 multiplied by 10 is the Marks column in trial. Audit_Risk has an extra column Risk_C(calculated from  numbers and Score_B.1) compared to trial. \n",
    "Score_MV in Audit_Risk multiplied by 10 is the Money_Marks column in trial dataset. Risk_D (calculated from Money_Value and Score_MV) is absent in trial. \n",
    "Risk column in trial is calculated based on Score value. If Score value is greater than 2, Risk value = 1 else Risk = 0 (No Risk) "
   ]
  },
  {
   "cell_type": "code",
   "execution_count": 9,
   "metadata": {},
   "outputs": [],
   "source": [
    "Risk_data=Audit_Risk\n",
    "Risk_data=Risk_data.drop_duplicates(keep='first')"
   ]
  },
  {
   "cell_type": "code",
   "execution_count": 10,
   "metadata": {},
   "outputs": [],
   "source": [
    "Risk_data = Risk_data[['Sector_score', 'LOCATION_ID', 'PARA_A', 'PARA_B', 'TOTAL', 'numbers', 'Money_Value', 'District_Loss', 'PROB', 'History', 'Prob', 'Score', 'Inherent_Risk', 'CONTROL_RISK', 'Detection_Risk','Audit_Risk', 'Risk']]"
   ]
  },
  {
   "cell_type": "code",
   "execution_count": 11,
   "metadata": {},
   "outputs": [
    {
     "data": {
      "text/plain": [
       "(763, 17)"
      ]
     },
     "execution_count": 11,
     "metadata": {},
     "output_type": "execute_result"
    }
   ],
   "source": [
    "Risk_data.shape"
   ]
  },
  {
   "cell_type": "code",
   "execution_count": 12,
   "metadata": {},
   "outputs": [
    {
     "data": {
      "text/plain": [
       "Sector_score      False\n",
       "LOCATION_ID       False\n",
       "PARA_A            False\n",
       "PARA_B            False\n",
       "TOTAL             False\n",
       "numbers           False\n",
       "Money_Value        True\n",
       "District_Loss     False\n",
       "PROB              False\n",
       "History           False\n",
       "Prob              False\n",
       "Score             False\n",
       "Inherent_Risk     False\n",
       "CONTROL_RISK      False\n",
       "Detection_Risk    False\n",
       "Audit_Risk        False\n",
       "Risk              False\n",
       "dtype: bool"
      ]
     },
     "execution_count": 12,
     "metadata": {},
     "output_type": "execute_result"
    }
   ],
   "source": [
    "Risk_data.isnull().any()"
   ]
  },
  {
   "cell_type": "code",
   "execution_count": 13,
   "metadata": {},
   "outputs": [],
   "source": [
    "#Removing the string value rows in the LOCATION_ID column\n",
    "\n",
    "Risk_data = Risk_data[Risk_data['LOCATION_ID']!='LOHARU']\n",
    "Risk_data = Risk_data[Risk_data['LOCATION_ID']!='NUH']\n",
    "Risk_data = Risk_data[Risk_data['LOCATION_ID']!='SAFIDON']"
   ]
  },
  {
   "cell_type": "code",
   "execution_count": 14,
   "metadata": {},
   "outputs": [],
   "source": [
    "#Converting the LOCATION_ID column with replaced string values to an int column\n",
    "Risk_data['LOCATION_ID'] = Risk_data['LOCATION_ID'].astype(int)"
   ]
  },
  {
   "cell_type": "code",
   "execution_count": 15,
   "metadata": {},
   "outputs": [],
   "source": [
    "#Imputing the missing value in the Money_Value column\n",
    "Risk_data['Money_Value'] = Risk_data['Money_Value'].replace('', np.nan)\n",
    "Risk_data['Money_Value'] = Risk_data['Money_Value'].replace(np.nan,Risk_data.Money_Value.mean())"
   ]
  },
  {
   "cell_type": "code",
   "execution_count": 16,
   "metadata": {},
   "outputs": [
    {
     "name": "stdout",
     "output_type": "stream",
     "text": [
      "<class 'pandas.core.frame.DataFrame'>\n",
      "Int64Index: 760 entries, 0 to 775\n",
      "Data columns (total 17 columns):\n",
      "Sector_score      760 non-null float64\n",
      "LOCATION_ID       760 non-null int32\n",
      "PARA_A            760 non-null float64\n",
      "PARA_B            760 non-null float64\n",
      "TOTAL             760 non-null float64\n",
      "numbers           760 non-null float64\n",
      "Money_Value       760 non-null float64\n",
      "District_Loss     760 non-null int64\n",
      "PROB              760 non-null float64\n",
      "History           760 non-null int64\n",
      "Prob              760 non-null float64\n",
      "Score             760 non-null float64\n",
      "Inherent_Risk     760 non-null float64\n",
      "CONTROL_RISK      760 non-null float64\n",
      "Detection_Risk    760 non-null float64\n",
      "Audit_Risk        760 non-null float64\n",
      "Risk              760 non-null int64\n",
      "dtypes: float64(13), int32(1), int64(3)\n",
      "memory usage: 103.9 KB\n"
     ]
    }
   ],
   "source": [
    "#Checking if the null values in Money_Value are replaced\n",
    "Risk_data.info()"
   ]
  },
  {
   "cell_type": "code",
   "execution_count": 17,
   "metadata": {},
   "outputs": [
    {
     "name": "stdout",
     "output_type": "stream",
     "text": [
      "Identified outliers in Sector_score: 0\n",
      "Identified outliers in LOCATION_ID: 0\n",
      "Identified outliers in PARA_A: 7\n",
      "Identified outliers in PARA_B: 1\n",
      "Identified outliers in TOTAL: 2\n",
      "Identified outliers in numbers: 22\n",
      "Identified outliers in Money_Value: 6\n",
      "Identified outliers in District_Loss: 0\n",
      "Identified outliers in PROB: 22\n",
      "Identified outliers in History: 15\n",
      "Identified outliers in Prob: 15\n",
      "Identified outliers in Score: 0\n",
      "Identified outliers in Inherent_Risk: 7\n",
      "Identified outliers in CONTROL_RISK: 15\n",
      "Identified outliers in Detection_Risk: 0\n",
      "Identified outliers in Audit_Risk: 6\n",
      "Identified outliers in Risk: 0\n"
     ]
    }
   ],
   "source": [
    "#Checking for outliers in the Risk_data dataframe for deciding on the type of scaling to be used\n",
    "from numpy import mean\n",
    "from numpy import std\n",
    "\n",
    "for i in Risk_data:\n",
    "    data_mean, data_std = mean(Risk_data[i]), std(Risk_data[i])\n",
    "    cut_off = data_std * 3\n",
    "    lower, upper = data_mean - cut_off, data_mean + cut_off\n",
    "    outliers = [x for x in Risk_data[i] if x < lower or x > upper]\n",
    "    print('Identified outliers in ' + i + ': %d' % len(outliers))"
   ]
  },
  {
   "cell_type": "code",
   "execution_count": 18,
   "metadata": {},
   "outputs": [
    {
     "data": {
      "text/plain": [
       "Sector_score       583.426956\n",
       "LOCATION_ID         98.722356\n",
       "PARA_A              32.811037\n",
       "PARA_B            2558.747544\n",
       "TOTAL             2684.827394\n",
       "numbers              0.071309\n",
       "Money_Value       4519.845133\n",
       "District_Loss        1.520311\n",
       "PROB                 0.001436\n",
       "History              0.287704\n",
       "Prob                 0.004714\n",
       "Score                0.743221\n",
       "Inherent_Risk     3054.019796\n",
       "CONTROL_RISK         0.200705\n",
       "Detection_Risk       0.000000\n",
       "Audit_Risk        1525.693007\n",
       "Risk                 0.240316\n",
       "dtype: float64"
      ]
     },
     "execution_count": 18,
     "metadata": {},
     "output_type": "execute_result"
    }
   ],
   "source": [
    "Risk_data.var()"
   ]
  },
  {
   "cell_type": "markdown",
   "metadata": {},
   "source": [
    "#### Removing outliners from the features with high variance"
   ]
  },
  {
   "cell_type": "code",
   "execution_count": 19,
   "metadata": {},
   "outputs": [
    {
     "data": {
      "text/plain": [
       "[<matplotlib.lines.Line2D at 0x231ecd95898>]"
      ]
     },
     "execution_count": 19,
     "metadata": {},
     "output_type": "execute_result"
    },
    {
     "data": {
      "image/png": "[encoded data removed]",
      "text/plain": [
       "<Figure size 432x288 with 1 Axes>"
      ]
     },
     "metadata": {
      "needs_background": "light"
     },
     "output_type": "display_data"
    }
   ],
   "source": [
    "plt.plot(Risk_data['Audit_Risk'],Risk_data['Audit_Risk'],'.')"
   ]
  },
  {
   "cell_type": "code",
   "execution_count": 20,
   "metadata": {},
   "outputs": [
    {
     "data": {
      "text/plain": [
       "[<matplotlib.lines.Line2D at 0x231ecdee080>]"
      ]
     },
     "execution_count": 20,
     "metadata": {},
     "output_type": "execute_result"
    },
    {
     "data": {
      "image/png": "[encoded data removed]",
      "text/plain": [
       "<Figure size 432x288 with 1 Axes>"
      ]
     },
     "metadata": {
      "needs_background": "light"
     },
     "output_type": "display_data"
    }
   ],
   "source": [
    "Risk_data=Risk_data[abs(Risk_data['Audit_Risk'])<400]\n",
    "plt.plot(Risk_data['Audit_Risk'],Risk_data['Audit_Risk'],'.')"
   ]
  },
  {
   "cell_type": "code",
   "execution_count": 21,
   "metadata": {},
   "outputs": [
    {
     "data": {
      "text/plain": [
       "[<matplotlib.lines.Line2D at 0x231ece3ba90>]"
      ]
     },
     "execution_count": 21,
     "metadata": {},
     "output_type": "execute_result"
    },
    {
     "data": {
      "image/png": "[encoded data removed]",
      "text/plain": [
       "<Figure size 432x288 with 1 Axes>"
      ]
     },
     "metadata": {
      "needs_background": "light"
     },
     "output_type": "display_data"
    }
   ],
   "source": [
    "plt.plot(Risk_data['numbers'],Risk_data['Audit_Risk'],'.')"
   ]
  },
  {
   "cell_type": "code",
   "execution_count": 22,
   "metadata": {},
   "outputs": [
    {
     "data": {
      "text/plain": [
       "[<matplotlib.lines.Line2D at 0x231ece98d68>]"
      ]
     },
     "execution_count": 22,
     "metadata": {},
     "output_type": "execute_result"
    },
    {
     "data": {
      "image/png": "[encoded data removed]",
      "text/plain": [
       "<Figure size 432x288 with 1 Axes>"
      ]
     },
     "metadata": {
      "needs_background": "light"
     },
     "output_type": "display_data"
    }
   ],
   "source": [
    "Risk_data=Risk_data[abs(Risk_data['numbers'])<7]\n",
    "plt.plot(Risk_data['numbers'],Risk_data['Audit_Risk'],'.')"
   ]
  },
  {
   "cell_type": "code",
   "execution_count": 23,
   "metadata": {},
   "outputs": [
    {
     "data": {
      "text/plain": [
       "[<matplotlib.lines.Line2D at 0x231ecefb390>]"
      ]
     },
     "execution_count": 23,
     "metadata": {},
     "output_type": "execute_result"
    },
    {
     "data": {
      "image/png": "[encoded data removed]",
      "text/plain": [
       "<Figure size 432x288 with 1 Axes>"
      ]
     },
     "metadata": {
      "needs_background": "light"
     },
     "output_type": "display_data"
    }
   ],
   "source": [
    "plt.plot(Risk_data['Inherent_Risk'],Risk_data['Audit_Risk'],'.')"
   ]
  },
  {
   "cell_type": "code",
   "execution_count": 24,
   "metadata": {},
   "outputs": [
    {
     "data": {
      "text/plain": [
       "[<matplotlib.lines.Line2D at 0x231ecf4f978>]"
      ]
     },
     "execution_count": 24,
     "metadata": {},
     "output_type": "execute_result"
    },
    {
     "data": {
      "image/png": "[encoded data removed]",
      "text/plain": [
       "<Figure size 432x288 with 1 Axes>"
      ]
     },
     "metadata": {
      "needs_background": "light"
     },
     "output_type": "display_data"
    }
   ],
   "source": [
    "Risk_data=Risk_data[abs(Risk_data['Inherent_Risk'])<175]\n",
    "plt.plot(Risk_data['Inherent_Risk'],Risk_data['Audit_Risk'],'.')"
   ]
  },
  {
   "cell_type": "code",
   "execution_count": 25,
   "metadata": {},
   "outputs": [
    {
     "data": {
      "text/plain": [
       "[<matplotlib.lines.Line2D at 0x231ecfb1d68>]"
      ]
     },
     "execution_count": 25,
     "metadata": {},
     "output_type": "execute_result"
    },
    {
     "data": {
      "image/png": "[encoded data removed]",
      "text/plain": [
       "<Figure size 432x288 with 1 Axes>"
      ]
     },
     "metadata": {
      "needs_background": "light"
     },
     "output_type": "display_data"
    }
   ],
   "source": [
    "plt.plot(Risk_data['Money_Value'],Risk_data['Audit_Risk'],'.')"
   ]
  },
  {
   "cell_type": "code",
   "execution_count": 26,
   "metadata": {},
   "outputs": [
    {
     "data": {
      "text/plain": [
       "[<matplotlib.lines.Line2D at 0x231ed0118d0>]"
      ]
     },
     "execution_count": 26,
     "metadata": {},
     "output_type": "execute_result"
    },
    {
     "data": {
      "image/png": "[encoded data removed]",
      "text/plain": [
       "<Figure size 432x288 with 1 Axes>"
      ]
     },
     "metadata": {
      "needs_background": "light"
     },
     "output_type": "display_data"
    }
   ],
   "source": [
    "Risk_data=Risk_data[abs(Risk_data['Money_Value'])<250]\n",
    "plt.plot(Risk_data['Money_Value'],Risk_data['Audit_Risk'],'.')"
   ]
  },
  {
   "cell_type": "code",
   "execution_count": 27,
   "metadata": {},
   "outputs": [
    {
     "data": {
      "text/plain": [
       "[<matplotlib.lines.Line2D at 0x231ed06ce80>]"
      ]
     },
     "execution_count": 27,
     "metadata": {},
     "output_type": "execute_result"
    },
    {
     "data": {
      "image/png": "[encoded data removed]",
      "text/plain": [
       "<Figure size 432x288 with 1 Axes>"
      ]
     },
     "metadata": {
      "needs_background": "light"
     },
     "output_type": "display_data"
    }
   ],
   "source": [
    "plt.plot(Risk_data['PARA_A'],Risk_data['Audit_Risk'],'.')"
   ]
  },
  {
   "cell_type": "code",
   "execution_count": 28,
   "metadata": {},
   "outputs": [
    {
     "data": {
      "text/plain": [
       "[<matplotlib.lines.Line2D at 0x231ed0cca20>]"
      ]
     },
     "execution_count": 28,
     "metadata": {},
     "output_type": "execute_result"
    },
    {
     "data": {
      "image/png": "[encoded data removed]",
      "text/plain": [
       "<Figure size 432x288 with 1 Axes>"
      ]
     },
     "metadata": {
      "needs_background": "light"
     },
     "output_type": "display_data"
    }
   ],
   "source": [
    "Risk_data=Risk_data[abs(Risk_data['PARA_A'])<40]\n",
    "plt.plot(Risk_data['PARA_A'],Risk_data['Audit_Risk'],'.')"
   ]
  },
  {
   "cell_type": "code",
   "execution_count": null,
   "metadata": {},
   "outputs": [],
   "source": []
  },
  {
   "cell_type": "code",
   "execution_count": 29,
   "metadata": {},
   "outputs": [
    {
     "data": {
      "text/plain": [
       "(750, 17)"
      ]
     },
     "execution_count": 29,
     "metadata": {},
     "output_type": "execute_result"
    }
   ],
   "source": [
    "Risk_data.shape"
   ]
  },
  {
   "cell_type": "code",
   "execution_count": 30,
   "metadata": {},
   "outputs": [],
   "source": [
    "# Removing nominal features and selecting features for classification models\n",
    "Risk_data_class = Risk_data[['Sector_score','numbers','PARA_A', 'PARA_B',\n",
    "       'TOTAL','Money_Value', 'PROB', 'District_Loss','History', 'Score', 'Risk']]"
   ]
  },
  {
   "cell_type": "code",
   "execution_count": 31,
   "metadata": {},
   "outputs": [],
   "source": [
    "# Removing nominal features and selecting features for regression models\n",
    "Risk_data = Risk_data[['Sector_score','numbers','PARA_A', 'PARA_B',\n",
    "       'TOTAL','Money_Value', 'PROB', 'District_Loss','History', 'Score', 'Audit_Risk']]"
   ]
  },
  {
   "cell_type": "markdown",
   "metadata": {},
   "source": [
    "####  Seperating the target column from the data set"
   ]
  },
  {
   "cell_type": "code",
   "execution_count": 32,
   "metadata": {},
   "outputs": [],
   "source": [
    "y = Risk_data['Audit_Risk']\n",
    "X = Risk_data.drop(['Audit_Risk'], axis = 1)"
   ]
  },
  {
   "cell_type": "markdown",
   "metadata": {},
   "source": [
    "#### Splitting the dataframe into Training and Testing data (defaut split)"
   ]
  },
  {
   "cell_type": "code",
   "execution_count": 33,
   "metadata": {},
   "outputs": [],
   "source": [
    "from sklearn.model_selection import train_test_split\n",
    "X_train_org, X_test_org, y_train, y_test = train_test_split(X, y, random_state = 0)"
   ]
  },
  {
   "cell_type": "markdown",
   "metadata": {},
   "source": [
    "#### Scaling the data using Normalisation Z scores"
   ]
  },
  {
   "cell_type": "markdown",
   "metadata": {},
   "source": [
    "#### Standardscaler:\n",
    "#### Assumes that data has normally distributed features and will scale them to zero mean and 1 standard deviation. After applying the scaler all features will be of same scale .\n",
    "\n",
    "#### Minmaxscaler shrinks the data within the range of -1 to 1(if there are negative values)\n",
    "\n",
    "#### Since our data distribution is Guassian, standard deviation is high, with significant number of outliers, we use the standard  scaler for the models. The models which expect normalisation work well only with standard scaler."
   ]
  },
  {
   "cell_type": "code",
   "execution_count": 34,
   "metadata": {},
   "outputs": [],
   "source": [
    "from sklearn.preprocessing import StandardScaler\n",
    "scaler = StandardScaler()\n",
    "X_train = scaler.fit_transform(X_train_org)\n",
    "X_test = scaler.fit_transform(X_test_org)"
   ]
  },
  {
   "cell_type": "markdown",
   "metadata": {},
   "source": [
    "### Simple Linear Regression"
   ]
  },
  {
   "cell_type": "code",
   "execution_count": 35,
   "metadata": {},
   "outputs": [
    {
     "name": "stdout",
     "output_type": "stream",
     "text": [
      "Train score: 0.8549\n",
      "Test score: 0.7210\n"
     ]
    }
   ],
   "source": [
    "from sklearn.linear_model import LinearRegression\n",
    "\n",
    "lreg = LinearRegression()\n",
    "\n",
    "lreg.fit(X_train, y_train)\n",
    "\n",
    "print('Train score: %.4f'%lreg.score(X_train, y_train))\n",
    "print('Test score: %.4f'%lreg.score(X_test, y_test))"
   ]
  },
  {
   "cell_type": "code",
   "execution_count": 36,
   "metadata": {},
   "outputs": [
    {
     "data": {
      "text/plain": [
       "Text(0.5,0,'RM')"
      ]
     },
     "execution_count": 36,
     "metadata": {},
     "output_type": "execute_result"
    },
    {
     "data": {
      "image/png": "[encoded data removed]",
      "text/plain": [
       "<Figure size 432x288 with 1 Axes>"
      ]
     },
     "metadata": {
      "needs_background": "light"
     },
     "output_type": "display_data"
    }
   ],
   "source": [
    "%matplotlib inline\n",
    "import matplotlib.pyplot as plt\n",
    "\n",
    "X_train_rm = X_train[:,5].reshape(-1,1)\n",
    "lreg.fit(X_train_rm, y_train)\n",
    "y_predict = lreg.predict(X_train_rm)\n",
    "\n",
    "plt.plot(X_train_rm, y_predict, c = 'r')\n",
    "plt.scatter(X_train_rm,y_train)\n",
    "plt.xlabel('RM')"
   ]
  },
  {
   "cell_type": "code",
   "execution_count": 37,
   "metadata": {},
   "outputs": [
    {
     "data": {
      "text/plain": [
       "Text(0.5,0,'RM')"
      ]
     },
     "execution_count": 37,
     "metadata": {},
     "output_type": "execute_result"
    },
    {
     "data": {
      "image/png": "[encoded data removed]",
      "text/plain": [
       "<Figure size 432x288 with 1 Axes>"
      ]
     },
     "metadata": {
      "needs_background": "light"
     },
     "output_type": "display_data"
    }
   ],
   "source": [
    "%matplotlib inline\n",
    "import matplotlib.pyplot as plt\n",
    "\n",
    "X_test_rm = X_test[:,3].reshape(-1,1)\n",
    "lreg.fit(X_test_rm, y_test)\n",
    "y_predict = lreg.predict(X_test_rm)\n",
    "\n",
    "plt.plot(X_test_rm, y_predict, c = 'r')\n",
    "plt.scatter(X_test_rm,y_test)\n",
    "plt.xlabel('RM')"
   ]
  },
  {
   "cell_type": "markdown",
   "metadata": {},
   "source": [
    "### Ridge Linear Regression"
   ]
  },
  {
   "cell_type": "code",
   "execution_count": 38,
   "metadata": {},
   "outputs": [
    {
     "name": "stdout",
     "output_type": "stream",
     "text": [
      "[0.8547090014261867, 0.8539913498642967, 0.8537388613924608, 0.8533213236196113, 0.8368322025813342, 0.802626801549911, 0.7503204252029569, 0.6649726367442614]\n",
      "[0.7135378331931241, 0.6987351137076895, 0.6941175746033271, 0.6925809729278578, 0.6752273896379498, 0.6450639912413481, 0.6003821739295865, 0.5281441120275868]\n"
     ]
    }
   ],
   "source": [
    "from  sklearn.linear_model import Ridge\n",
    "\n",
    "x_range = [0.01, 0.1, 1, 10, 100,250,500,1000]\n",
    "train_score_list = []\n",
    "test_score_list = []\n",
    "\n",
    "for alpha in x_range: \n",
    "    ridge = Ridge(alpha)\n",
    "    ridge.fit(X_train,y_train)\n",
    "    train_score_list.append(ridge.score(X_train,y_train))\n",
    "    test_score_list.append(ridge.score(X_test, y_test))\n",
    "\n",
    "print(train_score_list)\n",
    "print(test_score_list)"
   ]
  },
  {
   "cell_type": "code",
   "execution_count": 39,
   "metadata": {},
   "outputs": [
    {
     "data": {
      "text/plain": [
       "Text(0.5,0,'$\\\\alpha$')"
      ]
     },
     "execution_count": 39,
     "metadata": {},
     "output_type": "execute_result"
    },
    {
     "data": {
      "image/png": "[encoded data removed]",
      "text/plain": [
       "<Figure size 432x288 with 1 Axes>"
      ]
     },
     "metadata": {
      "needs_background": "light"
     },
     "output_type": "display_data"
    }
   ],
   "source": [
    "%matplotlib inline\n",
    "import matplotlib.pyplot as plt\n",
    "plt.plot(x_range, train_score_list, c = 'g', label = 'Train Score')\n",
    "plt.plot(x_range, test_score_list, c = 'b', label = 'Test Score')\n",
    "plt.xscale('log')\n",
    "plt.legend(loc = 3)\n",
    "plt.xlabel(r'$\\alpha$')"
   ]
  },
  {
   "cell_type": "code",
   "execution_count": 40,
   "metadata": {},
   "outputs": [
    {
     "data": {
      "image/png": "[encoded data removed]",
      "text/plain": [
       "<Figure size 432x288 with 1 Axes>"
      ]
     },
     "metadata": {
      "needs_background": "light"
     },
     "output_type": "display_data"
    }
   ],
   "source": [
    "%matplotlib inline\n",
    "import numpy as np\n",
    "\n",
    "x_range1 = np.linspace(0.001, 1, 100).reshape(-1,1)\n",
    "x_range2 = np.linspace(1, 10000, 10000).reshape(-1,1)\n",
    "\n",
    "x_range = np.append(x_range1, x_range2)\n",
    "coeff = []\n",
    "\n",
    "for alpha in x_range: \n",
    "    ridge = Ridge(alpha)\n",
    "    ridge.fit(X_train,y_train)\n",
    "    coeff.append(ridge.coef_ )\n",
    "    \n",
    "coeff = np.array(coeff)\n",
    "\n",
    "for i in range(0,9):\n",
    "    plt.plot(x_range, coeff[:,i], label = 'feature {:d}'.format(i))\n",
    "\n",
    "plt.axhline(y=0, xmin=0.001, xmax=9999, linewidth=1, c ='gray')\n",
    "plt.xlabel(r'$\\alpha$')\n",
    "plt.xscale('log')\n",
    "plt.legend(loc='upper center', bbox_to_anchor=(0.5, 1.5),\n",
    "          ncol=3, fancybox=True, shadow=True)\n",
    "plt.show()"
   ]
  },
  {
   "cell_type": "code",
   "execution_count": 41,
   "metadata": {},
   "outputs": [
    {
     "name": "stdout",
     "output_type": "stream",
     "text": [
      "Size of training set: 421   size of validation set: 141   size of test set: 188\n",
      "\n",
      "Best score on validation set: 0.82\n",
      "Best parameters:  {'x': 100}\n",
      "Test set score with best parameters: 0.71\n"
     ]
    }
   ],
   "source": [
    "#GRID SEARCH WITH CROSS VALIDATION:\n",
    "\n",
    "# split data into train+validation set and test set\n",
    "X_trainval, X_test, y_trainval, y_test = train_test_split(X, y, random_state = 0)\n",
    "\n",
    "# split train+validation set into training and validation sets\n",
    "X_train, X_valid, y_train, y_valid = train_test_split(X_trainval, y_trainval, random_state=0)\n",
    "\n",
    "print(\"Size of training set: {}   size of validation set: {}   size of test set:\"\n",
    "      \" {}\\n\".format(X_train.shape[0], X_valid.shape[0], X_test.shape[0]))\n",
    "\n",
    "x_range = [0.01, 0.1, 1, 10, 100,250,500]\n",
    "best_score = 0\n",
    "for alpha in x_range: \n",
    "    ridge = Ridge(alpha)\n",
    "    ridge.fit(X_train,y_train)\n",
    "    score = ridge.score(X_valid, y_valid)\n",
    "    if score > best_score:\n",
    "        best_score = score\n",
    "        best_parameters = {'x': alpha}\n",
    "\n",
    "# rebuild a model on the combined training and validation set,\n",
    "# and evaluate it on the test set\n",
    "best = best_parameters['x']\n",
    "\n",
    "ridge = Ridge(best)\n",
    "ridge.fit(X_trainval, y_trainval)\n",
    "test_score = ridge.score(X_test, y_test)\n",
    "print(\"Best score on validation set: {:.2f}\".format(best_score))\n",
    "print(\"Best parameters: \", best_parameters)\n",
    "print(\"Test set score with best parameters: {:.2f}\".format(test_score))"
   ]
  },
  {
   "cell_type": "code",
   "execution_count": 42,
   "metadata": {},
   "outputs": [
    {
     "name": "stdout",
     "output_type": "stream",
     "text": [
      "Fitting 5 folds for each of 5 candidates, totalling 25 fits\n"
     ]
    },
    {
     "name": "stderr",
     "output_type": "stream",
     "text": [
      "[Parallel(n_jobs=1)]: Done  25 out of  25 | elapsed:    0.0s finished\n"
     ]
    },
    {
     "data": {
      "text/plain": [
       "GridSearchCV(cv=5, error_score='raise',\n",
       "       estimator=Ridge(alpha=1.0, copy_X=True, fit_intercept=True, max_iter=None,\n",
       "   normalize=False, random_state=None, solver='auto', tol=0.001),\n",
       "       fit_params=None, iid=True, n_jobs=1,\n",
       "       param_grid={'alpha': [0.01, 0.1, 1, 10, 100]},\n",
       "       pre_dispatch='2*n_jobs', refit=True, return_train_score=True,\n",
       "       scoring=None, verbose=1)"
      ]
     },
     "execution_count": 42,
     "metadata": {},
     "output_type": "execute_result"
    }
   ],
   "source": [
    "from sklearn.model_selection import GridSearchCV\n",
    "params={'alpha': [0.01, 0.1, 1, 10, 100]}\n",
    "rdg_reg = Ridge()\n",
    "grid_search = GridSearchCV(rdg_reg, params,cv=5,verbose = 1,return_train_score=True) \n",
    "X_train, X_test, y_train, y_test = train_test_split(X, y, random_state = 0)\n",
    "grid_search.fit(X_train, y_train)"
   ]
  },
  {
   "cell_type": "code",
   "execution_count": 43,
   "metadata": {},
   "outputs": [
    {
     "name": "stdout",
     "output_type": "stream",
     "text": [
      "Best parameters: {'alpha': 10}\n",
      "Best cross-validation score: 0.79\n"
     ]
    }
   ],
   "source": [
    "print(\"Best parameters: {}\".format(grid_search.best_params_))\n",
    "print(\"Best cross-validation score: {:.2f}\".format(grid_search.best_score_))"
   ]
  },
  {
   "cell_type": "code",
   "execution_count": 44,
   "metadata": {},
   "outputs": [
    {
     "data": {
      "text/html": [
       "<div>\n",
       "<style scoped>\n",
       "    .dataframe tbody tr th:only-of-type {\n",
       "        vertical-align: middle;\n",
       "    }\n",
       "\n",
       "    .dataframe tbody tr th {\n",
       "        vertical-align: top;\n",
       "    }\n",
       "\n",
       "    .dataframe thead th {\n",
       "        text-align: right;\n",
       "    }\n",
       "</style>\n",
       "<table border=\"1\" class=\"dataframe\">\n",
       "  <thead>\n",
       "    <tr style=\"text-align: right;\">\n",
       "      <th></th>\n",
       "      <th>mean_fit_time</th>\n",
       "      <th>std_fit_time</th>\n",
       "      <th>mean_score_time</th>\n",
       "      <th>std_score_time</th>\n",
       "      <th>param_alpha</th>\n",
       "      <th>params</th>\n",
       "      <th>split0_test_score</th>\n",
       "      <th>split1_test_score</th>\n",
       "      <th>split2_test_score</th>\n",
       "      <th>split3_test_score</th>\n",
       "      <th>...</th>\n",
       "      <th>mean_test_score</th>\n",
       "      <th>std_test_score</th>\n",
       "      <th>rank_test_score</th>\n",
       "      <th>split0_train_score</th>\n",
       "      <th>split1_train_score</th>\n",
       "      <th>split2_train_score</th>\n",
       "      <th>split3_train_score</th>\n",
       "      <th>split4_train_score</th>\n",
       "      <th>mean_train_score</th>\n",
       "      <th>std_train_score</th>\n",
       "    </tr>\n",
       "  </thead>\n",
       "  <tbody>\n",
       "    <tr>\n",
       "      <th>0</th>\n",
       "      <td>0.002593</td>\n",
       "      <td>0.000798</td>\n",
       "      <td>0.000399</td>\n",
       "      <td>0.000488</td>\n",
       "      <td>0.01</td>\n",
       "      <td>{'alpha': 0.01}</td>\n",
       "      <td>0.838915</td>\n",
       "      <td>0.775991</td>\n",
       "      <td>0.688133</td>\n",
       "      <td>0.862197</td>\n",
       "      <td>...</td>\n",
       "      <td>0.778204</td>\n",
       "      <td>0.065753</td>\n",
       "      <td>3</td>\n",
       "      <td>0.853023</td>\n",
       "      <td>0.859980</td>\n",
       "      <td>0.869626</td>\n",
       "      <td>0.849542</td>\n",
       "      <td>0.898096</td>\n",
       "      <td>0.866053</td>\n",
       "      <td>0.017429</td>\n",
       "    </tr>\n",
       "    <tr>\n",
       "      <th>1</th>\n",
       "      <td>0.001197</td>\n",
       "      <td>0.000399</td>\n",
       "      <td>0.000598</td>\n",
       "      <td>0.000489</td>\n",
       "      <td>0.1</td>\n",
       "      <td>{'alpha': 0.1}</td>\n",
       "      <td>0.839634</td>\n",
       "      <td>0.778050</td>\n",
       "      <td>0.680154</td>\n",
       "      <td>0.879173</td>\n",
       "      <td>...</td>\n",
       "      <td>0.779646</td>\n",
       "      <td>0.073235</td>\n",
       "      <td>2</td>\n",
       "      <td>0.852543</td>\n",
       "      <td>0.859521</td>\n",
       "      <td>0.869312</td>\n",
       "      <td>0.848505</td>\n",
       "      <td>0.897348</td>\n",
       "      <td>0.865446</td>\n",
       "      <td>0.017443</td>\n",
       "    </tr>\n",
       "    <tr>\n",
       "      <th>2</th>\n",
       "      <td>0.001995</td>\n",
       "      <td>0.000631</td>\n",
       "      <td>0.000399</td>\n",
       "      <td>0.000489</td>\n",
       "      <td>1</td>\n",
       "      <td>{'alpha': 1}</td>\n",
       "      <td>0.838418</td>\n",
       "      <td>0.784355</td>\n",
       "      <td>0.651485</td>\n",
       "      <td>0.907131</td>\n",
       "      <td>...</td>\n",
       "      <td>0.776175</td>\n",
       "      <td>0.092195</td>\n",
       "      <td>4</td>\n",
       "      <td>0.842997</td>\n",
       "      <td>0.849943</td>\n",
       "      <td>0.863401</td>\n",
       "      <td>0.833086</td>\n",
       "      <td>0.887353</td>\n",
       "      <td>0.855356</td>\n",
       "      <td>0.018796</td>\n",
       "    </tr>\n",
       "    <tr>\n",
       "      <th>3</th>\n",
       "      <td>0.001795</td>\n",
       "      <td>0.000399</td>\n",
       "      <td>0.000399</td>\n",
       "      <td>0.000488</td>\n",
       "      <td>10</td>\n",
       "      <td>{'alpha': 10}</td>\n",
       "      <td>0.850945</td>\n",
       "      <td>0.811893</td>\n",
       "      <td>0.709640</td>\n",
       "      <td>0.903688</td>\n",
       "      <td>...</td>\n",
       "      <td>0.786165</td>\n",
       "      <td>0.091572</td>\n",
       "      <td>1</td>\n",
       "      <td>0.823362</td>\n",
       "      <td>0.829289</td>\n",
       "      <td>0.847708</td>\n",
       "      <td>0.811023</td>\n",
       "      <td>0.872417</td>\n",
       "      <td>0.836760</td>\n",
       "      <td>0.021396</td>\n",
       "    </tr>\n",
       "    <tr>\n",
       "      <th>4</th>\n",
       "      <td>0.001795</td>\n",
       "      <td>0.000399</td>\n",
       "      <td>0.000599</td>\n",
       "      <td>0.000489</td>\n",
       "      <td>100</td>\n",
       "      <td>{'alpha': 100}</td>\n",
       "      <td>0.844829</td>\n",
       "      <td>0.804535</td>\n",
       "      <td>0.810719</td>\n",
       "      <td>0.857749</td>\n",
       "      <td>...</td>\n",
       "      <td>0.764159</td>\n",
       "      <td>0.132374</td>\n",
       "      <td>5</td>\n",
       "      <td>0.737316</td>\n",
       "      <td>0.744335</td>\n",
       "      <td>0.736773</td>\n",
       "      <td>0.722821</td>\n",
       "      <td>0.818920</td>\n",
       "      <td>0.752033</td>\n",
       "      <td>0.034164</td>\n",
       "    </tr>\n",
       "  </tbody>\n",
       "</table>\n",
       "<p>5 rows × 21 columns</p>\n",
       "</div>"
      ],
      "text/plain": [
       "   mean_fit_time  std_fit_time  mean_score_time  std_score_time param_alpha  \\\n",
       "0       0.002593      0.000798         0.000399        0.000488        0.01   \n",
       "1       0.001197      0.000399         0.000598        0.000489         0.1   \n",
       "2       0.001995      0.000631         0.000399        0.000489           1   \n",
       "3       0.001795      0.000399         0.000399        0.000488          10   \n",
       "4       0.001795      0.000399         0.000599        0.000489         100   \n",
       "\n",
       "            params  split0_test_score  split1_test_score  split2_test_score  \\\n",
       "0  {'alpha': 0.01}           0.838915           0.775991           0.688133   \n",
       "1   {'alpha': 0.1}           0.839634           0.778050           0.680154   \n",
       "2     {'alpha': 1}           0.838418           0.784355           0.651485   \n",
       "3    {'alpha': 10}           0.850945           0.811893           0.709640   \n",
       "4   {'alpha': 100}           0.844829           0.804535           0.810719   \n",
       "\n",
       "   split3_test_score       ...         mean_test_score  std_test_score  \\\n",
       "0           0.862197       ...                0.778204        0.065753   \n",
       "1           0.879173       ...                0.779646        0.073235   \n",
       "2           0.907131       ...                0.776175        0.092195   \n",
       "3           0.903688       ...                0.786165        0.091572   \n",
       "4           0.857749       ...                0.764159        0.132374   \n",
       "\n",
       "   rank_test_score  split0_train_score  split1_train_score  \\\n",
       "0                3            0.853023            0.859980   \n",
       "1                2            0.852543            0.859521   \n",
       "2                4            0.842997            0.849943   \n",
       "3                1            0.823362            0.829289   \n",
       "4                5            0.737316            0.744335   \n",
       "\n",
       "   split2_train_score  split3_train_score  split4_train_score  \\\n",
       "0            0.869626            0.849542            0.898096   \n",
       "1            0.869312            0.848505            0.897348   \n",
       "2            0.863401            0.833086            0.887353   \n",
       "3            0.847708            0.811023            0.872417   \n",
       "4            0.736773            0.722821            0.818920   \n",
       "\n",
       "   mean_train_score  std_train_score  \n",
       "0          0.866053         0.017429  \n",
       "1          0.865446         0.017443  \n",
       "2          0.855356         0.018796  \n",
       "3          0.836760         0.021396  \n",
       "4          0.752033         0.034164  \n",
       "\n",
       "[5 rows x 21 columns]"
      ]
     },
     "metadata": {},
     "output_type": "display_data"
    }
   ],
   "source": [
    "import pandas as pd\n",
    "# convert to DataFrame\n",
    "results = pd.DataFrame(grid_search.cv_results_)\n",
    "# show the first 5 rows\n",
    "display(results.head())"
   ]
  },
  {
   "cell_type": "markdown",
   "metadata": {},
   "source": [
    "### Lasso Linear Regression"
   ]
  },
  {
   "cell_type": "code",
   "execution_count": 45,
   "metadata": {},
   "outputs": [
    {
     "name": "stdout",
     "output_type": "stream",
     "text": [
      "[0.8532459424809379, 0.823557648290587, 0.7668006001578256, 0.5356347566423092, 0.3435318618196077]\n",
      "[0.5830153112928639, 0.5867480397990819, 0.6928072305714721, 0.5049924320905549, 0.30644153476063696]\n"
     ]
    },
    {
     "name": "stderr",
     "output_type": "stream",
     "text": [
      "C:\\Users\\speed\\Anaconda3\\lib\\site-packages\\sklearn\\linear_model\\coordinate_descent.py:491: ConvergenceWarning: Objective did not converge. You might want to increase the number of iterations. Fitting data with very small alpha may cause precision problems.\n",
      "  ConvergenceWarning)\n"
     ]
    }
   ],
   "source": [
    "from sklearn.linear_model import Lasso\n",
    "x_range = [0.01, 0.1, 1, 10, 100]\n",
    "train_score_list = []\n",
    "test_score_list = []\n",
    "\n",
    "for alpha in x_range: \n",
    "    lasso = Lasso(alpha)\n",
    "    lasso.fit(X_train,y_train)\n",
    "    train_score_list.append(lasso.score(X_train,y_train))\n",
    "    test_score_list.append(lasso.score(X_test, y_test))\n",
    "    \n",
    "print(train_score_list)\n",
    "print(test_score_list)"
   ]
  },
  {
   "cell_type": "code",
   "execution_count": 46,
   "metadata": {},
   "outputs": [
    {
     "data": {
      "text/plain": [
       "Text(0.5,0,'$\\\\alpha$')"
      ]
     },
     "execution_count": 46,
     "metadata": {},
     "output_type": "execute_result"
    },
    {
     "data": {
      "image/png": "[encoded data removed]",
      "text/plain": [
       "<Figure size 432x288 with 1 Axes>"
      ]
     },
     "metadata": {
      "needs_background": "light"
     },
     "output_type": "display_data"
    }
   ],
   "source": [
    "plt.plot(x_range, train_score_list, c = 'g', label = 'Train Score')\n",
    "plt.plot(x_range, test_score_list, c = 'b', label = 'Test Score')\n",
    "plt.xscale('log')\n",
    "plt.legend(loc = 3)\n",
    "plt.xlabel(r'$\\alpha$')"
   ]
  },
  {
   "cell_type": "code",
   "execution_count": 47,
   "metadata": {},
   "outputs": [
    {
     "data": {
      "image/png": "[encoded data removed]",
      "text/plain": [
       "<Figure size 432x288 with 1 Axes>"
      ]
     },
     "metadata": {
      "needs_background": "light"
     },
     "output_type": "display_data"
    }
   ],
   "source": [
    "%matplotlib inline\n",
    "\n",
    "x_range1 = np.linspace(0.1, 1, 1000).reshape(-1,1)\n",
    "x_range2 = np.linspace(1, 1000, 1000).reshape(-1,1)\n",
    "\n",
    "x_range = np.append(x_range1, x_range2)\n",
    "coeff = []\n",
    "\n",
    "for alpha in x_range: \n",
    "    lasso = Lasso(alpha)\n",
    "    lasso.fit(X_train,y_train)\n",
    "    coeff.append(lasso.coef_ )\n",
    "    \n",
    "coeff = np.array(coeff)\n",
    "\n",
    "for i in range(0,10):\n",
    "    plt.plot(x_range, coeff[:,i], label = i)\n",
    "\n",
    "plt.axhline(y=0, xmin=0.001, xmax=9999, linewidth=1, c ='gray')\n",
    "plt.xlabel(r'$\\alpha$')\n",
    "plt.xscale('log')\n",
    "plt.legend(loc='upper center', bbox_to_anchor=(0.5, 1.5),\n",
    "          ncol=5, fancybox=True, shadow=True)\n",
    "plt.show()"
   ]
  },
  {
   "cell_type": "code",
   "execution_count": 48,
   "metadata": {},
   "outputs": [
    {
     "name": "stdout",
     "output_type": "stream",
     "text": [
      "Fitting 5 folds for each of 5 candidates, totalling 25 fits\n"
     ]
    },
    {
     "name": "stderr",
     "output_type": "stream",
     "text": [
      "C:\\Users\\speed\\Anaconda3\\lib\\site-packages\\sklearn\\linear_model\\coordinate_descent.py:491: ConvergenceWarning: Objective did not converge. You might want to increase the number of iterations. Fitting data with very small alpha may cause precision problems.\n",
      "  ConvergenceWarning)\n",
      "C:\\Users\\speed\\Anaconda3\\lib\\site-packages\\sklearn\\linear_model\\coordinate_descent.py:491: ConvergenceWarning: Objective did not converge. You might want to increase the number of iterations. Fitting data with very small alpha may cause precision problems.\n",
      "  ConvergenceWarning)\n",
      "C:\\Users\\speed\\Anaconda3\\lib\\site-packages\\sklearn\\linear_model\\coordinate_descent.py:491: ConvergenceWarning: Objective did not converge. You might want to increase the number of iterations. Fitting data with very small alpha may cause precision problems.\n",
      "  ConvergenceWarning)\n",
      "C:\\Users\\speed\\Anaconda3\\lib\\site-packages\\sklearn\\linear_model\\coordinate_descent.py:491: ConvergenceWarning: Objective did not converge. You might want to increase the number of iterations. Fitting data with very small alpha may cause precision problems.\n",
      "  ConvergenceWarning)\n",
      "[Parallel(n_jobs=1)]: Done  25 out of  25 | elapsed:    0.0s finished\n",
      "C:\\Users\\speed\\Anaconda3\\lib\\site-packages\\sklearn\\linear_model\\coordinate_descent.py:491: ConvergenceWarning: Objective did not converge. You might want to increase the number of iterations. Fitting data with very small alpha may cause precision problems.\n",
      "  ConvergenceWarning)\n"
     ]
    },
    {
     "data": {
      "text/plain": [
       "GridSearchCV(cv=5, error_score='raise',\n",
       "       estimator=Lasso(alpha=1.0, copy_X=True, fit_intercept=True, max_iter=1000,\n",
       "   normalize=False, positive=False, precompute=False, random_state=None,\n",
       "   selection='cyclic', tol=0.0001, warm_start=False),\n",
       "       fit_params=None, iid=True, n_jobs=1,\n",
       "       param_grid={'alpha': [0.01, 0.1, 1, 10, 100]},\n",
       "       pre_dispatch='2*n_jobs', refit=True, return_train_score=True,\n",
       "       scoring=None, verbose=1)"
      ]
     },
     "execution_count": 48,
     "metadata": {},
     "output_type": "execute_result"
    }
   ],
   "source": [
    "from sklearn.model_selection import GridSearchCV\n",
    "params={'alpha': [0.01, 0.1, 1, 10, 100]}\n",
    "lso_reg = Lasso()\n",
    "grid_search = GridSearchCV(lso_reg, params,cv=5,verbose = 1,return_train_score=True) \n",
    "X_train, X_test, y_train, y_test = train_test_split(X, y, random_state = 0)\n",
    "grid_search.fit(X_train, y_train)"
   ]
  },
  {
   "cell_type": "code",
   "execution_count": 49,
   "metadata": {},
   "outputs": [
    {
     "name": "stdout",
     "output_type": "stream",
     "text": [
      "Best parameters: {'alpha': 0.01}\n",
      "Best cross-validation score: 0.78\n"
     ]
    }
   ],
   "source": [
    "print(\"Best parameters: {}\".format(grid_search.best_params_))\n",
    "print(\"Best cross-validation score: {:.2f}\".format(grid_search.best_score_))"
   ]
  },
  {
   "cell_type": "code",
   "execution_count": 50,
   "metadata": {},
   "outputs": [
    {
     "data": {
      "text/html": [
       "<div>\n",
       "<style scoped>\n",
       "    .dataframe tbody tr th:only-of-type {\n",
       "        vertical-align: middle;\n",
       "    }\n",
       "\n",
       "    .dataframe tbody tr th {\n",
       "        vertical-align: top;\n",
       "    }\n",
       "\n",
       "    .dataframe thead th {\n",
       "        text-align: right;\n",
       "    }\n",
       "</style>\n",
       "<table border=\"1\" class=\"dataframe\">\n",
       "  <thead>\n",
       "    <tr style=\"text-align: right;\">\n",
       "      <th></th>\n",
       "      <th>mean_fit_time</th>\n",
       "      <th>std_fit_time</th>\n",
       "      <th>mean_score_time</th>\n",
       "      <th>std_score_time</th>\n",
       "      <th>param_alpha</th>\n",
       "      <th>params</th>\n",
       "      <th>split0_test_score</th>\n",
       "      <th>split1_test_score</th>\n",
       "      <th>split2_test_score</th>\n",
       "      <th>split3_test_score</th>\n",
       "      <th>...</th>\n",
       "      <th>mean_test_score</th>\n",
       "      <th>std_test_score</th>\n",
       "      <th>rank_test_score</th>\n",
       "      <th>split0_train_score</th>\n",
       "      <th>split1_train_score</th>\n",
       "      <th>split2_train_score</th>\n",
       "      <th>split3_train_score</th>\n",
       "      <th>split4_train_score</th>\n",
       "      <th>mean_train_score</th>\n",
       "      <th>std_train_score</th>\n",
       "    </tr>\n",
       "  </thead>\n",
       "  <tbody>\n",
       "    <tr>\n",
       "      <th>0</th>\n",
       "      <td>0.005382</td>\n",
       "      <td>0.001622</td>\n",
       "      <td>0.000000</td>\n",
       "      <td>0.000000</td>\n",
       "      <td>0.01</td>\n",
       "      <td>{'alpha': 0.01}</td>\n",
       "      <td>0.844296</td>\n",
       "      <td>0.782731</td>\n",
       "      <td>0.674356</td>\n",
       "      <td>0.874934</td>\n",
       "      <td>...</td>\n",
       "      <td>0.780338</td>\n",
       "      <td>0.073896</td>\n",
       "      <td>1</td>\n",
       "      <td>0.852522</td>\n",
       "      <td>0.858437</td>\n",
       "      <td>0.868544</td>\n",
       "      <td>0.847693</td>\n",
       "      <td>0.890950</td>\n",
       "      <td>0.863629</td>\n",
       "      <td>0.015329</td>\n",
       "    </tr>\n",
       "    <tr>\n",
       "      <th>1</th>\n",
       "      <td>0.001391</td>\n",
       "      <td>0.000500</td>\n",
       "      <td>0.000406</td>\n",
       "      <td>0.000497</td>\n",
       "      <td>0.1</td>\n",
       "      <td>{'alpha': 0.1}</td>\n",
       "      <td>0.853277</td>\n",
       "      <td>0.811816</td>\n",
       "      <td>0.625980</td>\n",
       "      <td>0.898197</td>\n",
       "      <td>...</td>\n",
       "      <td>0.772281</td>\n",
       "      <td>0.105359</td>\n",
       "      <td>2</td>\n",
       "      <td>0.822061</td>\n",
       "      <td>0.827516</td>\n",
       "      <td>0.849510</td>\n",
       "      <td>0.808672</td>\n",
       "      <td>0.868379</td>\n",
       "      <td>0.835228</td>\n",
       "      <td>0.021171</td>\n",
       "    </tr>\n",
       "    <tr>\n",
       "      <th>2</th>\n",
       "      <td>0.001599</td>\n",
       "      <td>0.000492</td>\n",
       "      <td>0.000198</td>\n",
       "      <td>0.000395</td>\n",
       "      <td>1</td>\n",
       "      <td>{'alpha': 1}</td>\n",
       "      <td>0.871021</td>\n",
       "      <td>0.834720</td>\n",
       "      <td>0.801817</td>\n",
       "      <td>0.887114</td>\n",
       "      <td>...</td>\n",
       "      <td>0.760504</td>\n",
       "      <td>0.179207</td>\n",
       "      <td>3</td>\n",
       "      <td>0.768972</td>\n",
       "      <td>0.776122</td>\n",
       "      <td>0.787046</td>\n",
       "      <td>0.756550</td>\n",
       "      <td>0.770512</td>\n",
       "      <td>0.771840</td>\n",
       "      <td>0.009933</td>\n",
       "    </tr>\n",
       "    <tr>\n",
       "      <th>3</th>\n",
       "      <td>0.001409</td>\n",
       "      <td>0.000493</td>\n",
       "      <td>0.000190</td>\n",
       "      <td>0.000381</td>\n",
       "      <td>10</td>\n",
       "      <td>{'alpha': 10}</td>\n",
       "      <td>0.735482</td>\n",
       "      <td>0.693478</td>\n",
       "      <td>0.631258</td>\n",
       "      <td>0.725445</td>\n",
       "      <td>...</td>\n",
       "      <td>0.621388</td>\n",
       "      <td>0.154881</td>\n",
       "      <td>4</td>\n",
       "      <td>0.510109</td>\n",
       "      <td>0.520201</td>\n",
       "      <td>0.519660</td>\n",
       "      <td>0.493909</td>\n",
       "      <td>0.709778</td>\n",
       "      <td>0.550732</td>\n",
       "      <td>0.080090</td>\n",
       "    </tr>\n",
       "    <tr>\n",
       "      <th>4</th>\n",
       "      <td>0.001009</td>\n",
       "      <td>0.000017</td>\n",
       "      <td>0.000397</td>\n",
       "      <td>0.000486</td>\n",
       "      <td>100</td>\n",
       "      <td>{'alpha': 100}</td>\n",
       "      <td>0.542059</td>\n",
       "      <td>0.536663</td>\n",
       "      <td>0.414420</td>\n",
       "      <td>0.382436</td>\n",
       "      <td>...</td>\n",
       "      <td>0.407019</td>\n",
       "      <td>0.140070</td>\n",
       "      <td>5</td>\n",
       "      <td>0.329121</td>\n",
       "      <td>0.357702</td>\n",
       "      <td>0.329912</td>\n",
       "      <td>0.306333</td>\n",
       "      <td>0.421312</td>\n",
       "      <td>0.348876</td>\n",
       "      <td>0.039711</td>\n",
       "    </tr>\n",
       "  </tbody>\n",
       "</table>\n",
       "<p>5 rows × 21 columns</p>\n",
       "</div>"
      ],
      "text/plain": [
       "   mean_fit_time  std_fit_time  mean_score_time  std_score_time param_alpha  \\\n",
       "0       0.005382      0.001622         0.000000        0.000000        0.01   \n",
       "1       0.001391      0.000500         0.000406        0.000497         0.1   \n",
       "2       0.001599      0.000492         0.000198        0.000395           1   \n",
       "3       0.001409      0.000493         0.000190        0.000381          10   \n",
       "4       0.001009      0.000017         0.000397        0.000486         100   \n",
       "\n",
       "            params  split0_test_score  split1_test_score  split2_test_score  \\\n",
       "0  {'alpha': 0.01}           0.844296           0.782731           0.674356   \n",
       "1   {'alpha': 0.1}           0.853277           0.811816           0.625980   \n",
       "2     {'alpha': 1}           0.871021           0.834720           0.801817   \n",
       "3    {'alpha': 10}           0.735482           0.693478           0.631258   \n",
       "4   {'alpha': 100}           0.542059           0.536663           0.414420   \n",
       "\n",
       "   split3_test_score       ...         mean_test_score  std_test_score  \\\n",
       "0           0.874934       ...                0.780338        0.073896   \n",
       "1           0.898197       ...                0.772281        0.105359   \n",
       "2           0.887114       ...                0.760504        0.179207   \n",
       "3           0.725445       ...                0.621388        0.154881   \n",
       "4           0.382436       ...                0.407019        0.140070   \n",
       "\n",
       "   rank_test_score  split0_train_score  split1_train_score  \\\n",
       "0                1            0.852522            0.858437   \n",
       "1                2            0.822061            0.827516   \n",
       "2                3            0.768972            0.776122   \n",
       "3                4            0.510109            0.520201   \n",
       "4                5            0.329121            0.357702   \n",
       "\n",
       "   split2_train_score  split3_train_score  split4_train_score  \\\n",
       "0            0.868544            0.847693            0.890950   \n",
       "1            0.849510            0.808672            0.868379   \n",
       "2            0.787046            0.756550            0.770512   \n",
       "3            0.519660            0.493909            0.709778   \n",
       "4            0.329912            0.306333            0.421312   \n",
       "\n",
       "   mean_train_score  std_train_score  \n",
       "0          0.863629         0.015329  \n",
       "1          0.835228         0.021171  \n",
       "2          0.771840         0.009933  \n",
       "3          0.550732         0.080090  \n",
       "4          0.348876         0.039711  \n",
       "\n",
       "[5 rows x 21 columns]"
      ]
     },
     "metadata": {},
     "output_type": "display_data"
    }
   ],
   "source": [
    "import pandas as pd\n",
    "# convert to DataFrame\n",
    "results = pd.DataFrame(grid_search.cv_results_)\n",
    "# show the first 5 rows\n",
    "display(results.head())"
   ]
  },
  {
   "cell_type": "markdown",
   "metadata": {},
   "source": [
    "### Polynomial Regression"
   ]
  },
  {
   "cell_type": "code",
   "execution_count": 51,
   "metadata": {},
   "outputs": [
    {
     "data": {
      "text/plain": [
       "<matplotlib.collections.PathCollection at 0x231f0916f98>"
      ]
     },
     "execution_count": 51,
     "metadata": {},
     "output_type": "execute_result"
    },
    {
     "data": {
      "image/png": "[encoded data removed]",
      "text/plain": [
       "<Figure size 432x288 with 1 Axes>"
      ]
     },
     "metadata": {
      "needs_background": "light"
     },
     "output_type": "display_data"
    }
   ],
   "source": [
    "from  sklearn.preprocessing  import PolynomialFeatures\n",
    "from sklearn.model_selection import train_test_split\n",
    "#X = merged[['Sector_score', 'PARA_A', 'PARA_B', 'TOTAL', 'numbers','Money_Value', 'District_Loss','PROB','History','Score']]\n",
    "#y = merged ['Audit_Risk']\n",
    "X_train_org, X_test_org, y_train, y_test = train_test_split(X, y, random_state = 0)\n",
    "from sklearn.preprocessing import MinMaxScaler\n",
    "scaler = MinMaxScaler()\n",
    "X_train = scaler.fit_transform(X_train_org)\n",
    "X_test = scaler.fit_transform(X_test_org)\n",
    "X_train_1 = X_train[:,9].reshape(-1,1)\n",
    "plt.scatter(X_train_1,y_train)"
   ]
  },
  {
   "cell_type": "code",
   "execution_count": 52,
   "metadata": {},
   "outputs": [],
   "source": [
    "train_score_list = []\n",
    "test_score_list = []\n",
    "\n",
    "for n in range(1,3):\n",
    "    poly = PolynomialFeatures(n)\n",
    "    X_train_poly = poly.fit_transform(X_train)\n",
    "    X_test_poly = poly.transform(X_test)\n",
    "    lreg.fit(X_train_poly, y_train)\n",
    "    train_score_list.append(lreg.score(X_train_poly, y_train))\n",
    "    test_score_list.append(lreg.score(X_test_poly, y_test))"
   ]
  },
  {
   "cell_type": "code",
   "execution_count": 53,
   "metadata": {},
   "outputs": [
    {
     "name": "stdout",
     "output_type": "stream",
     "text": [
      "[0.8549136294903477, 0.9974723467811702]\n",
      "[0.7406840429805046, 0.9226996340098653]\n"
     ]
    }
   ],
   "source": [
    "print(train_score_list)\n",
    "print(test_score_list)"
   ]
  },
  {
   "cell_type": "code",
   "execution_count": 54,
   "metadata": {},
   "outputs": [
    {
     "data": {
      "text/plain": [
       "<matplotlib.legend.Legend at 0x231f098a128>"
      ]
     },
     "execution_count": 54,
     "metadata": {},
     "output_type": "execute_result"
    },
    {
     "data": {
      "image/png": "[encoded data removed]",
      "text/plain": [
       "<Figure size 432x288 with 1 Axes>"
      ]
     },
     "metadata": {
      "needs_background": "light"
     },
     "output_type": "display_data"
    }
   ],
   "source": [
    "%matplotlib inline\n",
    "\n",
    "x_axis = range(1,3)\n",
    "plt.plot(x_axis, train_score_list, c = 'g', label = 'Train Score')\n",
    "plt.plot(x_axis, test_score_list, c = 'b', label = 'Test Score')\n",
    "plt.xlabel('degree')\n",
    "plt.ylabel('accuracy')\n",
    "plt.legend()"
   ]
  },
  {
   "cell_type": "code",
   "execution_count": 55,
   "metadata": {},
   "outputs": [
    {
     "data": {
      "text/plain": [
       "[<matplotlib.lines.Line2D at 0x231f1c4ed68>]"
      ]
     },
     "execution_count": 55,
     "metadata": {},
     "output_type": "execute_result"
    },
    {
     "data": {
      "image/png": "[encoded data removed]",
      "text/plain": [
       "<Figure size 432x288 with 1 Axes>"
      ]
     },
     "metadata": {
      "needs_background": "light"
     },
     "output_type": "display_data"
    }
   ],
   "source": [
    "poly = PolynomialFeatures(n)\n",
    "X_train_poly = poly.fit_transform(X_train_1)\n",
    "lreg.fit(X_train_poly, y_train)\n",
    "\n",
    "x_axis = np.linspace(0,1,100).reshape(-1,1)\n",
    "x_poly = poly.transform(x_axis)\n",
    "y_predict = lreg.predict(x_poly)\n",
    "\n",
    "X_train_1 = X_train[:,9].reshape(-1,1)\n",
    "plt.scatter(X_train_1,y_train)\n",
    "plt.plot(x_axis, y_predict, c = 'r')"
   ]
  },
  {
   "cell_type": "markdown",
   "metadata": {},
   "source": [
    "### K Nearest Neighbor Regression"
   ]
  },
  {
   "cell_type": "code",
   "execution_count": 56,
   "metadata": {},
   "outputs": [
    {
     "data": {
      "text/plain": [
       "Text(0,0.5,'MSE')"
      ]
     },
     "execution_count": 56,
     "metadata": {},
     "output_type": "execute_result"
    },
    {
     "data": {
      "image/png": "[encoded data removed]",
      "text/plain": [
       "<Figure size 432x288 with 1 Axes>"
      ]
     },
     "metadata": {
      "needs_background": "light"
     },
     "output_type": "display_data"
    }
   ],
   "source": [
    "from sklearn.neighbors import KNeighborsRegressor\n",
    "from sklearn.model_selection import train_test_split\n",
    "\n",
    "%matplotlib inline\n",
    "train_score_array = []\n",
    "test_score_array = []\n",
    "\n",
    "for k in range(1,10):\n",
    "    knn_reg = KNeighborsRegressor(k)\n",
    "    knn_reg.fit(X_train, y_train)\n",
    "    train_score_array.append(knn_reg.score(X_train, y_train))\n",
    "    test_score_array.append(knn_reg.score(X_test, y_test))\n",
    "\n",
    "x_axis = range(1,10)\n",
    "plt.plot(x_axis, train_score_array, c = 'g', label = 'Train Score')\n",
    "plt.plot(x_axis, test_score_array, c = 'b', label = 'Test Score')\n",
    "plt.legend()\n",
    "plt.xlabel('k')\n",
    "plt.ylabel('MSE')"
   ]
  },
  {
   "cell_type": "code",
   "execution_count": 57,
   "metadata": {},
   "outputs": [
    {
     "name": "stdout",
     "output_type": "stream",
     "text": [
      "[1.0, 0.8757486870965162, 0.8118047278636737, 0.7553264753848205, 0.7429902621320862, 0.7142719889030653, 0.6887911625185803, 0.6691105409643963, 0.6444061632769378]\n",
      "[0.551086157379641, 0.48462527031827346, 0.6715679055384336, 0.6781182345251935, 0.6527449504807896, 0.6590197293169657, 0.6122714218140524, 0.5725161521996184, 0.5541449344606442]\n"
     ]
    }
   ],
   "source": [
    "print(train_score_array)\n",
    "print(test_score_array)"
   ]
  },
  {
   "cell_type": "code",
   "execution_count": 58,
   "metadata": {},
   "outputs": [
    {
     "name": "stdout",
     "output_type": "stream",
     "text": [
      "Fitting 3 folds for each of 9604 candidates, totalling 28812 fits\n"
     ]
    },
    {
     "name": "stderr",
     "output_type": "stream",
     "text": [
      "[Parallel(n_jobs=-1)]: Done  34 tasks      | elapsed:    4.6s\n",
      "[Parallel(n_jobs=-1)]: Done 1019 tasks      | elapsed:   12.3s\n",
      "[Parallel(n_jobs=-1)]: Done 3019 tasks      | elapsed:   21.4s\n",
      "[Parallel(n_jobs=-1)]: Done 5819 tasks      | elapsed:   31.3s\n",
      "[Parallel(n_jobs=-1)]: Done 9419 tasks      | elapsed:   42.7s\n",
      "[Parallel(n_jobs=-1)]: Done 13819 tasks      | elapsed:   57.2s\n",
      "[Parallel(n_jobs=-1)]: Done 19019 tasks      | elapsed:  1.2min\n",
      "[Parallel(n_jobs=-1)]: Done 25019 tasks      | elapsed:  1.5min\n",
      "[Parallel(n_jobs=-1)]: Done 28812 out of 28812 | elapsed:  1.7min finished\n"
     ]
    },
    {
     "name": "stdout",
     "output_type": "stream",
     "text": [
      "{'leaf_size': 1, 'n_neighbors': 4, 'p': 2, 'weights': 'distance'}\n"
     ]
    }
   ],
   "source": [
    "param_grid_knn = {\n",
    "            'leaf_size' : range(1,50),\n",
    "            'n_neighbors' : range(1,50),\n",
    "            'p': [1,2],\n",
    "            'weights': ['distance','uniform'],\n",
    "            }\n",
    "\n",
    "CV_knn = GridSearchCV(estimator =knn_reg, param_grid = param_grid_knn , return_train_score=True, verbose = 1, n_jobs = -1)\n",
    "CV_knn.fit(X_train, y_train)\n",
    "\n",
    "best_parameters_knn=CV_knn.best_params_\n",
    "print(best_parameters_knn)"
   ]
  },
  {
   "cell_type": "code",
   "execution_count": 59,
   "metadata": {},
   "outputs": [
    {
     "data": {
      "text/html": [
       "<div>\n",
       "<style scoped>\n",
       "    .dataframe tbody tr th:only-of-type {\n",
       "        vertical-align: middle;\n",
       "    }\n",
       "\n",
       "    .dataframe tbody tr th {\n",
       "        vertical-align: top;\n",
       "    }\n",
       "\n",
       "    .dataframe thead th {\n",
       "        text-align: right;\n",
       "    }\n",
       "</style>\n",
       "<table border=\"1\" class=\"dataframe\">\n",
       "  <thead>\n",
       "    <tr style=\"text-align: right;\">\n",
       "      <th></th>\n",
       "      <th>mean_fit_time</th>\n",
       "      <th>std_fit_time</th>\n",
       "      <th>mean_score_time</th>\n",
       "      <th>std_score_time</th>\n",
       "      <th>param_leaf_size</th>\n",
       "      <th>param_n_neighbors</th>\n",
       "      <th>param_p</th>\n",
       "      <th>param_weights</th>\n",
       "      <th>params</th>\n",
       "      <th>split0_test_score</th>\n",
       "      <th>split1_test_score</th>\n",
       "      <th>split2_test_score</th>\n",
       "      <th>mean_test_score</th>\n",
       "      <th>std_test_score</th>\n",
       "      <th>rank_test_score</th>\n",
       "      <th>split0_train_score</th>\n",
       "      <th>split1_train_score</th>\n",
       "      <th>split2_train_score</th>\n",
       "      <th>mean_train_score</th>\n",
       "      <th>std_train_score</th>\n",
       "    </tr>\n",
       "  </thead>\n",
       "  <tbody>\n",
       "    <tr>\n",
       "      <th>0</th>\n",
       "      <td>0.000998</td>\n",
       "      <td>4.495664e-07</td>\n",
       "      <td>0.002659</td>\n",
       "      <td>4.701915e-04</td>\n",
       "      <td>1</td>\n",
       "      <td>1</td>\n",
       "      <td>1</td>\n",
       "      <td>distance</td>\n",
       "      <td>{'leaf_size': 1, 'n_neighbors': 1, 'p': 1, 'we...</td>\n",
       "      <td>0.561890</td>\n",
       "      <td>0.426259</td>\n",
       "      <td>0.332399</td>\n",
       "      <td>0.440399</td>\n",
       "      <td>0.094261</td>\n",
       "      <td>8723</td>\n",
       "      <td>1.000000</td>\n",
       "      <td>1.000000</td>\n",
       "      <td>1.000000</td>\n",
       "      <td>1.000000</td>\n",
       "      <td>0.000000</td>\n",
       "    </tr>\n",
       "    <tr>\n",
       "      <th>1</th>\n",
       "      <td>0.001288</td>\n",
       "      <td>4.730899e-04</td>\n",
       "      <td>0.001994</td>\n",
       "      <td>4.899036e-07</td>\n",
       "      <td>1</td>\n",
       "      <td>1</td>\n",
       "      <td>1</td>\n",
       "      <td>uniform</td>\n",
       "      <td>{'leaf_size': 1, 'n_neighbors': 1, 'p': 1, 'we...</td>\n",
       "      <td>0.561890</td>\n",
       "      <td>0.426259</td>\n",
       "      <td>0.332399</td>\n",
       "      <td>0.440399</td>\n",
       "      <td>0.094261</td>\n",
       "      <td>8723</td>\n",
       "      <td>1.000000</td>\n",
       "      <td>1.000000</td>\n",
       "      <td>1.000000</td>\n",
       "      <td>1.000000</td>\n",
       "      <td>0.000000</td>\n",
       "    </tr>\n",
       "    <tr>\n",
       "      <th>2</th>\n",
       "      <td>0.000998</td>\n",
       "      <td>1.236308e-06</td>\n",
       "      <td>0.006316</td>\n",
       "      <td>9.404929e-04</td>\n",
       "      <td>1</td>\n",
       "      <td>1</td>\n",
       "      <td>2</td>\n",
       "      <td>distance</td>\n",
       "      <td>{'leaf_size': 1, 'n_neighbors': 1, 'p': 2, 'we...</td>\n",
       "      <td>0.500167</td>\n",
       "      <td>0.600631</td>\n",
       "      <td>0.277238</td>\n",
       "      <td>0.459418</td>\n",
       "      <td>0.135034</td>\n",
       "      <td>7155</td>\n",
       "      <td>1.000000</td>\n",
       "      <td>1.000000</td>\n",
       "      <td>1.000000</td>\n",
       "      <td>1.000000</td>\n",
       "      <td>0.000000</td>\n",
       "    </tr>\n",
       "    <tr>\n",
       "      <th>3</th>\n",
       "      <td>0.001330</td>\n",
       "      <td>4.701341e-04</td>\n",
       "      <td>0.006649</td>\n",
       "      <td>4.701903e-04</td>\n",
       "      <td>1</td>\n",
       "      <td>1</td>\n",
       "      <td>2</td>\n",
       "      <td>uniform</td>\n",
       "      <td>{'leaf_size': 1, 'n_neighbors': 1, 'p': 2, 'we...</td>\n",
       "      <td>0.500167</td>\n",
       "      <td>0.600631</td>\n",
       "      <td>0.277238</td>\n",
       "      <td>0.459418</td>\n",
       "      <td>0.135034</td>\n",
       "      <td>7155</td>\n",
       "      <td>1.000000</td>\n",
       "      <td>1.000000</td>\n",
       "      <td>1.000000</td>\n",
       "      <td>1.000000</td>\n",
       "      <td>0.000000</td>\n",
       "    </tr>\n",
       "    <tr>\n",
       "      <th>4</th>\n",
       "      <td>0.001662</td>\n",
       "      <td>4.701903e-04</td>\n",
       "      <td>0.004322</td>\n",
       "      <td>4.702465e-04</td>\n",
       "      <td>1</td>\n",
       "      <td>2</td>\n",
       "      <td>1</td>\n",
       "      <td>distance</td>\n",
       "      <td>{'leaf_size': 1, 'n_neighbors': 2, 'p': 1, 'we...</td>\n",
       "      <td>0.696806</td>\n",
       "      <td>0.608076</td>\n",
       "      <td>0.443712</td>\n",
       "      <td>0.583067</td>\n",
       "      <td>0.104868</td>\n",
       "      <td>883</td>\n",
       "      <td>1.000000</td>\n",
       "      <td>1.000000</td>\n",
       "      <td>1.000000</td>\n",
       "      <td>1.000000</td>\n",
       "      <td>0.000000</td>\n",
       "    </tr>\n",
       "    <tr>\n",
       "      <th>5</th>\n",
       "      <td>0.001330</td>\n",
       "      <td>4.705274e-04</td>\n",
       "      <td>0.003656</td>\n",
       "      <td>4.698531e-04</td>\n",
       "      <td>1</td>\n",
       "      <td>2</td>\n",
       "      <td>1</td>\n",
       "      <td>uniform</td>\n",
       "      <td>{'leaf_size': 1, 'n_neighbors': 2, 'p': 1, 'we...</td>\n",
       "      <td>0.701188</td>\n",
       "      <td>0.608778</td>\n",
       "      <td>0.444917</td>\n",
       "      <td>0.585168</td>\n",
       "      <td>0.105988</td>\n",
       "      <td>785</td>\n",
       "      <td>0.870572</td>\n",
       "      <td>0.911837</td>\n",
       "      <td>0.906993</td>\n",
       "      <td>0.896467</td>\n",
       "      <td>0.018417</td>\n",
       "    </tr>\n",
       "    <tr>\n",
       "      <th>6</th>\n",
       "      <td>0.001662</td>\n",
       "      <td>4.701903e-04</td>\n",
       "      <td>0.007646</td>\n",
       "      <td>4.700779e-04</td>\n",
       "      <td>1</td>\n",
       "      <td>2</td>\n",
       "      <td>2</td>\n",
       "      <td>distance</td>\n",
       "      <td>{'leaf_size': 1, 'n_neighbors': 2, 'p': 2, 'we...</td>\n",
       "      <td>0.740902</td>\n",
       "      <td>0.674422</td>\n",
       "      <td>0.455491</td>\n",
       "      <td>0.623814</td>\n",
       "      <td>0.121925</td>\n",
       "      <td>148</td>\n",
       "      <td>1.000000</td>\n",
       "      <td>1.000000</td>\n",
       "      <td>1.000000</td>\n",
       "      <td>1.000000</td>\n",
       "      <td>0.000000</td>\n",
       "    </tr>\n",
       "    <tr>\n",
       "      <th>7</th>\n",
       "      <td>0.001330</td>\n",
       "      <td>4.699093e-04</td>\n",
       "      <td>0.008311</td>\n",
       "      <td>4.700779e-04</td>\n",
       "      <td>1</td>\n",
       "      <td>2</td>\n",
       "      <td>2</td>\n",
       "      <td>uniform</td>\n",
       "      <td>{'leaf_size': 1, 'n_neighbors': 2, 'p': 2, 'we...</td>\n",
       "      <td>0.738159</td>\n",
       "      <td>0.665940</td>\n",
       "      <td>0.463153</td>\n",
       "      <td>0.622623</td>\n",
       "      <td>0.116411</td>\n",
       "      <td>197</td>\n",
       "      <td>0.871830</td>\n",
       "      <td>0.890568</td>\n",
       "      <td>0.914006</td>\n",
       "      <td>0.892135</td>\n",
       "      <td>0.017254</td>\n",
       "    </tr>\n",
       "    <tr>\n",
       "      <th>8</th>\n",
       "      <td>0.000997</td>\n",
       "      <td>2.973602e-07</td>\n",
       "      <td>0.004987</td>\n",
       "      <td>1.946680e-07</td>\n",
       "      <td>1</td>\n",
       "      <td>3</td>\n",
       "      <td>1</td>\n",
       "      <td>distance</td>\n",
       "      <td>{'leaf_size': 1, 'n_neighbors': 3, 'p': 1, 'we...</td>\n",
       "      <td>0.704001</td>\n",
       "      <td>0.576307</td>\n",
       "      <td>0.435108</td>\n",
       "      <td>0.572041</td>\n",
       "      <td>0.109865</td>\n",
       "      <td>1275</td>\n",
       "      <td>1.000000</td>\n",
       "      <td>1.000000</td>\n",
       "      <td>1.000000</td>\n",
       "      <td>1.000000</td>\n",
       "      <td>0.000000</td>\n",
       "    </tr>\n",
       "    <tr>\n",
       "      <th>9</th>\n",
       "      <td>0.001330</td>\n",
       "      <td>4.701903e-04</td>\n",
       "      <td>0.005651</td>\n",
       "      <td>9.402119e-04</td>\n",
       "      <td>1</td>\n",
       "      <td>3</td>\n",
       "      <td>1</td>\n",
       "      <td>uniform</td>\n",
       "      <td>{'leaf_size': 1, 'n_neighbors': 3, 'p': 1, 'we...</td>\n",
       "      <td>0.696715</td>\n",
       "      <td>0.575160</td>\n",
       "      <td>0.431710</td>\n",
       "      <td>0.568091</td>\n",
       "      <td>0.108351</td>\n",
       "      <td>1373</td>\n",
       "      <td>0.800951</td>\n",
       "      <td>0.794140</td>\n",
       "      <td>0.833701</td>\n",
       "      <td>0.809597</td>\n",
       "      <td>0.017269</td>\n",
       "    </tr>\n",
       "  </tbody>\n",
       "</table>\n",
       "</div>"
      ],
      "text/plain": [
       "   mean_fit_time  std_fit_time  mean_score_time  std_score_time  \\\n",
       "0       0.000998  4.495664e-07         0.002659    4.701915e-04   \n",
       "1       0.001288  4.730899e-04         0.001994    4.899036e-07   \n",
       "2       0.000998  1.236308e-06         0.006316    9.404929e-04   \n",
       "3       0.001330  4.701341e-04         0.006649    4.701903e-04   \n",
       "4       0.001662  4.701903e-04         0.004322    4.702465e-04   \n",
       "5       0.001330  4.705274e-04         0.003656    4.698531e-04   \n",
       "6       0.001662  4.701903e-04         0.007646    4.700779e-04   \n",
       "7       0.001330  4.699093e-04         0.008311    4.700779e-04   \n",
       "8       0.000997  2.973602e-07         0.004987    1.946680e-07   \n",
       "9       0.001330  4.701903e-04         0.005651    9.402119e-04   \n",
       "\n",
       "  param_leaf_size param_n_neighbors param_p param_weights  \\\n",
       "0               1                 1       1      distance   \n",
       "1               1                 1       1       uniform   \n",
       "2               1                 1       2      distance   \n",
       "3               1                 1       2       uniform   \n",
       "4               1                 2       1      distance   \n",
       "5               1                 2       1       uniform   \n",
       "6               1                 2       2      distance   \n",
       "7               1                 2       2       uniform   \n",
       "8               1                 3       1      distance   \n",
       "9               1                 3       1       uniform   \n",
       "\n",
       "                                              params  split0_test_score  \\\n",
       "0  {'leaf_size': 1, 'n_neighbors': 1, 'p': 1, 'we...           0.561890   \n",
       "1  {'leaf_size': 1, 'n_neighbors': 1, 'p': 1, 'we...           0.561890   \n",
       "2  {'leaf_size': 1, 'n_neighbors': 1, 'p': 2, 'we...           0.500167   \n",
       "3  {'leaf_size': 1, 'n_neighbors': 1, 'p': 2, 'we...           0.500167   \n",
       "4  {'leaf_size': 1, 'n_neighbors': 2, 'p': 1, 'we...           0.696806   \n",
       "5  {'leaf_size': 1, 'n_neighbors': 2, 'p': 1, 'we...           0.701188   \n",
       "6  {'leaf_size': 1, 'n_neighbors': 2, 'p': 2, 'we...           0.740902   \n",
       "7  {'leaf_size': 1, 'n_neighbors': 2, 'p': 2, 'we...           0.738159   \n",
       "8  {'leaf_size': 1, 'n_neighbors': 3, 'p': 1, 'we...           0.704001   \n",
       "9  {'leaf_size': 1, 'n_neighbors': 3, 'p': 1, 'we...           0.696715   \n",
       "\n",
       "   split1_test_score  split2_test_score  mean_test_score  std_test_score  \\\n",
       "0           0.426259           0.332399         0.440399        0.094261   \n",
       "1           0.426259           0.332399         0.440399        0.094261   \n",
       "2           0.600631           0.277238         0.459418        0.135034   \n",
       "3           0.600631           0.277238         0.459418        0.135034   \n",
       "4           0.608076           0.443712         0.583067        0.104868   \n",
       "5           0.608778           0.444917         0.585168        0.105988   \n",
       "6           0.674422           0.455491         0.623814        0.121925   \n",
       "7           0.665940           0.463153         0.622623        0.116411   \n",
       "8           0.576307           0.435108         0.572041        0.109865   \n",
       "9           0.575160           0.431710         0.568091        0.108351   \n",
       "\n",
       "   rank_test_score  split0_train_score  split1_train_score  \\\n",
       "0             8723            1.000000            1.000000   \n",
       "1             8723            1.000000            1.000000   \n",
       "2             7155            1.000000            1.000000   \n",
       "3             7155            1.000000            1.000000   \n",
       "4              883            1.000000            1.000000   \n",
       "5              785            0.870572            0.911837   \n",
       "6              148            1.000000            1.000000   \n",
       "7              197            0.871830            0.890568   \n",
       "8             1275            1.000000            1.000000   \n",
       "9             1373            0.800951            0.794140   \n",
       "\n",
       "   split2_train_score  mean_train_score  std_train_score  \n",
       "0            1.000000          1.000000         0.000000  \n",
       "1            1.000000          1.000000         0.000000  \n",
       "2            1.000000          1.000000         0.000000  \n",
       "3            1.000000          1.000000         0.000000  \n",
       "4            1.000000          1.000000         0.000000  \n",
       "5            0.906993          0.896467         0.018417  \n",
       "6            1.000000          1.000000         0.000000  \n",
       "7            0.914006          0.892135         0.017254  \n",
       "8            1.000000          1.000000         0.000000  \n",
       "9            0.833701          0.809597         0.017269  "
      ]
     },
     "metadata": {},
     "output_type": "display_data"
    }
   ],
   "source": [
    "# convert to DataFrame\n",
    "results = pd.DataFrame(CV_knn.cv_results_)\n",
    "# show the first 5 rows\n",
    "display(results.head(10))"
   ]
  },
  {
   "cell_type": "markdown",
   "metadata": {},
   "source": [
    "### Support Vector Regression"
   ]
  },
  {
   "cell_type": "code",
   "execution_count": 60,
   "metadata": {},
   "outputs": [
    {
     "name": "stdout",
     "output_type": "stream",
     "text": [
      "0.5843928419514645\n",
      "Coefficient shape:  (1, 10)\n",
      "Intercept shape:  (1,)\n"
     ]
    }
   ],
   "source": [
    "from sklearn.svm import SVR\n",
    "from sklearn.metrics import r2_score \n",
    "svr_lin = SVR(kernel='linear', C=100, gamma='auto')\n",
    "pred = svr_lin.fit(X_train, y_train).predict(X_test)\n",
    "\n",
    "print(r2_score(y_test,pred))\n",
    "print(\"Coefficient shape: \", svr_lin.coef_.shape)\n",
    "print(\"Intercept shape: \", svr_lin.intercept_.shape)"
   ]
  },
  {
   "cell_type": "markdown",
   "metadata": {},
   "source": [
    "### Decision Tree Regressor"
   ]
  },
  {
   "cell_type": "code",
   "execution_count": 61,
   "metadata": {},
   "outputs": [
    {
     "name": "stdout",
     "output_type": "stream",
     "text": [
      "R Squared Value :  0.39844039359719163\n"
     ]
    }
   ],
   "source": [
    "from sklearn.tree import DecisionTreeRegressor\n",
    "from sklearn.linear_model import LinearRegression\n",
    "\n",
    "tree = DecisionTreeRegressor().fit(X_train, y_train)\n",
    "\n",
    "pred_tree = tree.predict(X_test)\n",
    "print(\"R Squared Value : \", r2_score(y_test,pred_tree))"
   ]
  },
  {
   "cell_type": "markdown",
   "metadata": {},
   "source": [
    "#### Polynomial Regression with second degree gives the best accuracy of 92% among all the regression models on the test data, followed by decision tree regressor 88%."
   ]
  },
  {
   "cell_type": "markdown",
   "metadata": {},
   "source": [
    "# Classification Models"
   ]
  },
  {
   "cell_type": "markdown",
   "metadata": {},
   "source": [
    "####  Seperating the target column from the data set"
   ]
  },
  {
   "cell_type": "code",
   "execution_count": 62,
   "metadata": {},
   "outputs": [],
   "source": [
    "y = Risk_data_class['Risk']\n",
    "X = Risk_data_class.drop(['Risk'], axis = 1)"
   ]
  },
  {
   "cell_type": "markdown",
   "metadata": {},
   "source": [
    "#### Splitting the dataframe into Training and Testing data (defaut split)"
   ]
  },
  {
   "cell_type": "code",
   "execution_count": 63,
   "metadata": {},
   "outputs": [],
   "source": [
    "from sklearn.model_selection import train_test_split\n",
    "X_train_org, X_test_org, y_train, y_test = train_test_split(X, y, random_state = 0)"
   ]
  },
  {
   "cell_type": "markdown",
   "metadata": {},
   "source": [
    "#### Scaling the data using Normalisation Z scores"
   ]
  },
  {
   "cell_type": "code",
   "execution_count": 64,
   "metadata": {},
   "outputs": [],
   "source": [
    "from sklearn.preprocessing import StandardScaler\n",
    "scaler = StandardScaler()\n",
    "X_train = scaler.fit_transform(X_train_org)\n",
    "X_test = scaler.fit_transform(X_test_org)"
   ]
  },
  {
   "cell_type": "markdown",
   "metadata": {},
   "source": [
    "### Logistic Regression"
   ]
  },
  {
   "cell_type": "code",
   "execution_count": 65,
   "metadata": {},
   "outputs": [],
   "source": [
    "from sklearn.linear_model import LogisticRegression\n",
    "\n",
    "c_range = [0.001, 0.01, 0.1, 1, 10, 100, 1000]\n",
    "train_score_l1 = []\n",
    "train_score_l2 = []\n",
    "test_score_l1 = []\n",
    "test_score_l2 = []\n",
    "\n",
    "for c in c_range:\n",
    "    log_l1 = LogisticRegression(penalty = 'l1', C = c)\n",
    "    log_l2 = LogisticRegression(penalty = 'l2', C = c)\n",
    "    log_l1.fit(X_train, y_train)\n",
    "    log_l2.fit(X_train, y_train)\n",
    "    train_score_l1.append(log_l1.score(X_train, y_train))\n",
    "    train_score_l2.append(log_l2.score(X_train, y_train))\n",
    "    test_score_l1.append(log_l1.score(X_test, y_test))\n",
    "    test_score_l2.append(log_l2.score(X_test, y_test))"
   ]
  },
  {
   "cell_type": "code",
   "execution_count": 66,
   "metadata": {},
   "outputs": [
    {
     "data": {
      "image/png": "[encoded data removed]",
      "text/plain": [
       "<Figure size 432x288 with 1 Axes>"
      ]
     },
     "metadata": {
      "needs_background": "light"
     },
     "output_type": "display_data"
    }
   ],
   "source": [
    "import matplotlib.pyplot as plt\n",
    "%matplotlib inline\n",
    "\n",
    "plt.plot(c_range, train_score_l1, label = 'Train score, penalty = l1')\n",
    "plt.plot(c_range, test_score_l1, label = 'Test score, penalty = l1')\n",
    "plt.plot(c_range, train_score_l2, label = 'Train score, penalty = l2')\n",
    "plt.plot(c_range, test_score_l2, label = 'Test score, penalty = l2')\n",
    "plt.legend()\n",
    "plt.xlabel('Regularization parameter: C')\n",
    "plt.ylabel('Accuracy')\n",
    "plt.xscale('log')"
   ]
  },
  {
   "cell_type": "code",
   "execution_count": 67,
   "metadata": {},
   "outputs": [
    {
     "data": {
      "text/plain": [
       "[<matplotlib.lines.Line2D at 0x231ee37aa58>,\n",
       " <matplotlib.lines.Line2D at 0x231ee3d8e10>]"
      ]
     },
     "execution_count": 67,
     "metadata": {},
     "output_type": "execute_result"
    },
    {
     "data": {
      "image/png": "[encoded data removed]",
      "text/plain": [
       "<Figure size 432x288 with 1 Axes>"
      ]
     },
     "metadata": {},
     "output_type": "display_data"
    }
   ],
   "source": [
    "%matplotlib inline\n",
    "import mglearn\n",
    "X_b = X_train[10:50, [1,3]]\n",
    "y_b = y_train[10:50]\n",
    "\n",
    "lreg = LogisticRegression()\n",
    "lreg.fit(X_b, y_b) \n",
    "\n",
    "mglearn.plots.plot_2d_separator(lreg, X_b, fill=True, eps=0.5, alpha=.4)\n",
    "mglearn.discrete_scatter(X_b[:, 0], X_b[:, 1], y_b)"
   ]
  },
  {
   "cell_type": "code",
   "execution_count": 68,
   "metadata": {},
   "outputs": [
    {
     "name": "stdout",
     "output_type": "stream",
     "text": [
      "Accuracy: 0.979\n",
      "Confusion matrix:\n",
      "[[115   2]\n",
      " [  2  69]]\n",
      "Recall score:0.972\n",
      "Precision score: 0.972\n",
      "ROC AUC score: 0.977\n"
     ]
    }
   ],
   "source": [
    "from sklearn.metrics import accuracy_score\n",
    "from sklearn.metrics import confusion_matrix\n",
    "from sklearn.metrics import recall_score\n",
    "from sklearn.metrics import precision_score\n",
    "from sklearn.metrics import roc_auc_score\n",
    "#X = merged[['Sector_score', 'PARA_A', 'PARA_B', 'TOTAL', 'numbers','Money_Value', 'District_Loss','PROB','History','Score']]\n",
    "#y = merged ['Risk']\n",
    "\n",
    "#X_train, X_test, y_train, y_test = train_test_split(X, y, random_state=0)\n",
    "\n",
    "lr = LogisticRegression().fit(X_train, y_train)\n",
    "\n",
    "pred = lr.predict(X_test)\n",
    "\n",
    "print(\"Accuracy: {:.3f}\".format(accuracy_score(y_test, pred)))\n",
    "print(\"Confusion matrix:\\n{}\".format(confusion_matrix(y_test, pred)))\n",
    "print(\"Recall score:{:.3f}\".format(recall_score(y_test, pred)))\n",
    "print(\"Precision score: {:.3f}\".format(precision_score(y_test, pred)))\n",
    "print(\"ROC AUC score: {:.3f}\".format(roc_auc_score(y_test, pred)))"
   ]
  },
  {
   "cell_type": "markdown",
   "metadata": {},
   "source": [
    "### K Nearest Neighbor Classifier"
   ]
  },
  {
   "cell_type": "code",
   "execution_count": 69,
   "metadata": {},
   "outputs": [],
   "source": [
    "from sklearn.neighbors import KNeighborsClassifier\n",
    "\n",
    "train_score_array = []\n",
    "test_score_array = []\n",
    "\n",
    "for k in range(1,20):\n",
    "    knn = KNeighborsClassifier(k)\n",
    "    knn.fit(X_train, y_train)\n",
    "    train_score_array.append(knn.score(X_train, y_train))\n",
    "    test_score_array.append(knn.score(X_test, y_test))"
   ]
  },
  {
   "cell_type": "code",
   "execution_count": 70,
   "metadata": {},
   "outputs": [
    {
     "data": {
      "text/plain": [
       "<matplotlib.legend.Legend at 0x231ef5a1da0>"
      ]
     },
     "execution_count": 70,
     "metadata": {},
     "output_type": "execute_result"
    },
    {
     "data": {
      "image/png": "[encoded data removed]",
      "text/plain": [
       "<Figure size 432x288 with 1 Axes>"
      ]
     },
     "metadata": {
      "needs_background": "light"
     },
     "output_type": "display_data"
    }
   ],
   "source": [
    "x_axis = range(1,20)\n",
    "%matplotlib inline\n",
    "plt.plot(x_axis, train_score_array, label = 'Train Score', c = 'g')\n",
    "plt.plot(x_axis, test_score_array, label = 'Test Score', c='b')\n",
    "plt.xlabel('k')\n",
    "plt.ylabel('Accuracy')\n",
    "plt.legend()"
   ]
  },
  {
   "cell_type": "code",
   "execution_count": 71,
   "metadata": {},
   "outputs": [
    {
     "name": "stdout",
     "output_type": "stream",
     "text": [
      "Train score: 0.9502\n",
      "Test score: 0.9521\n",
      "Accuracy: 0.952\n",
      "Confusion matrix:\n",
      "[[116   1]\n",
      " [  8  63]]\n",
      "Recall score:0.887\n",
      "Precision score: 0.984\n",
      "ROC AUC score: 0.939\n"
     ]
    }
   ],
   "source": [
    "knn = KNeighborsClassifier(10)\n",
    "knn.fit(X_train, y_train)\n",
    "print('Train score: {:.4f}'.format(knn.score(X_train, y_train)))\n",
    "print('Test score: {:.4f}'.format(knn.score(X_test, y_test)))\n",
    "\n",
    "\n",
    "pred = knn.predict(X_test)\n",
    "\n",
    "print(\"Accuracy: {:.3f}\".format(accuracy_score(y_test, pred)))\n",
    "print(\"Confusion matrix:\\n{}\".format(confusion_matrix(y_test, pred)))\n",
    "print(\"Recall score:{:.3f}\".format(recall_score(y_test, pred)))\n",
    "print(\"Precision score: {:.3f}\".format(precision_score(y_test, pred)))\n",
    "print(\"ROC AUC score: {:.3f}\".format(roc_auc_score(y_test, pred)))"
   ]
  },
  {
   "cell_type": "code",
   "execution_count": 72,
   "metadata": {},
   "outputs": [
    {
     "data": {
      "text/plain": [
       "[<matplotlib.lines.Line2D at 0x231ef8d0080>,\n",
       " <matplotlib.lines.Line2D at 0x231ef465518>]"
      ]
     },
     "execution_count": 72,
     "metadata": {},
     "output_type": "execute_result"
    },
    {
     "data": {
      "image/png": "[encoded data removed]",
      "text/plain": [
       "<Figure size 432x288 with 1 Axes>"
      ]
     },
     "metadata": {},
     "output_type": "display_data"
    }
   ],
   "source": [
    "import mglearn\n",
    "X_b = X_train[100:150,[2,5]]\n",
    "y_b = y_train[100:150]\n",
    "\n",
    "knn = KNeighborsClassifier(10)\n",
    "knn.fit(X_b, y_b) \n",
    "\n",
    "mglearn.plots.plot_2d_separator(knn, X_b, fill=True, eps=0.5, alpha=.4)\n",
    "mglearn.discrete_scatter(X_b[:, 0], X_b[:, 1], y_b)"
   ]
  },
  {
   "cell_type": "markdown",
   "metadata": {},
   "source": [
    "### Support Vector Classifier"
   ]
  },
  {
   "cell_type": "code",
   "execution_count": 73,
   "metadata": {},
   "outputs": [
    {
     "name": "stdout",
     "output_type": "stream",
     "text": [
      "Coefficient shape:  (1, 10)\n",
      "Intercept shape:  (1,)\n",
      "Accuracy: 0.984\n",
      "Confusion matrix:\n",
      "[[115   2]\n",
      " [  1  70]]\n",
      "Recall score:0.986\n",
      "Precision score: 0.972\n",
      "ROC AUC score: 0.984\n"
     ]
    }
   ],
   "source": [
    "from sklearn.svm import LinearSVC\n",
    "\n",
    "\n",
    "linear_svm = LinearSVC().fit(X_train, y_train)\n",
    "pred=linear_svm.predict(X_test)\n",
    "\n",
    "print(\"Coefficient shape: \", linear_svm.coef_.shape)\n",
    "print(\"Intercept shape: \", linear_svm.intercept_.shape)\n",
    "\n",
    "print(\"Accuracy: {:.3f}\".format(accuracy_score(y_test, pred)))\n",
    "print(\"Confusion matrix:\\n{}\".format(confusion_matrix(y_test, pred)))\n",
    "print(\"Recall score:{:.3f}\".format(recall_score(y_test, pred)))\n",
    "print(\"Precision score: {:.3f}\".format(precision_score(y_test, pred)))\n",
    "print(\"ROC AUC score: {:.3f}\".format(roc_auc_score(y_test, pred)))"
   ]
  },
  {
   "cell_type": "code",
   "execution_count": 74,
   "metadata": {},
   "outputs": [
    {
     "data": {
      "text/plain": [
       "<matplotlib.legend.Legend at 0x231f2f42ef0>"
      ]
     },
     "execution_count": 74,
     "metadata": {},
     "output_type": "execute_result"
    },
    {
     "data": {
      "image/png": "[encoded data removed]",
      "text/plain": [
       "<Figure size 432x288 with 1 Axes>"
      ]
     },
     "metadata": {
      "needs_background": "light"
     },
     "output_type": "display_data"
    }
   ],
   "source": [
    "%matplotlib inline\n",
    "mglearn.discrete_scatter(X_train[:, 6], X_train[:, 7], y_train)\n",
    "line = np.linspace(-15, 15)\n",
    "for coef, intercept, color in zip(linear_svm.coef_, linear_svm.intercept_,\n",
    "                                  mglearn.cm3.colors):\n",
    "    plt.plot(line, -(line * coef[0] + intercept) / coef[1], c=color)\n",
    "plt.ylim(-5, 15)\n",
    "plt.xlim(0, 18)\n",
    "plt.xlabel(\"Feature 0\")\n",
    "plt.ylabel(\"Feature 1\")\n",
    "plt.legend(['Class 0', 'Class 1', 'Line class 0'], loc=(1.01, 0.3))\n"
   ]
  },
  {
   "cell_type": "markdown",
   "metadata": {},
   "source": [
    "### SVC with kernel trick"
   ]
  },
  {
   "cell_type": "code",
   "execution_count": 75,
   "metadata": {},
   "outputs": [
    {
     "data": {
      "image/png": "[encoded data removed]",
      "text/plain": [
       "<Figure size 1080x1080 with 4 Axes>"
      ]
     },
     "metadata": {
      "needs_background": "light"
     },
     "output_type": "display_data"
    }
   ],
   "source": [
    "%matplotlib inline\n",
    "\n",
    "from mlxtend.plotting import plot_decision_regions\n",
    "from sklearn.model_selection import train_test_split\n",
    "from sklearn.svm import SVC, LinearSVC\n",
    "import matplotlib.gridspec as gridspec\n",
    "import itertools\n",
    "\n",
    "\n",
    "y1 = np.array(Risk_data_class['Risk'])\n",
    "X1= np.array(Risk_data_class[['PARA_A', 'PARA_B']])\n",
    "\n",
    "C = 1\n",
    "clf1 = LinearSVC(C=C)\n",
    "clf2 = SVC(kernel='linear', C=C)\n",
    "clf3 = SVC(kernel='rbf', gamma=0.7, C=C)\n",
    "clf4 = SVC(kernel='poly', degree=3, C=C)\n",
    "\n",
    "gs = gridspec.GridSpec(2, 2)\n",
    "fig = plt.figure(figsize=(15,15))\n",
    "\n",
    "labels = ['LinearSVC',\n",
    "          'SVC with linear kernel',\n",
    "          'SVC with RBF kernel',\n",
    "          'SVC with polynomial (degree 3) kernel']\n",
    "\n",
    "for clf, lab, grd in zip([clf1, clf2, clf3, clf4],\n",
    "                         labels,\n",
    "                         itertools.product([0, 1],\n",
    "                         repeat=2)):\n",
    "    clf.fit(X1, y)\n",
    "    ax = plt.subplot(gs[grd[0], grd[1]])\n",
    "    fig = plot_decision_regions(X=X1, y=y1,clf=clf, legend=2)\n",
    "    plt.title(lab)\n",
    "    "
   ]
  },
  {
   "cell_type": "code",
   "execution_count": 76,
   "metadata": {},
   "outputs": [
    {
     "data": {
      "image/png": "[encoded data removed]",
      "text/plain": [
       "<Figure size 720x576 with 4 Axes>"
      ]
     },
     "metadata": {
      "needs_background": "light"
     },
     "output_type": "display_data"
    }
   ],
   "source": [
    "%matplotlib inline\n",
    "\n",
    "from sklearn.model_selection import train_test_split\n",
    "from sklearn.svm import SVC, LinearSVC\n",
    "\n",
    "C = 1\n",
    "clf1 = SVC(kernel='rbf', gamma=0.01, C=C)\n",
    "clf2 = SVC(kernel='rbf', gamma=0.1, C=C)\n",
    "clf3 = SVC(kernel='rbf', gamma=1, C=C)\n",
    "clf4 = SVC(kernel='rbf', gamma=10, C=C)\n",
    "\n",
    "\n",
    "models = (SVC(kernel='rbf', gamma=0.01, C=1),\n",
    "         SVC(kernel = 'rbf', gamma = 0.1, C = 1),\n",
    "         SVC(kernel = 'rbf', gamma = 1, C = 1),\n",
    "         SVC(kernel = 'rbf', gamma = 10, C = 1))\n",
    "\n",
    "\n",
    "gs = gridspec.GridSpec(2, 2)\n",
    "fig = plt.figure(figsize=(10, 8))\n",
    "\n",
    "labels = ['gamma = 0.01',\n",
    "          'gamma = 0.1',\n",
    "          'gamma = 1',\n",
    "          'gamma = 10']\n",
    "\n",
    "for clf, lab, grd in zip([clf1, clf2, clf3, clf4],\n",
    "                         labels,\n",
    "                         itertools.product([0, 1],\n",
    "                         repeat=2)):\n",
    "    clf.fit(X1, y)\n",
    "    ax = plt.subplot(gs[grd[0], grd[1]])\n",
    "    fig = plot_decision_regions(X=X1, y=y1,clf=clf, legend=2)\n",
    "    plt.title(lab)"
   ]
  },
  {
   "cell_type": "markdown",
   "metadata": {},
   "source": [
    "### Decision Tree Classifier"
   ]
  },
  {
   "cell_type": "code",
   "execution_count": 77,
   "metadata": {},
   "outputs": [
    {
     "name": "stdout",
     "output_type": "stream",
     "text": [
      "Accuracy on training set: 1.000\n",
      "Accuracy on test set: 0.947\n"
     ]
    }
   ],
   "source": [
    "from sklearn.tree import DecisionTreeClassifier\n",
    "dtree = DecisionTreeClassifier(random_state=0)\n",
    "dtree.fit(X_train, y_train)\n",
    "print(\"Accuracy on training set: {:.3f}\".format(dtree.score(X_train, y_train)))\n",
    "print(\"Accuracy on test set: {:.3f}\".format(dtree.score(X_test, y_test)))"
   ]
  },
  {
   "cell_type": "code",
   "execution_count": 78,
   "metadata": {},
   "outputs": [
    {
     "name": "stdout",
     "output_type": "stream",
     "text": [
      "Accuracy on training set: 0.988\n",
      "Accuracy on test set: 0.947\n"
     ]
    }
   ],
   "source": [
    "dtree = DecisionTreeClassifier(max_depth=4, random_state=0)\n",
    "dtree.fit(X_train, y_train)\n",
    "\n",
    "print(\"Accuracy on training set: {:.3f}\".format(dtree.score(X_train, y_train)))\n",
    "print(\"Accuracy on test set: {:.3f}\".format(dtree.score(X_test, y_test)))"
   ]
  },
  {
   "cell_type": "markdown",
   "metadata": {},
   "source": [
    "### Support Vector Classifier"
   ]
  },
  {
   "cell_type": "code",
   "execution_count": 79,
   "metadata": {},
   "outputs": [
    {
     "name": "stdout",
     "output_type": "stream",
     "text": [
      "Size of training set: 562   size of test set: 188\n",
      "Best score: 0.99\n",
      "Best parameters: {'C': 100, 'gamma': 0.01}\n"
     ]
    }
   ],
   "source": [
    "from sklearn.svm import SVC\n",
    "\n",
    "print(\"Size of training set: {}   size of test set: {}\".format(X_train.shape[0], X_test.shape[0]))\n",
    "\n",
    "best_score = 0\n",
    "\n",
    "for gamma in [0.001, 0.01, 0.1, 1, 10, 100]:\n",
    "    for C in [0.001, 0.01, 0.1, 1, 10, 100]:\n",
    "        # for each combination of parameters, train an SVC\n",
    "        svm = SVC(gamma=gamma, C=C)\n",
    "        svm.fit(X_train, y_train)\n",
    "        # evaluate the SVC on the test set\n",
    "        score = svm.score(X_test, y_test)\n",
    "        # if we got a better score, store the score and parameters\n",
    "        if score > best_score:\n",
    "            best_score = score\n",
    "            best_parameters = {'C': C, 'gamma': gamma}\n",
    "\n",
    "print(\"Best score: {:.2f}\".format(best_score))\n",
    "print(\"Best parameters: {}\".format(best_parameters))"
   ]
  },
  {
   "cell_type": "markdown",
   "metadata": {},
   "source": [
    "#### All classification models perform well on the test data with accuracy scores above 95%, SVC model gives the best results."
   ]
  }
 ],
 "metadata": {
  "kernelspec": {
   "display_name": "Python 3",
   "language": "python",
   "name": "python3"
  },
  "language_info": {
   "codemirror_mode": {
    "name": "ipython",
    "version": 3
   },
   "file_extension": ".py",
   "mimetype": "text/x-python",
   "name": "python",
   "nbconvert_exporter": "python",
   "pygments_lexer": "ipython3",
   "version": "3.7.3"
  }
 },
 "nbformat": 4,
 "nbformat_minor": 4
}
